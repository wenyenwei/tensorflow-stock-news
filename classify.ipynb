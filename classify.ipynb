{
 "cells": [
  {
   "cell_type": "code",
   "execution_count": null,
   "metadata": {},
   "outputs": [],
   "source": []
  },
  {
   "cell_type": "code",
   "execution_count": 1,
   "metadata": {},
   "outputs": [
    {
     "name": "stderr",
     "output_type": "stream",
     "text": [
      "[nltk_data] Downloading package stopwords to /Users/apple/nltk_data...\n",
      "[nltk_data]   Package stopwords is already up-to-date!\n"
     ]
    },
    {
     "name": "stdout",
     "output_type": "stream",
     "text": [
      "       date                                               text  \\\n",
      "0  01012013              Armed robbers hit Paris Apple store\",   \n",
      "1  01022013  UPDATE 1-Judge rejects part of Apple App Store...   \n",
      "2  01042013  US STOCKS-Data helps pace Wall St higher, but ...   \n",
      "3  01062013  Riches in niches: U.S. cops, in-flight movies ...   \n",
      "\n",
      "                              text_without_stopwords  \n",
      "0                   arm robber hit pari appl store\",  \n",
      "1  updat 1-judg reject part appl app store suit v...  \n",
      "2  us stocks-data help pace wall st higher, appl ...  \n",
      "3  rich niches: u.s. cops, in-flight movi may mod...  \n"
     ]
    }
   ],
   "source": [
    "import nltk\n",
    "from nltk.corpus import stopwords\n",
    "import pandas as pd\n",
    "\n",
    "nltk.download('stopwords')\n",
    "stop = stopwords.words('english')\n",
    "stemmer = nltk.stem.PorterStemmer()\n",
    "\n",
    "df_text = pd.read_csv('rnews_apple.txt', sep=': \\\"', header=None, names=['date', 'text'], dtype='str', engine='python')\n",
    "df_text['text_without_stopwords'] = df_text['text'].apply(lambda x: ' '.join([stemmer.stem(word).lower() for word in x.split() if word not in (stop)]))\n",
    "print(df_text[:4])\n"
   ]
  },
  {
   "cell_type": "code",
   "execution_count": 2,
   "metadata": {},
   "outputs": [
    {
     "name": "stdout",
     "output_type": "stream",
     "text": [
      "df.shape (1259, 3)\n",
      "df.shape             date     open    close\n",
      "1259  2013-02-08  67.7142  67.8542\n",
      "1260  2013-02-11  68.0714  68.5614\n",
      "1261  2013-02-12  68.5014  66.8428\n",
      "df.shape (1258, 5)\n",
      "df.shape          date     open    close  next_day_open  label\n",
      "0  2013-02-08  67.7142  67.8542        68.0714      1\n",
      "1  2013-02-11  68.0714  68.5614        68.5014      0\n",
      "2  2013-02-12  68.5014  66.8428        66.7442      0\n"
     ]
    }
   ],
   "source": [
    "import numpy as np\n",
    "\n",
    "df = pd.read_csv('all_stocks_5yr.csv')\n",
    "df = df.loc[(df['Name'] == \"AAPL\")]\n",
    "df = df.drop('volume', 1)\n",
    "df = df.drop('high', 1)\n",
    "df = df.drop('low', 1)\n",
    "df = df.drop('Name', 1)\n",
    "print('df.shape',df.shape)\n",
    "print('df.shape',df[:3])\n",
    "\n",
    "df['next_day_open'] = df['open'].shift(-1)\n",
    "df['next_day_close'] = df['close'].shift(-1)\n",
    "df['label'] = np.where((df['next_day_close'] > df['close']), 1, 0)\n",
    "df = df.sort_values('date').reset_index(drop=True)\n",
    "df = df.drop('next_day_close', 1)\n",
    "df = df.dropna()\n",
    "print('df.shape',df.shape)\n",
    "print('df.shape',df[:3])"
   ]
  },
  {
   "cell_type": "code",
   "execution_count": 3,
   "metadata": {},
   "outputs": [
    {
     "name": "stderr",
     "output_type": "stream",
     "text": [
      "/Users/apple/anaconda/envs/HappyNewYear/lib/python3.5/importlib/_bootstrap.py:222: RuntimeWarning: compiletime version 3.6 of module 'tensorflow.python.framework.fast_tensor_util' does not match runtime version 3.5\n",
      "  return f(*args, **kwds)\n",
      "/Users/apple/anaconda/envs/HappyNewYear/lib/python3.5/site-packages/h5py/__init__.py:36: FutureWarning: Conversion of the second argument of issubdtype from `float` to `np.floating` is deprecated. In future, it will be treated as `np.float64 == np.dtype(float).type`.\n",
      "  from ._conv import register_converters as _register_converters\n",
      "0it [00:00, ?it/s]"
     ]
    },
    {
     "name": "stdout",
     "output_type": "stream",
     "text": [
      "start time: 2019-05-09 22:19:27.092126\n",
      "         date     open    close  next_day_open  label\n",
      "0  2013-02-08  67.7142  67.8542        68.0714      1\n",
      "1  2013-02-11  68.0714  68.5614        68.5014      0\n",
      "2  2013-02-12  68.5014  66.8428        66.7442      0\n"
     ]
    },
    {
     "name": "stderr",
     "output_type": "stream",
     "text": [
      "1258it [00:11, 112.54it/s]\n"
     ]
    },
    {
     "name": "stdout",
     "output_type": "stream",
     "text": [
      "[array([68.0714, 68.5614, 68.5014, ..., 0, 0, 0], dtype=object)] [0]\n",
      "before X.shape 1258\n",
      "before Y.shape 1258\n",
      "X_features_size 2476\n"
     ]
    },
    {
     "name": "stderr",
     "output_type": "stream",
     "text": [
      "/Users/apple/anaconda/envs/HappyNewYear/lib/python3.5/site-packages/tensorflow/python/ops/gradients_impl.py:100: UserWarning: Converting sparse IndexedSlices to a dense Tensor of unknown shape. This may consume a large amount of memory.\n",
      "  \"Converting sparse IndexedSlices to a dense Tensor of unknown shape. \"\n",
      "  0%|          | 0/1256 [00:00<?, ?it/s]"
     ]
    },
    {
     "name": "stdout",
     "output_type": "stream",
     "text": [
      "===== EPOCH ======:  0\n"
     ]
    },
    {
     "name": "stderr",
     "output_type": "stream",
     "text": [
      "100%|██████████| 1256/1256 [00:05<00:00, 220.67it/s]\n"
     ]
    },
    {
     "name": "stdout",
     "output_type": "stream",
     "text": [
      "accuracy: 0.5158982511923689\n",
      "cost_sum: 999.9567347764969\n",
      "===== EPOCH ======:  1\n"
     ]
    },
    {
     "name": "stderr",
     "output_type": "stream",
     "text": [
      "100%|██████████| 1256/1256 [00:05<00:00, 215.73it/s]\n",
      "  0%|          | 0/1256 [00:00<?, ?it/s]"
     ]
    },
    {
     "name": "stdout",
     "output_type": "stream",
     "text": [
      "accuracy: 0.5166931637519873\n",
      "cost_sum: 999.9567344784737\n",
      "===== EPOCH ======:  2\n"
     ]
    },
    {
     "name": "stderr",
     "output_type": "stream",
     "text": [
      "100%|██████████| 1256/1256 [00:06<00:00, 206.86it/s]\n"
     ]
    },
    {
     "name": "stdout",
     "output_type": "stream",
     "text": [
      "accuracy: 0.5158982511923689\n",
      "cost_sum: 1000.456734597683\n",
      "===== EPOCH ======:  3\n"
     ]
    },
    {
     "name": "stderr",
     "output_type": "stream",
     "text": [
      "100%|██████████| 1256/1256 [00:05<00:00, 234.50it/s]\n",
      "  0%|          | 0/1256 [00:00<?, ?it/s]"
     ]
    },
    {
     "name": "stdout",
     "output_type": "stream",
     "text": [
      "accuracy: 0.5151033386327504\n",
      "cost_sum: 1000.9567339420319\n",
      "===== EPOCH ======:  4\n"
     ]
    },
    {
     "name": "stderr",
     "output_type": "stream",
     "text": [
      "100%|██████████| 1256/1256 [00:05<00:00, 225.93it/s]\n"
     ]
    },
    {
     "name": "stdout",
     "output_type": "stream",
     "text": [
      "accuracy: 0.5158982511923689\n",
      "cost_sum: 999.9567348361015\n",
      "===== EPOCH ======:  5\n"
     ]
    },
    {
     "name": "stderr",
     "output_type": "stream",
     "text": [
      "100%|██████████| 1256/1256 [00:05<00:00, 238.25it/s]\n",
      "  0%|          | 0/1256 [00:00<?, ?it/s]"
     ]
    },
    {
     "name": "stdout",
     "output_type": "stream",
     "text": [
      "accuracy: 0.5166931637519873\n",
      "cost_sum: 999.9567342996597\n",
      "===== EPOCH ======:  6\n"
     ]
    },
    {
     "name": "stderr",
     "output_type": "stream",
     "text": [
      "100%|██████████| 1256/1256 [00:06<00:00, 204.10it/s]\n"
     ]
    },
    {
     "name": "stdout",
     "output_type": "stream",
     "text": [
      "accuracy: 0.5166931637519873\n",
      "cost_sum: 999.456734597683\n",
      "===== EPOCH ======:  7\n"
     ]
    },
    {
     "name": "stderr",
     "output_type": "stream",
     "text": [
      "100%|██████████| 1256/1256 [00:06<00:00, 194.88it/s]\n",
      "  2%|▏         | 20/1256 [00:00<00:06, 192.43it/s]"
     ]
    },
    {
     "name": "stdout",
     "output_type": "stream",
     "text": [
      "accuracy: 0.5151033386327504\n",
      "cost_sum: 1001.4567347168922\n",
      "===== EPOCH ======:  8\n"
     ]
    },
    {
     "name": "stderr",
     "output_type": "stream",
     "text": [
      "100%|██████████| 1256/1256 [00:07<00:00, 178.55it/s]\n",
      "  0%|          | 0/1256 [00:00<?, ?it/s]"
     ]
    },
    {
     "name": "stdout",
     "output_type": "stream",
     "text": [
      "accuracy: 0.5166931637519873\n",
      "cost_sum: 999.4567347764969\n",
      "===== EPOCH ======:  9\n"
     ]
    },
    {
     "name": "stderr",
     "output_type": "stream",
     "text": [
      "100%|██████████| 1256/1256 [00:06<00:00, 206.99it/s]\n"
     ]
    },
    {
     "name": "stdout",
     "output_type": "stream",
     "text": [
      "accuracy: 0.5166931637519873\n",
      "cost_sum: 999.4567348957062\n",
      "===== EPOCH ======:  10\n"
     ]
    },
    {
     "name": "stderr",
     "output_type": "stream",
     "text": [
      "100%|██████████| 1256/1256 [00:05<00:00, 234.31it/s]\n",
      "  2%|▏         | 25/1256 [00:00<00:04, 247.04it/s]"
     ]
    },
    {
     "name": "stdout",
     "output_type": "stream",
     "text": [
      "accuracy: 0.5151033386327504\n",
      "cost_sum: 1000.9567339420319\n",
      "===== EPOCH ======:  11\n"
     ]
    },
    {
     "name": "stderr",
     "output_type": "stream",
     "text": [
      "100%|██████████| 1256/1256 [00:05<00:00, 243.58it/s]\n",
      "  0%|          | 0/1256 [00:00<?, ?it/s]"
     ]
    },
    {
     "name": "stdout",
     "output_type": "stream",
     "text": [
      "accuracy: 0.5151033386327504\n",
      "cost_sum: 1000.9567347764969\n",
      "===== EPOCH ======:  12\n"
     ]
    },
    {
     "name": "stderr",
     "output_type": "stream",
     "text": [
      "100%|██████████| 1256/1256 [00:05<00:00, 180.35it/s]\n"
     ]
    },
    {
     "name": "stdout",
     "output_type": "stream",
     "text": [
      "accuracy: 0.5158982511923689\n",
      "cost_sum: 1000.9567348361015\n",
      "===== EPOCH ======:  13\n"
     ]
    },
    {
     "name": "stderr",
     "output_type": "stream",
     "text": [
      "100%|██████████| 1256/1256 [00:05<00:00, 233.24it/s]\n"
     ]
    },
    {
     "name": "stdout",
     "output_type": "stream",
     "text": [
      "accuracy: 0.5166931637519873\n",
      "cost_sum: 999.956735432148\n",
      "===== EPOCH ======:  14\n"
     ]
    },
    {
     "name": "stderr",
     "output_type": "stream",
     "text": [
      "100%|██████████| 1256/1256 [00:06<00:00, 204.11it/s]\n",
      "  0%|          | 0/1256 [00:00<?, ?it/s]"
     ]
    },
    {
     "name": "stdout",
     "output_type": "stream",
     "text": [
      "accuracy: 0.5158982511923689\n",
      "cost_sum: 1000.4567354917526\n",
      "===== EPOCH ======:  15\n"
     ]
    },
    {
     "name": "stderr",
     "output_type": "stream",
     "text": [
      "100%|██████████| 1256/1256 [00:05<00:00, 214.97it/s]\n",
      "  0%|          | 0/1256 [00:00<?, ?it/s]"
     ]
    },
    {
     "name": "stdout",
     "output_type": "stream",
     "text": [
      "accuracy: 0.5158982511923689\n",
      "cost_sum: 999.9567343592644\n",
      "===== EPOCH ======:  16\n"
     ]
    },
    {
     "name": "stderr",
     "output_type": "stream",
     "text": [
      "100%|██████████| 1256/1256 [00:05<00:00, 216.64it/s]\n"
     ]
    },
    {
     "name": "stdout",
     "output_type": "stream",
     "text": [
      "accuracy: 0.5151033386327504\n",
      "cost_sum: 1000.9567347168922\n",
      "===== EPOCH ======:  17\n"
     ]
    },
    {
     "name": "stderr",
     "output_type": "stream",
     "text": [
      "100%|██████████| 1256/1256 [00:05<00:00, 221.52it/s]\n"
     ]
    },
    {
     "name": "stdout",
     "output_type": "stream",
     "text": [
      "accuracy: 0.5151033386327504\n",
      "cost_sum: 1000.9567350745201\n",
      "===== EPOCH ======:  18\n"
     ]
    },
    {
     "name": "stderr",
     "output_type": "stream",
     "text": [
      "100%|██████████| 1256/1256 [00:05<00:00, 239.28it/s]\n",
      "  0%|          | 0/1256 [00:00<?, ?it/s]"
     ]
    },
    {
     "name": "stdout",
     "output_type": "stream",
     "text": [
      "accuracy: 0.5158982511923689\n",
      "cost_sum: 1000.4567350149155\n",
      "===== EPOCH ======:  19\n"
     ]
    },
    {
     "name": "stderr",
     "output_type": "stream",
     "text": [
      "100%|██████████| 1256/1256 [00:05<00:00, 218.68it/s]\n",
      "  0%|          | 0/1256 [00:00<?, ?it/s]"
     ]
    },
    {
     "name": "stdout",
     "output_type": "stream",
     "text": [
      "accuracy: 0.5166931637519873\n",
      "cost_sum: 999.456735253334\n",
      "===== EPOCH ======:  20\n"
     ]
    },
    {
     "name": "stderr",
     "output_type": "stream",
     "text": [
      "100%|██████████| 1256/1256 [00:05<00:00, 215.71it/s]\n"
     ]
    },
    {
     "name": "stdout",
     "output_type": "stream",
     "text": [
      "accuracy: 0.5151033386327504\n",
      "cost_sum: 1001.4567347764969\n",
      "===== EPOCH ======:  21\n"
     ]
    },
    {
     "name": "stderr",
     "output_type": "stream",
     "text": [
      "100%|██████████| 1256/1256 [00:05<00:00, 224.45it/s]\n"
     ]
    },
    {
     "name": "stdout",
     "output_type": "stream",
     "text": [
      "accuracy: 0.5151033386327504\n",
      "cost_sum: 1001.4567334055901\n",
      "===== EPOCH ======:  22\n"
     ]
    },
    {
     "name": "stderr",
     "output_type": "stream",
     "text": [
      "100%|██████████| 1256/1256 [00:05<00:00, 240.68it/s]\n",
      "  0%|          | 0/1256 [00:00<?, ?it/s]"
     ]
    },
    {
     "name": "stdout",
     "output_type": "stream",
     "text": [
      "accuracy: 0.5158982511923689\n",
      "cost_sum: 999.9567347764969\n",
      "===== EPOCH ======:  23\n"
     ]
    },
    {
     "name": "stderr",
     "output_type": "stream",
     "text": [
      "100%|██████████| 1256/1256 [00:05<00:00, 241.11it/s]\n",
      "  0%|          | 0/1256 [00:00<?, ?it/s]"
     ]
    },
    {
     "name": "stdout",
     "output_type": "stream",
     "text": [
      "accuracy: 0.5151033386327504\n",
      "cost_sum: 1000.956734418869\n",
      "===== EPOCH ======:  24\n"
     ]
    },
    {
     "name": "stderr",
     "output_type": "stream",
     "text": [
      "100%|██████████| 1256/1256 [00:05<00:00, 226.85it/s]\n"
     ]
    },
    {
     "name": "stdout",
     "output_type": "stream",
     "text": [
      "accuracy: 0.5158982511923689\n",
      "cost_sum: 1000.4567358493805\n",
      "===== EPOCH ======:  25\n"
     ]
    },
    {
     "name": "stderr",
     "output_type": "stream",
     "text": [
      "100%|██████████| 1256/1256 [00:05<00:00, 244.15it/s]\n",
      "  0%|          | 0/1256 [00:00<?, ?it/s]"
     ]
    },
    {
     "name": "stdout",
     "output_type": "stream",
     "text": [
      "accuracy: 0.5151033386327504\n",
      "cost_sum: 1000.9567343592644\n",
      "===== EPOCH ======:  26\n"
     ]
    },
    {
     "name": "stderr",
     "output_type": "stream",
     "text": [
      "100%|██████████| 1256/1256 [00:05<00:00, 232.33it/s]\n"
     ]
    },
    {
     "name": "stdout",
     "output_type": "stream",
     "text": [
      "accuracy: 0.5158982511923689\n",
      "cost_sum: 1000.4567354917526\n",
      "===== EPOCH ======:  27\n"
     ]
    },
    {
     "name": "stderr",
     "output_type": "stream",
     "text": [
      "100%|██████████| 1256/1256 [00:05<00:00, 230.01it/s]\n",
      "  0%|          | 0/1256 [00:00<?, ?it/s]"
     ]
    },
    {
     "name": "stdout",
     "output_type": "stream",
     "text": [
      "accuracy: 0.5158982511923689\n",
      "cost_sum: 1000.4567357301712\n",
      "===== EPOCH ======:  28\n"
     ]
    },
    {
     "name": "stderr",
     "output_type": "stream",
     "text": [
      "100%|██████████| 1256/1256 [00:05<00:00, 243.82it/s]\n",
      "  0%|          | 0/1256 [00:00<?, ?it/s]"
     ]
    },
    {
     "name": "stdout",
     "output_type": "stream",
     "text": [
      "accuracy: 0.5151033386327504\n",
      "cost_sum: 1001.456734418869\n",
      "===== EPOCH ======:  29\n"
     ]
    },
    {
     "name": "stderr",
     "output_type": "stream",
     "text": [
      "100%|██████████| 1256/1256 [00:05<00:00, 226.28it/s]\n",
      "  0%|          | 0/1256 [00:00<?, ?it/s]"
     ]
    },
    {
     "name": "stdout",
     "output_type": "stream",
     "text": [
      "accuracy: 0.5166931637519873\n",
      "cost_sum: 999.4567356705666\n",
      "===== EPOCH ======:  30\n"
     ]
    },
    {
     "name": "stderr",
     "output_type": "stream",
     "text": [
      "100%|██████████| 1256/1256 [00:05<00:00, 232.68it/s]\n",
      "  0%|          | 0/1256 [00:00<?, ?it/s]"
     ]
    },
    {
     "name": "stdout",
     "output_type": "stream",
     "text": [
      "accuracy: 0.5158982511923689\n",
      "cost_sum: 1000.4567342996597\n",
      "===== EPOCH ======:  31\n"
     ]
    },
    {
     "name": "stderr",
     "output_type": "stream",
     "text": [
      "100%|██████████| 1256/1256 [00:05<00:00, 234.03it/s]\n"
     ]
    },
    {
     "name": "stdout",
     "output_type": "stream",
     "text": [
      "accuracy: 0.5158982511923689\n",
      "cost_sum: 1000.9567353129387\n",
      "===== EPOCH ======:  32\n"
     ]
    },
    {
     "name": "stderr",
     "output_type": "stream",
     "text": [
      "100%|██████████| 1256/1256 [00:05<00:00, 245.10it/s]\n",
      "  0%|          | 0/1256 [00:00<?, ?it/s]"
     ]
    },
    {
     "name": "stdout",
     "output_type": "stream",
     "text": [
      "accuracy: 0.5151033386327504\n",
      "cost_sum: 1000.956735253334\n",
      "===== EPOCH ======:  33\n"
     ]
    },
    {
     "name": "stderr",
     "output_type": "stream",
     "text": [
      "100%|██████████| 1256/1256 [00:05<00:00, 236.89it/s]\n"
     ]
    },
    {
     "name": "stdout",
     "output_type": "stream",
     "text": [
      "accuracy: 0.5158982511923689\n",
      "cost_sum: 1000.4567350745201\n",
      "===== EPOCH ======:  34\n"
     ]
    },
    {
     "name": "stderr",
     "output_type": "stream",
     "text": [
      "100%|██████████| 1256/1256 [00:05<00:00, 233.96it/s]\n",
      "  0%|          | 0/1256 [00:00<?, ?it/s]"
     ]
    },
    {
     "name": "stdout",
     "output_type": "stream",
     "text": [
      "accuracy: 0.5151033386327504\n",
      "cost_sum: 1000.9567342996597\n",
      "===== EPOCH ======:  35\n"
     ]
    },
    {
     "name": "stderr",
     "output_type": "stream",
     "text": [
      "100%|██████████| 1256/1256 [00:05<00:00, 250.35it/s]\n",
      "  0%|          | 0/1256 [00:00<?, ?it/s]"
     ]
    },
    {
     "name": "stdout",
     "output_type": "stream",
     "text": [
      "accuracy: 0.5151033386327504\n",
      "cost_sum: 1000.956734597683\n",
      "===== EPOCH ======:  36\n"
     ]
    },
    {
     "name": "stderr",
     "output_type": "stream",
     "text": [
      "100%|██████████| 1256/1256 [00:05<00:00, 222.59it/s]\n"
     ]
    },
    {
     "name": "stdout",
     "output_type": "stream",
     "text": [
      "accuracy: 0.5158982511923689\n",
      "cost_sum: 999.9567347168922\n",
      "===== EPOCH ======:  37\n"
     ]
    },
    {
     "name": "stderr",
     "output_type": "stream",
     "text": [
      "100%|██████████| 1256/1256 [00:05<00:00, 210.04it/s]\n",
      "  0%|          | 0/1256 [00:00<?, ?it/s]"
     ]
    },
    {
     "name": "stdout",
     "output_type": "stream",
     "text": [
      "accuracy: 0.5158982511923689\n",
      "cost_sum: 1000.4567351937294\n",
      "===== EPOCH ======:  38\n"
     ]
    },
    {
     "name": "stderr",
     "output_type": "stream",
     "text": [
      "100%|██████████| 1256/1256 [00:05<00:00, 216.83it/s]\n",
      "  0%|          | 0/1256 [00:00<?, ?it/s]"
     ]
    },
    {
     "name": "stdout",
     "output_type": "stream",
     "text": [
      "accuracy: 0.5166931637519873\n",
      "cost_sum: 999.956734418869\n",
      "===== EPOCH ======:  39\n"
     ]
    },
    {
     "name": "stderr",
     "output_type": "stream",
     "text": [
      "100%|██████████| 1256/1256 [00:05<00:00, 234.76it/s]\n"
     ]
    },
    {
     "name": "stdout",
     "output_type": "stream",
     "text": [
      "accuracy: 0.5151033386327504\n",
      "cost_sum: 1000.956734418869\n",
      "===== EPOCH ======:  40\n"
     ]
    },
    {
     "name": "stderr",
     "output_type": "stream",
     "text": [
      "100%|██████████| 1256/1256 [00:05<00:00, 228.35it/s]\n",
      "  0%|          | 0/1256 [00:00<?, ?it/s]"
     ]
    },
    {
     "name": "stdout",
     "output_type": "stream",
     "text": [
      "accuracy: 0.5158982511923689\n",
      "cost_sum: 1000.4567347168922\n",
      "===== EPOCH ======:  41\n"
     ]
    },
    {
     "name": "stderr",
     "output_type": "stream",
     "text": [
      "100%|██████████| 1256/1256 [00:05<00:00, 238.80it/s]\n",
      "  0%|          | 0/1256 [00:00<?, ?it/s]"
     ]
    },
    {
     "name": "stdout",
     "output_type": "stream",
     "text": [
      "accuracy: 0.5151033386327504\n",
      "cost_sum: 1000.956734418869\n",
      "===== EPOCH ======:  42\n"
     ]
    },
    {
     "name": "stderr",
     "output_type": "stream",
     "text": [
      "100%|██████████| 1256/1256 [00:05<00:00, 235.35it/s]\n",
      "  0%|          | 0/1256 [00:00<?, ?it/s]"
     ]
    },
    {
     "name": "stdout",
     "output_type": "stream",
     "text": [
      "accuracy: 0.5158982511923689\n",
      "cost_sum: 1000.4567348361015\n",
      "===== EPOCH ======:  43\n"
     ]
    },
    {
     "name": "stderr",
     "output_type": "stream",
     "text": [
      "100%|██████████| 1256/1256 [00:05<00:00, 243.71it/s]\n",
      "  0%|          | 0/1256 [00:00<?, ?it/s]"
     ]
    },
    {
     "name": "stdout",
     "output_type": "stream",
     "text": [
      "accuracy: 0.5151033386327504\n",
      "cost_sum: 1000.9567346572876\n",
      "===== EPOCH ======:  44\n"
     ]
    },
    {
     "name": "stderr",
     "output_type": "stream",
     "text": [
      "100%|██████████| 1256/1256 [00:05<00:00, 232.92it/s]\n",
      "  0%|          | 0/1256 [00:00<?, ?it/s]"
     ]
    },
    {
     "name": "stdout",
     "output_type": "stream",
     "text": [
      "accuracy: 0.5158982511923689\n",
      "cost_sum: 999.9567359685898\n",
      "===== EPOCH ======:  45\n"
     ]
    },
    {
     "name": "stderr",
     "output_type": "stream",
     "text": [
      "100%|██████████| 1256/1256 [00:05<00:00, 229.07it/s]\n"
     ]
    },
    {
     "name": "stdout",
     "output_type": "stream",
     "text": [
      "accuracy: 0.5158982511923689\n",
      "cost_sum: 1000.4567353725433\n",
      "===== EPOCH ======:  46\n"
     ]
    },
    {
     "name": "stderr",
     "output_type": "stream",
     "text": [
      "100%|██████████| 1256/1256 [00:05<00:00, 240.18it/s]\n",
      "  0%|          | 0/1256 [00:00<?, ?it/s]"
     ]
    },
    {
     "name": "stdout",
     "output_type": "stream",
     "text": [
      "accuracy: 0.5158982511923689\n",
      "cost_sum: 1000.9567336440086\n",
      "===== EPOCH ======:  47\n"
     ]
    },
    {
     "name": "stderr",
     "output_type": "stream",
     "text": [
      "100%|██████████| 1256/1256 [00:05<00:00, 246.08it/s]\n",
      "  0%|          | 0/1256 [00:00<?, ?it/s]"
     ]
    },
    {
     "name": "stdout",
     "output_type": "stream",
     "text": [
      "accuracy: 0.5166931637519873\n",
      "cost_sum: 999.9567350745201\n",
      "===== EPOCH ======:  48\n"
     ]
    },
    {
     "name": "stderr",
     "output_type": "stream",
     "text": [
      "100%|██████████| 1256/1256 [00:05<00:00, 242.34it/s]\n",
      "  0%|          | 0/1256 [00:00<?, ?it/s]"
     ]
    },
    {
     "name": "stdout",
     "output_type": "stream",
     "text": [
      "accuracy: 0.5151033386327504\n",
      "cost_sum: 1001.4567347168922\n",
      "===== EPOCH ======:  49\n"
     ]
    },
    {
     "name": "stderr",
     "output_type": "stream",
     "text": [
      "100%|██████████| 1256/1256 [00:04<00:00, 249.13it/s]\n"
     ]
    },
    {
     "name": "stdout",
     "output_type": "stream",
     "text": [
      "accuracy: 0.5158982511923689\n",
      "cost_sum: 999.9567342400551\n",
      "===== EPOCH ======:  50\n"
     ]
    },
    {
     "name": "stderr",
     "output_type": "stream",
     "text": [
      "100%|██████████| 1256/1256 [00:05<00:00, 218.76it/s]\n",
      "  0%|          | 0/1256 [00:00<?, ?it/s]"
     ]
    },
    {
     "name": "stdout",
     "output_type": "stream",
     "text": [
      "accuracy: 0.5158982511923689\n",
      "cost_sum: 1000.9567350149155\n",
      "===== EPOCH ======:  51\n"
     ]
    },
    {
     "name": "stderr",
     "output_type": "stream",
     "text": [
      "100%|██████████| 1256/1256 [00:05<00:00, 234.59it/s]\n"
     ]
    },
    {
     "name": "stdout",
     "output_type": "stream",
     "text": [
      "accuracy: 0.5158982511923689\n",
      "cost_sum: 1000.4567331671715\n",
      "===== EPOCH ======:  52\n"
     ]
    },
    {
     "name": "stderr",
     "output_type": "stream",
     "text": [
      "100%|██████████| 1256/1256 [00:05<00:00, 174.81it/s]\n",
      "  0%|          | 0/1256 [00:00<?, ?it/s]"
     ]
    },
    {
     "name": "stdout",
     "output_type": "stream",
     "text": [
      "accuracy: 0.5158982511923689\n",
      "cost_sum: 1000.9567342400551\n",
      "===== EPOCH ======:  53\n"
     ]
    },
    {
     "name": "stderr",
     "output_type": "stream",
     "text": [
      "100%|██████████| 1256/1256 [00:05<00:00, 213.26it/s]\n",
      "  1%|▏         | 16/1256 [00:00<00:08, 146.77it/s]"
     ]
    },
    {
     "name": "stdout",
     "output_type": "stream",
     "text": [
      "accuracy: 0.5158982511923689\n",
      "cost_sum: 1000.4567344784737\n",
      "===== EPOCH ======:  54\n"
     ]
    },
    {
     "name": "stderr",
     "output_type": "stream",
     "text": [
      "100%|██████████| 1256/1256 [00:05<00:00, 223.26it/s]\n",
      "  0%|          | 0/1256 [00:00<?, ?it/s]"
     ]
    },
    {
     "name": "stdout",
     "output_type": "stream",
     "text": [
      "accuracy: 0.5158982511923689\n",
      "cost_sum: 999.9567350149155\n",
      "===== EPOCH ======:  55\n"
     ]
    },
    {
     "name": "stderr",
     "output_type": "stream",
     "text": [
      "100%|██████████| 1256/1256 [00:05<00:00, 235.49it/s]\n",
      "  0%|          | 0/1256 [00:00<?, ?it/s]"
     ]
    },
    {
     "name": "stdout",
     "output_type": "stream",
     "text": [
      "accuracy: 0.5158982511923689\n",
      "cost_sum: 1000.956735253334\n",
      "===== EPOCH ======:  56\n"
     ]
    },
    {
     "name": "stderr",
     "output_type": "stream",
     "text": [
      "100%|██████████| 1256/1256 [00:05<00:00, 242.03it/s]\n",
      "  0%|          | 0/1256 [00:00<?, ?it/s]"
     ]
    },
    {
     "name": "stdout",
     "output_type": "stream",
     "text": [
      "accuracy: 0.5166931637519873\n",
      "cost_sum: 999.9567354917526\n",
      "===== EPOCH ======:  57\n"
     ]
    },
    {
     "name": "stderr",
     "output_type": "stream",
     "text": [
      "100%|██████████| 1256/1256 [00:05<00:00, 221.52it/s]\n",
      "  0%|          | 0/1256 [00:00<?, ?it/s]"
     ]
    },
    {
     "name": "stdout",
     "output_type": "stream",
     "text": [
      "accuracy: 0.5151033386327504\n",
      "cost_sum: 1000.9567350745201\n",
      "===== EPOCH ======:  58\n"
     ]
    },
    {
     "name": "stderr",
     "output_type": "stream",
     "text": [
      "100%|██████████| 1256/1256 [00:05<00:00, 213.33it/s]\n",
      "  0%|          | 0/1256 [00:00<?, ?it/s]"
     ]
    },
    {
     "name": "stdout",
     "output_type": "stream",
     "text": [
      "accuracy: 0.5166931637519873\n",
      "cost_sum: 999.9567349553108\n",
      "===== EPOCH ======:  59\n"
     ]
    },
    {
     "name": "stderr",
     "output_type": "stream",
     "text": [
      "100%|██████████| 1256/1256 [00:05<00:00, 234.33it/s]\n",
      "  0%|          | 0/1256 [00:00<?, ?it/s]"
     ]
    },
    {
     "name": "stdout",
     "output_type": "stream",
     "text": [
      "accuracy: 0.5158982511923689\n",
      "cost_sum: 999.9567346572876\n",
      "===== EPOCH ======:  60\n"
     ]
    },
    {
     "name": "stderr",
     "output_type": "stream",
     "text": [
      "100%|██████████| 1256/1256 [00:05<00:00, 233.65it/s]\n",
      "  0%|          | 0/1256 [00:00<?, ?it/s]"
     ]
    },
    {
     "name": "stdout",
     "output_type": "stream",
     "text": [
      "accuracy: 0.5166931637519873\n",
      "cost_sum: 999.9567346572876\n",
      "===== EPOCH ======:  61\n"
     ]
    },
    {
     "name": "stderr",
     "output_type": "stream",
     "text": [
      "100%|██████████| 1256/1256 [00:05<00:00, 214.18it/s]\n",
      "  0%|          | 0/1256 [00:00<?, ?it/s]"
     ]
    },
    {
     "name": "stdout",
     "output_type": "stream",
     "text": [
      "accuracy: 0.5158982511923689\n",
      "cost_sum: 1000.9567347764969\n",
      "===== EPOCH ======:  62\n"
     ]
    },
    {
     "name": "stderr",
     "output_type": "stream",
     "text": [
      "100%|██████████| 1256/1256 [00:05<00:00, 213.40it/s]\n",
      "  0%|          | 0/1256 [00:00<?, ?it/s]"
     ]
    },
    {
     "name": "stdout",
     "output_type": "stream",
     "text": [
      "accuracy: 0.5158982511923689\n",
      "cost_sum: 1000.4567342400551\n",
      "===== EPOCH ======:  63\n"
     ]
    },
    {
     "name": "stderr",
     "output_type": "stream",
     "text": [
      "100%|██████████| 1256/1256 [00:05<00:00, 173.20it/s]\n",
      "  0%|          | 0/1256 [00:00<?, ?it/s]"
     ]
    },
    {
     "name": "stdout",
     "output_type": "stream",
     "text": [
      "accuracy: 0.5158982511923689\n",
      "cost_sum: 1000.4567354917526\n",
      "===== EPOCH ======:  64\n"
     ]
    },
    {
     "name": "stderr",
     "output_type": "stream",
     "text": [
      "100%|██████████| 1256/1256 [00:05<00:00, 229.41it/s]\n"
     ]
    },
    {
     "name": "stdout",
     "output_type": "stream",
     "text": [
      "accuracy: 0.5158982511923689\n",
      "cost_sum: 999.9567343592644\n",
      "===== EPOCH ======:  65\n"
     ]
    },
    {
     "name": "stderr",
     "output_type": "stream",
     "text": [
      "100%|██████████| 1256/1256 [00:05<00:00, 236.28it/s]\n",
      "  0%|          | 0/1256 [00:00<?, ?it/s]"
     ]
    },
    {
     "name": "stdout",
     "output_type": "stream",
     "text": [
      "accuracy: 0.5151033386327504\n",
      "cost_sum: 1000.956734597683\n",
      "===== EPOCH ======:  66\n"
     ]
    },
    {
     "name": "stderr",
     "output_type": "stream",
     "text": [
      "100%|██████████| 1256/1256 [00:04<00:00, 252.19it/s]\n",
      "  0%|          | 0/1256 [00:00<?, ?it/s]"
     ]
    },
    {
     "name": "stdout",
     "output_type": "stream",
     "text": [
      "accuracy: 0.5158982511923689\n",
      "cost_sum: 999.9567347764969\n",
      "===== EPOCH ======:  67\n"
     ]
    },
    {
     "name": "stderr",
     "output_type": "stream",
     "text": [
      "100%|██████████| 1256/1256 [00:05<00:00, 244.67it/s]\n",
      "  0%|          | 0/1256 [00:00<?, ?it/s]"
     ]
    },
    {
     "name": "stdout",
     "output_type": "stream",
     "text": [
      "accuracy: 0.5158982511923689\n",
      "cost_sum: 1000.4567340612411\n",
      "===== EPOCH ======:  68\n"
     ]
    },
    {
     "name": "stderr",
     "output_type": "stream",
     "text": [
      "100%|██████████| 1256/1256 [00:04<00:00, 251.35it/s]\n",
      "  0%|          | 0/1256 [00:00<?, ?it/s]"
     ]
    },
    {
     "name": "stdout",
     "output_type": "stream",
     "text": [
      "accuracy: 0.5151033386327504\n",
      "cost_sum: 1001.4567341208458\n",
      "===== EPOCH ======:  69\n"
     ]
    },
    {
     "name": "stderr",
     "output_type": "stream",
     "text": [
      "100%|██████████| 1256/1256 [00:05<00:00, 232.97it/s]\n",
      "  0%|          | 0/1256 [00:00<?, ?it/s]"
     ]
    },
    {
     "name": "stdout",
     "output_type": "stream",
     "text": [
      "accuracy: 0.5166931637519873\n",
      "cost_sum: 999.9567342996597\n",
      "===== EPOCH ======:  70\n"
     ]
    },
    {
     "name": "stderr",
     "output_type": "stream",
     "text": [
      "100%|██████████| 1256/1256 [00:05<00:00, 224.76it/s]\n",
      "  0%|          | 0/1256 [00:00<?, ?it/s]"
     ]
    },
    {
     "name": "stdout",
     "output_type": "stream",
     "text": [
      "accuracy: 0.5158982511923689\n",
      "cost_sum: 1000.4567354917526\n",
      "===== EPOCH ======:  71\n"
     ]
    },
    {
     "name": "stderr",
     "output_type": "stream",
     "text": [
      "100%|██████████| 1256/1256 [00:05<00:00, 231.27it/s]\n"
     ]
    },
    {
     "name": "stdout",
     "output_type": "stream",
     "text": [
      "accuracy: 0.5158982511923689\n",
      "cost_sum: 1000.9567350149155\n",
      "===== EPOCH ======:  72\n"
     ]
    },
    {
     "name": "stderr",
     "output_type": "stream",
     "text": [
      "100%|██████████| 1256/1256 [00:05<00:00, 237.22it/s]\n",
      "  0%|          | 0/1256 [00:00<?, ?it/s]"
     ]
    },
    {
     "name": "stdout",
     "output_type": "stream",
     "text": [
      "accuracy: 0.5151033386327504\n",
      "cost_sum: 1000.9567351937294\n",
      "===== EPOCH ======:  73\n"
     ]
    },
    {
     "name": "stderr",
     "output_type": "stream",
     "text": [
      "100%|██████████| 1256/1256 [00:05<00:00, 231.89it/s]\n"
     ]
    },
    {
     "name": "stdout",
     "output_type": "stream",
     "text": [
      "accuracy: 0.5158982511923689\n",
      "cost_sum: 999.956734597683\n",
      "===== EPOCH ======:  74\n"
     ]
    },
    {
     "name": "stderr",
     "output_type": "stream",
     "text": [
      "100%|██████████| 1256/1256 [00:05<00:00, 246.13it/s]\n",
      "  2%|▏         | 30/1256 [00:00<00:04, 296.23it/s]"
     ]
    },
    {
     "name": "stdout",
     "output_type": "stream",
     "text": [
      "accuracy: 0.5158982511923689\n",
      "cost_sum: 999.956734418869\n",
      "===== EPOCH ======:  75\n"
     ]
    },
    {
     "name": "stderr",
     "output_type": "stream",
     "text": [
      "100%|██████████| 1256/1256 [00:05<00:00, 230.84it/s]\n",
      "  0%|          | 0/1256 [00:00<?, ?it/s]"
     ]
    },
    {
     "name": "stdout",
     "output_type": "stream",
     "text": [
      "accuracy: 0.5151033386327504\n",
      "cost_sum: 1001.4567351937294\n",
      "===== EPOCH ======:  76\n"
     ]
    },
    {
     "name": "stderr",
     "output_type": "stream",
     "text": [
      "100%|██████████| 1256/1256 [00:05<00:00, 223.91it/s]\n",
      "  0%|          | 0/1256 [00:00<?, ?it/s]"
     ]
    },
    {
     "name": "stdout",
     "output_type": "stream",
     "text": [
      "accuracy: 0.5158982511923689\n",
      "cost_sum: 1000.9567351341248\n",
      "===== EPOCH ======:  77\n"
     ]
    },
    {
     "name": "stderr",
     "output_type": "stream",
     "text": [
      "100%|██████████| 1256/1256 [00:05<00:00, 188.73it/s]\n",
      "  2%|▏         | 27/1256 [00:00<00:04, 263.11it/s]"
     ]
    },
    {
     "name": "stdout",
     "output_type": "stream",
     "text": [
      "accuracy: 0.5166931637519873\n",
      "cost_sum: 999.9567342996597\n",
      "===== EPOCH ======:  78\n"
     ]
    },
    {
     "name": "stderr",
     "output_type": "stream",
     "text": [
      "100%|██████████| 1256/1256 [00:05<00:00, 214.44it/s]\n",
      "  0%|          | 0/1256 [00:00<?, ?it/s]"
     ]
    },
    {
     "name": "stdout",
     "output_type": "stream",
     "text": [
      "accuracy: 0.5158982511923689\n",
      "cost_sum: 1000.4567348957062\n",
      "===== EPOCH ======:  79\n"
     ]
    },
    {
     "name": "stderr",
     "output_type": "stream",
     "text": [
      "100%|██████████| 1256/1256 [00:05<00:00, 223.61it/s]\n"
     ]
    },
    {
     "name": "stdout",
     "output_type": "stream",
     "text": [
      "accuracy: 0.5158982511923689\n",
      "cost_sum: 1000.9567340612411\n",
      "===== EPOCH ======:  80\n"
     ]
    },
    {
     "name": "stderr",
     "output_type": "stream",
     "text": [
      "100%|██████████| 1256/1256 [00:05<00:00, 230.48it/s]\n",
      "  2%|▏         | 22/1256 [00:00<00:05, 213.06it/s]"
     ]
    },
    {
     "name": "stdout",
     "output_type": "stream",
     "text": [
      "accuracy: 0.5166931637519873\n",
      "cost_sum: 999.9567344784737\n",
      "===== EPOCH ======:  81\n"
     ]
    },
    {
     "name": "stderr",
     "output_type": "stream",
     "text": [
      "100%|██████████| 1256/1256 [00:05<00:00, 234.55it/s]\n",
      "  0%|          | 0/1256 [00:00<?, ?it/s]"
     ]
    },
    {
     "name": "stdout",
     "output_type": "stream",
     "text": [
      "accuracy: 0.5158982511923689\n",
      "cost_sum: 1000.4567344784737\n",
      "===== EPOCH ======:  82\n"
     ]
    },
    {
     "name": "stderr",
     "output_type": "stream",
     "text": [
      "100%|██████████| 1256/1256 [00:05<00:00, 225.14it/s]\n"
     ]
    },
    {
     "name": "stdout",
     "output_type": "stream",
     "text": [
      "accuracy: 0.5158982511923689\n",
      "cost_sum: 999.9567347168922\n",
      "===== EPOCH ======:  83\n"
     ]
    },
    {
     "name": "stderr",
     "output_type": "stream",
     "text": [
      "100%|██████████| 1256/1256 [00:05<00:00, 233.84it/s]\n",
      "  0%|          | 0/1256 [00:00<?, ?it/s]"
     ]
    },
    {
     "name": "stdout",
     "output_type": "stream",
     "text": [
      "accuracy: 0.5158982511923689\n",
      "cost_sum: 1000.4567349553108\n",
      "===== EPOCH ======:  84\n"
     ]
    },
    {
     "name": "stderr",
     "output_type": "stream",
     "text": [
      "100%|██████████| 1256/1256 [00:05<00:00, 240.26it/s]\n"
     ]
    },
    {
     "name": "stdout",
     "output_type": "stream",
     "text": [
      "accuracy: 0.5158982511923689\n",
      "cost_sum: 1000.4567345380783\n",
      "===== EPOCH ======:  85\n"
     ]
    },
    {
     "name": "stderr",
     "output_type": "stream",
     "text": [
      "100%|██████████| 1256/1256 [00:06<00:00, 196.13it/s]\n"
     ]
    },
    {
     "name": "stdout",
     "output_type": "stream",
     "text": [
      "accuracy: 0.5166931637519873\n",
      "cost_sum: 999.9567357897758\n",
      "===== EPOCH ======:  86\n"
     ]
    },
    {
     "name": "stderr",
     "output_type": "stream",
     "text": [
      "100%|██████████| 1256/1256 [00:05<00:00, 217.88it/s]\n",
      "  2%|▏         | 20/1256 [00:00<00:06, 196.48it/s]"
     ]
    },
    {
     "name": "stdout",
     "output_type": "stream",
     "text": [
      "accuracy: 0.5158982511923689\n",
      "cost_sum: 1000.4567353129387\n",
      "===== EPOCH ======:  87\n"
     ]
    },
    {
     "name": "stderr",
     "output_type": "stream",
     "text": [
      "100%|██████████| 1256/1256 [00:06<00:00, 199.55it/s]\n",
      "  0%|          | 0/1256 [00:00<?, ?it/s]"
     ]
    },
    {
     "name": "stdout",
     "output_type": "stream",
     "text": [
      "accuracy: 0.5151033386327504\n",
      "cost_sum: 1000.956734418869\n",
      "===== EPOCH ======:  88\n"
     ]
    },
    {
     "name": "stderr",
     "output_type": "stream",
     "text": [
      "100%|██████████| 1256/1256 [00:05<00:00, 229.70it/s]\n"
     ]
    },
    {
     "name": "stdout",
     "output_type": "stream",
     "text": [
      "accuracy: 0.5158982511923689\n",
      "cost_sum: 1000.456734597683\n",
      "===== EPOCH ======:  89\n"
     ]
    },
    {
     "name": "stderr",
     "output_type": "stream",
     "text": [
      "100%|██████████| 1256/1256 [00:05<00:00, 222.61it/s]\n",
      "  0%|          | 0/1256 [00:00<?, ?it/s]"
     ]
    },
    {
     "name": "stdout",
     "output_type": "stream",
     "text": [
      "accuracy: 0.5158982511923689\n",
      "cost_sum: 1000.4567347764969\n",
      "===== EPOCH ======:  90\n"
     ]
    },
    {
     "name": "stderr",
     "output_type": "stream",
     "text": [
      "100%|██████████| 1256/1256 [00:05<00:00, 236.29it/s]\n",
      "  2%|▏         | 27/1256 [00:00<00:04, 263.83it/s]"
     ]
    },
    {
     "name": "stdout",
     "output_type": "stream",
     "text": [
      "accuracy: 0.5158982511923689\n",
      "cost_sum: 1000.9567354917526\n",
      "===== EPOCH ======:  91\n"
     ]
    },
    {
     "name": "stderr",
     "output_type": "stream",
     "text": [
      "100%|██████████| 1256/1256 [00:05<00:00, 275.24it/s]\n",
      "  0%|          | 0/1256 [00:00<?, ?it/s]"
     ]
    },
    {
     "name": "stdout",
     "output_type": "stream",
     "text": [
      "accuracy: 0.5158982511923689\n",
      "cost_sum: 1000.9567347764969\n",
      "===== EPOCH ======:  92\n"
     ]
    },
    {
     "name": "stderr",
     "output_type": "stream",
     "text": [
      "100%|██████████| 1256/1256 [00:05<00:00, 240.95it/s]\n",
      "  0%|          | 0/1256 [00:00<?, ?it/s]"
     ]
    },
    {
     "name": "stdout",
     "output_type": "stream",
     "text": [
      "accuracy: 0.5151033386327504\n",
      "cost_sum: 1000.956734418869\n",
      "===== EPOCH ======:  93\n"
     ]
    },
    {
     "name": "stderr",
     "output_type": "stream",
     "text": [
      "100%|██████████| 1256/1256 [00:05<00:00, 248.98it/s]\n",
      "  0%|          | 0/1256 [00:00<?, ?it/s]"
     ]
    },
    {
     "name": "stdout",
     "output_type": "stream",
     "text": [
      "accuracy: 0.5151033386327504\n",
      "cost_sum: 1001.4567347764969\n",
      "===== EPOCH ======:  94\n"
     ]
    },
    {
     "name": "stderr",
     "output_type": "stream",
     "text": [
      "100%|██████████| 1256/1256 [00:05<00:00, 233.58it/s]\n",
      "  0%|          | 0/1256 [00:00<?, ?it/s]"
     ]
    },
    {
     "name": "stdout",
     "output_type": "stream",
     "text": [
      "accuracy: 0.5158982511923689\n",
      "cost_sum: 1000.456734597683\n",
      "===== EPOCH ======:  95\n"
     ]
    },
    {
     "name": "stderr",
     "output_type": "stream",
     "text": [
      "100%|██████████| 1256/1256 [00:05<00:00, 222.90it/s]\n"
     ]
    },
    {
     "name": "stdout",
     "output_type": "stream",
     "text": [
      "accuracy: 0.5158982511923689\n",
      "cost_sum: 1000.456735253334\n",
      "===== EPOCH ======:  96\n"
     ]
    },
    {
     "name": "stderr",
     "output_type": "stream",
     "text": [
      "100%|██████████| 1256/1256 [00:05<00:00, 230.70it/s]\n",
      "  0%|          | 0/1256 [00:00<?, ?it/s]"
     ]
    },
    {
     "name": "stdout",
     "output_type": "stream",
     "text": [
      "accuracy: 0.5166931637519873\n",
      "cost_sum: 999.956735253334\n",
      "===== EPOCH ======:  97\n"
     ]
    },
    {
     "name": "stderr",
     "output_type": "stream",
     "text": [
      "100%|██████████| 1256/1256 [00:05<00:00, 247.51it/s]\n",
      "  0%|          | 0/1256 [00:00<?, ?it/s]"
     ]
    },
    {
     "name": "stdout",
     "output_type": "stream",
     "text": [
      "accuracy: 0.5166931637519873\n",
      "cost_sum: 999.4567337036133\n",
      "===== EPOCH ======:  98\n"
     ]
    },
    {
     "name": "stderr",
     "output_type": "stream",
     "text": [
      "100%|██████████| 1256/1256 [00:05<00:00, 226.15it/s]\n",
      "  0%|          | 0/1256 [00:00<?, ?it/s]"
     ]
    },
    {
     "name": "stdout",
     "output_type": "stream",
     "text": [
      "accuracy: 0.5158982511923689\n",
      "cost_sum: 1000.4567355513573\n",
      "===== EPOCH ======:  99\n"
     ]
    },
    {
     "name": "stderr",
     "output_type": "stream",
     "text": [
      "100%|██████████| 1256/1256 [00:06<00:00, 202.91it/s]\n"
     ]
    },
    {
     "name": "stdout",
     "output_type": "stream",
     "text": [
      "accuracy: 0.5158982511923689\n",
      "cost_sum: 999.956735253334\n",
      "===== EPOCH ======:  100\n"
     ]
    },
    {
     "name": "stderr",
     "output_type": "stream",
     "text": [
      "100%|██████████| 1256/1256 [00:05<00:00, 228.58it/s]\n",
      "  0%|          | 0/1256 [00:00<?, ?it/s]"
     ]
    },
    {
     "name": "stdout",
     "output_type": "stream",
     "text": [
      "accuracy: 0.5166931637519873\n",
      "cost_sum: 999.9567348361015\n",
      "===== EPOCH ======:  101\n"
     ]
    },
    {
     "name": "stderr",
     "output_type": "stream",
     "text": [
      "100%|██████████| 1256/1256 [00:05<00:00, 228.58it/s]\n",
      "  0%|          | 0/1256 [00:00<?, ?it/s]"
     ]
    },
    {
     "name": "stdout",
     "output_type": "stream",
     "text": [
      "accuracy: 0.5158982511923689\n",
      "cost_sum: 1000.4567351341248\n",
      "===== EPOCH ======:  102\n"
     ]
    },
    {
     "name": "stderr",
     "output_type": "stream",
     "text": [
      "100%|██████████| 1256/1256 [00:05<00:00, 222.12it/s]\n",
      "  0%|          | 0/1256 [00:00<?, ?it/s]"
     ]
    },
    {
     "name": "stdout",
     "output_type": "stream",
     "text": [
      "accuracy: 0.5151033386327504\n",
      "cost_sum: 1001.4567350149155\n",
      "===== EPOCH ======:  103\n"
     ]
    },
    {
     "name": "stderr",
     "output_type": "stream",
     "text": [
      "100%|██████████| 1256/1256 [00:05<00:00, 227.34it/s]\n",
      "  0%|          | 0/1256 [00:00<?, ?it/s]"
     ]
    },
    {
     "name": "stdout",
     "output_type": "stream",
     "text": [
      "accuracy: 0.5158982511923689\n",
      "cost_sum: 1000.9567339420319\n",
      "===== EPOCH ======:  104\n"
     ]
    },
    {
     "name": "stderr",
     "output_type": "stream",
     "text": [
      "100%|██████████| 1256/1256 [00:05<00:00, 236.13it/s]\n",
      "  0%|          | 0/1256 [00:00<?, ?it/s]"
     ]
    },
    {
     "name": "stdout",
     "output_type": "stream",
     "text": [
      "accuracy: 0.5151033386327504\n",
      "cost_sum: 1001.4567348361015\n",
      "===== EPOCH ======:  105\n"
     ]
    },
    {
     "name": "stderr",
     "output_type": "stream",
     "text": [
      "100%|██████████| 1256/1256 [00:05<00:00, 243.46it/s]\n",
      "  1%|▏         | 18/1256 [00:00<00:07, 174.00it/s]"
     ]
    },
    {
     "name": "stdout",
     "output_type": "stream",
     "text": [
      "accuracy: 0.5158982511923689\n",
      "cost_sum: 1000.4567345380783\n",
      "===== EPOCH ======:  106\n"
     ]
    },
    {
     "name": "stderr",
     "output_type": "stream",
     "text": [
      "100%|██████████| 1256/1256 [00:05<00:00, 240.98it/s]\n",
      "  2%|▏         | 22/1256 [00:00<00:05, 216.19it/s]"
     ]
    },
    {
     "name": "stdout",
     "output_type": "stream",
     "text": [
      "accuracy: 0.5166931637519873\n",
      "cost_sum: 999.9567338228226\n",
      "===== EPOCH ======:  107\n"
     ]
    },
    {
     "name": "stderr",
     "output_type": "stream",
     "text": [
      "100%|██████████| 1256/1256 [00:05<00:00, 226.77it/s]\n"
     ]
    },
    {
     "name": "stdout",
     "output_type": "stream",
     "text": [
      "accuracy: 0.5151033386327504\n",
      "cost_sum: 1000.9567344784737\n",
      "===== EPOCH ======:  108\n"
     ]
    },
    {
     "name": "stderr",
     "output_type": "stream",
     "text": [
      "100%|██████████| 1256/1256 [00:05<00:00, 224.70it/s]\n"
     ]
    },
    {
     "name": "stdout",
     "output_type": "stream",
     "text": [
      "accuracy: 0.5151033386327504\n",
      "cost_sum: 1001.4567344784737\n",
      "===== EPOCH ======:  109\n"
     ]
    },
    {
     "name": "stderr",
     "output_type": "stream",
     "text": [
      "100%|██████████| 1256/1256 [00:05<00:00, 237.86it/s]\n"
     ]
    },
    {
     "name": "stdout",
     "output_type": "stream",
     "text": [
      "accuracy: 0.5151033386327504\n",
      "cost_sum: 1000.9567340612411\n",
      "===== EPOCH ======:  110\n"
     ]
    },
    {
     "name": "stderr",
     "output_type": "stream",
     "text": [
      "100%|██████████| 1256/1256 [00:05<00:00, 239.44it/s]\n",
      "  0%|          | 0/1256 [00:00<?, ?it/s]"
     ]
    },
    {
     "name": "stdout",
     "output_type": "stream",
     "text": [
      "accuracy: 0.5151033386327504\n",
      "cost_sum: 1000.9567343592644\n",
      "===== EPOCH ======:  111\n"
     ]
    },
    {
     "name": "stderr",
     "output_type": "stream",
     "text": [
      "100%|██████████| 1256/1256 [00:05<00:00, 237.89it/s]\n"
     ]
    },
    {
     "name": "stdout",
     "output_type": "stream",
     "text": [
      "accuracy: 0.5158982511923689\n",
      "cost_sum: 1000.4567357301712\n",
      "===== EPOCH ======:  112\n"
     ]
    },
    {
     "name": "stderr",
     "output_type": "stream",
     "text": [
      "100%|██████████| 1256/1256 [00:04<00:00, 252.89it/s]\n",
      "  0%|          | 0/1256 [00:00<?, ?it/s]"
     ]
    },
    {
     "name": "stdout",
     "output_type": "stream",
     "text": [
      "accuracy: 0.5158982511923689\n",
      "cost_sum: 999.9567347168922\n",
      "===== EPOCH ======:  113\n"
     ]
    },
    {
     "name": "stderr",
     "output_type": "stream",
     "text": [
      "100%|██████████| 1256/1256 [00:05<00:00, 238.84it/s]\n",
      "  0%|          | 0/1256 [00:00<?, ?it/s]"
     ]
    },
    {
     "name": "stdout",
     "output_type": "stream",
     "text": [
      "accuracy: 0.5151033386327504\n",
      "cost_sum: 1001.456735432148\n",
      "===== EPOCH ======:  114\n"
     ]
    },
    {
     "name": "stderr",
     "output_type": "stream",
     "text": [
      "100%|██████████| 1256/1256 [00:05<00:00, 219.40it/s]\n"
     ]
    },
    {
     "name": "stdout",
     "output_type": "stream",
     "text": [
      "accuracy: 0.5158982511923689\n",
      "cost_sum: 1000.4567349553108\n",
      "===== EPOCH ======:  115\n"
     ]
    },
    {
     "name": "stderr",
     "output_type": "stream",
     "text": [
      "100%|██████████| 1256/1256 [00:05<00:00, 210.65it/s]\n",
      "  0%|          | 0/1256 [00:00<?, ?it/s]"
     ]
    },
    {
     "name": "stdout",
     "output_type": "stream",
     "text": [
      "accuracy: 0.5158982511923689\n",
      "cost_sum: 1000.9567341208458\n",
      "===== EPOCH ======:  116\n"
     ]
    },
    {
     "name": "stderr",
     "output_type": "stream",
     "text": [
      "100%|██████████| 1256/1256 [00:05<00:00, 211.19it/s]\n",
      "  0%|          | 0/1256 [00:00<?, ?it/s]"
     ]
    },
    {
     "name": "stdout",
     "output_type": "stream",
     "text": [
      "accuracy: 0.5151033386327504\n",
      "cost_sum: 1000.9567342400551\n",
      "===== EPOCH ======:  117\n"
     ]
    },
    {
     "name": "stderr",
     "output_type": "stream",
     "text": [
      "100%|██████████| 1256/1256 [00:05<00:00, 230.16it/s]\n"
     ]
    },
    {
     "name": "stdout",
     "output_type": "stream",
     "text": [
      "accuracy: 0.5158982511923689\n",
      "cost_sum: 999.9567347168922\n",
      "===== EPOCH ======:  118\n"
     ]
    },
    {
     "name": "stderr",
     "output_type": "stream",
     "text": [
      "100%|██████████| 1256/1256 [00:05<00:00, 237.54it/s]\n",
      "  0%|          | 0/1256 [00:00<?, ?it/s]"
     ]
    },
    {
     "name": "stdout",
     "output_type": "stream",
     "text": [
      "accuracy: 0.5166931637519873\n",
      "cost_sum: 999.4567342996597\n",
      "===== EPOCH ======:  119\n"
     ]
    },
    {
     "name": "stderr",
     "output_type": "stream",
     "text": [
      "100%|██████████| 1256/1256 [00:05<00:00, 230.07it/s]\n",
      "  0%|          | 0/1256 [00:00<?, ?it/s]"
     ]
    },
    {
     "name": "stdout",
     "output_type": "stream",
     "text": [
      "accuracy: 0.5158982511923689\n",
      "cost_sum: 999.956735432148\n",
      "===== EPOCH ======:  120\n"
     ]
    },
    {
     "name": "stderr",
     "output_type": "stream",
     "text": [
      "100%|██████████| 1256/1256 [00:05<00:00, 240.21it/s]\n",
      "  0%|          | 0/1256 [00:00<?, ?it/s]"
     ]
    },
    {
     "name": "stdout",
     "output_type": "stream",
     "text": [
      "accuracy: 0.5158982511923689\n",
      "cost_sum: 999.9567342400551\n",
      "===== EPOCH ======:  121\n"
     ]
    },
    {
     "name": "stderr",
     "output_type": "stream",
     "text": [
      "100%|██████████| 1256/1256 [00:05<00:00, 244.76it/s]\n",
      "  2%|▏         | 30/1256 [00:00<00:04, 293.32it/s]"
     ]
    },
    {
     "name": "stdout",
     "output_type": "stream",
     "text": [
      "accuracy: 0.5151033386327504\n",
      "cost_sum: 1001.4567347168922\n",
      "===== EPOCH ======:  122\n"
     ]
    },
    {
     "name": "stderr",
     "output_type": "stream",
     "text": [
      "100%|██████████| 1256/1256 [00:05<00:00, 235.05it/s]\n",
      "  0%|          | 0/1256 [00:00<?, ?it/s]"
     ]
    },
    {
     "name": "stdout",
     "output_type": "stream",
     "text": [
      "accuracy: 0.5151033386327504\n",
      "cost_sum: 1000.9567348957062\n",
      "===== EPOCH ======:  123\n"
     ]
    },
    {
     "name": "stderr",
     "output_type": "stream",
     "text": [
      "100%|██████████| 1256/1256 [00:05<00:00, 227.99it/s]\n",
      "  0%|          | 0/1256 [00:00<?, ?it/s]"
     ]
    },
    {
     "name": "stdout",
     "output_type": "stream",
     "text": [
      "accuracy: 0.5151033386327504\n",
      "cost_sum: 1000.9567349553108\n",
      "===== EPOCH ======:  124\n"
     ]
    },
    {
     "name": "stderr",
     "output_type": "stream",
     "text": [
      "100%|██████████| 1256/1256 [00:05<00:00, 228.20it/s]\n",
      "  0%|          | 0/1256 [00:00<?, ?it/s]"
     ]
    },
    {
     "name": "stdout",
     "output_type": "stream",
     "text": [
      "accuracy: 0.5151033386327504\n",
      "cost_sum: 1001.4567350149155\n",
      "===== EPOCH ======:  125\n"
     ]
    },
    {
     "name": "stderr",
     "output_type": "stream",
     "text": [
      "100%|██████████| 1256/1256 [00:06<00:00, 198.82it/s]\n"
     ]
    },
    {
     "name": "stdout",
     "output_type": "stream",
     "text": [
      "accuracy: 0.5166931637519873\n",
      "cost_sum: 999.9567355513573\n",
      "===== EPOCH ======:  126\n"
     ]
    },
    {
     "name": "stderr",
     "output_type": "stream",
     "text": [
      "100%|██████████| 1256/1256 [00:05<00:00, 241.92it/s]\n"
     ]
    },
    {
     "name": "stdout",
     "output_type": "stream",
     "text": [
      "accuracy: 0.5158982511923689\n",
      "cost_sum: 1000.4567338824272\n",
      "===== EPOCH ======:  127\n"
     ]
    },
    {
     "name": "stderr",
     "output_type": "stream",
     "text": [
      "100%|██████████| 1256/1256 [00:05<00:00, 223.44it/s]\n",
      "  0%|          | 0/1256 [00:00<?, ?it/s]"
     ]
    },
    {
     "name": "stdout",
     "output_type": "stream",
     "text": [
      "accuracy: 0.5158982511923689\n",
      "cost_sum: 1000.4567351937294\n",
      "===== EPOCH ======:  128\n"
     ]
    },
    {
     "name": "stderr",
     "output_type": "stream",
     "text": [
      "100%|██████████| 1256/1256 [00:05<00:00, 232.76it/s]\n",
      "  2%|▏         | 24/1256 [00:00<00:05, 234.07it/s]"
     ]
    },
    {
     "name": "stdout",
     "output_type": "stream",
     "text": [
      "accuracy: 0.5166931637519873\n",
      "cost_sum: 999.4567347764969\n",
      "===== EPOCH ======:  129\n"
     ]
    },
    {
     "name": "stderr",
     "output_type": "stream",
     "text": [
      "100%|██████████| 1256/1256 [00:05<00:00, 235.57it/s]\n"
     ]
    },
    {
     "name": "stdout",
     "output_type": "stream",
     "text": [
      "accuracy: 0.5151033386327504\n",
      "cost_sum: 1001.456734597683\n",
      "===== EPOCH ======:  130\n"
     ]
    },
    {
     "name": "stderr",
     "output_type": "stream",
     "text": [
      "100%|██████████| 1256/1256 [00:05<00:00, 221.81it/s]\n",
      "  0%|          | 0/1256 [00:00<?, ?it/s]"
     ]
    },
    {
     "name": "stdout",
     "output_type": "stream",
     "text": [
      "accuracy: 0.5166931637519873\n",
      "cost_sum: 999.4567353129387\n",
      "===== EPOCH ======:  131\n"
     ]
    },
    {
     "name": "stderr",
     "output_type": "stream",
     "text": [
      "100%|██████████| 1256/1256 [00:06<00:00, 207.62it/s]\n",
      "  0%|          | 0/1256 [00:00<?, ?it/s]"
     ]
    },
    {
     "name": "stdout",
     "output_type": "stream",
     "text": [
      "accuracy: 0.5166931637519873\n",
      "cost_sum: 999.4567338228226\n",
      "===== EPOCH ======:  132\n"
     ]
    },
    {
     "name": "stderr",
     "output_type": "stream",
     "text": [
      "100%|██████████| 1256/1256 [00:05<00:00, 221.92it/s]\n",
      "  0%|          | 0/1256 [00:00<?, ?it/s]"
     ]
    },
    {
     "name": "stdout",
     "output_type": "stream",
     "text": [
      "accuracy: 0.5151033386327504\n",
      "cost_sum: 1001.4567347168922\n",
      "===== EPOCH ======:  133\n"
     ]
    },
    {
     "name": "stderr",
     "output_type": "stream",
     "text": [
      "100%|██████████| 1256/1256 [00:04<00:00, 253.16it/s]\n",
      "  0%|          | 0/1256 [00:00<?, ?it/s]"
     ]
    },
    {
     "name": "stdout",
     "output_type": "stream",
     "text": [
      "accuracy: 0.5158982511923689\n",
      "cost_sum: 1000.9567340612411\n",
      "===== EPOCH ======:  134\n"
     ]
    },
    {
     "name": "stderr",
     "output_type": "stream",
     "text": [
      "100%|██████████| 1256/1256 [00:05<00:00, 226.05it/s]\n",
      "  0%|          | 0/1256 [00:00<?, ?it/s]"
     ]
    },
    {
     "name": "stdout",
     "output_type": "stream",
     "text": [
      "accuracy: 0.5166931637519873\n",
      "cost_sum: 999.456734418869\n",
      "===== EPOCH ======:  135\n"
     ]
    },
    {
     "name": "stderr",
     "output_type": "stream",
     "text": [
      "100%|██████████| 1256/1256 [00:05<00:00, 239.22it/s]\n",
      "  0%|          | 0/1256 [00:00<?, ?it/s]"
     ]
    },
    {
     "name": "stdout",
     "output_type": "stream",
     "text": [
      "accuracy: 0.5151033386327504\n",
      "cost_sum: 1001.4567349553108\n",
      "===== EPOCH ======:  136\n"
     ]
    },
    {
     "name": "stderr",
     "output_type": "stream",
     "text": [
      "100%|██████████| 1256/1256 [00:05<00:00, 235.08it/s]\n",
      "  0%|          | 0/1256 [00:00<?, ?it/s]"
     ]
    },
    {
     "name": "stdout",
     "output_type": "stream",
     "text": [
      "accuracy: 0.5166931637519873\n",
      "cost_sum: 999.9567340016365\n",
      "===== EPOCH ======:  137\n"
     ]
    },
    {
     "name": "stderr",
     "output_type": "stream",
     "text": [
      "100%|██████████| 1256/1256 [00:05<00:00, 237.61it/s]\n",
      "  0%|          | 0/1256 [00:00<?, ?it/s]"
     ]
    },
    {
     "name": "stdout",
     "output_type": "stream",
     "text": [
      "accuracy: 0.5166931637519873\n",
      "cost_sum: 999.4567357301712\n",
      "===== EPOCH ======:  138\n"
     ]
    },
    {
     "name": "stderr",
     "output_type": "stream",
     "text": [
      "100%|██████████| 1256/1256 [00:05<00:00, 224.09it/s]\n",
      "  0%|          | 0/1256 [00:00<?, ?it/s]"
     ]
    },
    {
     "name": "stdout",
     "output_type": "stream",
     "text": [
      "accuracy: 0.5158982511923689\n",
      "cost_sum: 1000.4567359685898\n",
      "===== EPOCH ======:  139\n"
     ]
    },
    {
     "name": "stderr",
     "output_type": "stream",
     "text": [
      "100%|██████████| 1256/1256 [00:05<00:00, 219.38it/s]\n"
     ]
    },
    {
     "name": "stdout",
     "output_type": "stream",
     "text": [
      "accuracy: 0.5158982511923689\n",
      "cost_sum: 1000.9567333459854\n",
      "===== EPOCH ======:  140\n"
     ]
    },
    {
     "name": "stderr",
     "output_type": "stream",
     "text": [
      "100%|██████████| 1256/1256 [00:05<00:00, 303.27it/s]\n"
     ]
    },
    {
     "name": "stdout",
     "output_type": "stream",
     "text": [
      "accuracy: 0.5151033386327504\n",
      "cost_sum: 1000.9567343592644\n",
      "===== EPOCH ======:  141\n"
     ]
    },
    {
     "name": "stderr",
     "output_type": "stream",
     "text": [
      "100%|██████████| 1256/1256 [00:05<00:00, 238.70it/s]\n",
      "  2%|▏         | 21/1256 [00:00<00:05, 206.33it/s]"
     ]
    },
    {
     "name": "stdout",
     "output_type": "stream",
     "text": [
      "accuracy: 0.5158982511923689\n",
      "cost_sum: 999.9567344784737\n",
      "===== EPOCH ======:  142\n"
     ]
    },
    {
     "name": "stderr",
     "output_type": "stream",
     "text": [
      "100%|██████████| 1256/1256 [00:05<00:00, 242.48it/s]\n",
      "  0%|          | 0/1256 [00:00<?, ?it/s]"
     ]
    },
    {
     "name": "stdout",
     "output_type": "stream",
     "text": [
      "accuracy: 0.5151033386327504\n",
      "cost_sum: 1001.4567347168922\n",
      "===== EPOCH ======:  143\n"
     ]
    },
    {
     "name": "stderr",
     "output_type": "stream",
     "text": [
      "100%|██████████| 1256/1256 [00:05<00:00, 220.57it/s]\n"
     ]
    },
    {
     "name": "stdout",
     "output_type": "stream",
     "text": [
      "accuracy: 0.5158982511923689\n",
      "cost_sum: 1000.9567340016365\n",
      "===== EPOCH ======:  144\n"
     ]
    },
    {
     "name": "stderr",
     "output_type": "stream",
     "text": [
      "100%|██████████| 1256/1256 [00:05<00:00, 229.43it/s]\n",
      "  0%|          | 0/1256 [00:00<?, ?it/s]"
     ]
    },
    {
     "name": "stdout",
     "output_type": "stream",
     "text": [
      "accuracy: 0.5158982511923689\n",
      "cost_sum: 1000.4567345380783\n",
      "===== EPOCH ======:  145\n"
     ]
    },
    {
     "name": "stderr",
     "output_type": "stream",
     "text": [
      "100%|██████████| 1256/1256 [00:05<00:00, 232.13it/s]\n",
      "  0%|          | 0/1256 [00:00<?, ?it/s]"
     ]
    },
    {
     "name": "stdout",
     "output_type": "stream",
     "text": [
      "accuracy: 0.5158982511923689\n",
      "cost_sum: 1000.4567353725433\n",
      "===== EPOCH ======:  146\n"
     ]
    },
    {
     "name": "stderr",
     "output_type": "stream",
     "text": [
      "100%|██████████| 1256/1256 [00:05<00:00, 236.26it/s]\n",
      "  0%|          | 0/1256 [00:00<?, ?it/s]"
     ]
    },
    {
     "name": "stdout",
     "output_type": "stream",
     "text": [
      "accuracy: 0.5166931637519873\n",
      "cost_sum: 999.9567336440086\n",
      "===== EPOCH ======:  147\n"
     ]
    },
    {
     "name": "stderr",
     "output_type": "stream",
     "text": [
      "100%|██████████| 1256/1256 [00:05<00:00, 235.11it/s]\n",
      "  0%|          | 0/1256 [00:00<?, ?it/s]"
     ]
    },
    {
     "name": "stdout",
     "output_type": "stream",
     "text": [
      "accuracy: 0.5158982511923689\n",
      "cost_sum: 1000.4567348361015\n",
      "===== EPOCH ======:  148\n"
     ]
    },
    {
     "name": "stderr",
     "output_type": "stream",
     "text": [
      "100%|██████████| 1256/1256 [00:05<00:00, 240.65it/s]\n",
      "  0%|          | 0/1256 [00:00<?, ?it/s]"
     ]
    },
    {
     "name": "stdout",
     "output_type": "stream",
     "text": [
      "accuracy: 0.5158982511923689\n",
      "cost_sum: 1000.456735253334\n",
      "===== EPOCH ======:  149\n"
     ]
    },
    {
     "name": "stderr",
     "output_type": "stream",
     "text": [
      "100%|██████████| 1256/1256 [00:05<00:00, 241.06it/s]\n",
      "  2%|▏         | 20/1256 [00:00<00:06, 198.42it/s]"
     ]
    },
    {
     "name": "stdout",
     "output_type": "stream",
     "text": [
      "accuracy: 0.5151033386327504\n",
      "cost_sum: 1000.9567342996597\n",
      "===== EPOCH ======:  150\n"
     ]
    },
    {
     "name": "stderr",
     "output_type": "stream",
     "text": [
      "100%|██████████| 1256/1256 [00:05<00:00, 242.46it/s]\n",
      "  0%|          | 0/1256 [00:00<?, ?it/s]"
     ]
    },
    {
     "name": "stdout",
     "output_type": "stream",
     "text": [
      "accuracy: 0.5151033386327504\n",
      "cost_sum: 1000.9567347764969\n",
      "===== EPOCH ======:  151\n"
     ]
    },
    {
     "name": "stderr",
     "output_type": "stream",
     "text": [
      "100%|██████████| 1256/1256 [00:05<00:00, 212.69it/s]\n"
     ]
    },
    {
     "name": "stdout",
     "output_type": "stream",
     "text": [
      "accuracy: 0.5158982511923689\n",
      "cost_sum: 1000.4567338228226\n",
      "===== EPOCH ======:  152\n"
     ]
    },
    {
     "name": "stderr",
     "output_type": "stream",
     "text": [
      "100%|██████████| 1256/1256 [00:05<00:00, 223.32it/s]\n",
      "  0%|          | 0/1256 [00:00<?, ?it/s]"
     ]
    },
    {
     "name": "stdout",
     "output_type": "stream",
     "text": [
      "accuracy: 0.5166931637519873\n",
      "cost_sum: 999.4567347168922\n",
      "===== EPOCH ======:  153\n"
     ]
    },
    {
     "name": "stderr",
     "output_type": "stream",
     "text": [
      "100%|██████████| 1256/1256 [00:05<00:00, 232.53it/s]\n",
      "  2%|▏         | 25/1256 [00:00<00:05, 244.61it/s]"
     ]
    },
    {
     "name": "stdout",
     "output_type": "stream",
     "text": [
      "accuracy: 0.5158982511923689\n",
      "cost_sum: 1000.9567351341248\n",
      "===== EPOCH ======:  154\n"
     ]
    },
    {
     "name": "stderr",
     "output_type": "stream",
     "text": [
      "100%|██████████| 1256/1256 [00:05<00:00, 226.31it/s]\n",
      "  0%|          | 0/1256 [00:00<?, ?it/s]"
     ]
    },
    {
     "name": "stdout",
     "output_type": "stream",
     "text": [
      "accuracy: 0.5158982511923689\n",
      "cost_sum: 999.9567340016365\n",
      "===== EPOCH ======:  155\n"
     ]
    },
    {
     "name": "stderr",
     "output_type": "stream",
     "text": [
      "100%|██████████| 1256/1256 [00:05<00:00, 223.05it/s]\n",
      "  0%|          | 0/1256 [00:00<?, ?it/s]"
     ]
    },
    {
     "name": "stdout",
     "output_type": "stream",
     "text": [
      "accuracy: 0.5166931637519873\n",
      "cost_sum: 999.4567353129387\n",
      "===== EPOCH ======:  156\n"
     ]
    },
    {
     "name": "stderr",
     "output_type": "stream",
     "text": [
      "100%|██████████| 1256/1256 [00:05<00:00, 230.81it/s]\n",
      "  0%|          | 0/1256 [00:00<?, ?it/s]"
     ]
    },
    {
     "name": "stdout",
     "output_type": "stream",
     "text": [
      "accuracy: 0.5158982511923689\n",
      "cost_sum: 1000.456734418869\n",
      "===== EPOCH ======:  157\n"
     ]
    },
    {
     "name": "stderr",
     "output_type": "stream",
     "text": [
      "100%|██████████| 1256/1256 [00:05<00:00, 236.68it/s]\n",
      "  0%|          | 0/1256 [00:00<?, ?it/s]"
     ]
    },
    {
     "name": "stdout",
     "output_type": "stream",
     "text": [
      "accuracy: 0.5151033386327504\n",
      "cost_sum: 1001.4567343592644\n",
      "===== EPOCH ======:  158\n"
     ]
    },
    {
     "name": "stderr",
     "output_type": "stream",
     "text": [
      "100%|██████████| 1256/1256 [00:05<00:00, 229.38it/s]\n",
      "  0%|          | 0/1256 [00:00<?, ?it/s]"
     ]
    },
    {
     "name": "stdout",
     "output_type": "stream",
     "text": [
      "accuracy: 0.5158982511923689\n",
      "cost_sum: 1000.4567347764969\n",
      "===== EPOCH ======:  159\n"
     ]
    },
    {
     "name": "stderr",
     "output_type": "stream",
     "text": [
      "100%|██████████| 1256/1256 [00:05<00:00, 247.31it/s]\n",
      "  0%|          | 0/1256 [00:00<?, ?it/s]"
     ]
    },
    {
     "name": "stdout",
     "output_type": "stream",
     "text": [
      "accuracy: 0.5151033386327504\n",
      "cost_sum: 1000.9567351937294\n",
      "===== EPOCH ======:  160\n"
     ]
    },
    {
     "name": "stderr",
     "output_type": "stream",
     "text": [
      "100%|██████████| 1256/1256 [00:05<00:00, 235.03it/s]\n",
      "  0%|          | 0/1256 [00:00<?, ?it/s]"
     ]
    },
    {
     "name": "stdout",
     "output_type": "stream",
     "text": [
      "accuracy: 0.5158982511923689\n",
      "cost_sum: 999.9567357897758\n",
      "===== EPOCH ======:  161\n"
     ]
    },
    {
     "name": "stderr",
     "output_type": "stream",
     "text": [
      "100%|██████████| 1256/1256 [00:05<00:00, 228.04it/s]\n",
      "  0%|          | 0/1256 [00:00<?, ?it/s]"
     ]
    },
    {
     "name": "stdout",
     "output_type": "stream",
     "text": [
      "accuracy: 0.5158982511923689\n",
      "cost_sum: 999.9567345380783\n",
      "===== EPOCH ======:  162\n"
     ]
    },
    {
     "name": "stderr",
     "output_type": "stream",
     "text": [
      "100%|██████████| 1256/1256 [00:05<00:00, 242.24it/s]\n",
      "  0%|          | 0/1256 [00:00<?, ?it/s]"
     ]
    },
    {
     "name": "stdout",
     "output_type": "stream",
     "text": [
      "accuracy: 0.5158982511923689\n",
      "cost_sum: 1000.456734597683\n",
      "===== EPOCH ======:  163\n"
     ]
    },
    {
     "name": "stderr",
     "output_type": "stream",
     "text": [
      "100%|██████████| 1256/1256 [00:06<00:00, 197.87it/s]\n",
      "  0%|          | 0/1256 [00:00<?, ?it/s]"
     ]
    },
    {
     "name": "stdout",
     "output_type": "stream",
     "text": [
      "accuracy: 0.5158982511923689\n",
      "cost_sum: 1000.456735432148\n",
      "===== EPOCH ======:  164\n"
     ]
    },
    {
     "name": "stderr",
     "output_type": "stream",
     "text": [
      "100%|██████████| 1256/1256 [00:05<00:00, 235.86it/s]\n",
      "  2%|▏         | 26/1256 [00:00<00:04, 255.17it/s]"
     ]
    },
    {
     "name": "stdout",
     "output_type": "stream",
     "text": [
      "accuracy: 0.5158982511923689\n",
      "cost_sum: 1000.4567351937294\n",
      "===== EPOCH ======:  165\n"
     ]
    },
    {
     "name": "stderr",
     "output_type": "stream",
     "text": [
      "100%|██████████| 1256/1256 [00:06<00:00, 208.69it/s]\n",
      "  0%|          | 0/1256 [00:00<?, ?it/s]"
     ]
    },
    {
     "name": "stdout",
     "output_type": "stream",
     "text": [
      "accuracy: 0.5166931637519873\n",
      "cost_sum: 999.9567343592644\n",
      "===== EPOCH ======:  166\n"
     ]
    },
    {
     "name": "stderr",
     "output_type": "stream",
     "text": [
      "100%|██████████| 1256/1256 [00:05<00:00, 210.45it/s]\n",
      "  0%|          | 0/1256 [00:00<?, ?it/s]"
     ]
    },
    {
     "name": "stdout",
     "output_type": "stream",
     "text": [
      "accuracy: 0.5166931637519873\n",
      "cost_sum: 999.4567349553108\n",
      "===== EPOCH ======:  167\n"
     ]
    },
    {
     "name": "stderr",
     "output_type": "stream",
     "text": [
      "100%|██████████| 1256/1256 [00:05<00:00, 218.78it/s]\n"
     ]
    },
    {
     "name": "stdout",
     "output_type": "stream",
     "text": [
      "accuracy: 0.5158982511923689\n",
      "cost_sum: 1000.4567347764969\n",
      "===== EPOCH ======:  168\n"
     ]
    },
    {
     "name": "stderr",
     "output_type": "stream",
     "text": [
      "100%|██████████| 1256/1256 [00:05<00:00, 237.69it/s]\n",
      "  0%|          | 0/1256 [00:00<?, ?it/s]"
     ]
    },
    {
     "name": "stdout",
     "output_type": "stream",
     "text": [
      "accuracy: 0.5151033386327504\n",
      "cost_sum: 1001.4567348957062\n",
      "===== EPOCH ======:  169\n"
     ]
    },
    {
     "name": "stderr",
     "output_type": "stream",
     "text": [
      "100%|██████████| 1256/1256 [00:05<00:00, 239.12it/s]\n",
      "  0%|          | 0/1256 [00:00<?, ?it/s]"
     ]
    },
    {
     "name": "stdout",
     "output_type": "stream",
     "text": [
      "accuracy: 0.5166931637519873\n",
      "cost_sum: 999.456734418869\n",
      "===== EPOCH ======:  170\n"
     ]
    },
    {
     "name": "stderr",
     "output_type": "stream",
     "text": [
      "100%|██████████| 1256/1256 [00:05<00:00, 233.59it/s]\n",
      "  0%|          | 0/1256 [00:00<?, ?it/s]"
     ]
    },
    {
     "name": "stdout",
     "output_type": "stream",
     "text": [
      "accuracy: 0.5158982511923689\n",
      "cost_sum: 1000.456735432148\n",
      "===== EPOCH ======:  171\n"
     ]
    },
    {
     "name": "stderr",
     "output_type": "stream",
     "text": [
      "100%|██████████| 1256/1256 [00:05<00:00, 244.62it/s]\n",
      "  0%|          | 0/1256 [00:00<?, ?it/s]"
     ]
    },
    {
     "name": "stdout",
     "output_type": "stream",
     "text": [
      "accuracy: 0.5158982511923689\n",
      "cost_sum: 1000.9567353129387\n",
      "===== EPOCH ======:  172\n"
     ]
    },
    {
     "name": "stderr",
     "output_type": "stream",
     "text": [
      "100%|██████████| 1256/1256 [00:05<00:00, 248.08it/s]\n",
      "  2%|▏         | 24/1256 [00:00<00:05, 238.70it/s]"
     ]
    },
    {
     "name": "stdout",
     "output_type": "stream",
     "text": [
      "accuracy: 0.5151033386327504\n",
      "cost_sum: 1001.4567354917526\n",
      "===== EPOCH ======:  173\n"
     ]
    },
    {
     "name": "stderr",
     "output_type": "stream",
     "text": [
      "100%|██████████| 1256/1256 [00:05<00:00, 235.11it/s]\n",
      "  0%|          | 0/1256 [00:00<?, ?it/s]"
     ]
    },
    {
     "name": "stdout",
     "output_type": "stream",
     "text": [
      "accuracy: 0.5158982511923689\n",
      "cost_sum: 1000.4567348957062\n",
      "===== EPOCH ======:  174\n"
     ]
    },
    {
     "name": "stderr",
     "output_type": "stream",
     "text": [
      "100%|██████████| 1256/1256 [00:05<00:00, 219.80it/s]\n"
     ]
    },
    {
     "name": "stdout",
     "output_type": "stream",
     "text": [
      "accuracy: 0.5158982511923689\n",
      "cost_sum: 1000.4567344784737\n",
      "===== EPOCH ======:  175\n"
     ]
    },
    {
     "name": "stderr",
     "output_type": "stream",
     "text": [
      "100%|██████████| 1256/1256 [00:05<00:00, 220.44it/s]\n",
      "  0%|          | 0/1256 [00:00<?, ?it/s]"
     ]
    },
    {
     "name": "stdout",
     "output_type": "stream",
     "text": [
      "accuracy: 0.5158982511923689\n",
      "cost_sum: 999.956734597683\n",
      "===== EPOCH ======:  176\n"
     ]
    },
    {
     "name": "stderr",
     "output_type": "stream",
     "text": [
      "100%|██████████| 1256/1256 [00:05<00:00, 229.00it/s]\n"
     ]
    },
    {
     "name": "stdout",
     "output_type": "stream",
     "text": [
      "accuracy: 0.5158982511923689\n",
      "cost_sum: 999.9567348361015\n",
      "===== EPOCH ======:  177\n"
     ]
    },
    {
     "name": "stderr",
     "output_type": "stream",
     "text": [
      "100%|██████████| 1256/1256 [00:05<00:00, 229.92it/s]\n"
     ]
    },
    {
     "name": "stdout",
     "output_type": "stream",
     "text": [
      "accuracy: 0.5158982511923689\n",
      "cost_sum: 1000.9567356705666\n",
      "===== EPOCH ======:  178\n"
     ]
    },
    {
     "name": "stderr",
     "output_type": "stream",
     "text": [
      "100%|██████████| 1256/1256 [00:05<00:00, 225.73it/s]\n",
      "  2%|▏         | 27/1256 [00:00<00:04, 265.93it/s]"
     ]
    },
    {
     "name": "stdout",
     "output_type": "stream",
     "text": [
      "accuracy: 0.5158982511923689\n",
      "cost_sum: 1000.4567342400551\n",
      "===== EPOCH ======:  179\n"
     ]
    },
    {
     "name": "stderr",
     "output_type": "stream",
     "text": [
      "100%|██████████| 1256/1256 [00:05<00:00, 220.64it/s]\n",
      "  0%|          | 0/1256 [00:00<?, ?it/s]"
     ]
    },
    {
     "name": "stdout",
     "output_type": "stream",
     "text": [
      "accuracy: 0.5151033386327504\n",
      "cost_sum: 1001.4567353129387\n",
      "===== EPOCH ======:  180\n"
     ]
    },
    {
     "name": "stderr",
     "output_type": "stream",
     "text": [
      "100%|██████████| 1256/1256 [00:05<00:00, 223.74it/s]\n",
      "  0%|          | 0/1256 [00:00<?, ?it/s]"
     ]
    },
    {
     "name": "stdout",
     "output_type": "stream",
     "text": [
      "accuracy: 0.5151033386327504\n",
      "cost_sum: 1000.9567351937294\n",
      "===== EPOCH ======:  181\n"
     ]
    },
    {
     "name": "stderr",
     "output_type": "stream",
     "text": [
      "100%|██████████| 1256/1256 [00:06<00:00, 208.60it/s]\n"
     ]
    },
    {
     "name": "stdout",
     "output_type": "stream",
     "text": [
      "accuracy: 0.5158982511923689\n",
      "cost_sum: 1000.4567349553108\n",
      "===== EPOCH ======:  182\n"
     ]
    },
    {
     "name": "stderr",
     "output_type": "stream",
     "text": [
      "100%|██████████| 1256/1256 [00:06<00:00, 206.12it/s]\n"
     ]
    },
    {
     "name": "stdout",
     "output_type": "stream",
     "text": [
      "accuracy: 0.5151033386327504\n",
      "cost_sum: 1000.9567340016365\n",
      "===== EPOCH ======:  183\n"
     ]
    },
    {
     "name": "stderr",
     "output_type": "stream",
     "text": [
      "100%|██████████| 1256/1256 [00:07<00:00, 178.19it/s]\n"
     ]
    },
    {
     "name": "stdout",
     "output_type": "stream",
     "text": [
      "accuracy: 0.5158982511923689\n",
      "cost_sum: 1000.4567347168922\n",
      "===== EPOCH ======:  184\n"
     ]
    },
    {
     "name": "stderr",
     "output_type": "stream",
     "text": [
      "100%|██████████| 1256/1256 [00:05<00:00, 225.70it/s]\n"
     ]
    },
    {
     "name": "stdout",
     "output_type": "stream",
     "text": [
      "accuracy: 0.5166931637519873\n",
      "cost_sum: 999.4567349553108\n",
      "===== EPOCH ======:  185\n"
     ]
    },
    {
     "name": "stderr",
     "output_type": "stream",
     "text": [
      "100%|██████████| 1256/1256 [00:05<00:00, 224.92it/s]\n"
     ]
    },
    {
     "name": "stdout",
     "output_type": "stream",
     "text": [
      "accuracy: 0.5166931637519873\n",
      "cost_sum: 999.956734597683\n",
      "===== EPOCH ======:  186\n"
     ]
    },
    {
     "name": "stderr",
     "output_type": "stream",
     "text": [
      "100%|██████████| 1256/1256 [00:05<00:00, 246.24it/s]\n",
      "  0%|          | 0/1256 [00:00<?, ?it/s]"
     ]
    },
    {
     "name": "stdout",
     "output_type": "stream",
     "text": [
      "accuracy: 0.5158982511923689\n",
      "cost_sum: 999.9567340612411\n",
      "===== EPOCH ======:  187\n"
     ]
    },
    {
     "name": "stderr",
     "output_type": "stream",
     "text": [
      "100%|██████████| 1256/1256 [00:05<00:00, 221.84it/s]\n",
      "  0%|          | 0/1256 [00:00<?, ?it/s]"
     ]
    },
    {
     "name": "stdout",
     "output_type": "stream",
     "text": [
      "accuracy: 0.5158982511923689\n",
      "cost_sum: 1000.4567350149155\n",
      "===== EPOCH ======:  188\n"
     ]
    },
    {
     "name": "stderr",
     "output_type": "stream",
     "text": [
      "100%|██████████| 1256/1256 [00:05<00:00, 228.13it/s]\n"
     ]
    },
    {
     "name": "stdout",
     "output_type": "stream",
     "text": [
      "accuracy: 0.5151033386327504\n",
      "cost_sum: 1000.9567344784737\n",
      "===== EPOCH ======:  189\n"
     ]
    },
    {
     "name": "stderr",
     "output_type": "stream",
     "text": [
      "100%|██████████| 1256/1256 [00:05<00:00, 241.12it/s]\n"
     ]
    },
    {
     "name": "stdout",
     "output_type": "stream",
     "text": [
      "accuracy: 0.5166931637519873\n",
      "cost_sum: 999.456734418869\n",
      "===== EPOCH ======:  190\n"
     ]
    },
    {
     "name": "stderr",
     "output_type": "stream",
     "text": [
      "100%|██████████| 1256/1256 [00:05<00:00, 239.37it/s]\n",
      "  2%|▏         | 27/1256 [00:00<00:04, 264.21it/s]"
     ]
    },
    {
     "name": "stdout",
     "output_type": "stream",
     "text": [
      "accuracy: 0.5158982511923689\n",
      "cost_sum: 1000.4567339420319\n",
      "===== EPOCH ======:  191\n"
     ]
    },
    {
     "name": "stderr",
     "output_type": "stream",
     "text": [
      "100%|██████████| 1256/1256 [00:05<00:00, 248.13it/s]\n"
     ]
    },
    {
     "name": "stdout",
     "output_type": "stream",
     "text": [
      "accuracy: 0.5166931637519873\n",
      "cost_sum: 999.9567354917526\n",
      "===== EPOCH ======:  192\n"
     ]
    },
    {
     "name": "stderr",
     "output_type": "stream",
     "text": [
      "100%|██████████| 1256/1256 [00:05<00:00, 233.70it/s]\n",
      "  0%|          | 0/1256 [00:00<?, ?it/s]"
     ]
    },
    {
     "name": "stdout",
     "output_type": "stream",
     "text": [
      "accuracy: 0.5166931637519873\n",
      "cost_sum: 999.4567348957062\n",
      "===== EPOCH ======:  193\n"
     ]
    },
    {
     "name": "stderr",
     "output_type": "stream",
     "text": [
      "100%|██████████| 1256/1256 [00:05<00:00, 242.92it/s]\n",
      "  0%|          | 0/1256 [00:00<?, ?it/s]"
     ]
    },
    {
     "name": "stdout",
     "output_type": "stream",
     "text": [
      "accuracy: 0.5158982511923689\n",
      "cost_sum: 1000.4567355513573\n",
      "===== EPOCH ======:  194\n"
     ]
    },
    {
     "name": "stderr",
     "output_type": "stream",
     "text": [
      "100%|██████████| 1256/1256 [00:05<00:00, 225.73it/s]\n",
      "  0%|          | 0/1256 [00:00<?, ?it/s]"
     ]
    },
    {
     "name": "stdout",
     "output_type": "stream",
     "text": [
      "accuracy: 0.5158982511923689\n",
      "cost_sum: 1000.4567347764969\n",
      "===== EPOCH ======:  195\n"
     ]
    },
    {
     "name": "stderr",
     "output_type": "stream",
     "text": [
      "100%|██████████| 1256/1256 [00:05<00:00, 211.70it/s]\n",
      "  0%|          | 0/1256 [00:00<?, ?it/s]"
     ]
    },
    {
     "name": "stdout",
     "output_type": "stream",
     "text": [
      "accuracy: 0.5151033386327504\n",
      "cost_sum: 1000.9567353129387\n",
      "===== EPOCH ======:  196\n"
     ]
    },
    {
     "name": "stderr",
     "output_type": "stream",
     "text": [
      "100%|██████████| 1256/1256 [00:05<00:00, 214.62it/s]\n"
     ]
    },
    {
     "name": "stdout",
     "output_type": "stream",
     "text": [
      "accuracy: 0.5151033386327504\n",
      "cost_sum: 1000.9567337632179\n",
      "===== EPOCH ======:  197\n"
     ]
    },
    {
     "name": "stderr",
     "output_type": "stream",
     "text": [
      "100%|██████████| 1256/1256 [00:05<00:00, 223.52it/s]\n",
      "  0%|          | 0/1256 [00:00<?, ?it/s]"
     ]
    },
    {
     "name": "stdout",
     "output_type": "stream",
     "text": [
      "accuracy: 0.5166931637519873\n",
      "cost_sum: 999.9567338228226\n",
      "===== EPOCH ======:  198\n"
     ]
    },
    {
     "name": "stderr",
     "output_type": "stream",
     "text": [
      "100%|██████████| 1256/1256 [00:05<00:00, 245.58it/s]\n",
      "  0%|          | 0/1256 [00:00<?, ?it/s]"
     ]
    },
    {
     "name": "stdout",
     "output_type": "stream",
     "text": [
      "accuracy: 0.5166931637519873\n",
      "cost_sum: 999.4567337632179\n",
      "===== EPOCH ======:  199\n"
     ]
    },
    {
     "name": "stderr",
     "output_type": "stream",
     "text": [
      "100%|██████████| 1256/1256 [00:06<00:00, 204.89it/s]\n",
      "  0%|          | 0/1256 [00:00<?, ?it/s]"
     ]
    },
    {
     "name": "stdout",
     "output_type": "stream",
     "text": [
      "accuracy: 0.5151033386327504\n",
      "cost_sum: 1001.4567348361015\n",
      "===== EPOCH ======:  200\n"
     ]
    },
    {
     "name": "stderr",
     "output_type": "stream",
     "text": [
      "100%|██████████| 1256/1256 [00:05<00:00, 233.62it/s]\n"
     ]
    },
    {
     "name": "stdout",
     "output_type": "stream",
     "text": [
      "accuracy: 0.5166931637519873\n",
      "cost_sum: 999.456734597683\n",
      "===== EPOCH ======:  201\n"
     ]
    },
    {
     "name": "stderr",
     "output_type": "stream",
     "text": [
      "100%|██████████| 1256/1256 [00:05<00:00, 232.50it/s]\n",
      "  0%|          | 0/1256 [00:00<?, ?it/s]"
     ]
    },
    {
     "name": "stdout",
     "output_type": "stream",
     "text": [
      "accuracy: 0.5151033386327504\n",
      "cost_sum: 1001.4567342400551\n",
      "===== EPOCH ======:  202\n"
     ]
    },
    {
     "name": "stderr",
     "output_type": "stream",
     "text": [
      "100%|██████████| 1256/1256 [00:05<00:00, 234.39it/s]\n",
      "  0%|          | 0/1256 [00:00<?, ?it/s]"
     ]
    },
    {
     "name": "stdout",
     "output_type": "stream",
     "text": [
      "accuracy: 0.5158982511923689\n",
      "cost_sum: 1000.9567347168922\n",
      "===== EPOCH ======:  203\n"
     ]
    },
    {
     "name": "stderr",
     "output_type": "stream",
     "text": [
      "100%|██████████| 1256/1256 [00:05<00:00, 223.45it/s]\n",
      "  0%|          | 0/1256 [00:00<?, ?it/s]"
     ]
    },
    {
     "name": "stdout",
     "output_type": "stream",
     "text": [
      "accuracy: 0.5158982511923689\n",
      "cost_sum: 1000.4567348361015\n",
      "===== EPOCH ======:  204\n"
     ]
    },
    {
     "name": "stderr",
     "output_type": "stream",
     "text": [
      "100%|██████████| 1256/1256 [00:05<00:00, 239.77it/s]\n"
     ]
    },
    {
     "name": "stdout",
     "output_type": "stream",
     "text": [
      "accuracy: 0.5166931637519873\n",
      "cost_sum: 999.9567353725433\n",
      "===== EPOCH ======:  205\n"
     ]
    },
    {
     "name": "stderr",
     "output_type": "stream",
     "text": [
      "100%|██████████| 1256/1256 [00:05<00:00, 231.08it/s]\n",
      "  0%|          | 0/1256 [00:00<?, ?it/s]"
     ]
    },
    {
     "name": "stdout",
     "output_type": "stream",
     "text": [
      "accuracy: 0.5158982511923689\n",
      "cost_sum: 1000.4567350149155\n",
      "===== EPOCH ======:  206\n"
     ]
    },
    {
     "name": "stderr",
     "output_type": "stream",
     "text": [
      "100%|██████████| 1256/1256 [00:05<00:00, 250.75it/s]\n",
      "  0%|          | 0/1256 [00:00<?, ?it/s]"
     ]
    },
    {
     "name": "stdout",
     "output_type": "stream",
     "text": [
      "accuracy: 0.5158982511923689\n",
      "cost_sum: 1000.9567348361015\n",
      "===== EPOCH ======:  207\n"
     ]
    },
    {
     "name": "stderr",
     "output_type": "stream",
     "text": [
      "100%|██████████| 1256/1256 [00:05<00:00, 235.52it/s]\n",
      "  0%|          | 0/1256 [00:00<?, ?it/s]"
     ]
    },
    {
     "name": "stdout",
     "output_type": "stream",
     "text": [
      "accuracy: 0.5158982511923689\n",
      "cost_sum: 1000.4567358493805\n",
      "===== EPOCH ======:  208\n"
     ]
    },
    {
     "name": "stderr",
     "output_type": "stream",
     "text": [
      "100%|██████████| 1256/1256 [00:05<00:00, 236.70it/s]\n",
      "  0%|          | 0/1256 [00:00<?, ?it/s]"
     ]
    },
    {
     "name": "stdout",
     "output_type": "stream",
     "text": [
      "accuracy: 0.5158982511923689\n",
      "cost_sum: 1000.4567347764969\n",
      "===== EPOCH ======:  209\n"
     ]
    },
    {
     "name": "stderr",
     "output_type": "stream",
     "text": [
      "100%|██████████| 1256/1256 [00:05<00:00, 233.88it/s]\n",
      "  2%|▏         | 24/1256 [00:00<00:05, 237.18it/s]"
     ]
    },
    {
     "name": "stdout",
     "output_type": "stream",
     "text": [
      "accuracy: 0.5151033386327504\n",
      "cost_sum: 1000.9567354917526\n",
      "===== EPOCH ======:  210\n"
     ]
    },
    {
     "name": "stderr",
     "output_type": "stream",
     "text": [
      "100%|██████████| 1256/1256 [00:06<00:00, 203.12it/s]\n",
      "  0%|          | 0/1256 [00:00<?, ?it/s]"
     ]
    },
    {
     "name": "stdout",
     "output_type": "stream",
     "text": [
      "accuracy: 0.5151033386327504\n",
      "cost_sum: 1001.4567336440086\n",
      "===== EPOCH ======:  211\n"
     ]
    },
    {
     "name": "stderr",
     "output_type": "stream",
     "text": [
      "100%|██████████| 1256/1256 [00:06<00:00, 202.29it/s]\n"
     ]
    },
    {
     "name": "stdout",
     "output_type": "stream",
     "text": [
      "accuracy: 0.5151033386327504\n",
      "cost_sum: 1001.4567354917526\n",
      "===== EPOCH ======:  212\n"
     ]
    },
    {
     "name": "stderr",
     "output_type": "stream",
     "text": [
      "100%|██████████| 1256/1256 [00:05<00:00, 218.75it/s]\n",
      "  0%|          | 0/1256 [00:00<?, ?it/s]"
     ]
    },
    {
     "name": "stdout",
     "output_type": "stream",
     "text": [
      "accuracy: 0.5166931637519873\n",
      "cost_sum: 999.4567337036133\n",
      "===== EPOCH ======:  213\n"
     ]
    },
    {
     "name": "stderr",
     "output_type": "stream",
     "text": [
      "100%|██████████| 1256/1256 [00:05<00:00, 237.59it/s]\n",
      "  0%|          | 0/1256 [00:00<?, ?it/s]"
     ]
    },
    {
     "name": "stdout",
     "output_type": "stream",
     "text": [
      "accuracy: 0.5151033386327504\n",
      "cost_sum: 1000.9567350149155\n",
      "===== EPOCH ======:  214\n"
     ]
    },
    {
     "name": "stderr",
     "output_type": "stream",
     "text": [
      "100%|██████████| 1256/1256 [00:05<00:00, 231.85it/s]\n",
      "  0%|          | 0/1256 [00:00<?, ?it/s]"
     ]
    },
    {
     "name": "stdout",
     "output_type": "stream",
     "text": [
      "accuracy: 0.5158982511923689\n",
      "cost_sum: 1000.4567350745201\n",
      "===== EPOCH ======:  215\n"
     ]
    },
    {
     "name": "stderr",
     "output_type": "stream",
     "text": [
      "100%|██████████| 1256/1256 [00:05<00:00, 247.32it/s]\n",
      "  0%|          | 0/1256 [00:00<?, ?it/s]"
     ]
    },
    {
     "name": "stdout",
     "output_type": "stream",
     "text": [
      "accuracy: 0.5158982511923689\n",
      "cost_sum: 999.9567343592644\n",
      "===== EPOCH ======:  216\n"
     ]
    },
    {
     "name": "stderr",
     "output_type": "stream",
     "text": [
      "100%|██████████| 1256/1256 [00:05<00:00, 243.21it/s]\n",
      "  0%|          | 0/1256 [00:00<?, ?it/s]"
     ]
    },
    {
     "name": "stdout",
     "output_type": "stream",
     "text": [
      "accuracy: 0.5158982511923689\n",
      "cost_sum: 999.956734597683\n",
      "===== EPOCH ======:  217\n"
     ]
    },
    {
     "name": "stderr",
     "output_type": "stream",
     "text": [
      "100%|██████████| 1256/1256 [00:05<00:00, 213.30it/s]\n",
      "  0%|          | 0/1256 [00:00<?, ?it/s]"
     ]
    },
    {
     "name": "stdout",
     "output_type": "stream",
     "text": [
      "accuracy: 0.5166931637519873\n",
      "cost_sum: 999.956734597683\n",
      "===== EPOCH ======:  218\n"
     ]
    },
    {
     "name": "stderr",
     "output_type": "stream",
     "text": [
      "100%|██████████| 1256/1256 [00:05<00:00, 214.56it/s]\n"
     ]
    },
    {
     "name": "stdout",
     "output_type": "stream",
     "text": [
      "accuracy: 0.5151033386327504\n",
      "cost_sum: 1001.4567353725433\n",
      "===== EPOCH ======:  219\n"
     ]
    },
    {
     "name": "stderr",
     "output_type": "stream",
     "text": [
      "100%|██████████| 1256/1256 [00:05<00:00, 212.71it/s]\n",
      "  2%|▏         | 28/1256 [00:00<00:04, 278.72it/s]"
     ]
    },
    {
     "name": "stdout",
     "output_type": "stream",
     "text": [
      "accuracy: 0.5166931637519873\n",
      "cost_sum: 999.4567343592644\n",
      "===== EPOCH ======:  220\n"
     ]
    },
    {
     "name": "stderr",
     "output_type": "stream",
     "text": [
      "100%|██████████| 1256/1256 [00:05<00:00, 233.09it/s]\n"
     ]
    },
    {
     "name": "stdout",
     "output_type": "stream",
     "text": [
      "accuracy: 0.5158982511923689\n",
      "cost_sum: 1000.9567341208458\n",
      "===== EPOCH ======:  221\n"
     ]
    },
    {
     "name": "stderr",
     "output_type": "stream",
     "text": [
      "100%|██████████| 1256/1256 [00:05<00:00, 233.99it/s]\n",
      "  0%|          | 0/1256 [00:00<?, ?it/s]"
     ]
    },
    {
     "name": "stdout",
     "output_type": "stream",
     "text": [
      "accuracy: 0.5158982511923689\n",
      "cost_sum: 1000.456734418869\n",
      "===== EPOCH ======:  222\n"
     ]
    },
    {
     "name": "stderr",
     "output_type": "stream",
     "text": [
      "100%|██████████| 1256/1256 [00:05<00:00, 218.01it/s]\n",
      "  0%|          | 0/1256 [00:00<?, ?it/s]"
     ]
    },
    {
     "name": "stdout",
     "output_type": "stream",
     "text": [
      "accuracy: 0.5158982511923689\n",
      "cost_sum: 999.9567348361015\n",
      "===== EPOCH ======:  223\n"
     ]
    },
    {
     "name": "stderr",
     "output_type": "stream",
     "text": [
      "100%|██████████| 1256/1256 [00:05<00:00, 220.99it/s]\n"
     ]
    },
    {
     "name": "stdout",
     "output_type": "stream",
     "text": [
      "accuracy: 0.5166931637519873\n",
      "cost_sum: 999.9567350745201\n",
      "===== EPOCH ======:  224\n"
     ]
    },
    {
     "name": "stderr",
     "output_type": "stream",
     "text": [
      "100%|██████████| 1256/1256 [00:05<00:00, 220.46it/s]\n",
      "  0%|          | 0/1256 [00:00<?, ?it/s]"
     ]
    },
    {
     "name": "stdout",
     "output_type": "stream",
     "text": [
      "accuracy: 0.5151033386327504\n",
      "cost_sum: 1001.456734597683\n",
      "===== EPOCH ======:  225\n"
     ]
    },
    {
     "name": "stderr",
     "output_type": "stream",
     "text": [
      "100%|██████████| 1256/1256 [00:05<00:00, 238.36it/s]\n",
      "  0%|          | 0/1256 [00:00<?, ?it/s]"
     ]
    },
    {
     "name": "stdout",
     "output_type": "stream",
     "text": [
      "accuracy: 0.5158982511923689\n",
      "cost_sum: 1000.4567347764969\n",
      "===== EPOCH ======:  226\n"
     ]
    },
    {
     "name": "stderr",
     "output_type": "stream",
     "text": [
      "100%|██████████| 1256/1256 [00:05<00:00, 246.34it/s]\n",
      "  0%|          | 0/1256 [00:00<?, ?it/s]"
     ]
    },
    {
     "name": "stdout",
     "output_type": "stream",
     "text": [
      "accuracy: 0.5158982511923689\n",
      "cost_sum: 1000.4567353725433\n",
      "===== EPOCH ======:  227\n"
     ]
    },
    {
     "name": "stderr",
     "output_type": "stream",
     "text": [
      "100%|██████████| 1256/1256 [00:05<00:00, 235.44it/s]\n",
      "  0%|          | 0/1256 [00:00<?, ?it/s]"
     ]
    },
    {
     "name": "stdout",
     "output_type": "stream",
     "text": [
      "accuracy: 0.5158982511923689\n",
      "cost_sum: 1000.4567342400551\n",
      "===== EPOCH ======:  228\n"
     ]
    },
    {
     "name": "stderr",
     "output_type": "stream",
     "text": [
      "100%|██████████| 1256/1256 [00:05<00:00, 219.63it/s]\n"
     ]
    },
    {
     "name": "stdout",
     "output_type": "stream",
     "text": [
      "accuracy: 0.5166931637519873\n",
      "cost_sum: 999.9567346572876\n",
      "===== EPOCH ======:  229\n"
     ]
    },
    {
     "name": "stderr",
     "output_type": "stream",
     "text": [
      "100%|██████████| 1256/1256 [00:05<00:00, 232.37it/s]\n",
      "  0%|          | 0/1256 [00:00<?, ?it/s]"
     ]
    },
    {
     "name": "stdout",
     "output_type": "stream",
     "text": [
      "accuracy: 0.5166931637519873\n",
      "cost_sum: 999.9567345380783\n",
      "===== EPOCH ======:  230\n"
     ]
    },
    {
     "name": "stderr",
     "output_type": "stream",
     "text": [
      "100%|██████████| 1256/1256 [00:05<00:00, 237.04it/s]\n",
      "  0%|          | 0/1256 [00:00<?, ?it/s]"
     ]
    },
    {
     "name": "stdout",
     "output_type": "stream",
     "text": [
      "accuracy: 0.5166931637519873\n",
      "cost_sum: 999.9567349553108\n",
      "===== EPOCH ======:  231\n"
     ]
    },
    {
     "name": "stderr",
     "output_type": "stream",
     "text": [
      "100%|██████████| 1256/1256 [00:05<00:00, 209.51it/s]\n",
      "  0%|          | 0/1256 [00:00<?, ?it/s]"
     ]
    },
    {
     "name": "stdout",
     "output_type": "stream",
     "text": [
      "accuracy: 0.5158982511923689\n",
      "cost_sum: 1000.4567353129387\n",
      "===== EPOCH ======:  232\n"
     ]
    },
    {
     "name": "stderr",
     "output_type": "stream",
     "text": [
      "100%|██████████| 1256/1256 [00:05<00:00, 225.37it/s]\n",
      "  0%|          | 0/1256 [00:00<?, ?it/s]"
     ]
    },
    {
     "name": "stdout",
     "output_type": "stream",
     "text": [
      "accuracy: 0.5158982511923689\n",
      "cost_sum: 1000.4567351937294\n",
      "===== EPOCH ======:  233\n"
     ]
    },
    {
     "name": "stderr",
     "output_type": "stream",
     "text": [
      "100%|██████████| 1256/1256 [00:05<00:00, 232.93it/s]\n",
      "  0%|          | 0/1256 [00:00<?, ?it/s]"
     ]
    },
    {
     "name": "stdout",
     "output_type": "stream",
     "text": [
      "accuracy: 0.5166931637519873\n",
      "cost_sum: 999.9567345380783\n",
      "===== EPOCH ======:  234\n"
     ]
    },
    {
     "name": "stderr",
     "output_type": "stream",
     "text": [
      "100%|██████████| 1256/1256 [00:05<00:00, 241.07it/s]\n",
      "  0%|          | 0/1256 [00:00<?, ?it/s]"
     ]
    },
    {
     "name": "stdout",
     "output_type": "stream",
     "text": [
      "accuracy: 0.5151033386327504\n",
      "cost_sum: 1000.9567356109619\n",
      "===== EPOCH ======:  235\n"
     ]
    },
    {
     "name": "stderr",
     "output_type": "stream",
     "text": [
      "100%|██████████| 1256/1256 [00:05<00:00, 235.05it/s]\n",
      "  0%|          | 0/1256 [00:00<?, ?it/s]"
     ]
    },
    {
     "name": "stdout",
     "output_type": "stream",
     "text": [
      "accuracy: 0.5158982511923689\n",
      "cost_sum: 999.9567344784737\n",
      "===== EPOCH ======:  236\n"
     ]
    },
    {
     "name": "stderr",
     "output_type": "stream",
     "text": [
      "100%|██████████| 1256/1256 [00:05<00:00, 230.87it/s]\n"
     ]
    },
    {
     "name": "stdout",
     "output_type": "stream",
     "text": [
      "accuracy: 0.5158982511923689\n",
      "cost_sum: 1000.9567353129387\n",
      "===== EPOCH ======:  237\n"
     ]
    },
    {
     "name": "stderr",
     "output_type": "stream",
     "text": [
      "100%|██████████| 1256/1256 [00:05<00:00, 237.22it/s]\n"
     ]
    },
    {
     "name": "stdout",
     "output_type": "stream",
     "text": [
      "accuracy: 0.5158982511923689\n",
      "cost_sum: 1000.4567340612411\n",
      "===== EPOCH ======:  238\n"
     ]
    },
    {
     "name": "stderr",
     "output_type": "stream",
     "text": [
      "100%|██████████| 1256/1256 [00:05<00:00, 239.34it/s]\n",
      "  0%|          | 0/1256 [00:00<?, ?it/s]"
     ]
    },
    {
     "name": "stdout",
     "output_type": "stream",
     "text": [
      "accuracy: 0.5158982511923689\n",
      "cost_sum: 999.9567350745201\n",
      "===== EPOCH ======:  239\n"
     ]
    },
    {
     "name": "stderr",
     "output_type": "stream",
     "text": [
      "100%|██████████| 1256/1256 [00:05<00:00, 224.46it/s]\n",
      "  2%|▏         | 28/1256 [00:00<00:04, 273.95it/s]"
     ]
    },
    {
     "name": "stdout",
     "output_type": "stream",
     "text": [
      "accuracy: 0.5166931637519873\n",
      "cost_sum: 999.4567348361015\n",
      "===== EPOCH ======:  240\n"
     ]
    },
    {
     "name": "stderr",
     "output_type": "stream",
     "text": [
      "100%|██████████| 1256/1256 [00:06<00:00, 205.44it/s]\n"
     ]
    },
    {
     "name": "stdout",
     "output_type": "stream",
     "text": [
      "accuracy: 0.5166931637519873\n",
      "cost_sum: 999.4567348361015\n",
      "===== EPOCH ======:  241\n"
     ]
    },
    {
     "name": "stderr",
     "output_type": "stream",
     "text": [
      "100%|██████████| 1256/1256 [00:05<00:00, 222.07it/s]\n",
      "  0%|          | 0/1256 [00:00<?, ?it/s]"
     ]
    },
    {
     "name": "stdout",
     "output_type": "stream",
     "text": [
      "accuracy: 0.5158982511923689\n",
      "cost_sum: 1000.4567347168922\n",
      "===== EPOCH ======:  242\n"
     ]
    },
    {
     "name": "stderr",
     "output_type": "stream",
     "text": [
      "100%|██████████| 1256/1256 [00:05<00:00, 224.32it/s]\n"
     ]
    },
    {
     "name": "stdout",
     "output_type": "stream",
     "text": [
      "accuracy: 0.5151033386327504\n",
      "cost_sum: 1001.4567346572876\n",
      "===== EPOCH ======:  243\n"
     ]
    },
    {
     "name": "stderr",
     "output_type": "stream",
     "text": [
      "100%|██████████| 1256/1256 [00:05<00:00, 218.95it/s]\n",
      "  0%|          | 0/1256 [00:00<?, ?it/s]"
     ]
    },
    {
     "name": "stdout",
     "output_type": "stream",
     "text": [
      "accuracy: 0.5158982511923689\n",
      "cost_sum: 1000.4567347168922\n",
      "===== EPOCH ======:  244\n"
     ]
    },
    {
     "name": "stderr",
     "output_type": "stream",
     "text": [
      "100%|██████████| 1256/1256 [00:05<00:00, 229.80it/s]\n"
     ]
    },
    {
     "name": "stdout",
     "output_type": "stream",
     "text": [
      "accuracy: 0.5151033386327504\n",
      "cost_sum: 1001.456734597683\n",
      "===== EPOCH ======:  245\n"
     ]
    },
    {
     "name": "stderr",
     "output_type": "stream",
     "text": [
      "100%|██████████| 1256/1256 [00:05<00:00, 242.54it/s]\n"
     ]
    },
    {
     "name": "stdout",
     "output_type": "stream",
     "text": [
      "accuracy: 0.5158982511923689\n",
      "cost_sum: 999.9567343592644\n",
      "===== EPOCH ======:  246\n"
     ]
    },
    {
     "name": "stderr",
     "output_type": "stream",
     "text": [
      "100%|██████████| 1256/1256 [00:06<00:00, 205.94it/s]\n"
     ]
    },
    {
     "name": "stdout",
     "output_type": "stream",
     "text": [
      "accuracy: 0.5158982511923689\n",
      "cost_sum: 999.9567342400551\n",
      "===== EPOCH ======:  247\n"
     ]
    },
    {
     "name": "stderr",
     "output_type": "stream",
     "text": [
      "100%|██████████| 1256/1256 [00:07<00:00, 168.74it/s]\n"
     ]
    },
    {
     "name": "stdout",
     "output_type": "stream",
     "text": [
      "accuracy: 0.5166931637519873\n",
      "cost_sum: 999.4567342400551\n",
      "===== EPOCH ======:  248\n"
     ]
    },
    {
     "name": "stderr",
     "output_type": "stream",
     "text": [
      "100%|██████████| 1256/1256 [00:05<00:00, 219.04it/s]\n",
      "  0%|          | 0/1256 [00:00<?, ?it/s]"
     ]
    },
    {
     "name": "stdout",
     "output_type": "stream",
     "text": [
      "accuracy: 0.5166931637519873\n",
      "cost_sum: 999.4567348361015\n",
      "===== EPOCH ======:  249\n"
     ]
    },
    {
     "name": "stderr",
     "output_type": "stream",
     "text": [
      "100%|██████████| 1256/1256 [00:06<00:00, 188.32it/s]\n"
     ]
    },
    {
     "name": "stdout",
     "output_type": "stream",
     "text": [
      "accuracy: 0.5166931637519873\n",
      "cost_sum: 999.4567347168922\n",
      "===== EPOCH ======:  250\n"
     ]
    },
    {
     "name": "stderr",
     "output_type": "stream",
     "text": [
      "100%|██████████| 1256/1256 [00:05<00:00, 224.97it/s]\n"
     ]
    },
    {
     "name": "stdout",
     "output_type": "stream",
     "text": [
      "accuracy: 0.5158982511923689\n",
      "cost_sum: 1000.456734418869\n",
      "===== EPOCH ======:  251\n"
     ]
    },
    {
     "name": "stderr",
     "output_type": "stream",
     "text": [
      "100%|██████████| 1256/1256 [00:05<00:00, 188.86it/s]\n",
      "  0%|          | 0/1256 [00:00<?, ?it/s]"
     ]
    },
    {
     "name": "stdout",
     "output_type": "stream",
     "text": [
      "accuracy: 0.5166931637519873\n",
      "cost_sum: 999.4567349553108\n",
      "===== EPOCH ======:  252\n"
     ]
    },
    {
     "name": "stderr",
     "output_type": "stream",
     "text": [
      "100%|██████████| 1256/1256 [00:06<00:00, 204.72it/s]\n"
     ]
    },
    {
     "name": "stdout",
     "output_type": "stream",
     "text": [
      "accuracy: 0.5166931637519873\n",
      "cost_sum: 999.9567349553108\n",
      "===== EPOCH ======:  253\n"
     ]
    },
    {
     "name": "stderr",
     "output_type": "stream",
     "text": [
      "100%|██████████| 1256/1256 [00:05<00:00, 211.29it/s]\n"
     ]
    },
    {
     "name": "stdout",
     "output_type": "stream",
     "text": [
      "accuracy: 0.5158982511923689\n",
      "cost_sum: 1000.9567351341248\n",
      "===== EPOCH ======:  254\n"
     ]
    },
    {
     "name": "stderr",
     "output_type": "stream",
     "text": [
      "100%|██████████| 1256/1256 [00:06<00:00, 206.73it/s]\n",
      "  0%|          | 0/1256 [00:00<?, ?it/s]"
     ]
    },
    {
     "name": "stdout",
     "output_type": "stream",
     "text": [
      "accuracy: 0.5158982511923689\n",
      "cost_sum: 999.9567345380783\n",
      "===== EPOCH ======:  255\n"
     ]
    },
    {
     "name": "stderr",
     "output_type": "stream",
     "text": [
      "100%|██████████| 1256/1256 [00:06<00:00, 207.59it/s]\n"
     ]
    },
    {
     "name": "stdout",
     "output_type": "stream",
     "text": [
      "accuracy: 0.5151033386327504\n",
      "cost_sum: 1001.4567350745201\n",
      "===== EPOCH ======:  256\n"
     ]
    },
    {
     "name": "stderr",
     "output_type": "stream",
     "text": [
      "100%|██████████| 1256/1256 [00:06<00:00, 196.47it/s]\n"
     ]
    },
    {
     "name": "stdout",
     "output_type": "stream",
     "text": [
      "accuracy: 0.5166931637519873\n",
      "cost_sum: 999.9567338824272\n",
      "===== EPOCH ======:  257\n"
     ]
    },
    {
     "name": "stderr",
     "output_type": "stream",
     "text": [
      "100%|██████████| 1256/1256 [00:05<00:00, 232.56it/s]\n",
      "  0%|          | 0/1256 [00:00<?, ?it/s]"
     ]
    },
    {
     "name": "stdout",
     "output_type": "stream",
     "text": [
      "accuracy: 0.5166931637519873\n",
      "cost_sum: 999.4567336440086\n",
      "===== EPOCH ======:  258\n"
     ]
    },
    {
     "name": "stderr",
     "output_type": "stream",
     "text": [
      "100%|██████████| 1256/1256 [00:06<00:00, 209.03it/s]\n"
     ]
    },
    {
     "name": "stdout",
     "output_type": "stream",
     "text": [
      "accuracy: 0.5158982511923689\n",
      "cost_sum: 1000.4567350149155\n",
      "===== EPOCH ======:  259\n"
     ]
    },
    {
     "name": "stderr",
     "output_type": "stream",
     "text": [
      "100%|██████████| 1256/1256 [00:05<00:00, 214.08it/s]\n"
     ]
    },
    {
     "name": "stdout",
     "output_type": "stream",
     "text": [
      "accuracy: 0.5158982511923689\n",
      "cost_sum: 1000.4567350745201\n",
      "===== EPOCH ======:  260\n"
     ]
    },
    {
     "name": "stderr",
     "output_type": "stream",
     "text": [
      "100%|██████████| 1256/1256 [00:05<00:00, 211.57it/s]\n",
      "  0%|          | 0/1256 [00:00<?, ?it/s]"
     ]
    },
    {
     "name": "stdout",
     "output_type": "stream",
     "text": [
      "accuracy: 0.5158982511923689\n",
      "cost_sum: 1000.956735253334\n",
      "===== EPOCH ======:  261\n"
     ]
    },
    {
     "name": "stderr",
     "output_type": "stream",
     "text": [
      "100%|██████████| 1256/1256 [00:06<00:00, 205.57it/s]\n",
      "  0%|          | 0/1256 [00:00<?, ?it/s]"
     ]
    },
    {
     "name": "stdout",
     "output_type": "stream",
     "text": [
      "accuracy: 0.5166931637519873\n",
      "cost_sum: 999.9567344784737\n",
      "===== EPOCH ======:  262\n"
     ]
    },
    {
     "name": "stderr",
     "output_type": "stream",
     "text": [
      "100%|██████████| 1256/1256 [00:05<00:00, 225.39it/s]\n"
     ]
    },
    {
     "name": "stdout",
     "output_type": "stream",
     "text": [
      "accuracy: 0.5158982511923689\n",
      "cost_sum: 1000.956735432148\n",
      "===== EPOCH ======:  263\n"
     ]
    },
    {
     "name": "stderr",
     "output_type": "stream",
     "text": [
      "100%|██████████| 1256/1256 [00:05<00:00, 234.24it/s]\n",
      "  0%|          | 0/1256 [00:00<?, ?it/s]"
     ]
    },
    {
     "name": "stdout",
     "output_type": "stream",
     "text": [
      "accuracy: 0.5166931637519873\n",
      "cost_sum: 999.4567335247993\n",
      "===== EPOCH ======:  264\n"
     ]
    },
    {
     "name": "stderr",
     "output_type": "stream",
     "text": [
      "100%|██████████| 1256/1256 [00:05<00:00, 230.17it/s]\n",
      "  0%|          | 0/1256 [00:00<?, ?it/s]"
     ]
    },
    {
     "name": "stdout",
     "output_type": "stream",
     "text": [
      "accuracy: 0.5158982511923689\n",
      "cost_sum: 1000.4567350745201\n",
      "===== EPOCH ======:  265\n"
     ]
    },
    {
     "name": "stderr",
     "output_type": "stream",
     "text": [
      "100%|██████████| 1256/1256 [00:05<00:00, 226.06it/s]\n",
      "  0%|          | 0/1256 [00:00<?, ?it/s]"
     ]
    },
    {
     "name": "stdout",
     "output_type": "stream",
     "text": [
      "accuracy: 0.5158982511923689\n",
      "cost_sum: 1000.9567344784737\n",
      "===== EPOCH ======:  266\n"
     ]
    },
    {
     "name": "stderr",
     "output_type": "stream",
     "text": [
      "100%|██████████| 1256/1256 [00:05<00:00, 218.20it/s]\n",
      "  0%|          | 0/1256 [00:00<?, ?it/s]"
     ]
    },
    {
     "name": "stdout",
     "output_type": "stream",
     "text": [
      "accuracy: 0.5158982511923689\n",
      "cost_sum: 1000.9567350745201\n",
      "===== EPOCH ======:  267\n"
     ]
    },
    {
     "name": "stderr",
     "output_type": "stream",
     "text": [
      "100%|██████████| 1256/1256 [00:06<00:00, 209.08it/s]\n",
      "  2%|▏         | 27/1256 [00:00<00:04, 263.66it/s]"
     ]
    },
    {
     "name": "stdout",
     "output_type": "stream",
     "text": [
      "accuracy: 0.5158982511923689\n",
      "cost_sum: 1000.4567346572876\n",
      "===== EPOCH ======:  268\n"
     ]
    },
    {
     "name": "stderr",
     "output_type": "stream",
     "text": [
      "100%|██████████| 1256/1256 [00:06<00:00, 199.15it/s]\n",
      "  0%|          | 0/1256 [00:00<?, ?it/s]"
     ]
    },
    {
     "name": "stdout",
     "output_type": "stream",
     "text": [
      "accuracy: 0.5151033386327504\n",
      "cost_sum: 1001.4567351341248\n",
      "===== EPOCH ======:  269\n"
     ]
    },
    {
     "name": "stderr",
     "output_type": "stream",
     "text": [
      "100%|██████████| 1256/1256 [00:06<00:00, 205.53it/s]\n"
     ]
    },
    {
     "name": "stdout",
     "output_type": "stream",
     "text": [
      "accuracy: 0.5158982511923689\n",
      "cost_sum: 1000.9567338824272\n",
      "===== EPOCH ======:  270\n"
     ]
    },
    {
     "name": "stderr",
     "output_type": "stream",
     "text": [
      "100%|██████████| 1256/1256 [00:05<00:00, 218.82it/s]\n"
     ]
    },
    {
     "name": "stdout",
     "output_type": "stream",
     "text": [
      "accuracy: 0.5151033386327504\n",
      "cost_sum: 1001.4567344784737\n",
      "===== EPOCH ======:  271\n"
     ]
    },
    {
     "name": "stderr",
     "output_type": "stream",
     "text": [
      "100%|██████████| 1256/1256 [00:05<00:00, 233.93it/s]\n",
      "  0%|          | 0/1256 [00:00<?, ?it/s]"
     ]
    },
    {
     "name": "stdout",
     "output_type": "stream",
     "text": [
      "accuracy: 0.5151033386327504\n",
      "cost_sum: 1001.4567349553108\n",
      "===== EPOCH ======:  272\n"
     ]
    },
    {
     "name": "stderr",
     "output_type": "stream",
     "text": [
      "100%|██████████| 1256/1256 [00:05<00:00, 237.98it/s]\n",
      "  0%|          | 0/1256 [00:00<?, ?it/s]"
     ]
    },
    {
     "name": "stdout",
     "output_type": "stream",
     "text": [
      "accuracy: 0.5158982511923689\n",
      "cost_sum: 999.9567341208458\n",
      "===== EPOCH ======:  273\n"
     ]
    },
    {
     "name": "stderr",
     "output_type": "stream",
     "text": [
      "100%|██████████| 1256/1256 [00:05<00:00, 216.08it/s]\n",
      "  0%|          | 0/1256 [00:00<?, ?it/s]"
     ]
    },
    {
     "name": "stdout",
     "output_type": "stream",
     "text": [
      "accuracy: 0.5166931637519873\n",
      "cost_sum: 999.956734418869\n",
      "===== EPOCH ======:  274\n"
     ]
    },
    {
     "name": "stderr",
     "output_type": "stream",
     "text": [
      "100%|██████████| 1256/1256 [00:05<00:00, 227.50it/s]\n",
      "  0%|          | 0/1256 [00:00<?, ?it/s]"
     ]
    },
    {
     "name": "stdout",
     "output_type": "stream",
     "text": [
      "accuracy: 0.5151033386327504\n",
      "cost_sum: 1000.9567348957062\n",
      "===== EPOCH ======:  275\n"
     ]
    },
    {
     "name": "stderr",
     "output_type": "stream",
     "text": [
      "100%|██████████| 1256/1256 [00:05<00:00, 233.79it/s]\n"
     ]
    },
    {
     "name": "stdout",
     "output_type": "stream",
     "text": [
      "accuracy: 0.5166931637519873\n",
      "cost_sum: 999.4567341804504\n",
      "===== EPOCH ======:  276\n"
     ]
    },
    {
     "name": "stderr",
     "output_type": "stream",
     "text": [
      "100%|██████████| 1256/1256 [00:05<00:00, 222.40it/s]\n",
      "  0%|          | 0/1256 [00:00<?, ?it/s]"
     ]
    },
    {
     "name": "stdout",
     "output_type": "stream",
     "text": [
      "accuracy: 0.5166931637519873\n",
      "cost_sum: 999.4567350149155\n",
      "===== EPOCH ======:  277\n"
     ]
    },
    {
     "name": "stderr",
     "output_type": "stream",
     "text": [
      "100%|██████████| 1256/1256 [00:06<00:00, 197.55it/s]\n",
      "  0%|          | 0/1256 [00:00<?, ?it/s]"
     ]
    },
    {
     "name": "stdout",
     "output_type": "stream",
     "text": [
      "accuracy: 0.5151033386327504\n",
      "cost_sum: 1000.9567343592644\n",
      "===== EPOCH ======:  278\n"
     ]
    },
    {
     "name": "stderr",
     "output_type": "stream",
     "text": [
      "100%|██████████| 1256/1256 [00:06<00:00, 202.89it/s]\n"
     ]
    },
    {
     "name": "stdout",
     "output_type": "stream",
     "text": [
      "accuracy: 0.5151033386327504\n",
      "cost_sum: 1000.9567348957062\n",
      "===== EPOCH ======:  279\n"
     ]
    },
    {
     "name": "stderr",
     "output_type": "stream",
     "text": [
      "100%|██████████| 1256/1256 [00:05<00:00, 216.84it/s]\n",
      "  0%|          | 0/1256 [00:00<?, ?it/s]"
     ]
    },
    {
     "name": "stdout",
     "output_type": "stream",
     "text": [
      "accuracy: 0.5166931637519873\n",
      "cost_sum: 999.9567345380783\n",
      "===== EPOCH ======:  280\n"
     ]
    },
    {
     "name": "stderr",
     "output_type": "stream",
     "text": [
      "100%|██████████| 1256/1256 [00:05<00:00, 225.86it/s]\n",
      "  0%|          | 0/1256 [00:00<?, ?it/s]"
     ]
    },
    {
     "name": "stdout",
     "output_type": "stream",
     "text": [
      "accuracy: 0.5151033386327504\n",
      "cost_sum: 1000.9567347764969\n",
      "===== EPOCH ======:  281\n"
     ]
    },
    {
     "name": "stderr",
     "output_type": "stream",
     "text": [
      "100%|██████████| 1256/1256 [00:05<00:00, 225.28it/s]\n"
     ]
    },
    {
     "name": "stdout",
     "output_type": "stream",
     "text": [
      "accuracy: 0.5158982511923689\n",
      "cost_sum: 1000.4567341804504\n",
      "===== EPOCH ======:  282\n"
     ]
    },
    {
     "name": "stderr",
     "output_type": "stream",
     "text": [
      "100%|██████████| 1256/1256 [00:05<00:00, 239.80it/s]\n",
      "  0%|          | 0/1256 [00:00<?, ?it/s]"
     ]
    },
    {
     "name": "stdout",
     "output_type": "stream",
     "text": [
      "accuracy: 0.5158982511923689\n",
      "cost_sum: 1000.4567347764969\n",
      "===== EPOCH ======:  283\n"
     ]
    },
    {
     "name": "stderr",
     "output_type": "stream",
     "text": [
      "100%|██████████| 1256/1256 [00:05<00:00, 238.97it/s]\n",
      "  0%|          | 0/1256 [00:00<?, ?it/s]"
     ]
    },
    {
     "name": "stdout",
     "output_type": "stream",
     "text": [
      "accuracy: 0.5158982511923689\n",
      "cost_sum: 1000.9567356705666\n",
      "===== EPOCH ======:  284\n"
     ]
    },
    {
     "name": "stderr",
     "output_type": "stream",
     "text": [
      "100%|██████████| 1256/1256 [00:05<00:00, 219.14it/s]\n"
     ]
    },
    {
     "name": "stdout",
     "output_type": "stream",
     "text": [
      "accuracy: 0.5151033386327504\n",
      "cost_sum: 1001.4567349553108\n",
      "===== EPOCH ======:  285\n"
     ]
    },
    {
     "name": "stderr",
     "output_type": "stream",
     "text": [
      "100%|██████████| 1256/1256 [00:06<00:00, 206.30it/s]\n",
      "  0%|          | 0/1256 [00:00<?, ?it/s]"
     ]
    },
    {
     "name": "stdout",
     "output_type": "stream",
     "text": [
      "accuracy: 0.5158982511923689\n",
      "cost_sum: 999.956735432148\n",
      "===== EPOCH ======:  286\n"
     ]
    },
    {
     "name": "stderr",
     "output_type": "stream",
     "text": [
      "100%|██████████| 1256/1256 [00:06<00:00, 201.85it/s]\n"
     ]
    },
    {
     "name": "stdout",
     "output_type": "stream",
     "text": [
      "accuracy: 0.5166931637519873\n",
      "cost_sum: 999.4567342400551\n",
      "===== EPOCH ======:  287\n"
     ]
    },
    {
     "name": "stderr",
     "output_type": "stream",
     "text": [
      "100%|██████████| 1256/1256 [00:05<00:00, 229.76it/s]\n"
     ]
    },
    {
     "name": "stdout",
     "output_type": "stream",
     "text": [
      "accuracy: 0.5151033386327504\n",
      "cost_sum: 1000.9567346572876\n",
      "===== EPOCH ======:  288\n"
     ]
    },
    {
     "name": "stderr",
     "output_type": "stream",
     "text": [
      "100%|██████████| 1256/1256 [00:05<00:00, 230.60it/s]\n",
      "  0%|          | 0/1256 [00:00<?, ?it/s]"
     ]
    },
    {
     "name": "stdout",
     "output_type": "stream",
     "text": [
      "accuracy: 0.5151033386327504\n",
      "cost_sum: 1001.4567347168922\n",
      "===== EPOCH ======:  289\n"
     ]
    },
    {
     "name": "stderr",
     "output_type": "stream",
     "text": [
      "100%|██████████| 1256/1256 [00:05<00:00, 224.32it/s]\n",
      "  0%|          | 0/1256 [00:00<?, ?it/s]"
     ]
    },
    {
     "name": "stdout",
     "output_type": "stream",
     "text": [
      "accuracy: 0.5166931637519873\n",
      "cost_sum: 999.9567339420319\n",
      "===== EPOCH ======:  290\n"
     ]
    },
    {
     "name": "stderr",
     "output_type": "stream",
     "text": [
      "100%|██████████| 1256/1256 [00:05<00:00, 230.34it/s]\n",
      "  0%|          | 0/1256 [00:00<?, ?it/s]"
     ]
    },
    {
     "name": "stdout",
     "output_type": "stream",
     "text": [
      "accuracy: 0.5158982511923689\n",
      "cost_sum: 1000.4567356705666\n",
      "===== EPOCH ======:  291\n"
     ]
    },
    {
     "name": "stderr",
     "output_type": "stream",
     "text": [
      "100%|██████████| 1256/1256 [00:05<00:00, 236.55it/s]\n",
      "  0%|          | 0/1256 [00:00<?, ?it/s]"
     ]
    },
    {
     "name": "stdout",
     "output_type": "stream",
     "text": [
      "accuracy: 0.5151033386327504\n",
      "cost_sum: 1000.9567351341248\n",
      "===== EPOCH ======:  292\n"
     ]
    },
    {
     "name": "stderr",
     "output_type": "stream",
     "text": [
      "100%|██████████| 1256/1256 [00:05<00:00, 229.38it/s]\n",
      "  0%|          | 0/1256 [00:00<?, ?it/s]"
     ]
    },
    {
     "name": "stdout",
     "output_type": "stream",
     "text": [
      "accuracy: 0.5166931637519873\n",
      "cost_sum: 999.4567350745201\n",
      "===== EPOCH ======:  293\n"
     ]
    },
    {
     "name": "stderr",
     "output_type": "stream",
     "text": [
      "100%|██████████| 1256/1256 [00:06<00:00, 209.30it/s]\n"
     ]
    },
    {
     "name": "stdout",
     "output_type": "stream",
     "text": [
      "accuracy: 0.5151033386327504\n",
      "cost_sum: 1001.4567350745201\n",
      "===== EPOCH ======:  294\n"
     ]
    },
    {
     "name": "stderr",
     "output_type": "stream",
     "text": [
      "100%|██████████| 1256/1256 [00:06<00:00, 197.27it/s]\n"
     ]
    },
    {
     "name": "stdout",
     "output_type": "stream",
     "text": [
      "accuracy: 0.5151033386327504\n",
      "cost_sum: 1000.956735253334\n",
      "===== EPOCH ======:  295\n"
     ]
    },
    {
     "name": "stderr",
     "output_type": "stream",
     "text": [
      "100%|██████████| 1256/1256 [00:05<00:00, 222.23it/s]\n",
      "  0%|          | 0/1256 [00:00<?, ?it/s]"
     ]
    },
    {
     "name": "stdout",
     "output_type": "stream",
     "text": [
      "accuracy: 0.5158982511923689\n",
      "cost_sum: 1000.4567342400551\n",
      "===== EPOCH ======:  296\n"
     ]
    },
    {
     "name": "stderr",
     "output_type": "stream",
     "text": [
      "100%|██████████| 1256/1256 [00:05<00:00, 215.44it/s]\n",
      "  0%|          | 0/1256 [00:00<?, ?it/s]"
     ]
    },
    {
     "name": "stdout",
     "output_type": "stream",
     "text": [
      "accuracy: 0.5158982511923689\n",
      "cost_sum: 1000.4567347168922\n",
      "===== EPOCH ======:  297\n"
     ]
    },
    {
     "name": "stderr",
     "output_type": "stream",
     "text": [
      "100%|██████████| 1256/1256 [00:06<00:00, 209.28it/s]\n"
     ]
    },
    {
     "name": "stdout",
     "output_type": "stream",
     "text": [
      "accuracy: 0.5151033386327504\n",
      "cost_sum: 1001.4567357301712\n",
      "===== EPOCH ======:  298\n"
     ]
    },
    {
     "name": "stderr",
     "output_type": "stream",
     "text": [
      "100%|██████████| 1256/1256 [00:05<00:00, 231.58it/s]\n",
      "  0%|          | 0/1256 [00:00<?, ?it/s]"
     ]
    },
    {
     "name": "stdout",
     "output_type": "stream",
     "text": [
      "accuracy: 0.5158982511923689\n",
      "cost_sum: 999.9567348957062\n",
      "===== EPOCH ======:  299\n"
     ]
    },
    {
     "name": "stderr",
     "output_type": "stream",
     "text": [
      "100%|██████████| 1256/1256 [00:05<00:00, 219.17it/s]\n",
      "  0%|          | 0/1256 [00:00<?, ?it/s]"
     ]
    },
    {
     "name": "stdout",
     "output_type": "stream",
     "text": [
      "accuracy: 0.5151033386327504\n",
      "cost_sum: 1000.9567345380783\n",
      "===== EPOCH ======:  300\n"
     ]
    },
    {
     "name": "stderr",
     "output_type": "stream",
     "text": [
      "100%|██████████| 1256/1256 [00:05<00:00, 224.60it/s]\n",
      "  2%|▏         | 22/1256 [00:00<00:05, 212.90it/s]"
     ]
    },
    {
     "name": "stdout",
     "output_type": "stream",
     "text": [
      "accuracy: 0.5151033386327504\n",
      "cost_sum: 1000.9567342996597\n",
      "===== EPOCH ======:  301\n"
     ]
    },
    {
     "name": "stderr",
     "output_type": "stream",
     "text": [
      "100%|██████████| 1256/1256 [00:05<00:00, 225.90it/s]\n",
      "  0%|          | 0/1256 [00:00<?, ?it/s]"
     ]
    },
    {
     "name": "stdout",
     "output_type": "stream",
     "text": [
      "accuracy: 0.5158982511923689\n",
      "cost_sum: 1000.4567347168922\n",
      "===== EPOCH ======:  302\n"
     ]
    },
    {
     "name": "stderr",
     "output_type": "stream",
     "text": [
      "100%|██████████| 1256/1256 [00:05<00:00, 228.17it/s]\n",
      "  0%|          | 0/1256 [00:00<?, ?it/s]"
     ]
    },
    {
     "name": "stdout",
     "output_type": "stream",
     "text": [
      "accuracy: 0.5158982511923689\n",
      "cost_sum: 999.9567350745201\n",
      "===== EPOCH ======:  303\n"
     ]
    },
    {
     "name": "stderr",
     "output_type": "stream",
     "text": [
      "100%|██████████| 1256/1256 [00:05<00:00, 233.28it/s]\n",
      "  2%|▏         | 25/1256 [00:00<00:04, 247.31it/s]"
     ]
    },
    {
     "name": "stdout",
     "output_type": "stream",
     "text": [
      "accuracy: 0.5158982511923689\n",
      "cost_sum: 1000.9567342400551\n",
      "===== EPOCH ======:  304\n"
     ]
    },
    {
     "name": "stderr",
     "output_type": "stream",
     "text": [
      "100%|██████████| 1256/1256 [00:05<00:00, 217.34it/s]\n"
     ]
    },
    {
     "name": "stdout",
     "output_type": "stream",
     "text": [
      "accuracy: 0.5151033386327504\n",
      "cost_sum: 1001.4567354917526\n",
      "===== EPOCH ======:  305\n"
     ]
    },
    {
     "name": "stderr",
     "output_type": "stream",
     "text": [
      "100%|██████████| 1256/1256 [00:06<00:00, 190.41it/s]\n"
     ]
    },
    {
     "name": "stdout",
     "output_type": "stream",
     "text": [
      "accuracy: 0.5166931637519873\n",
      "cost_sum: 999.956734597683\n",
      "===== EPOCH ======:  306\n"
     ]
    },
    {
     "name": "stderr",
     "output_type": "stream",
     "text": [
      "100%|██████████| 1256/1256 [00:05<00:00, 229.49it/s]\n",
      "  0%|          | 0/1256 [00:00<?, ?it/s]"
     ]
    },
    {
     "name": "stdout",
     "output_type": "stream",
     "text": [
      "accuracy: 0.5166931637519873\n",
      "cost_sum: 999.9567342400551\n",
      "===== EPOCH ======:  307\n"
     ]
    },
    {
     "name": "stderr",
     "output_type": "stream",
     "text": [
      "100%|██████████| 1256/1256 [00:06<00:00, 201.04it/s]\n",
      "  0%|          | 0/1256 [00:00<?, ?it/s]"
     ]
    },
    {
     "name": "stdout",
     "output_type": "stream",
     "text": [
      "accuracy: 0.5158982511923689\n",
      "cost_sum: 999.9567348361015\n",
      "===== EPOCH ======:  308\n"
     ]
    },
    {
     "name": "stderr",
     "output_type": "stream",
     "text": [
      "100%|██████████| 1256/1256 [00:06<00:00, 196.58it/s]\n"
     ]
    },
    {
     "name": "stdout",
     "output_type": "stream",
     "text": [
      "accuracy: 0.5151033386327504\n",
      "cost_sum: 1000.956734597683\n",
      "===== EPOCH ======:  309\n"
     ]
    },
    {
     "name": "stderr",
     "output_type": "stream",
     "text": [
      "100%|██████████| 1256/1256 [00:05<00:00, 225.08it/s]\n",
      "  0%|          | 0/1256 [00:00<?, ?it/s]"
     ]
    },
    {
     "name": "stdout",
     "output_type": "stream",
     "text": [
      "accuracy: 0.5158982511923689\n",
      "cost_sum: 1000.4567346572876\n",
      "===== EPOCH ======:  310\n"
     ]
    },
    {
     "name": "stderr",
     "output_type": "stream",
     "text": [
      "100%|██████████| 1256/1256 [00:05<00:00, 232.54it/s]\n",
      "  0%|          | 0/1256 [00:00<?, ?it/s]"
     ]
    },
    {
     "name": "stdout",
     "output_type": "stream",
     "text": [
      "accuracy: 0.5166931637519873\n",
      "cost_sum: 999.956735253334\n",
      "===== EPOCH ======:  311\n"
     ]
    },
    {
     "name": "stderr",
     "output_type": "stream",
     "text": [
      "100%|██████████| 1256/1256 [00:05<00:00, 227.95it/s]\n",
      "  0%|          | 0/1256 [00:00<?, ?it/s]"
     ]
    },
    {
     "name": "stdout",
     "output_type": "stream",
     "text": [
      "accuracy: 0.5151033386327504\n",
      "cost_sum: 1001.4567346572876\n",
      "===== EPOCH ======:  312\n"
     ]
    },
    {
     "name": "stderr",
     "output_type": "stream",
     "text": [
      "100%|██████████| 1256/1256 [00:05<00:00, 220.44it/s]\n",
      "  0%|          | 0/1256 [00:00<?, ?it/s]"
     ]
    },
    {
     "name": "stdout",
     "output_type": "stream",
     "text": [
      "accuracy: 0.5158982511923689\n",
      "cost_sum: 999.9567348957062\n",
      "===== EPOCH ======:  313\n"
     ]
    },
    {
     "name": "stderr",
     "output_type": "stream",
     "text": [
      "100%|██████████| 1256/1256 [00:05<00:00, 225.45it/s]\n",
      "  0%|          | 0/1256 [00:00<?, ?it/s]"
     ]
    },
    {
     "name": "stdout",
     "output_type": "stream",
     "text": [
      "accuracy: 0.5158982511923689\n",
      "cost_sum: 1000.9567350745201\n",
      "===== EPOCH ======:  314\n"
     ]
    },
    {
     "name": "stderr",
     "output_type": "stream",
     "text": [
      "100%|██████████| 1256/1256 [00:05<00:00, 228.88it/s]\n",
      "  0%|          | 0/1256 [00:00<?, ?it/s]"
     ]
    },
    {
     "name": "stdout",
     "output_type": "stream",
     "text": [
      "accuracy: 0.5158982511923689\n",
      "cost_sum: 1000.4567346572876\n",
      "===== EPOCH ======:  315\n"
     ]
    },
    {
     "name": "stderr",
     "output_type": "stream",
     "text": [
      "100%|██████████| 1256/1256 [00:05<00:00, 210.00it/s]\n",
      "  0%|          | 0/1256 [00:00<?, ?it/s]"
     ]
    },
    {
     "name": "stdout",
     "output_type": "stream",
     "text": [
      "accuracy: 0.5158982511923689\n",
      "cost_sum: 1000.456735253334\n",
      "===== EPOCH ======:  316\n"
     ]
    },
    {
     "name": "stderr",
     "output_type": "stream",
     "text": [
      "100%|██████████| 1256/1256 [00:06<00:00, 203.30it/s]\n",
      "  0%|          | 0/1256 [00:00<?, ?it/s]"
     ]
    },
    {
     "name": "stdout",
     "output_type": "stream",
     "text": [
      "accuracy: 0.5158982511923689\n",
      "cost_sum: 1000.9567348957062\n",
      "===== EPOCH ======:  317\n"
     ]
    },
    {
     "name": "stderr",
     "output_type": "stream",
     "text": [
      "100%|██████████| 1256/1256 [00:06<00:00, 192.54it/s]\n"
     ]
    },
    {
     "name": "stdout",
     "output_type": "stream",
     "text": [
      "accuracy: 0.5158982511923689\n",
      "cost_sum: 999.9567358493805\n",
      "===== EPOCH ======:  318\n"
     ]
    },
    {
     "name": "stderr",
     "output_type": "stream",
     "text": [
      "100%|██████████| 1256/1256 [00:05<00:00, 211.45it/s]\n"
     ]
    },
    {
     "name": "stdout",
     "output_type": "stream",
     "text": [
      "accuracy: 0.5166931637519873\n",
      "cost_sum: 999.9567343592644\n",
      "===== EPOCH ======:  319\n"
     ]
    },
    {
     "name": "stderr",
     "output_type": "stream",
     "text": [
      "100%|██████████| 1256/1256 [00:05<00:00, 247.70it/s]\n",
      "  0%|          | 0/1256 [00:00<?, ?it/s]"
     ]
    },
    {
     "name": "stdout",
     "output_type": "stream",
     "text": [
      "accuracy: 0.5158982511923689\n",
      "cost_sum: 1000.9567340016365\n",
      "===== EPOCH ======:  320\n"
     ]
    },
    {
     "name": "stderr",
     "output_type": "stream",
     "text": [
      "100%|██████████| 1256/1256 [00:05<00:00, 234.94it/s]\n",
      "  0%|          | 0/1256 [00:00<?, ?it/s]"
     ]
    },
    {
     "name": "stdout",
     "output_type": "stream",
     "text": [
      "accuracy: 0.5158982511923689\n",
      "cost_sum: 999.9567337036133\n",
      "===== EPOCH ======:  321\n"
     ]
    },
    {
     "name": "stderr",
     "output_type": "stream",
     "text": [
      "100%|██████████| 1256/1256 [00:05<00:00, 223.16it/s]\n",
      "  0%|          | 0/1256 [00:00<?, ?it/s]"
     ]
    },
    {
     "name": "stdout",
     "output_type": "stream",
     "text": [
      "accuracy: 0.5166931637519873\n",
      "cost_sum: 999.9567346572876\n",
      "===== EPOCH ======:  322\n"
     ]
    },
    {
     "name": "stderr",
     "output_type": "stream",
     "text": [
      "100%|██████████| 1256/1256 [00:05<00:00, 179.86it/s]\n",
      "  0%|          | 0/1256 [00:00<?, ?it/s]"
     ]
    },
    {
     "name": "stdout",
     "output_type": "stream",
     "text": [
      "accuracy: 0.5158982511923689\n",
      "cost_sum: 999.9567353129387\n",
      "===== EPOCH ======:  323\n"
     ]
    },
    {
     "name": "stderr",
     "output_type": "stream",
     "text": [
      "100%|██████████| 1256/1256 [00:05<00:00, 225.12it/s]\n",
      "  0%|          | 0/1256 [00:00<?, ?it/s]"
     ]
    },
    {
     "name": "stdout",
     "output_type": "stream",
     "text": [
      "accuracy: 0.5166931637519873\n",
      "cost_sum: 999.9567354917526\n",
      "===== EPOCH ======:  324\n"
     ]
    },
    {
     "name": "stderr",
     "output_type": "stream",
     "text": [
      "100%|██████████| 1256/1256 [00:05<00:00, 224.33it/s]\n"
     ]
    },
    {
     "name": "stdout",
     "output_type": "stream",
     "text": [
      "accuracy: 0.5151033386327504\n",
      "cost_sum: 1001.4567353129387\n",
      "===== EPOCH ======:  325\n"
     ]
    },
    {
     "name": "stderr",
     "output_type": "stream",
     "text": [
      "100%|██████████| 1256/1256 [00:06<00:00, 200.77it/s]\n",
      "  1%|▏         | 16/1256 [00:00<00:07, 157.55it/s]"
     ]
    },
    {
     "name": "stdout",
     "output_type": "stream",
     "text": [
      "accuracy: 0.5151033386327504\n",
      "cost_sum: 1001.4567343592644\n",
      "===== EPOCH ======:  326\n"
     ]
    },
    {
     "name": "stderr",
     "output_type": "stream",
     "text": [
      "100%|██████████| 1256/1256 [00:05<00:00, 219.85it/s]\n",
      "  0%|          | 0/1256 [00:00<?, ?it/s]"
     ]
    },
    {
     "name": "stdout",
     "output_type": "stream",
     "text": [
      "accuracy: 0.5151033386327504\n",
      "cost_sum: 1001.4567347764969\n",
      "===== EPOCH ======:  327\n"
     ]
    },
    {
     "name": "stderr",
     "output_type": "stream",
     "text": [
      "100%|██████████| 1256/1256 [00:05<00:00, 221.22it/s]\n",
      "  0%|          | 0/1256 [00:00<?, ?it/s]"
     ]
    },
    {
     "name": "stdout",
     "output_type": "stream",
     "text": [
      "accuracy: 0.5151033386327504\n",
      "cost_sum: 1000.9567346572876\n",
      "===== EPOCH ======:  328\n"
     ]
    },
    {
     "name": "stderr",
     "output_type": "stream",
     "text": [
      "100%|██████████| 1256/1256 [00:05<00:00, 214.78it/s]\n",
      "  0%|          | 0/1256 [00:00<?, ?it/s]"
     ]
    },
    {
     "name": "stdout",
     "output_type": "stream",
     "text": [
      "accuracy: 0.5166931637519873\n",
      "cost_sum: 999.956734597683\n",
      "===== EPOCH ======:  329\n"
     ]
    },
    {
     "name": "stderr",
     "output_type": "stream",
     "text": [
      "100%|██████████| 1256/1256 [00:05<00:00, 225.59it/s]\n",
      "  0%|          | 0/1256 [00:00<?, ?it/s]"
     ]
    },
    {
     "name": "stdout",
     "output_type": "stream",
     "text": [
      "accuracy: 0.5166931637519873\n",
      "cost_sum: 999.4567343592644\n",
      "===== EPOCH ======:  330\n"
     ]
    },
    {
     "name": "stderr",
     "output_type": "stream",
     "text": [
      "100%|██████████| 1256/1256 [00:05<00:00, 215.24it/s]\n",
      "  0%|          | 0/1256 [00:00<?, ?it/s]"
     ]
    },
    {
     "name": "stdout",
     "output_type": "stream",
     "text": [
      "accuracy: 0.5158982511923689\n",
      "cost_sum: 999.9567345380783\n",
      "===== EPOCH ======:  331\n"
     ]
    },
    {
     "name": "stderr",
     "output_type": "stream",
     "text": [
      "100%|██████████| 1256/1256 [00:05<00:00, 220.41it/s]\n",
      "  0%|          | 0/1256 [00:00<?, ?it/s]"
     ]
    },
    {
     "name": "stdout",
     "output_type": "stream",
     "text": [
      "accuracy: 0.5158982511923689\n",
      "cost_sum: 999.9567346572876\n",
      "===== EPOCH ======:  332\n"
     ]
    },
    {
     "name": "stderr",
     "output_type": "stream",
     "text": [
      "100%|██████████| 1256/1256 [00:05<00:00, 233.17it/s]\n",
      "  0%|          | 0/1256 [00:00<?, ?it/s]"
     ]
    },
    {
     "name": "stdout",
     "output_type": "stream",
     "text": [
      "accuracy: 0.5166931637519873\n",
      "cost_sum: 999.9567350149155\n",
      "===== EPOCH ======:  333\n"
     ]
    },
    {
     "name": "stderr",
     "output_type": "stream",
     "text": [
      "100%|██████████| 1256/1256 [00:05<00:00, 235.18it/s]\n"
     ]
    },
    {
     "name": "stdout",
     "output_type": "stream",
     "text": [
      "accuracy: 0.5151033386327504\n",
      "cost_sum: 1001.4567344784737\n",
      "===== EPOCH ======:  334\n"
     ]
    },
    {
     "name": "stderr",
     "output_type": "stream",
     "text": [
      "100%|██████████| 1256/1256 [00:05<00:00, 235.90it/s]\n"
     ]
    },
    {
     "name": "stdout",
     "output_type": "stream",
     "text": [
      "accuracy: 0.5158982511923689\n",
      "cost_sum: 1000.4567347764969\n",
      "===== EPOCH ======:  335\n"
     ]
    },
    {
     "name": "stderr",
     "output_type": "stream",
     "text": [
      "100%|██████████| 1256/1256 [00:05<00:00, 232.15it/s]\n",
      "  0%|          | 0/1256 [00:00<?, ?it/s]"
     ]
    },
    {
     "name": "stdout",
     "output_type": "stream",
     "text": [
      "accuracy: 0.5166931637519873\n",
      "cost_sum: 999.956735253334\n",
      "===== EPOCH ======:  336\n"
     ]
    },
    {
     "name": "stderr",
     "output_type": "stream",
     "text": [
      "100%|██████████| 1256/1256 [00:05<00:00, 232.52it/s]\n"
     ]
    },
    {
     "name": "stdout",
     "output_type": "stream",
     "text": [
      "accuracy: 0.5158982511923689\n",
      "cost_sum: 999.9567345380783\n",
      "===== EPOCH ======:  337\n"
     ]
    },
    {
     "name": "stderr",
     "output_type": "stream",
     "text": [
      "100%|██████████| 1256/1256 [00:05<00:00, 250.72it/s]\n",
      "  0%|          | 0/1256 [00:00<?, ?it/s]"
     ]
    },
    {
     "name": "stdout",
     "output_type": "stream",
     "text": [
      "accuracy: 0.5166931637519873\n",
      "cost_sum: 999.9567344784737\n",
      "===== EPOCH ======:  338\n"
     ]
    },
    {
     "name": "stderr",
     "output_type": "stream",
     "text": [
      "100%|██████████| 1256/1256 [00:05<00:00, 233.62it/s]\n",
      "  0%|          | 0/1256 [00:00<?, ?it/s]"
     ]
    },
    {
     "name": "stdout",
     "output_type": "stream",
     "text": [
      "accuracy: 0.5166931637519873\n",
      "cost_sum: 999.9567338824272\n",
      "===== EPOCH ======:  339\n"
     ]
    },
    {
     "name": "stderr",
     "output_type": "stream",
     "text": [
      "100%|██████████| 1256/1256 [00:05<00:00, 225.39it/s]\n",
      "  0%|          | 0/1256 [00:00<?, ?it/s]"
     ]
    },
    {
     "name": "stdout",
     "output_type": "stream",
     "text": [
      "accuracy: 0.5166931637519873\n",
      "cost_sum: 999.9567347168922\n",
      "===== EPOCH ======:  340\n"
     ]
    },
    {
     "name": "stderr",
     "output_type": "stream",
     "text": [
      "100%|██████████| 1256/1256 [00:05<00:00, 217.00it/s]\n",
      "  0%|          | 0/1256 [00:00<?, ?it/s]"
     ]
    },
    {
     "name": "stdout",
     "output_type": "stream",
     "text": [
      "accuracy: 0.5158982511923689\n",
      "cost_sum: 999.9567353725433\n",
      "===== EPOCH ======:  341\n"
     ]
    },
    {
     "name": "stderr",
     "output_type": "stream",
     "text": [
      "100%|██████████| 1256/1256 [00:05<00:00, 231.88it/s]\n",
      "  0%|          | 0/1256 [00:00<?, ?it/s]"
     ]
    },
    {
     "name": "stdout",
     "output_type": "stream",
     "text": [
      "accuracy: 0.5151033386327504\n",
      "cost_sum: 1000.9567344784737\n",
      "===== EPOCH ======:  342\n"
     ]
    },
    {
     "name": "stderr",
     "output_type": "stream",
     "text": [
      "100%|██████████| 1256/1256 [00:05<00:00, 225.06it/s]\n",
      "  1%|▏         | 18/1256 [00:00<00:07, 175.30it/s]"
     ]
    },
    {
     "name": "stdout",
     "output_type": "stream",
     "text": [
      "accuracy: 0.5151033386327504\n",
      "cost_sum: 1001.4567350745201\n",
      "===== EPOCH ======:  343\n"
     ]
    },
    {
     "name": "stderr",
     "output_type": "stream",
     "text": [
      "100%|██████████| 1256/1256 [00:06<00:00, 204.98it/s]\n",
      "  0%|          | 0/1256 [00:00<?, ?it/s]"
     ]
    },
    {
     "name": "stdout",
     "output_type": "stream",
     "text": [
      "accuracy: 0.5158982511923689\n",
      "cost_sum: 1000.956735253334\n",
      "===== EPOCH ======:  344\n"
     ]
    },
    {
     "name": "stderr",
     "output_type": "stream",
     "text": [
      "100%|██████████| 1256/1256 [00:06<00:00, 205.69it/s]\n",
      "  0%|          | 0/1256 [00:00<?, ?it/s]"
     ]
    },
    {
     "name": "stdout",
     "output_type": "stream",
     "text": [
      "accuracy: 0.5151033386327504\n",
      "cost_sum: 1000.9567355513573\n",
      "===== EPOCH ======:  345\n"
     ]
    },
    {
     "name": "stderr",
     "output_type": "stream",
     "text": [
      "100%|██████████| 1256/1256 [00:05<00:00, 225.17it/s]\n",
      "  0%|          | 0/1256 [00:00<?, ?it/s]"
     ]
    },
    {
     "name": "stdout",
     "output_type": "stream",
     "text": [
      "accuracy: 0.5151033386327504\n",
      "cost_sum: 1001.4567349553108\n",
      "===== EPOCH ======:  346\n"
     ]
    },
    {
     "name": "stderr",
     "output_type": "stream",
     "text": [
      "100%|██████████| 1256/1256 [00:05<00:00, 242.84it/s]\n",
      "  0%|          | 0/1256 [00:00<?, ?it/s]"
     ]
    },
    {
     "name": "stdout",
     "output_type": "stream",
     "text": [
      "accuracy: 0.5166931637519873\n",
      "cost_sum: 999.4567353129387\n",
      "===== EPOCH ======:  347\n"
     ]
    },
    {
     "name": "stderr",
     "output_type": "stream",
     "text": [
      "100%|██████████| 1256/1256 [00:05<00:00, 232.24it/s]\n",
      "  0%|          | 0/1256 [00:00<?, ?it/s]"
     ]
    },
    {
     "name": "stdout",
     "output_type": "stream",
     "text": [
      "accuracy: 0.5158982511923689\n",
      "cost_sum: 1000.4567343592644\n",
      "===== EPOCH ======:  348\n"
     ]
    },
    {
     "name": "stderr",
     "output_type": "stream",
     "text": [
      "100%|██████████| 1256/1256 [00:05<00:00, 230.98it/s]\n"
     ]
    },
    {
     "name": "stdout",
     "output_type": "stream",
     "text": [
      "accuracy: 0.5158982511923689\n",
      "cost_sum: 999.9567340612411\n",
      "===== EPOCH ======:  349\n"
     ]
    },
    {
     "name": "stderr",
     "output_type": "stream",
     "text": [
      "100%|██████████| 1256/1256 [00:05<00:00, 246.04it/s]\n",
      "  0%|          | 0/1256 [00:00<?, ?it/s]"
     ]
    },
    {
     "name": "stdout",
     "output_type": "stream",
     "text": [
      "accuracy: 0.5166931637519873\n",
      "cost_sum: 999.4567349553108\n",
      "===== EPOCH ======:  350\n"
     ]
    },
    {
     "name": "stderr",
     "output_type": "stream",
     "text": [
      "100%|██████████| 1256/1256 [00:05<00:00, 241.72it/s]\n"
     ]
    },
    {
     "name": "stdout",
     "output_type": "stream",
     "text": [
      "accuracy: 0.5158982511923689\n",
      "cost_sum: 1000.9567361474037\n",
      "===== EPOCH ======:  351\n"
     ]
    },
    {
     "name": "stderr",
     "output_type": "stream",
     "text": [
      "100%|██████████| 1256/1256 [00:05<00:00, 227.57it/s]\n",
      "  0%|          | 0/1256 [00:00<?, ?it/s]"
     ]
    },
    {
     "name": "stdout",
     "output_type": "stream",
     "text": [
      "accuracy: 0.5166931637519873\n",
      "cost_sum: 999.9567348361015\n",
      "===== EPOCH ======:  352\n"
     ]
    },
    {
     "name": "stderr",
     "output_type": "stream",
     "text": [
      "100%|██████████| 1256/1256 [00:05<00:00, 233.09it/s]\n",
      "  0%|          | 0/1256 [00:00<?, ?it/s]"
     ]
    },
    {
     "name": "stdout",
     "output_type": "stream",
     "text": [
      "accuracy: 0.5158982511923689\n",
      "cost_sum: 1000.456735253334\n",
      "===== EPOCH ======:  353\n"
     ]
    },
    {
     "name": "stderr",
     "output_type": "stream",
     "text": [
      "100%|██████████| 1256/1256 [00:05<00:00, 218.48it/s]\n",
      "  0%|          | 0/1256 [00:00<?, ?it/s]"
     ]
    },
    {
     "name": "stdout",
     "output_type": "stream",
     "text": [
      "accuracy: 0.5158982511923689\n",
      "cost_sum: 1000.9567348957062\n",
      "===== EPOCH ======:  354\n"
     ]
    },
    {
     "name": "stderr",
     "output_type": "stream",
     "text": [
      "100%|██████████| 1256/1256 [00:06<00:00, 208.50it/s]\n"
     ]
    },
    {
     "name": "stdout",
     "output_type": "stream",
     "text": [
      "accuracy: 0.5151033386327504\n",
      "cost_sum: 1000.9567353129387\n",
      "===== EPOCH ======:  355\n"
     ]
    },
    {
     "name": "stderr",
     "output_type": "stream",
     "text": [
      "100%|██████████| 1256/1256 [00:05<00:00, 216.04it/s]\n"
     ]
    },
    {
     "name": "stdout",
     "output_type": "stream",
     "text": [
      "accuracy: 0.5166931637519873\n",
      "cost_sum: 999.4567347764969\n",
      "===== EPOCH ======:  356\n"
     ]
    },
    {
     "name": "stderr",
     "output_type": "stream",
     "text": [
      "100%|██████████| 1256/1256 [00:05<00:00, 213.66it/s]\n",
      "  2%|▏         | 22/1256 [00:00<00:05, 215.69it/s]"
     ]
    },
    {
     "name": "stdout",
     "output_type": "stream",
     "text": [
      "accuracy: 0.5158982511923689\n",
      "cost_sum: 1000.4567355513573\n",
      "===== EPOCH ======:  357\n"
     ]
    },
    {
     "name": "stderr",
     "output_type": "stream",
     "text": [
      "100%|██████████| 1256/1256 [00:05<00:00, 214.91it/s]\n",
      "  0%|          | 0/1256 [00:00<?, ?it/s]"
     ]
    },
    {
     "name": "stdout",
     "output_type": "stream",
     "text": [
      "accuracy: 0.5158982511923689\n",
      "cost_sum: 999.956734597683\n",
      "===== EPOCH ======:  358\n"
     ]
    },
    {
     "name": "stderr",
     "output_type": "stream",
     "text": [
      "100%|██████████| 1256/1256 [00:05<00:00, 263.91it/s]\n",
      "  0%|          | 0/1256 [00:00<?, ?it/s]"
     ]
    },
    {
     "name": "stdout",
     "output_type": "stream",
     "text": [
      "accuracy: 0.5158982511923689\n",
      "cost_sum: 1000.9567348361015\n",
      "===== EPOCH ======:  359\n"
     ]
    },
    {
     "name": "stderr",
     "output_type": "stream",
     "text": [
      "100%|██████████| 1256/1256 [00:05<00:00, 228.76it/s]\n",
      "  0%|          | 0/1256 [00:00<?, ?it/s]"
     ]
    },
    {
     "name": "stdout",
     "output_type": "stream",
     "text": [
      "accuracy: 0.5166931637519873\n",
      "cost_sum: 999.9567347168922\n",
      "===== EPOCH ======:  360\n"
     ]
    },
    {
     "name": "stderr",
     "output_type": "stream",
     "text": [
      "100%|██████████| 1256/1256 [00:05<00:00, 218.88it/s]\n"
     ]
    },
    {
     "name": "stdout",
     "output_type": "stream",
     "text": [
      "accuracy: 0.5158982511923689\n",
      "cost_sum: 1000.4567332863808\n",
      "===== EPOCH ======:  361\n"
     ]
    },
    {
     "name": "stderr",
     "output_type": "stream",
     "text": [
      "100%|██████████| 1256/1256 [00:05<00:00, 243.97it/s]\n",
      "  0%|          | 0/1256 [00:00<?, ?it/s]"
     ]
    },
    {
     "name": "stdout",
     "output_type": "stream",
     "text": [
      "accuracy: 0.5151033386327504\n",
      "cost_sum: 1000.9567350745201\n",
      "===== EPOCH ======:  362\n"
     ]
    },
    {
     "name": "stderr",
     "output_type": "stream",
     "text": [
      "100%|██████████| 1256/1256 [00:05<00:00, 234.52it/s]\n",
      "  0%|          | 0/1256 [00:00<?, ?it/s]"
     ]
    },
    {
     "name": "stdout",
     "output_type": "stream",
     "text": [
      "accuracy: 0.5166931637519873\n",
      "cost_sum: 999.4567340016365\n",
      "===== EPOCH ======:  363\n"
     ]
    },
    {
     "name": "stderr",
     "output_type": "stream",
     "text": [
      "100%|██████████| 1256/1256 [00:05<00:00, 236.19it/s]\n",
      "  0%|          | 0/1256 [00:00<?, ?it/s]"
     ]
    },
    {
     "name": "stdout",
     "output_type": "stream",
     "text": [
      "accuracy: 0.5166931637519873\n",
      "cost_sum: 999.4567345380783\n",
      "===== EPOCH ======:  364\n"
     ]
    },
    {
     "name": "stderr",
     "output_type": "stream",
     "text": [
      "100%|██████████| 1256/1256 [00:05<00:00, 237.60it/s]\n"
     ]
    },
    {
     "name": "stdout",
     "output_type": "stream",
     "text": [
      "accuracy: 0.5166931637519873\n",
      "cost_sum: 999.456735432148\n",
      "===== EPOCH ======:  365\n"
     ]
    },
    {
     "name": "stderr",
     "output_type": "stream",
     "text": [
      "100%|██████████| 1256/1256 [00:05<00:00, 239.42it/s]\n",
      "  0%|          | 0/1256 [00:00<?, ?it/s]"
     ]
    },
    {
     "name": "stdout",
     "output_type": "stream",
     "text": [
      "accuracy: 0.5158982511923689\n",
      "cost_sum: 1000.4567357301712\n",
      "===== EPOCH ======:  366\n"
     ]
    },
    {
     "name": "stderr",
     "output_type": "stream",
     "text": [
      "100%|██████████| 1256/1256 [00:05<00:00, 236.18it/s]\n",
      "  2%|▏         | 28/1256 [00:00<00:04, 274.64it/s]"
     ]
    },
    {
     "name": "stdout",
     "output_type": "stream",
     "text": [
      "accuracy: 0.5158982511923689\n",
      "cost_sum: 1000.9567347764969\n",
      "===== EPOCH ======:  367\n"
     ]
    },
    {
     "name": "stderr",
     "output_type": "stream",
     "text": [
      "100%|██████████| 1256/1256 [00:05<00:00, 225.46it/s]\n"
     ]
    },
    {
     "name": "stdout",
     "output_type": "stream",
     "text": [
      "accuracy: 0.5151033386327504\n",
      "cost_sum: 1000.9567341804504\n",
      "===== EPOCH ======:  368\n"
     ]
    },
    {
     "name": "stderr",
     "output_type": "stream",
     "text": [
      "100%|██████████| 1256/1256 [00:05<00:00, 244.49it/s]\n",
      "  0%|          | 0/1256 [00:00<?, ?it/s]"
     ]
    },
    {
     "name": "stdout",
     "output_type": "stream",
     "text": [
      "accuracy: 0.5158982511923689\n",
      "cost_sum: 1000.4567357301712\n",
      "===== EPOCH ======:  369\n"
     ]
    },
    {
     "name": "stderr",
     "output_type": "stream",
     "text": [
      "100%|██████████| 1256/1256 [00:05<00:00, 221.99it/s]\n",
      "  1%|▏         | 16/1256 [00:00<00:07, 159.73it/s]"
     ]
    },
    {
     "name": "stdout",
     "output_type": "stream",
     "text": [
      "accuracy: 0.5151033386327504\n",
      "cost_sum: 1000.9567342996597\n",
      "===== EPOCH ======:  370\n"
     ]
    },
    {
     "name": "stderr",
     "output_type": "stream",
     "text": [
      "100%|██████████| 1256/1256 [00:06<00:00, 197.58it/s]\n",
      "  0%|          | 0/1256 [00:00<?, ?it/s]"
     ]
    },
    {
     "name": "stdout",
     "output_type": "stream",
     "text": [
      "accuracy: 0.5158982511923689\n",
      "cost_sum: 1000.9567348957062\n",
      "===== EPOCH ======:  371\n"
     ]
    },
    {
     "name": "stderr",
     "output_type": "stream",
     "text": [
      "100%|██████████| 1256/1256 [00:06<00:00, 208.69it/s]\n"
     ]
    },
    {
     "name": "stdout",
     "output_type": "stream",
     "text": [
      "accuracy: 0.5158982511923689\n",
      "cost_sum: 1000.4567347168922\n",
      "===== EPOCH ======:  372\n"
     ]
    },
    {
     "name": "stderr",
     "output_type": "stream",
     "text": [
      "100%|██████████| 1256/1256 [00:05<00:00, 235.80it/s]\n",
      "  0%|          | 0/1256 [00:00<?, ?it/s]"
     ]
    },
    {
     "name": "stdout",
     "output_type": "stream",
     "text": [
      "accuracy: 0.5166931637519873\n",
      "cost_sum: 999.9567337632179\n",
      "===== EPOCH ======:  373\n"
     ]
    },
    {
     "name": "stderr",
     "output_type": "stream",
     "text": [
      "100%|██████████| 1256/1256 [00:05<00:00, 231.03it/s]\n",
      "  0%|          | 0/1256 [00:00<?, ?it/s]"
     ]
    },
    {
     "name": "stdout",
     "output_type": "stream",
     "text": [
      "accuracy: 0.5158982511923689\n",
      "cost_sum: 1000.9567344784737\n",
      "===== EPOCH ======:  374\n"
     ]
    },
    {
     "name": "stderr",
     "output_type": "stream",
     "text": [
      "100%|██████████| 1256/1256 [00:05<00:00, 238.47it/s]\n"
     ]
    },
    {
     "name": "stdout",
     "output_type": "stream",
     "text": [
      "accuracy: 0.5158982511923689\n",
      "cost_sum: 1000.9567357897758\n",
      "===== EPOCH ======:  375\n"
     ]
    },
    {
     "name": "stderr",
     "output_type": "stream",
     "text": [
      "100%|██████████| 1256/1256 [00:05<00:00, 238.93it/s]\n"
     ]
    },
    {
     "name": "stdout",
     "output_type": "stream",
     "text": [
      "accuracy: 0.5158982511923689\n",
      "cost_sum: 1000.4567342400551\n",
      "===== EPOCH ======:  376\n"
     ]
    },
    {
     "name": "stderr",
     "output_type": "stream",
     "text": [
      "100%|██████████| 1256/1256 [00:05<00:00, 233.96it/s]\n"
     ]
    },
    {
     "name": "stdout",
     "output_type": "stream",
     "text": [
      "accuracy: 0.5158982511923689\n",
      "cost_sum: 1000.4567353725433\n",
      "===== EPOCH ======:  377\n"
     ]
    },
    {
     "name": "stderr",
     "output_type": "stream",
     "text": [
      "100%|██████████| 1256/1256 [00:05<00:00, 238.09it/s]\n"
     ]
    },
    {
     "name": "stdout",
     "output_type": "stream",
     "text": [
      "accuracy: 0.5158982511923689\n",
      "cost_sum: 1000.4567343592644\n",
      "===== EPOCH ======:  378\n"
     ]
    },
    {
     "name": "stderr",
     "output_type": "stream",
     "text": [
      "100%|██████████| 1256/1256 [00:05<00:00, 217.17it/s]\n",
      "  0%|          | 0/1256 [00:00<?, ?it/s]"
     ]
    },
    {
     "name": "stdout",
     "output_type": "stream",
     "text": [
      "accuracy: 0.5166931637519873\n",
      "cost_sum: 999.9567339420319\n",
      "===== EPOCH ======:  379\n"
     ]
    },
    {
     "name": "stderr",
     "output_type": "stream",
     "text": [
      "100%|██████████| 1256/1256 [00:05<00:00, 231.61it/s]\n",
      "  3%|▎         | 32/1256 [00:00<00:03, 316.95it/s]"
     ]
    },
    {
     "name": "stdout",
     "output_type": "stream",
     "text": [
      "accuracy: 0.5158982511923689\n",
      "cost_sum: 1000.4567346572876\n",
      "===== EPOCH ======:  380\n"
     ]
    },
    {
     "name": "stderr",
     "output_type": "stream",
     "text": [
      "100%|██████████| 1256/1256 [00:06<00:00, 205.48it/s]\n",
      "  0%|          | 0/1256 [00:00<?, ?it/s]"
     ]
    },
    {
     "name": "stdout",
     "output_type": "stream",
     "text": [
      "accuracy: 0.5158982511923689\n",
      "cost_sum: 1000.4567338824272\n",
      "===== EPOCH ======:  381\n"
     ]
    },
    {
     "name": "stderr",
     "output_type": "stream",
     "text": [
      "100%|██████████| 1256/1256 [00:05<00:00, 235.86it/s]\n",
      "  0%|          | 0/1256 [00:00<?, ?it/s]"
     ]
    },
    {
     "name": "stdout",
     "output_type": "stream",
     "text": [
      "accuracy: 0.5166931637519873\n",
      "cost_sum: 999.9567351341248\n",
      "===== EPOCH ======:  382\n"
     ]
    },
    {
     "name": "stderr",
     "output_type": "stream",
     "text": [
      "100%|██████████| 1256/1256 [00:05<00:00, 229.36it/s]\n",
      "  2%|▏         | 31/1256 [00:00<00:04, 304.29it/s]"
     ]
    },
    {
     "name": "stdout",
     "output_type": "stream",
     "text": [
      "accuracy: 0.5158982511923689\n",
      "cost_sum: 1000.456735253334\n",
      "===== EPOCH ======:  383\n"
     ]
    },
    {
     "name": "stderr",
     "output_type": "stream",
     "text": [
      "100%|██████████| 1256/1256 [00:05<00:00, 218.61it/s]\n"
     ]
    },
    {
     "name": "stdout",
     "output_type": "stream",
     "text": [
      "accuracy: 0.5158982511923689\n",
      "cost_sum: 999.9567345380783\n",
      "===== EPOCH ======:  384\n"
     ]
    },
    {
     "name": "stderr",
     "output_type": "stream",
     "text": [
      "100%|██████████| 1256/1256 [00:05<00:00, 236.83it/s]\n"
     ]
    },
    {
     "name": "stdout",
     "output_type": "stream",
     "text": [
      "accuracy: 0.5151033386327504\n",
      "cost_sum: 1001.4567349553108\n",
      "===== EPOCH ======:  385\n"
     ]
    },
    {
     "name": "stderr",
     "output_type": "stream",
     "text": [
      "100%|██████████| 1256/1256 [00:05<00:00, 240.35it/s]\n",
      "  0%|          | 0/1256 [00:00<?, ?it/s]"
     ]
    },
    {
     "name": "stdout",
     "output_type": "stream",
     "text": [
      "accuracy: 0.5166931637519873\n",
      "cost_sum: 999.456735253334\n",
      "===== EPOCH ======:  386\n"
     ]
    },
    {
     "name": "stderr",
     "output_type": "stream",
     "text": [
      "100%|██████████| 1256/1256 [00:05<00:00, 244.71it/s]\n",
      "  0%|          | 0/1256 [00:00<?, ?it/s]"
     ]
    },
    {
     "name": "stdout",
     "output_type": "stream",
     "text": [
      "accuracy: 0.5166931637519873\n",
      "cost_sum: 999.4567351937294\n",
      "===== EPOCH ======:  387\n"
     ]
    },
    {
     "name": "stderr",
     "output_type": "stream",
     "text": [
      "100%|██████████| 1256/1256 [00:05<00:00, 226.52it/s]\n",
      "  0%|          | 0/1256 [00:00<?, ?it/s]"
     ]
    },
    {
     "name": "stdout",
     "output_type": "stream",
     "text": [
      "accuracy: 0.5158982511923689\n",
      "cost_sum: 1000.4567338824272\n",
      "===== EPOCH ======:  388\n"
     ]
    },
    {
     "name": "stderr",
     "output_type": "stream",
     "text": [
      "100%|██████████| 1256/1256 [00:05<00:00, 223.96it/s]\n"
     ]
    },
    {
     "name": "stdout",
     "output_type": "stream",
     "text": [
      "accuracy: 0.5151033386327504\n",
      "cost_sum: 1000.9567353129387\n",
      "===== EPOCH ======:  389\n"
     ]
    },
    {
     "name": "stderr",
     "output_type": "stream",
     "text": [
      "100%|██████████| 1256/1256 [00:05<00:00, 213.84it/s]\n"
     ]
    },
    {
     "name": "stdout",
     "output_type": "stream",
     "text": [
      "accuracy: 0.5166931637519873\n",
      "cost_sum: 999.9567341208458\n",
      "===== EPOCH ======:  390\n"
     ]
    },
    {
     "name": "stderr",
     "output_type": "stream",
     "text": [
      "100%|██████████| 1256/1256 [00:05<00:00, 224.90it/s]\n",
      "  0%|          | 0/1256 [00:00<?, ?it/s]"
     ]
    },
    {
     "name": "stdout",
     "output_type": "stream",
     "text": [
      "accuracy: 0.5158982511923689\n",
      "cost_sum: 1000.456735432148\n",
      "===== EPOCH ======:  391\n"
     ]
    },
    {
     "name": "stderr",
     "output_type": "stream",
     "text": [
      "100%|██████████| 1256/1256 [00:05<00:00, 231.81it/s]\n"
     ]
    },
    {
     "name": "stdout",
     "output_type": "stream",
     "text": [
      "accuracy: 0.5158982511923689\n",
      "cost_sum: 999.9567343592644\n",
      "===== EPOCH ======:  392\n"
     ]
    },
    {
     "name": "stderr",
     "output_type": "stream",
     "text": [
      "100%|██████████| 1256/1256 [00:05<00:00, 218.76it/s]\n",
      "  0%|          | 0/1256 [00:00<?, ?it/s]"
     ]
    },
    {
     "name": "stdout",
     "output_type": "stream",
     "text": [
      "accuracy: 0.5158982511923689\n",
      "cost_sum: 1000.4567343592644\n",
      "===== EPOCH ======:  393\n"
     ]
    },
    {
     "name": "stderr",
     "output_type": "stream",
     "text": [
      "100%|██████████| 1256/1256 [00:05<00:00, 226.30it/s]\n",
      "  0%|          | 0/1256 [00:00<?, ?it/s]"
     ]
    },
    {
     "name": "stdout",
     "output_type": "stream",
     "text": [
      "accuracy: 0.5158982511923689\n",
      "cost_sum: 1000.4567353725433\n",
      "===== EPOCH ======:  394\n"
     ]
    },
    {
     "name": "stderr",
     "output_type": "stream",
     "text": [
      "100%|██████████| 1256/1256 [00:05<00:00, 226.19it/s]\n",
      "  0%|          | 0/1256 [00:00<?, ?it/s]"
     ]
    },
    {
     "name": "stdout",
     "output_type": "stream",
     "text": [
      "accuracy: 0.5151033386327504\n",
      "cost_sum: 1001.4567350745201\n",
      "===== EPOCH ======:  395\n"
     ]
    },
    {
     "name": "stderr",
     "output_type": "stream",
     "text": [
      "100%|██████████| 1256/1256 [00:05<00:00, 225.45it/s]\n"
     ]
    },
    {
     "name": "stdout",
     "output_type": "stream",
     "text": [
      "accuracy: 0.5151033386327504\n",
      "cost_sum: 1000.9567343592644\n",
      "===== EPOCH ======:  396\n"
     ]
    },
    {
     "name": "stderr",
     "output_type": "stream",
     "text": [
      "100%|██████████| 1256/1256 [00:05<00:00, 220.88it/s]\n",
      "  0%|          | 0/1256 [00:00<?, ?it/s]"
     ]
    },
    {
     "name": "stdout",
     "output_type": "stream",
     "text": [
      "accuracy: 0.5158982511923689\n",
      "cost_sum: 1000.4567356705666\n",
      "===== EPOCH ======:  397\n"
     ]
    },
    {
     "name": "stderr",
     "output_type": "stream",
     "text": [
      "100%|██████████| 1256/1256 [00:05<00:00, 241.75it/s]\n"
     ]
    },
    {
     "name": "stdout",
     "output_type": "stream",
     "text": [
      "accuracy: 0.5166931637519873\n",
      "cost_sum: 999.9567347168922\n",
      "===== EPOCH ======:  398\n"
     ]
    },
    {
     "name": "stderr",
     "output_type": "stream",
     "text": [
      "100%|██████████| 1256/1256 [00:05<00:00, 224.86it/s]\n"
     ]
    },
    {
     "name": "stdout",
     "output_type": "stream",
     "text": [
      "accuracy: 0.5158982511923689\n",
      "cost_sum: 999.9567349553108\n",
      "===== EPOCH ======:  399\n"
     ]
    },
    {
     "name": "stderr",
     "output_type": "stream",
     "text": [
      "100%|██████████| 1256/1256 [00:05<00:00, 222.09it/s]\n"
     ]
    },
    {
     "name": "stdout",
     "output_type": "stream",
     "text": [
      "accuracy: 0.5151033386327504\n",
      "cost_sum: 1000.9567344784737\n",
      "===== EPOCH ======:  400\n"
     ]
    },
    {
     "name": "stderr",
     "output_type": "stream",
     "text": [
      "100%|██████████| 1256/1256 [00:05<00:00, 233.92it/s]\n",
      "  2%|▏         | 24/1256 [00:00<00:05, 232.85it/s]"
     ]
    },
    {
     "name": "stdout",
     "output_type": "stream",
     "text": [
      "accuracy: 0.5166931637519873\n",
      "cost_sum: 999.9567338228226\n",
      "===== EPOCH ======:  401\n"
     ]
    },
    {
     "name": "stderr",
     "output_type": "stream",
     "text": [
      "100%|██████████| 1256/1256 [00:05<00:00, 228.43it/s]\n",
      "  0%|          | 0/1256 [00:00<?, ?it/s]"
     ]
    },
    {
     "name": "stdout",
     "output_type": "stream",
     "text": [
      "accuracy: 0.5158982511923689\n",
      "cost_sum: 1000.4567340612411\n",
      "===== EPOCH ======:  402\n"
     ]
    },
    {
     "name": "stderr",
     "output_type": "stream",
     "text": [
      "100%|██████████| 1256/1256 [00:05<00:00, 218.50it/s]\n",
      "  0%|          | 0/1256 [00:00<?, ?it/s]"
     ]
    },
    {
     "name": "stdout",
     "output_type": "stream",
     "text": [
      "accuracy: 0.5158982511923689\n",
      "cost_sum: 1000.4567353725433\n",
      "===== EPOCH ======:  403\n"
     ]
    },
    {
     "name": "stderr",
     "output_type": "stream",
     "text": [
      "100%|██████████| 1256/1256 [00:05<00:00, 215.48it/s]\n"
     ]
    },
    {
     "name": "stdout",
     "output_type": "stream",
     "text": [
      "accuracy: 0.5151033386327504\n",
      "cost_sum: 1001.4567357301712\n",
      "===== EPOCH ======:  404\n"
     ]
    },
    {
     "name": "stderr",
     "output_type": "stream",
     "text": [
      "100%|██████████| 1256/1256 [00:05<00:00, 233.68it/s]\n",
      "  0%|          | 0/1256 [00:00<?, ?it/s]"
     ]
    },
    {
     "name": "stdout",
     "output_type": "stream",
     "text": [
      "accuracy: 0.5166931637519873\n",
      "cost_sum: 999.9567341208458\n",
      "===== EPOCH ======:  405\n"
     ]
    },
    {
     "name": "stderr",
     "output_type": "stream",
     "text": [
      "100%|██████████| 1256/1256 [00:05<00:00, 225.10it/s]\n",
      "  0%|          | 0/1256 [00:00<?, ?it/s]"
     ]
    },
    {
     "name": "stdout",
     "output_type": "stream",
     "text": [
      "accuracy: 0.5158982511923689\n",
      "cost_sum: 1000.9567345380783\n",
      "===== EPOCH ======:  406\n"
     ]
    },
    {
     "name": "stderr",
     "output_type": "stream",
     "text": [
      "100%|██████████| 1256/1256 [00:05<00:00, 238.02it/s]\n",
      "  0%|          | 0/1256 [00:00<?, ?it/s]"
     ]
    },
    {
     "name": "stdout",
     "output_type": "stream",
     "text": [
      "accuracy: 0.5158982511923689\n",
      "cost_sum: 1000.9567339420319\n",
      "===== EPOCH ======:  407\n"
     ]
    },
    {
     "name": "stderr",
     "output_type": "stream",
     "text": [
      "100%|██████████| 1256/1256 [00:05<00:00, 232.30it/s]\n"
     ]
    },
    {
     "name": "stdout",
     "output_type": "stream",
     "text": [
      "accuracy: 0.5166931637519873\n",
      "cost_sum: 999.4567359089851\n",
      "===== EPOCH ======:  408\n"
     ]
    },
    {
     "name": "stderr",
     "output_type": "stream",
     "text": [
      "100%|██████████| 1256/1256 [00:05<00:00, 233.24it/s]\n",
      "  0%|          | 0/1256 [00:00<?, ?it/s]"
     ]
    },
    {
     "name": "stdout",
     "output_type": "stream",
     "text": [
      "accuracy: 0.5166931637519873\n",
      "cost_sum: 999.4567355513573\n",
      "===== EPOCH ======:  409\n"
     ]
    },
    {
     "name": "stderr",
     "output_type": "stream",
     "text": [
      "100%|██████████| 1256/1256 [00:05<00:00, 234.04it/s]\n"
     ]
    },
    {
     "name": "stdout",
     "output_type": "stream",
     "text": [
      "accuracy: 0.5158982511923689\n",
      "cost_sum: 1000.4567340016365\n",
      "===== EPOCH ======:  410\n"
     ]
    },
    {
     "name": "stderr",
     "output_type": "stream",
     "text": [
      "100%|██████████| 1256/1256 [00:05<00:00, 236.36it/s]\n",
      "  2%|▏         | 28/1256 [00:00<00:04, 270.51it/s]"
     ]
    },
    {
     "name": "stdout",
     "output_type": "stream",
     "text": [
      "accuracy: 0.5158982511923689\n",
      "cost_sum: 1000.4567340612411\n",
      "===== EPOCH ======:  411\n"
     ]
    },
    {
     "name": "stderr",
     "output_type": "stream",
     "text": [
      "100%|██████████| 1256/1256 [00:06<00:00, 199.63it/s]\n",
      "  3%|▎         | 32/1256 [00:00<00:03, 312.84it/s]"
     ]
    },
    {
     "name": "stdout",
     "output_type": "stream",
     "text": [
      "accuracy: 0.5166931637519873\n",
      "cost_sum: 999.4567362070084\n",
      "===== EPOCH ======:  412\n"
     ]
    },
    {
     "name": "stderr",
     "output_type": "stream",
     "text": [
      "100%|██████████| 1256/1256 [00:06<00:00, 206.47it/s]\n",
      "  0%|          | 0/1256 [00:00<?, ?it/s]"
     ]
    },
    {
     "name": "stdout",
     "output_type": "stream",
     "text": [
      "accuracy: 0.5158982511923689\n",
      "cost_sum: 1000.4567343592644\n",
      "===== EPOCH ======:  413\n"
     ]
    },
    {
     "name": "stderr",
     "output_type": "stream",
     "text": [
      "100%|██████████| 1256/1256 [00:05<00:00, 230.41it/s]\n",
      "  0%|          | 0/1256 [00:00<?, ?it/s]"
     ]
    },
    {
     "name": "stdout",
     "output_type": "stream",
     "text": [
      "accuracy: 0.5158982511923689\n",
      "cost_sum: 999.9567346572876\n",
      "===== EPOCH ======:  414\n"
     ]
    },
    {
     "name": "stderr",
     "output_type": "stream",
     "text": [
      "100%|██████████| 1256/1256 [00:06<00:00, 207.59it/s]\n",
      "  0%|          | 0/1256 [00:00<?, ?it/s]"
     ]
    },
    {
     "name": "stdout",
     "output_type": "stream",
     "text": [
      "accuracy: 0.5151033386327504\n",
      "cost_sum: 1000.9567347764969\n",
      "===== EPOCH ======:  415\n"
     ]
    },
    {
     "name": "stderr",
     "output_type": "stream",
     "text": [
      "100%|██████████| 1256/1256 [00:05<00:00, 214.50it/s]\n"
     ]
    },
    {
     "name": "stdout",
     "output_type": "stream",
     "text": [
      "accuracy: 0.5158982511923689\n",
      "cost_sum: 1000.9567337036133\n",
      "===== EPOCH ======:  416\n"
     ]
    },
    {
     "name": "stderr",
     "output_type": "stream",
     "text": [
      "100%|██████████| 1256/1256 [00:05<00:00, 220.99it/s]\n"
     ]
    },
    {
     "name": "stdout",
     "output_type": "stream",
     "text": [
      "accuracy: 0.5151033386327504\n",
      "cost_sum: 1000.9567343592644\n",
      "===== EPOCH ======:  417\n"
     ]
    },
    {
     "name": "stderr",
     "output_type": "stream",
     "text": [
      "100%|██████████| 1256/1256 [00:05<00:00, 244.99it/s]\n"
     ]
    },
    {
     "name": "stdout",
     "output_type": "stream",
     "text": [
      "accuracy: 0.5158982511923689\n",
      "cost_sum: 1000.456734597683\n",
      "===== EPOCH ======:  418\n"
     ]
    },
    {
     "name": "stderr",
     "output_type": "stream",
     "text": [
      "100%|██████████| 1256/1256 [00:05<00:00, 233.40it/s]\n",
      "  1%|▏         | 18/1256 [00:00<00:06, 179.45it/s]"
     ]
    },
    {
     "name": "stdout",
     "output_type": "stream",
     "text": [
      "accuracy: 0.5166931637519873\n",
      "cost_sum: 999.9567350149155\n",
      "===== EPOCH ======:  419\n"
     ]
    },
    {
     "name": "stderr",
     "output_type": "stream",
     "text": [
      "100%|██████████| 1256/1256 [00:05<00:00, 222.80it/s]\n"
     ]
    },
    {
     "name": "stdout",
     "output_type": "stream",
     "text": [
      "accuracy: 0.5166931637519873\n",
      "cost_sum: 999.9567353129387\n",
      "===== EPOCH ======:  420\n"
     ]
    },
    {
     "name": "stderr",
     "output_type": "stream",
     "text": [
      "100%|██████████| 1256/1256 [00:05<00:00, 219.90it/s]\n"
     ]
    },
    {
     "name": "stdout",
     "output_type": "stream",
     "text": [
      "accuracy: 0.5158982511923689\n",
      "cost_sum: 999.9567334055901\n",
      "===== EPOCH ======:  421\n"
     ]
    },
    {
     "name": "stderr",
     "output_type": "stream",
     "text": [
      "100%|██████████| 1256/1256 [00:05<00:00, 225.90it/s]\n",
      "  0%|          | 0/1256 [00:00<?, ?it/s]"
     ]
    },
    {
     "name": "stdout",
     "output_type": "stream",
     "text": [
      "accuracy: 0.5158982511923689\n",
      "cost_sum: 999.9567340612411\n",
      "===== EPOCH ======:  422\n"
     ]
    },
    {
     "name": "stderr",
     "output_type": "stream",
     "text": [
      "100%|██████████| 1256/1256 [00:05<00:00, 226.93it/s]\n",
      "  2%|▏         | 19/1256 [00:00<00:06, 186.48it/s]"
     ]
    },
    {
     "name": "stdout",
     "output_type": "stream",
     "text": [
      "accuracy: 0.5158982511923689\n",
      "cost_sum: 1000.4567350149155\n",
      "===== EPOCH ======:  423\n"
     ]
    },
    {
     "name": "stderr",
     "output_type": "stream",
     "text": [
      "100%|██████████| 1256/1256 [00:05<00:00, 248.99it/s]\n",
      "  0%|          | 0/1256 [00:00<?, ?it/s]"
     ]
    },
    {
     "name": "stdout",
     "output_type": "stream",
     "text": [
      "accuracy: 0.5151033386327504\n",
      "cost_sum: 1001.4567356109619\n",
      "===== EPOCH ======:  424\n"
     ]
    },
    {
     "name": "stderr",
     "output_type": "stream",
     "text": [
      "100%|██████████| 1256/1256 [00:04<00:00, 255.09it/s]\n",
      "  0%|          | 0/1256 [00:00<?, ?it/s]"
     ]
    },
    {
     "name": "stdout",
     "output_type": "stream",
     "text": [
      "accuracy: 0.5151033386327504\n",
      "cost_sum: 1000.9567343592644\n",
      "===== EPOCH ======:  425\n"
     ]
    },
    {
     "name": "stderr",
     "output_type": "stream",
     "text": [
      "100%|██████████| 1256/1256 [00:04<00:00, 261.56it/s]\n",
      "  2%|▏         | 22/1256 [00:00<00:06, 196.77it/s]"
     ]
    },
    {
     "name": "stdout",
     "output_type": "stream",
     "text": [
      "accuracy: 0.5158982511923689\n",
      "cost_sum: 1000.4567350149155\n",
      "===== EPOCH ======:  426\n"
     ]
    },
    {
     "name": "stderr",
     "output_type": "stream",
     "text": [
      "100%|██████████| 1256/1256 [00:04<00:00, 256.96it/s]\n",
      "  0%|          | 0/1256 [00:00<?, ?it/s]"
     ]
    },
    {
     "name": "stdout",
     "output_type": "stream",
     "text": [
      "accuracy: 0.5151033386327504\n",
      "cost_sum: 1001.4567343592644\n",
      "===== EPOCH ======:  427\n"
     ]
    },
    {
     "name": "stderr",
     "output_type": "stream",
     "text": [
      "100%|██████████| 1256/1256 [00:04<00:00, 273.43it/s]\n",
      "  2%|▏         | 29/1256 [00:00<00:04, 286.01it/s]"
     ]
    },
    {
     "name": "stdout",
     "output_type": "stream",
     "text": [
      "accuracy: 0.5158982511923689\n",
      "cost_sum: 999.9567337036133\n",
      "===== EPOCH ======:  428\n"
     ]
    },
    {
     "name": "stderr",
     "output_type": "stream",
     "text": [
      "100%|██████████| 1256/1256 [00:04<00:00, 266.39it/s]\n",
      "  2%|▏         | 30/1256 [00:00<00:04, 297.01it/s]"
     ]
    },
    {
     "name": "stdout",
     "output_type": "stream",
     "text": [
      "accuracy: 0.5151033386327504\n",
      "cost_sum: 1000.9567350149155\n",
      "===== EPOCH ======:  429\n"
     ]
    },
    {
     "name": "stderr",
     "output_type": "stream",
     "text": [
      "100%|██████████| 1256/1256 [00:04<00:00, 263.45it/s]\n",
      "  0%|          | 0/1256 [00:00<?, ?it/s]"
     ]
    },
    {
     "name": "stdout",
     "output_type": "stream",
     "text": [
      "accuracy: 0.5158982511923689\n",
      "cost_sum: 1000.4567345380783\n",
      "===== EPOCH ======:  430\n"
     ]
    },
    {
     "name": "stderr",
     "output_type": "stream",
     "text": [
      "100%|██████████| 1256/1256 [00:04<00:00, 256.60it/s]\n",
      "  1%|▏         | 16/1256 [00:00<00:07, 156.43it/s]"
     ]
    },
    {
     "name": "stdout",
     "output_type": "stream",
     "text": [
      "accuracy: 0.5166931637519873\n",
      "cost_sum: 999.4567350745201\n",
      "===== EPOCH ======:  431\n"
     ]
    },
    {
     "name": "stderr",
     "output_type": "stream",
     "text": [
      "100%|██████████| 1256/1256 [00:04<00:00, 261.20it/s]\n",
      "  0%|          | 0/1256 [00:00<?, ?it/s]"
     ]
    },
    {
     "name": "stdout",
     "output_type": "stream",
     "text": [
      "accuracy: 0.5166931637519873\n",
      "cost_sum: 999.9567347764969\n",
      "===== EPOCH ======:  432\n"
     ]
    },
    {
     "name": "stderr",
     "output_type": "stream",
     "text": [
      "100%|██████████| 1256/1256 [00:04<00:00, 269.07it/s]\n",
      "  2%|▏         | 20/1256 [00:00<00:06, 194.79it/s]"
     ]
    },
    {
     "name": "stdout",
     "output_type": "stream",
     "text": [
      "accuracy: 0.5166931637519873\n",
      "cost_sum: 999.4567341804504\n",
      "===== EPOCH ======:  433\n"
     ]
    },
    {
     "name": "stderr",
     "output_type": "stream",
     "text": [
      "100%|██████████| 1256/1256 [00:04<00:00, 272.21it/s]\n",
      "  2%|▏         | 20/1256 [00:00<00:06, 193.23it/s]"
     ]
    },
    {
     "name": "stdout",
     "output_type": "stream",
     "text": [
      "accuracy: 0.5166931637519873\n",
      "cost_sum: 999.4567353129387\n",
      "===== EPOCH ======:  434\n"
     ]
    },
    {
     "name": "stderr",
     "output_type": "stream",
     "text": [
      "100%|██████████| 1256/1256 [00:04<00:00, 257.90it/s]\n",
      "  0%|          | 0/1256 [00:00<?, ?it/s]"
     ]
    },
    {
     "name": "stdout",
     "output_type": "stream",
     "text": [
      "accuracy: 0.5151033386327504\n",
      "cost_sum: 1001.4567347168922\n",
      "===== EPOCH ======:  435\n"
     ]
    },
    {
     "name": "stderr",
     "output_type": "stream",
     "text": [
      "100%|██████████| 1256/1256 [00:04<00:00, 263.21it/s]\n",
      "  3%|▎         | 34/1256 [00:00<00:03, 333.89it/s]"
     ]
    },
    {
     "name": "stdout",
     "output_type": "stream",
     "text": [
      "accuracy: 0.5158982511923689\n",
      "cost_sum: 999.9567347168922\n",
      "===== EPOCH ======:  436\n"
     ]
    },
    {
     "name": "stderr",
     "output_type": "stream",
     "text": [
      "100%|██████████| 1256/1256 [00:03<00:00, 339.28it/s]\n",
      "  3%|▎         | 34/1256 [00:00<00:03, 334.77it/s]"
     ]
    },
    {
     "name": "stdout",
     "output_type": "stream",
     "text": [
      "accuracy: 0.5158982511923689\n",
      "cost_sum: 1000.9567345380783\n",
      "===== EPOCH ======:  437\n"
     ]
    },
    {
     "name": "stderr",
     "output_type": "stream",
     "text": [
      "100%|██████████| 1256/1256 [00:03<00:00, 356.01it/s]\n",
      "  3%|▎         | 35/1256 [00:00<00:03, 348.37it/s]"
     ]
    },
    {
     "name": "stdout",
     "output_type": "stream",
     "text": [
      "accuracy: 0.5158982511923689\n",
      "cost_sum: 1000.9567345380783\n",
      "===== EPOCH ======:  438\n"
     ]
    },
    {
     "name": "stderr",
     "output_type": "stream",
     "text": [
      "100%|██████████| 1256/1256 [00:03<00:00, 365.10it/s]\n",
      "  3%|▎         | 36/1256 [00:00<00:03, 358.07it/s]"
     ]
    },
    {
     "name": "stdout",
     "output_type": "stream",
     "text": [
      "accuracy: 0.5158982511923689\n",
      "cost_sum: 1000.9567356109619\n",
      "===== EPOCH ======:  439\n"
     ]
    },
    {
     "name": "stderr",
     "output_type": "stream",
     "text": [
      "100%|██████████| 1256/1256 [00:03<00:00, 365.76it/s]\n",
      "  3%|▎         | 35/1256 [00:00<00:03, 347.45it/s]"
     ]
    },
    {
     "name": "stdout",
     "output_type": "stream",
     "text": [
      "accuracy: 0.5151033386327504\n",
      "cost_sum: 1000.9567349553108\n",
      "===== EPOCH ======:  440\n"
     ]
    },
    {
     "name": "stderr",
     "output_type": "stream",
     "text": [
      "100%|██████████| 1256/1256 [00:03<00:00, 365.84it/s]\n",
      "  3%|▎         | 35/1256 [00:00<00:03, 349.43it/s]"
     ]
    },
    {
     "name": "stdout",
     "output_type": "stream",
     "text": [
      "accuracy: 0.5158982511923689\n",
      "cost_sum: 1000.4567344784737\n",
      "===== EPOCH ======:  441\n"
     ]
    },
    {
     "name": "stderr",
     "output_type": "stream",
     "text": [
      "100%|██████████| 1256/1256 [00:03<00:00, 329.55it/s]\n",
      "  3%|▎         | 32/1256 [00:00<00:03, 313.72it/s]"
     ]
    },
    {
     "name": "stdout",
     "output_type": "stream",
     "text": [
      "accuracy: 0.5158982511923689\n",
      "cost_sum: 1000.4567342996597\n",
      "===== EPOCH ======:  442\n"
     ]
    },
    {
     "name": "stderr",
     "output_type": "stream",
     "text": [
      "100%|██████████| 1256/1256 [00:03<00:00, 355.11it/s]\n",
      "  3%|▎         | 40/1256 [00:00<00:03, 396.72it/s]"
     ]
    },
    {
     "name": "stdout",
     "output_type": "stream",
     "text": [
      "accuracy: 0.5158982511923689\n",
      "cost_sum: 999.956734597683\n",
      "===== EPOCH ======:  443\n"
     ]
    },
    {
     "name": "stderr",
     "output_type": "stream",
     "text": [
      "100%|██████████| 1256/1256 [00:03<00:00, 358.24it/s]\n",
      "  3%|▎         | 39/1256 [00:00<00:03, 389.98it/s]"
     ]
    },
    {
     "name": "stdout",
     "output_type": "stream",
     "text": [
      "accuracy: 0.5166931637519873\n",
      "cost_sum: 999.4567340016365\n",
      "===== EPOCH ======:  444\n"
     ]
    },
    {
     "name": "stderr",
     "output_type": "stream",
     "text": [
      "100%|██████████| 1256/1256 [00:03<00:00, 341.26it/s]\n",
      "  2%|▏         | 28/1256 [00:00<00:04, 273.24it/s]"
     ]
    },
    {
     "name": "stdout",
     "output_type": "stream",
     "text": [
      "accuracy: 0.5158982511923689\n",
      "cost_sum: 1000.4567343592644\n",
      "===== EPOCH ======:  445\n"
     ]
    },
    {
     "name": "stderr",
     "output_type": "stream",
     "text": [
      "100%|██████████| 1256/1256 [00:03<00:00, 345.75it/s]\n",
      "  3%|▎         | 36/1256 [00:00<00:03, 356.08it/s]"
     ]
    },
    {
     "name": "stdout",
     "output_type": "stream",
     "text": [
      "accuracy: 0.5158982511923689\n",
      "cost_sum: 1000.4567351341248\n",
      "===== EPOCH ======:  446\n"
     ]
    },
    {
     "name": "stderr",
     "output_type": "stream",
     "text": [
      "100%|██████████| 1256/1256 [00:03<00:00, 352.63it/s]\n",
      "  3%|▎         | 36/1256 [00:00<00:03, 354.16it/s]"
     ]
    },
    {
     "name": "stdout",
     "output_type": "stream",
     "text": [
      "accuracy: 0.5158982511923689\n",
      "cost_sum: 1000.9567358493805\n",
      "===== EPOCH ======:  447\n"
     ]
    },
    {
     "name": "stderr",
     "output_type": "stream",
     "text": [
      "100%|██████████| 1256/1256 [00:03<00:00, 362.84it/s]\n",
      "  3%|▎         | 34/1256 [00:00<00:03, 338.22it/s]"
     ]
    },
    {
     "name": "stdout",
     "output_type": "stream",
     "text": [
      "accuracy: 0.5151033386327504\n",
      "cost_sum: 1000.9567337632179\n",
      "===== EPOCH ======:  448\n"
     ]
    },
    {
     "name": "stderr",
     "output_type": "stream",
     "text": [
      "100%|██████████| 1256/1256 [00:03<00:00, 368.55it/s]\n",
      "  3%|▎         | 33/1256 [00:00<00:03, 328.33it/s]"
     ]
    },
    {
     "name": "stdout",
     "output_type": "stream",
     "text": [
      "accuracy: 0.5158982511923689\n",
      "cost_sum: 1000.456734597683\n",
      "===== EPOCH ======:  449\n"
     ]
    },
    {
     "name": "stderr",
     "output_type": "stream",
     "text": [
      "100%|██████████| 1256/1256 [00:03<00:00, 366.99it/s]\n",
      "  3%|▎         | 36/1256 [00:00<00:03, 351.95it/s]"
     ]
    },
    {
     "name": "stdout",
     "output_type": "stream",
     "text": [
      "accuracy: 0.5151033386327504\n",
      "cost_sum: 1001.4567343592644\n",
      "===== EPOCH ======:  450\n"
     ]
    },
    {
     "name": "stderr",
     "output_type": "stream",
     "text": [
      "100%|██████████| 1256/1256 [00:03<00:00, 347.37it/s]\n",
      "  3%|▎         | 35/1256 [00:00<00:03, 347.45it/s]"
     ]
    },
    {
     "name": "stdout",
     "output_type": "stream",
     "text": [
      "accuracy: 0.5151033386327504\n",
      "cost_sum: 1001.4567342996597\n",
      "===== EPOCH ======:  451\n"
     ]
    },
    {
     "name": "stderr",
     "output_type": "stream",
     "text": [
      "100%|██████████| 1256/1256 [00:03<00:00, 363.00it/s]\n",
      "  3%|▎         | 36/1256 [00:00<00:03, 357.28it/s]"
     ]
    },
    {
     "name": "stdout",
     "output_type": "stream",
     "text": [
      "accuracy: 0.5166931637519873\n",
      "cost_sum: 999.4567348957062\n",
      "===== EPOCH ======:  452\n"
     ]
    },
    {
     "name": "stderr",
     "output_type": "stream",
     "text": [
      "100%|██████████| 1256/1256 [00:03<00:00, 360.79it/s]\n",
      "  3%|▎         | 35/1256 [00:00<00:03, 344.66it/s]"
     ]
    },
    {
     "name": "stdout",
     "output_type": "stream",
     "text": [
      "accuracy: 0.5151033386327504\n",
      "cost_sum: 1000.9567347168922\n",
      "===== EPOCH ======:  453\n"
     ]
    },
    {
     "name": "stderr",
     "output_type": "stream",
     "text": [
      "100%|██████████| 1256/1256 [00:03<00:00, 364.80it/s]\n",
      "  3%|▎         | 36/1256 [00:00<00:03, 354.84it/s]"
     ]
    },
    {
     "name": "stdout",
     "output_type": "stream",
     "text": [
      "accuracy: 0.5158982511923689\n",
      "cost_sum: 999.9567346572876\n",
      "===== EPOCH ======:  454\n"
     ]
    },
    {
     "name": "stderr",
     "output_type": "stream",
     "text": [
      "100%|██████████| 1256/1256 [00:03<00:00, 370.01it/s]\n",
      "  3%|▎         | 34/1256 [00:00<00:03, 337.37it/s]"
     ]
    },
    {
     "name": "stdout",
     "output_type": "stream",
     "text": [
      "accuracy: 0.5151033386327504\n",
      "cost_sum: 1001.456734597683\n",
      "===== EPOCH ======:  455\n"
     ]
    },
    {
     "name": "stderr",
     "output_type": "stream",
     "text": [
      "100%|██████████| 1256/1256 [00:03<00:00, 371.23it/s]\n",
      "  3%|▎         | 36/1256 [00:00<00:03, 357.20it/s]"
     ]
    },
    {
     "name": "stdout",
     "output_type": "stream",
     "text": [
      "accuracy: 0.5158982511923689\n",
      "cost_sum: 999.9567350149155\n",
      "===== EPOCH ======:  456\n"
     ]
    },
    {
     "name": "stderr",
     "output_type": "stream",
     "text": [
      "100%|██████████| 1256/1256 [00:03<00:00, 365.40it/s]\n",
      "  3%|▎         | 40/1256 [00:00<00:03, 398.64it/s]"
     ]
    },
    {
     "name": "stdout",
     "output_type": "stream",
     "text": [
      "accuracy: 0.5166931637519873\n",
      "cost_sum: 999.9567350149155\n",
      "===== EPOCH ======:  457\n"
     ]
    },
    {
     "name": "stderr",
     "output_type": "stream",
     "text": [
      "100%|██████████| 1256/1256 [00:03<00:00, 330.89it/s]\n",
      "  3%|▎         | 34/1256 [00:00<00:03, 337.52it/s]"
     ]
    },
    {
     "name": "stdout",
     "output_type": "stream",
     "text": [
      "accuracy: 0.5158982511923689\n",
      "cost_sum: 1000.4567348361015\n",
      "===== EPOCH ======:  458\n"
     ]
    },
    {
     "name": "stderr",
     "output_type": "stream",
     "text": [
      "100%|██████████| 1256/1256 [00:03<00:00, 351.03it/s]\n",
      "  2%|▏         | 31/1256 [00:00<00:04, 300.86it/s]"
     ]
    },
    {
     "name": "stdout",
     "output_type": "stream",
     "text": [
      "accuracy: 0.5158982511923689\n",
      "cost_sum: 1000.456734418869\n",
      "===== EPOCH ======:  459\n"
     ]
    },
    {
     "name": "stderr",
     "output_type": "stream",
     "text": [
      "100%|██████████| 1256/1256 [00:03<00:00, 360.63it/s]\n",
      "  3%|▎         | 36/1256 [00:00<00:03, 359.15it/s]"
     ]
    },
    {
     "name": "stdout",
     "output_type": "stream",
     "text": [
      "accuracy: 0.5158982511923689\n",
      "cost_sum: 1000.4567346572876\n",
      "===== EPOCH ======:  460\n"
     ]
    },
    {
     "name": "stderr",
     "output_type": "stream",
     "text": [
      "100%|██████████| 1256/1256 [00:03<00:00, 362.36it/s]\n",
      "  3%|▎         | 33/1256 [00:00<00:03, 329.33it/s]"
     ]
    },
    {
     "name": "stdout",
     "output_type": "stream",
     "text": [
      "accuracy: 0.5166931637519873\n",
      "cost_sum: 999.4567349553108\n",
      "===== EPOCH ======:  461\n"
     ]
    },
    {
     "name": "stderr",
     "output_type": "stream",
     "text": [
      "100%|██████████| 1256/1256 [00:03<00:00, 368.07it/s]\n",
      "  3%|▎         | 36/1256 [00:00<00:03, 355.79it/s]"
     ]
    },
    {
     "name": "stdout",
     "output_type": "stream",
     "text": [
      "accuracy: 0.5158982511923689\n",
      "cost_sum: 999.956734418869\n",
      "===== EPOCH ======:  462\n"
     ]
    },
    {
     "name": "stderr",
     "output_type": "stream",
     "text": [
      "100%|██████████| 1256/1256 [00:03<00:00, 370.85it/s]\n",
      "  3%|▎         | 35/1256 [00:00<00:03, 346.64it/s]"
     ]
    },
    {
     "name": "stdout",
     "output_type": "stream",
     "text": [
      "accuracy: 0.5158982511923689\n",
      "cost_sum: 1000.4567337632179\n",
      "===== EPOCH ======:  463\n"
     ]
    },
    {
     "name": "stderr",
     "output_type": "stream",
     "text": [
      "100%|██████████| 1256/1256 [00:03<00:00, 361.01it/s]\n",
      "  3%|▎         | 34/1256 [00:00<00:03, 339.73it/s]"
     ]
    },
    {
     "name": "stdout",
     "output_type": "stream",
     "text": [
      "accuracy: 0.5151033386327504\n",
      "cost_sum: 1001.4567353129387\n",
      "===== EPOCH ======:  464\n"
     ]
    },
    {
     "name": "stderr",
     "output_type": "stream",
     "text": [
      "100%|██████████| 1256/1256 [00:03<00:00, 346.31it/s]\n",
      "  3%|▎         | 34/1256 [00:00<00:03, 337.02it/s]"
     ]
    },
    {
     "name": "stdout",
     "output_type": "stream",
     "text": [
      "accuracy: 0.5158982511923689\n",
      "cost_sum: 1000.9567353725433\n",
      "===== EPOCH ======:  465\n"
     ]
    },
    {
     "name": "stderr",
     "output_type": "stream",
     "text": [
      "100%|██████████| 1256/1256 [00:03<00:00, 355.92it/s]\n",
      "  3%|▎         | 35/1256 [00:00<00:03, 349.75it/s]"
     ]
    },
    {
     "name": "stdout",
     "output_type": "stream",
     "text": [
      "accuracy: 0.5158982511923689\n",
      "cost_sum: 999.9567348361015\n",
      "===== EPOCH ======:  466\n"
     ]
    },
    {
     "name": "stderr",
     "output_type": "stream",
     "text": [
      "100%|██████████| 1256/1256 [00:03<00:00, 360.02it/s]\n",
      "  3%|▎         | 36/1256 [00:00<00:03, 354.71it/s]"
     ]
    },
    {
     "name": "stdout",
     "output_type": "stream",
     "text": [
      "accuracy: 0.5158982511923689\n",
      "cost_sum: 1000.4567347764969\n",
      "===== EPOCH ======:  467\n"
     ]
    },
    {
     "name": "stderr",
     "output_type": "stream",
     "text": [
      "100%|██████████| 1256/1256 [00:03<00:00, 363.77it/s]\n",
      "  3%|▎         | 39/1256 [00:00<00:03, 381.57it/s]"
     ]
    },
    {
     "name": "stdout",
     "output_type": "stream",
     "text": [
      "accuracy: 0.5166931637519873\n",
      "cost_sum: 999.9567344784737\n",
      "===== EPOCH ======:  468\n"
     ]
    },
    {
     "name": "stderr",
     "output_type": "stream",
     "text": [
      "100%|██████████| 1256/1256 [00:03<00:00, 363.30it/s]\n",
      "  3%|▎         | 36/1256 [00:00<00:03, 356.22it/s]"
     ]
    },
    {
     "name": "stdout",
     "output_type": "stream",
     "text": [
      "accuracy: 0.5166931637519873\n",
      "cost_sum: 999.9567344784737\n",
      "===== EPOCH ======:  469\n"
     ]
    },
    {
     "name": "stderr",
     "output_type": "stream",
     "text": [
      "100%|██████████| 1256/1256 [00:03<00:00, 331.16it/s]\n",
      "  3%|▎         | 34/1256 [00:00<00:03, 335.43it/s]"
     ]
    },
    {
     "name": "stdout",
     "output_type": "stream",
     "text": [
      "accuracy: 0.5151033386327504\n",
      "cost_sum: 1000.9567350745201\n",
      "===== EPOCH ======:  470\n"
     ]
    },
    {
     "name": "stderr",
     "output_type": "stream",
     "text": [
      "100%|██████████| 1256/1256 [00:04<00:00, 292.60it/s]\n",
      "  3%|▎         | 35/1256 [00:00<00:03, 345.26it/s]"
     ]
    },
    {
     "name": "stdout",
     "output_type": "stream",
     "text": [
      "accuracy: 0.5151033386327504\n",
      "cost_sum: 1000.956734418869\n",
      "===== EPOCH ======:  471\n"
     ]
    },
    {
     "name": "stderr",
     "output_type": "stream",
     "text": [
      "100%|██████████| 1256/1256 [00:03<00:00, 357.70it/s]\n",
      "  2%|▏         | 21/1256 [00:00<00:05, 208.96it/s]"
     ]
    },
    {
     "name": "stdout",
     "output_type": "stream",
     "text": [
      "accuracy: 0.5158982511923689\n",
      "cost_sum: 999.9567342996597\n",
      "===== EPOCH ======:  472\n"
     ]
    },
    {
     "name": "stderr",
     "output_type": "stream",
     "text": [
      "100%|██████████| 1256/1256 [00:03<00:00, 360.47it/s]\n",
      "  3%|▎         | 35/1256 [00:00<00:03, 349.34it/s]"
     ]
    },
    {
     "name": "stdout",
     "output_type": "stream",
     "text": [
      "accuracy: 0.5166931637519873\n",
      "cost_sum: 999.9567347168922\n",
      "===== EPOCH ======:  473\n"
     ]
    },
    {
     "name": "stderr",
     "output_type": "stream",
     "text": [
      "100%|██████████| 1256/1256 [00:03<00:00, 332.77it/s]\n",
      "  3%|▎         | 32/1256 [00:00<00:03, 319.44it/s]"
     ]
    },
    {
     "name": "stdout",
     "output_type": "stream",
     "text": [
      "accuracy: 0.5158982511923689\n",
      "cost_sum: 1000.9567339420319\n",
      "===== EPOCH ======:  474\n"
     ]
    },
    {
     "name": "stderr",
     "output_type": "stream",
     "text": [
      "100%|██████████| 1256/1256 [00:03<00:00, 340.01it/s]\n",
      "  2%|▏         | 26/1256 [00:00<00:04, 252.62it/s]"
     ]
    },
    {
     "name": "stdout",
     "output_type": "stream",
     "text": [
      "accuracy: 0.5158982511923689\n",
      "cost_sum: 1000.456734597683\n",
      "===== EPOCH ======:  475\n"
     ]
    },
    {
     "name": "stderr",
     "output_type": "stream",
     "text": [
      "100%|██████████| 1256/1256 [00:04<00:00, 300.54it/s]\n",
      "  2%|▏         | 31/1256 [00:00<00:03, 309.17it/s]"
     ]
    },
    {
     "name": "stdout",
     "output_type": "stream",
     "text": [
      "accuracy: 0.5166931637519873\n",
      "cost_sum: 999.456734418869\n",
      "===== EPOCH ======:  476\n"
     ]
    },
    {
     "name": "stderr",
     "output_type": "stream",
     "text": [
      "100%|██████████| 1256/1256 [00:03<00:00, 325.88it/s]\n",
      "  3%|▎         | 35/1256 [00:00<00:03, 344.46it/s]"
     ]
    },
    {
     "name": "stdout",
     "output_type": "stream",
     "text": [
      "accuracy: 0.5158982511923689\n",
      "cost_sum: 1000.956734597683\n",
      "===== EPOCH ======:  477\n"
     ]
    },
    {
     "name": "stderr",
     "output_type": "stream",
     "text": [
      "100%|██████████| 1256/1256 [00:03<00:00, 335.35it/s]\n",
      "  3%|▎         | 32/1256 [00:00<00:03, 317.39it/s]"
     ]
    },
    {
     "name": "stdout",
     "output_type": "stream",
     "text": [
      "accuracy: 0.5166931637519873\n",
      "cost_sum: 999.9567344784737\n",
      "===== EPOCH ======:  478\n"
     ]
    },
    {
     "name": "stderr",
     "output_type": "stream",
     "text": [
      "100%|██████████| 1256/1256 [00:03<00:00, 340.33it/s]\n",
      "  3%|▎         | 32/1256 [00:00<00:03, 318.52it/s]"
     ]
    },
    {
     "name": "stdout",
     "output_type": "stream",
     "text": [
      "accuracy: 0.5151033386327504\n",
      "cost_sum: 1000.9567363262177\n",
      "===== EPOCH ======:  479\n"
     ]
    },
    {
     "name": "stderr",
     "output_type": "stream",
     "text": [
      "100%|██████████| 1256/1256 [00:03<00:00, 361.68it/s]\n",
      "  3%|▎         | 39/1256 [00:00<00:03, 388.01it/s]"
     ]
    },
    {
     "name": "stdout",
     "output_type": "stream",
     "text": [
      "accuracy: 0.5166931637519873\n",
      "cost_sum: 999.9567338824272\n",
      "===== EPOCH ======:  480\n"
     ]
    },
    {
     "name": "stderr",
     "output_type": "stream",
     "text": [
      "100%|██████████| 1256/1256 [00:03<00:00, 352.67it/s]\n",
      "  3%|▎         | 37/1256 [00:00<00:03, 367.23it/s]"
     ]
    },
    {
     "name": "stdout",
     "output_type": "stream",
     "text": [
      "accuracy: 0.5166931637519873\n",
      "cost_sum: 999.4567348361015\n",
      "===== EPOCH ======:  481\n"
     ]
    },
    {
     "name": "stderr",
     "output_type": "stream",
     "text": [
      "100%|██████████| 1256/1256 [00:03<00:00, 354.98it/s]\n",
      "  2%|▏         | 30/1256 [00:00<00:04, 295.33it/s]"
     ]
    },
    {
     "name": "stdout",
     "output_type": "stream",
     "text": [
      "accuracy: 0.5158982511923689\n",
      "cost_sum: 1000.4567350745201\n",
      "===== EPOCH ======:  482\n"
     ]
    },
    {
     "name": "stderr",
     "output_type": "stream",
     "text": [
      "100%|██████████| 1256/1256 [00:03<00:00, 330.31it/s]\n",
      "  3%|▎         | 37/1256 [00:00<00:03, 364.25it/s]"
     ]
    },
    {
     "name": "stdout",
     "output_type": "stream",
     "text": [
      "accuracy: 0.5158982511923689\n",
      "cost_sum: 999.9567350745201\n",
      "===== EPOCH ======:  483\n"
     ]
    },
    {
     "name": "stderr",
     "output_type": "stream",
     "text": [
      "100%|██████████| 1256/1256 [00:03<00:00, 350.53it/s]\n",
      "  3%|▎         | 35/1256 [00:00<00:03, 349.08it/s]"
     ]
    },
    {
     "name": "stdout",
     "output_type": "stream",
     "text": [
      "accuracy: 0.5151033386327504\n",
      "cost_sum: 1000.9567347168922\n",
      "===== EPOCH ======:  484\n"
     ]
    },
    {
     "name": "stderr",
     "output_type": "stream",
     "text": [
      "100%|██████████| 1256/1256 [00:03<00:00, 366.86it/s]\n",
      "  3%|▎         | 36/1256 [00:00<00:03, 355.28it/s]"
     ]
    },
    {
     "name": "stdout",
     "output_type": "stream",
     "text": [
      "accuracy: 0.5151033386327504\n",
      "cost_sum: 1001.4567341804504\n",
      "===== EPOCH ======:  485\n"
     ]
    },
    {
     "name": "stderr",
     "output_type": "stream",
     "text": [
      "100%|██████████| 1256/1256 [00:03<00:00, 358.72it/s]\n",
      "  3%|▎         | 33/1256 [00:00<00:03, 328.77it/s]"
     ]
    },
    {
     "name": "stdout",
     "output_type": "stream",
     "text": [
      "accuracy: 0.5158982511923689\n",
      "cost_sum: 1000.9567341208458\n",
      "===== EPOCH ======:  486\n"
     ]
    },
    {
     "name": "stderr",
     "output_type": "stream",
     "text": [
      "100%|██████████| 1256/1256 [00:03<00:00, 334.30it/s]\n",
      "  3%|▎         | 35/1256 [00:00<00:03, 338.38it/s]"
     ]
    },
    {
     "name": "stdout",
     "output_type": "stream",
     "text": [
      "accuracy: 0.5166931637519873\n",
      "cost_sum: 999.9567344784737\n",
      "===== EPOCH ======:  487\n"
     ]
    },
    {
     "name": "stderr",
     "output_type": "stream",
     "text": [
      "100%|██████████| 1256/1256 [00:03<00:00, 343.75it/s]\n",
      "  3%|▎         | 33/1256 [00:00<00:03, 329.83it/s]"
     ]
    },
    {
     "name": "stdout",
     "output_type": "stream",
     "text": [
      "accuracy: 0.5151033386327504\n",
      "cost_sum: 1000.9567353129387\n",
      "===== EPOCH ======:  488\n"
     ]
    },
    {
     "name": "stderr",
     "output_type": "stream",
     "text": [
      "100%|██████████| 1256/1256 [00:04<00:00, 302.06it/s]\n",
      "  3%|▎         | 33/1256 [00:00<00:03, 324.90it/s]"
     ]
    },
    {
     "name": "stdout",
     "output_type": "stream",
     "text": [
      "accuracy: 0.5158982511923689\n",
      "cost_sum: 999.9567341208458\n",
      "===== EPOCH ======:  489\n"
     ]
    },
    {
     "name": "stderr",
     "output_type": "stream",
     "text": [
      "100%|██████████| 1256/1256 [00:03<00:00, 337.83it/s]\n",
      "  3%|▎         | 35/1256 [00:00<00:03, 349.97it/s]"
     ]
    },
    {
     "name": "stdout",
     "output_type": "stream",
     "text": [
      "accuracy: 0.5158982511923689\n",
      "cost_sum: 1000.9567353129387\n",
      "===== EPOCH ======:  490\n"
     ]
    },
    {
     "name": "stderr",
     "output_type": "stream",
     "text": [
      "100%|██████████| 1256/1256 [00:03<00:00, 349.96it/s]\n",
      "  3%|▎         | 36/1256 [00:00<00:03, 354.52it/s]"
     ]
    },
    {
     "name": "stdout",
     "output_type": "stream",
     "text": [
      "accuracy: 0.5151033386327504\n",
      "cost_sum: 1000.9567350149155\n",
      "===== EPOCH ======:  491\n"
     ]
    },
    {
     "name": "stderr",
     "output_type": "stream",
     "text": [
      "100%|██████████| 1256/1256 [00:03<00:00, 345.33it/s]\n",
      "  3%|▎         | 35/1256 [00:00<00:03, 341.09it/s]"
     ]
    },
    {
     "name": "stdout",
     "output_type": "stream",
     "text": [
      "accuracy: 0.5151033386327504\n",
      "cost_sum: 1001.4567345380783\n",
      "===== EPOCH ======:  492\n"
     ]
    },
    {
     "name": "stderr",
     "output_type": "stream",
     "text": [
      "100%|██████████| 1256/1256 [00:03<00:00, 361.03it/s]\n",
      "  3%|▎         | 39/1256 [00:00<00:03, 384.17it/s]"
     ]
    },
    {
     "name": "stdout",
     "output_type": "stream",
     "text": [
      "accuracy: 0.5158982511923689\n",
      "cost_sum: 999.9567348361015\n",
      "===== EPOCH ======:  493\n"
     ]
    },
    {
     "name": "stderr",
     "output_type": "stream",
     "text": [
      "100%|██████████| 1256/1256 [00:03<00:00, 362.14it/s]\n",
      "  3%|▎         | 37/1256 [00:00<00:03, 365.82it/s]"
     ]
    },
    {
     "name": "stdout",
     "output_type": "stream",
     "text": [
      "accuracy: 0.5151033386327504\n",
      "cost_sum: 1001.4567356705666\n",
      "===== EPOCH ======:  494\n"
     ]
    },
    {
     "name": "stderr",
     "output_type": "stream",
     "text": [
      "100%|██████████| 1256/1256 [00:03<00:00, 359.60it/s]\n",
      "  3%|▎         | 38/1256 [00:00<00:03, 373.25it/s]"
     ]
    },
    {
     "name": "stdout",
     "output_type": "stream",
     "text": [
      "accuracy: 0.5166931637519873\n",
      "cost_sum: 999.956734418869\n",
      "===== EPOCH ======:  495\n"
     ]
    },
    {
     "name": "stderr",
     "output_type": "stream",
     "text": [
      "100%|██████████| 1256/1256 [00:03<00:00, 314.93it/s]\n",
      "  0%|          | 0/1256 [00:00<?, ?it/s]"
     ]
    },
    {
     "name": "stdout",
     "output_type": "stream",
     "text": [
      "accuracy: 0.5151033386327504\n",
      "cost_sum: 1001.456735432148\n",
      "===== EPOCH ======:  496\n"
     ]
    },
    {
     "name": "stderr",
     "output_type": "stream",
     "text": [
      "100%|██████████| 1256/1256 [00:04<00:00, 293.81it/s]\n",
      "  2%|▏         | 25/1256 [00:00<00:04, 248.08it/s]"
     ]
    },
    {
     "name": "stdout",
     "output_type": "stream",
     "text": [
      "accuracy: 0.5151033386327504\n",
      "cost_sum: 1001.4567346572876\n",
      "===== EPOCH ======:  497\n"
     ]
    },
    {
     "name": "stderr",
     "output_type": "stream",
     "text": [
      "100%|██████████| 1256/1256 [00:03<00:00, 333.53it/s]\n",
      "  2%|▏         | 30/1256 [00:00<00:04, 299.93it/s]"
     ]
    },
    {
     "name": "stdout",
     "output_type": "stream",
     "text": [
      "accuracy: 0.5151033386327504\n",
      "cost_sum: 1001.456735253334\n",
      "===== EPOCH ======:  498\n"
     ]
    },
    {
     "name": "stderr",
     "output_type": "stream",
     "text": [
      "100%|██████████| 1256/1256 [00:03<00:00, 328.90it/s]\n",
      "  0%|          | 0/1256 [00:00<?, ?it/s]"
     ]
    },
    {
     "name": "stdout",
     "output_type": "stream",
     "text": [
      "accuracy: 0.5158982511923689\n",
      "cost_sum: 999.9567341208458\n",
      "===== EPOCH ======:  499\n"
     ]
    },
    {
     "name": "stderr",
     "output_type": "stream",
     "text": [
      "100%|██████████| 1256/1256 [00:03<00:00, 335.68it/s]\n"
     ]
    },
    {
     "name": "stdout",
     "output_type": "stream",
     "text": [
      "accuracy: 0.5151033386327504\n",
      "cost_sum: 1001.4567351341248\n",
      "end time: 2019-05-09 23:23:42.018323\n"
     ]
    }
   ],
   "source": [
    "import tensorflow as tf\n",
    "import pandas as pd\n",
    "import matplotlib.pyplot as plt\n",
    "from sklearn.utils import shuffle\n",
    "from sklearn import preprocessing\n",
    "from sklearn.feature_extraction.text import CountVectorizer\n",
    "import datetime\n",
    "from tqdm import tqdm\n",
    "import copy\n",
    "\n",
    "class MainRNN():\n",
    "    def __init__(self):\n",
    "        self.data_time_range=1\n",
    "        self.seq_size=self.data_time_range\n",
    "        self.hidden_layer=1\n",
    "        self.output_feature_size=1\n",
    "        self.epochs=500\n",
    "        self.batch_size=2\n",
    "\n",
    "    def get_formated_data(self):\n",
    "                \n",
    "        count_vectorizer = CountVectorizer(decode_error='ignore',binary=False)\n",
    "        X_text = count_vectorizer.fit_transform(df_text['text_without_stopwords'])\n",
    "        X_text = X_text.toarray()\n",
    "        \n",
    "        print(df[:3])\n",
    "\n",
    "        X = []\n",
    "        Y = []\n",
    "        for index, row in tqdm(df.iterrows()):\n",
    "            row_data_array = row.values[1:-1]\n",
    "            row_day = row['date'].split('-')[2]\n",
    "            row_mon = row['date'].split('-')[1]\n",
    "            row_year = row['date'].split('-')[0]\n",
    "            text_index = df_text[(df_text['date'] == row_mon + row_day + row_year)].index.values.astype(int)\n",
    "            if len(text_index) > 0:\n",
    "                text_index = text_index[0]\n",
    "\n",
    "                if (text_index) >= 0: \n",
    "                    row_data_array = np.append(row_data_array, np.array(X_text[text_index], dtype=np.int))\n",
    "                else:\n",
    "                    _, shape_for_use = np.array(X_text).shape\n",
    "                    row_data_array = np.append(row_data_array, np.zeros(shape_for_use, dtype=np.int))\n",
    "            else: \n",
    "                _, shape_for_use = np.array(X_text).shape\n",
    "                row_data_array = np.append(row_data_array, np.zeros(shape_for_use, dtype=np.int))\n",
    "                \n",
    "            X.append([row_data_array])\n",
    "            Y.append([row['label']])\n",
    "        \n",
    "        print(X[1], Y[1])\n",
    "        print('before X.shape', len(X))\n",
    "        print('before Y.shape', len(Y))\n",
    "        \n",
    "        return np.array(X), np.array(Y)\n",
    "\n",
    "\n",
    "    def process_train(self, X, Y):\n",
    "\n",
    "        # get shape X (N, T, D)\n",
    "        X_sample_size, X_seq_size, X_features_size = X.shape\n",
    "        print('X_features_size', X_features_size)\n",
    "\n",
    "        # get shape Y (K)\n",
    "        Y_sample_size = Y.shape\n",
    "\n",
    "        # init weight and bias\n",
    "        weights = tf.Variable(tf.random_normal([self.hidden_layer, self.output_feature_size]))\n",
    "        biases = tf.Variable(tf.random_normal([self.output_feature_size]))\n",
    "\n",
    "        # placeholder for graph input\n",
    "        tfX = tf.placeholder(tf.float32, shape=[None, X_seq_size, X_features_size], name='inputX')\n",
    "        tfY = tf.placeholder(tf.float32, shape=[None, self.output_feature_size], name='inputY')\n",
    "\n",
    "        # transposeX\n",
    "        tfX = tf.transpose(tfX, [1, 0, 2])\n",
    "\n",
    "        # define lstm cell\n",
    "        lstmCell = tf.nn.rnn_cell.BasicLSTMCell(self.hidden_layer)\n",
    "\n",
    "        # create RNN unit\n",
    "        outputs, states = tf.nn.dynamic_rnn(cell=lstmCell, inputs=tfX, dtype=tf.float32)\n",
    "\n",
    "        # get rnn output\n",
    "        outputs = tf.stack(outputs)\n",
    "\n",
    "        # transpose output back\n",
    "        outputs = tf.transpose(outputs, [1, 0, 2])\n",
    "        # outputs = tf.reshape(outputs, [outputs.get_shape()[-1], self.hidden_layer])\n",
    "\n",
    "        # Hack to build the indexing and retrieve the right output.\n",
    "        # Start indices for each sample\n",
    "        index = tf.range(0, tf.shape(outputs)[0]) * X_seq_size + (X_seq_size - 1)\n",
    "        # Indexing\n",
    "        outputs = tf.gather(tf.reshape(outputs, [-1, self.hidden_layer]), index)\n",
    "\n",
    "        # prediction\n",
    "        prediction = tf.matmul(outputs, weights) + biases\n",
    "        prediction = tf.nn.softmax(prediction)\n",
    "\n",
    "        # cost function\n",
    "        loss = tf.reduce_mean(tf.nn.sigmoid_cross_entropy_with_logits(logits=prediction, labels=tfY))\n",
    "        \n",
    "        \n",
    "        \n",
    "        # optimizer\n",
    "        optimizer = tf.train.RMSPropOptimizer(learning_rate=0.001).minimize(loss)\n",
    "\n",
    "        # cost[] and accuracies[]\n",
    "        epochs_correct = []\n",
    "        epochs_tp = []\n",
    "        epochs_fp = []\n",
    "        epochsl=[]\n",
    "        epochs_cost_sum=[]\n",
    "\n",
    "        # global init\n",
    "        init = tf.global_variables_initializer()\n",
    "\n",
    "        first=True\n",
    "\n",
    "        # start training\n",
    "        with tf.Session() as sess:\n",
    "            saver = tf.train.Saver()\n",
    "            sess.run(init)\n",
    "\n",
    "            for epoch in range(self.epochs):\n",
    "                print('===== EPOCH ======: ', epoch)\n",
    "                if not first:\n",
    "                    saver.restore(sess,\"./trained_model\")\n",
    "                    first=False\n",
    "                \n",
    "                correctc=0\n",
    "                tpc=0\n",
    "                fpc=0\n",
    "                cost_sum=0\n",
    "                X, Y = shuffle(X, Y)\n",
    "                for batch in tqdm(range(X_sample_size - self.batch_size)):\n",
    "                    batchX = X[batch:batch+self.batch_size]\n",
    "                    batchY = Y[batch:batch+self.batch_size]\n",
    "\n",
    "                    _, cost_out, prediction_out = sess.run([optimizer, loss, prediction], feed_dict={tfX: batchX.reshape(X_seq_size, self.batch_size, X_features_size), tfY: batchY.reshape(self.batch_size, self.output_feature_size)})\n",
    "                    # evaluation\n",
    "                    cost_sum+=cost_out\n",
    "                    \n",
    "                    correct_pred = 1 if prediction_out[1] == Y[batch+1] else 0\n",
    "                    tp_out = 1 if prediction_out[1] == 1 and Y[batch+1] == 1 else 0\n",
    "                    fp_out = 1 if prediction_out[1] == 1 and Y[batch+1] == 0 else 0\n",
    "                    \n",
    "                    correctc+=correct_pred\n",
    "                    tpc+=tp_out\n",
    "                    fpc+=fp_out\n",
    "                epochs_cost_sum.append(cost_sum)\n",
    "                saver.save(sess, \"./trained_model\")\n",
    "                print('accuracy:', correctc/X_sample_size)\n",
    "                print('cost_sum:', cost_sum)\n",
    "                epochsl.append(epoch)\n",
    "                epochs_correct.append(correctc)\n",
    "                epochs_tp.append(tpc)\n",
    "                epochs_fp.append(fpc)\n",
    "                \n",
    "\n",
    "            np.random.seed(0)\n",
    "#             plt.plot(epochsl, epochs_fp, 'r--', epochsl, epochs_tp, 'bs', epochsl, epochs_correct, 'g^')\n",
    "            plt.plot(epochsl,epochs_cost_sum, 'g^')\n",
    "            plt.savefig('costs.png')\n",
    "\n",
    "\n",
    "    def run_prediction(self):\n",
    "        print('start time:', datetime.datetime.now())\n",
    "        X, Y = self.get_formated_data()\n",
    "        self.process_train(X, Y)\n",
    "        print('end time:', datetime.datetime.now())\n",
    "\n",
    "\n",
    "if __name__ == '__main__':\n",
    "    MainRNN().run_prediction()\n"
   ]
  },
  {
   "cell_type": "code",
   "execution_count": null,
   "metadata": {},
   "outputs": [],
   "source": []
  },
  {
   "cell_type": "code",
   "execution_count": null,
   "metadata": {},
   "outputs": [],
   "source": []
  }
 ],
 "metadata": {
  "kernelspec": {
   "display_name": "Python 3",
   "language": "python",
   "name": "python3"
  },
  "language_info": {
   "codemirror_mode": {
    "name": "ipython",
    "version": 3
   },
   "file_extension": ".py",
   "mimetype": "text/x-python",
   "name": "python",
   "nbconvert_exporter": "python",
   "pygments_lexer": "ipython3",
   "version": "3.5.2"
  }
 },
 "nbformat": 4,
 "nbformat_minor": 2
}
