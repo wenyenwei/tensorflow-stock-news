{
 "cells": [
  {
   "cell_type": "code",
   "execution_count": null,
   "metadata": {},
   "outputs": [],
   "source": []
  },
  {
   "cell_type": "code",
   "execution_count": null,
   "metadata": {},
   "outputs": [],
   "source": []
  },
  {
   "cell_type": "code",
   "execution_count": 1,
   "metadata": {},
   "outputs": [
    {
     "name": "stdout",
     "output_type": "stream",
     "text": [
      "df.shape (1259, 3)\n",
      "df.shape             date     open    close\n",
      "1259  2013-02-08  67.7142  67.8542\n",
      "1260  2013-02-11  68.0714  68.5614\n",
      "1261  2013-02-12  68.5014  66.8428\n",
      "df.shape (200, 3)\n"
     ]
    }
   ],
   "source": [
    "import pandas as pd\n",
    "\n",
    "df = pd.read_csv('all_stocks_5yr.csv')\n",
    "df = df.loc[(df['Name'] == \"AAPL\")]\n",
    "df = df.drop('volume', 1)\n",
    "df = df.drop('high', 1)\n",
    "df = df.drop('low', 1)\n",
    "df = df.drop('Name', 1)\n",
    "print('df.shape',df.shape)\n",
    "print('df.shape',df[:3])\n",
    "df = df.sort_values('date').reset_index(drop=True)\n",
    "df = df.dropna()\n",
    "\n",
    "# rmls = [x for x in range(500,600)] + [y for y in range(1100,1200)]\n",
    "rmls = [x for x in range(500)] + [y for y in range(600,1100)] + [z for z in range(1200,1259)]\n",
    "df = df.drop(df.index[rmls])\n",
    "print('df.shape',df.shape)\n"
   ]
  },
  {
   "cell_type": "code",
   "execution_count": 2,
   "metadata": {
    "scrolled": true
   },
   "outputs": [
    {
     "name": "stderr",
     "output_type": "stream",
     "text": [
      "200it [00:00, 6598.86it/s]"
     ]
    },
    {
     "name": "stdout",
     "output_type": "stream",
     "text": [
      "start time: 2019-05-11 17:10:25.158744\n",
      "[120.02 119.94]\n",
      "before X len 200\n",
      "after X len 199\n",
      "after Y len 199\n",
      "X_features_size 2\n"
     ]
    },
    {
     "name": "stderr",
     "output_type": "stream",
     "text": [
      "\n",
      "/anaconda3/lib/python3.6/site-packages/tensorflow/python/ops/gradients_impl.py:108: UserWarning: Converting sparse IndexedSlices to a dense Tensor of unknown shape. This may consume a large amount of memory.\n",
      "  \"Converting sparse IndexedSlices to a dense Tensor of unknown shape. \"\n"
     ]
    },
    {
     "name": "stdout",
     "output_type": "stream",
     "text": [
      "===== EPOCH ======:  0\n",
      "INFO:tensorflow:Restoring parameters from ./trained_model\n"
     ]
    },
    {
     "name": "stderr",
     "output_type": "stream",
     "text": [
      "100%|██████████| 135/135 [00:03<00:00, 35.39it/s]\n"
     ]
    },
    {
     "name": "stdout",
     "output_type": "stream",
     "text": [
      "meanse:  43.92794253031413\n",
      "end time: 2019-05-11 17:10:39.324858\n"
     ]
    }
   ],
   "source": [
    "import tensorflow as tf\n",
    "import pandas as pd\n",
    "import numpy as np\n",
    "import matplotlib.pyplot as plt\n",
    "from sklearn.utils import shuffle\n",
    "from sklearn import preprocessing\n",
    "from sklearn.feature_extraction.text import CountVectorizer\n",
    "import datetime\n",
    "from tqdm import tqdm\n",
    "import copy\n",
    "\n",
    "class MainRNN():\n",
    "    def __init__(self):\n",
    "        self.data_time_range=1\n",
    "        self.seq_size=self.data_time_range\n",
    "        self.hidden_layer=128\n",
    "        self.output_feature_size=2\n",
    "        self.epochs=1\n",
    "        self.batch_size=64\n",
    "        \n",
    "    def x_y_to_seq(self, X):\n",
    "        newX = []\n",
    "        newY = []\n",
    "        for i in range(int(len(X) - self.seq_size)):\n",
    "            newX.append(X[i : (i + self.seq_size)])\n",
    "            newY.append(X[(i + self.seq_size)])\n",
    "\n",
    "        return newX, newY\n",
    "\n",
    "    def get_formated_data(self):\n",
    "        X = []\n",
    "        Y = []\n",
    "        for index, row in tqdm(df.iterrows()):\n",
    "            row_data_array = row.values[1:]    \n",
    "            X.append(row_data_array)\n",
    "        \n",
    "        print(X[1])\n",
    "        print('before X len', len(X))\n",
    "        \n",
    "        X, Y = self.x_y_to_seq(X)\n",
    "        print('after X len', len(X))\n",
    "        print('after Y len', len(Y))\n",
    "        \n",
    "        return np.array(X), np.array(Y)\n",
    "\n",
    "\n",
    "    def process_train(self, X, Y):\n",
    "        lr_to_use = [0.001 * (0.99 ** (batch/self.epochs)) for batch in range(self.epochs)]\n",
    "        learning_rate = tf.placeholder(tf.float32, None)\n",
    "        \n",
    "        # get shape X (N, T, D)\n",
    "        X_sample_size, X_seq_size, X_features_size = X.shape\n",
    "        print('X_features_size', X_features_size)\n",
    "\n",
    "        # get shape Y (K)\n",
    "        Y_sample_size = Y.shape\n",
    "\n",
    "        # init weight and bias\n",
    "        weights = tf.Variable(tf.random_normal([self.hidden_layer, self.output_feature_size]))\n",
    "        biases = tf.Variable(tf.random_normal([self.output_feature_size]))\n",
    "\n",
    "        # placeholder for graph input\n",
    "        tfX = tf.placeholder(tf.float32, shape=[None, X_seq_size, X_features_size], name='inputX')\n",
    "        tfY = tf.placeholder(tf.float32, shape=[None, self.output_feature_size], name='inputY')\n",
    "\n",
    "        # transposeX\n",
    "        tfX = tf.transpose(tfX, [1, 0, 2])\n",
    "\n",
    "        # define lstm cell\n",
    "        lstmCell = tf.nn.rnn_cell.BasicLSTMCell(self.hidden_layer)\n",
    "        lstmCell = tf.contrib.rnn.DropoutWrapper(lstmCell, output_keep_prob=0.8)\n",
    "\n",
    "        # create RNN unit\n",
    "        outputs, states = tf.nn.dynamic_rnn(cell=lstmCell, inputs=tfX, dtype=tf.float32)\n",
    "\n",
    "        # get rnn output\n",
    "        outputs = tf.stack(outputs)\n",
    "\n",
    "        # transpose output back\n",
    "        outputs = tf.transpose(outputs, [1, 0, 2])\n",
    "        # outputs = tf.reshape(outputs, [outputs.get_shape()[-1], self.hidden_layer])\n",
    "\n",
    "        # Hack to build the indexing and retrieve the right output.\n",
    "        # Start indices for each sample\n",
    "        index = tf.range(0, tf.shape(outputs)[0]) * X_seq_size + (X_seq_size - 1)\n",
    "        # Indexing\n",
    "        outputs = tf.gather(tf.reshape(outputs, [-1, self.hidden_layer]), index)\n",
    "\n",
    "        # prediction\n",
    "        prediction = tf.matmul(outputs, weights) + biases\n",
    "        label = tfY\n",
    "\n",
    "        # cost function\n",
    "        loss = tf.reduce_mean(tf.square(prediction - tfY))\n",
    "\n",
    "        # optimizer\n",
    "        optimizer = tf.train.RMSPropOptimizer(learning_rate).minimize(loss)\n",
    "\n",
    "        # cost[] and accuracies[]\n",
    "        epoch_pred=[]\n",
    "        epoch_lab=[]\n",
    "        iterl=[]\n",
    "        \n",
    "\n",
    "        # global init\n",
    "        init = tf.global_variables_initializer()\n",
    "\n",
    "        first=False\n",
    "\n",
    "        # start training\n",
    "        with tf.Session() as sess:\n",
    "            saver = tf.train.Saver()\n",
    "            sess.run(init)\n",
    "\n",
    "            for epoch in range(self.epochs):\n",
    "                costs=[]\n",
    "                print('===== EPOCH ======: ', epoch)\n",
    "                if not first:\n",
    "                    saver.restore(sess,\"./trained_model\")\n",
    "                    first=False\n",
    "\n",
    "#                 X, Y = shuffle(X, Y)\n",
    "            \n",
    "                c=0\n",
    "                for batch in tqdm(range(X_sample_size - self.batch_size)):\n",
    "                    curr_lr = lr_to_use[epoch]\n",
    "                    batchX = X[batch:batch+self.batch_size]\n",
    "                    batchY = Y[batch:batch+self.batch_size]\n",
    "\n",
    "                    _, cost_out, prediction_out = sess.run([optimizer, loss, prediction], feed_dict={learning_rate: curr_lr, tfX: batchX.reshape(X_seq_size, self.batch_size, X_features_size), tfY: batchY.reshape(self.batch_size, self.output_feature_size)})\n",
    "                    costs.append(cost_out)\n",
    "                    if epoch == self.epochs-1:\n",
    "#                     if True:    \n",
    "                        epoch_pred.append(prediction_out[1])\n",
    "                        epoch_lab.append(Y[batch+1])\n",
    "                        iterl.append(c)\n",
    "                        c+=1\n",
    "\n",
    "                meanse = sum(costs) / float(len(costs))\n",
    "                \n",
    "                print('meanse: ', meanse)\n",
    "                \n",
    "                saver.save(sess, \"./trained_model\")\n",
    "            plt.plot(iterl, epoch_pred, 'r--', iterl, epoch_lab, 'b--')\n",
    "            plt.savefig('costs.png')\n",
    "\n",
    "            np.random.seed(0)\n",
    "#             plt.plot(epochsl, epochs_costs, 'g^')\n",
    "            \n",
    "\n",
    "\n",
    "    def run_prediction(self):\n",
    "        print('start time:', datetime.datetime.now())\n",
    "        X, Y = self.get_formated_data()\n",
    "        self.process_train(X, Y)\n",
    "        print('end time:', datetime.datetime.now())\n",
    "\n",
    "\n",
    "if __name__ == '__main__':\n",
    "    MainRNN().run_prediction()\n"
   ]
  },
  {
   "cell_type": "code",
   "execution_count": null,
   "metadata": {},
   "outputs": [],
   "source": []
  },
  {
   "cell_type": "code",
   "execution_count": null,
   "metadata": {},
   "outputs": [],
   "source": []
  }
 ],
 "metadata": {
  "kernelspec": {
   "display_name": "Python 3",
   "language": "python",
   "name": "python3"
  },
  "language_info": {
   "codemirror_mode": {
    "name": "ipython",
    "version": 3
   },
   "file_extension": ".py",
   "mimetype": "text/x-python",
   "name": "python",
   "nbconvert_exporter": "python",
   "pygments_lexer": "ipython3",
   "version": "3.6.7"
  }
 },
 "nbformat": 4,
 "nbformat_minor": 2
}
