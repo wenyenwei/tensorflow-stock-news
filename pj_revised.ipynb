{
 "cells": [
  {
   "cell_type": "code",
   "execution_count": null,
   "metadata": {},
   "outputs": [],
   "source": []
  },
  {
   "cell_type": "code",
   "execution_count": 1,
   "metadata": {},
   "outputs": [
    {
     "name": "stdout",
     "output_type": "stream",
     "text": [
      "       date                                               text  \\\n",
      "0  01012013              Armed robbers hit Paris Apple store\",   \n",
      "1  01022013  UPDATE 1-Judge rejects part of Apple App Store...   \n",
      "2  01042013  US STOCKS-Data helps pace Wall St higher, but ...   \n",
      "3  01062013  Riches in niches: U.S. cops, in-flight movies ...   \n",
      "\n",
      "                              text_without_stopwords  \n",
      "0              Armed robbers hit Paris Apple store\",  \n",
      "1  UPDATE 1-Judge rejects part Apple App Store su...  \n",
      "2  US STOCKS-Data helps pace Wall St higher, Appl...  \n",
      "3  Riches niches: U.S. cops, in-flight movies may...  \n"
     ]
    },
    {
     "name": "stderr",
     "output_type": "stream",
     "text": [
      "[nltk_data] Downloading package stopwords to /Users/apple/nltk_data...\n",
      "[nltk_data]   Package stopwords is already up-to-date!\n"
     ]
    }
   ],
   "source": [
    "import nltk\n",
    "from nltk.corpus import stopwords\n",
    "import pandas as pd\n",
    "\n",
    "nltk.download('stopwords')\n",
    "stop = stopwords.words('english')\n",
    "\n",
    "df_text = pd.read_csv('rnews_apple.txt', sep=': \\\"', header=None, names=['date', 'text'], dtype='str', engine='python')\n",
    "df_text['text_without_stopwords'] = df_text['text'].apply(lambda x: ' '.join([word for word in x.split() if word not in (stop)]))\n",
    "print(df_text[:4])\n"
   ]
  },
  {
   "cell_type": "code",
   "execution_count": 2,
   "metadata": {},
   "outputs": [
    {
     "name": "stdout",
     "output_type": "stream",
     "text": [
      "df.shape (1259, 3)\n",
      "df.shape             date     open    close\n",
      "1259  2013-02-08  67.7142  67.8542\n",
      "1260  2013-02-11  68.0714  68.5614\n",
      "1261  2013-02-12  68.5014  66.8428\n",
      "df.shape (1258, 5)\n",
      "df.shape          date     open    close  next_day_open  next_day_close\n",
      "0  2013-04-18  57.8557  56.0071        55.4242         55.7899\n",
      "1  2013-04-17  60.0385  57.5428        57.8557         56.0071\n",
      "2  2013-06-26  57.6999  56.8671        57.0357         56.2542\n"
     ]
    }
   ],
   "source": [
    "df = pd.read_csv('all_stocks_5yr.csv')\n",
    "df = df.loc[(df['Name'] == \"AAPL\")]\n",
    "df = df.drop('volume', 1)\n",
    "df = df.drop('high', 1)\n",
    "df = df.drop('low', 1)\n",
    "df = df.drop('Name', 1)\n",
    "print('df.shape',df.shape)\n",
    "print('df.shape',df[:3])\n",
    "df = df.sort_values('date').reset_index(drop=True)\n",
    "\n",
    "df['next_day_open'] = df['open'].shift(-1)\n",
    "df['next_day_close'] = df['close'].shift(-1)\n",
    "df = df.dropna()\n",
    "df = df.sort_values('next_day_close').reset_index(drop=True)\n",
    "print('df.shape',df.shape)\n",
    "print('df.shape',df[:3])"
   ]
  },
  {
   "cell_type": "code",
   "execution_count": null,
   "metadata": {
    "scrolled": true
   },
   "outputs": [
    {
     "name": "stderr",
     "output_type": "stream",
     "text": [
      "/Users/apple/anaconda/envs/HappyNewYear/lib/python3.5/importlib/_bootstrap.py:222: RuntimeWarning: compiletime version 3.6 of module 'tensorflow.python.framework.fast_tensor_util' does not match runtime version 3.5\n",
      "  return f(*args, **kwds)\n",
      "/Users/apple/anaconda/envs/HappyNewYear/lib/python3.5/site-packages/h5py/__init__.py:36: FutureWarning: Conversion of the second argument of issubdtype from `float` to `np.floating` is deprecated. In future, it will be treated as `np.float64 == np.dtype(float).type`.\n",
      "  from ._conv import register_converters as _register_converters\n",
      "27it [00:00, 267.19it/s]"
     ]
    },
    {
     "name": "stdout",
     "output_type": "stream",
     "text": [
      "start time: 2019-05-10 15:18:08.302535\n",
      "         date     open    close  next_day_open  next_day_close\n",
      "0  2013-04-18  57.8557  56.0071        55.4242         55.7899\n",
      "1  2013-04-17  60.0385  57.5428        57.8557         56.0071\n",
      "2  2013-06-26  57.6999  56.8671        57.0357         56.2542\n"
     ]
    },
    {
     "name": "stderr",
     "output_type": "stream",
     "text": [
      "1258it [00:04, 258.41it/s]\n"
     ]
    },
    {
     "name": "stdout",
     "output_type": "stream",
     "text": [
      "[array([60.0385, 57.5428, 57.8557, ..., 0, 0, 0], dtype=object)] [56.0071]\n",
      "before X.shape 1258\n",
      "before Y.shape 1258\n",
      "X_features_size 2721\n"
     ]
    },
    {
     "name": "stderr",
     "output_type": "stream",
     "text": [
      "/Users/apple/anaconda/envs/HappyNewYear/lib/python3.5/site-packages/tensorflow/python/ops/gradients_impl.py:100: UserWarning: Converting sparse IndexedSlices to a dense Tensor of unknown shape. This may consume a large amount of memory.\n",
      "  \"Converting sparse IndexedSlices to a dense Tensor of unknown shape. \"\n"
     ]
    },
    {
     "name": "stdout",
     "output_type": "stream",
     "text": [
      "===== EPOCH ======:  0\n",
      "INFO:tensorflow:Restoring parameters from ./trained_model\n"
     ]
    },
    {
     "name": "stderr",
     "output_type": "stream",
     "text": [
      "100%|██████████| 1256/1256 [00:03<00:00, 410.98it/s]\n"
     ]
    },
    {
     "name": "stdout",
     "output_type": "stream",
     "text": [
      "meanse:  942.9695321579647\n",
      "===== EPOCH ======:  1\n",
      "INFO:tensorflow:Restoring parameters from ./trained_model\n"
     ]
    },
    {
     "name": "stderr",
     "output_type": "stream",
     "text": [
      "100%|██████████| 1256/1256 [00:02<00:00, 431.41it/s]\n"
     ]
    },
    {
     "name": "stdout",
     "output_type": "stream",
     "text": [
      "meanse:  942.9633314260252\n",
      "===== EPOCH ======:  2\n",
      "INFO:tensorflow:Restoring parameters from ./trained_model\n"
     ]
    },
    {
     "name": "stderr",
     "output_type": "stream",
     "text": [
      "100%|██████████| 1256/1256 [00:02<00:00, 438.68it/s]\n"
     ]
    },
    {
     "name": "stdout",
     "output_type": "stream",
     "text": [
      "meanse:  942.9571715775569\n",
      "===== EPOCH ======:  3\n",
      "INFO:tensorflow:Restoring parameters from ./trained_model\n"
     ]
    },
    {
     "name": "stderr",
     "output_type": "stream",
     "text": [
      "100%|██████████| 1256/1256 [00:02<00:00, 420.41it/s]\n"
     ]
    },
    {
     "name": "stdout",
     "output_type": "stream",
     "text": [
      "meanse:  942.9508960649466\n",
      "===== EPOCH ======:  4\n",
      "INFO:tensorflow:Restoring parameters from ./trained_model\n"
     ]
    },
    {
     "name": "stderr",
     "output_type": "stream",
     "text": [
      "100%|██████████| 1256/1256 [00:02<00:00, 425.93it/s]\n"
     ]
    },
    {
     "name": "stdout",
     "output_type": "stream",
     "text": [
      "meanse:  942.944418009679\n",
      "===== EPOCH ======:  5\n",
      "INFO:tensorflow:Restoring parameters from ./trained_model\n"
     ]
    },
    {
     "name": "stderr",
     "output_type": "stream",
     "text": [
      "100%|██████████| 1256/1256 [00:03<00:00, 411.77it/s]\n"
     ]
    },
    {
     "name": "stdout",
     "output_type": "stream",
     "text": [
      "meanse:  942.937937702343\n",
      "===== EPOCH ======:  6\n",
      "INFO:tensorflow:Restoring parameters from ./trained_model\n"
     ]
    },
    {
     "name": "stderr",
     "output_type": "stream",
     "text": [
      "100%|██████████| 1256/1256 [00:02<00:00, 440.45it/s]\n"
     ]
    },
    {
     "name": "stdout",
     "output_type": "stream",
     "text": [
      "meanse:  942.9313174660798\n",
      "===== EPOCH ======:  7\n",
      "INFO:tensorflow:Restoring parameters from ./trained_model\n"
     ]
    },
    {
     "name": "stderr",
     "output_type": "stream",
     "text": [
      "100%|██████████| 1256/1256 [00:02<00:00, 455.78it/s]\n"
     ]
    },
    {
     "name": "stdout",
     "output_type": "stream",
     "text": [
      "meanse:  942.9248806739309\n",
      "===== EPOCH ======:  8\n",
      "INFO:tensorflow:Restoring parameters from ./trained_model\n"
     ]
    },
    {
     "name": "stderr",
     "output_type": "stream",
     "text": [
      "100%|██████████| 1256/1256 [00:03<00:00, 398.72it/s]\n"
     ]
    },
    {
     "name": "stdout",
     "output_type": "stream",
     "text": [
      "meanse:  942.918531194614\n",
      "===== EPOCH ======:  9\n",
      "INFO:tensorflow:Restoring parameters from ./trained_model\n"
     ]
    },
    {
     "name": "stderr",
     "output_type": "stream",
     "text": [
      "100%|██████████| 1256/1256 [00:02<00:00, 419.22it/s]\n"
     ]
    },
    {
     "name": "stdout",
     "output_type": "stream",
     "text": [
      "meanse:  942.9120374788904\n",
      "===== EPOCH ======:  10\n",
      "INFO:tensorflow:Restoring parameters from ./trained_model\n"
     ]
    },
    {
     "name": "stderr",
     "output_type": "stream",
     "text": [
      "100%|██████████| 1256/1256 [00:02<00:00, 428.71it/s]\n"
     ]
    },
    {
     "name": "stdout",
     "output_type": "stream",
     "text": [
      "meanse:  942.9056178551571\n",
      "===== EPOCH ======:  11\n",
      "INFO:tensorflow:Restoring parameters from ./trained_model\n"
     ]
    },
    {
     "name": "stderr",
     "output_type": "stream",
     "text": [
      "100%|██████████| 1256/1256 [00:03<00:00, 388.81it/s]\n"
     ]
    },
    {
     "name": "stdout",
     "output_type": "stream",
     "text": [
      "meanse:  942.8992528353527\n",
      "===== EPOCH ======:  12\n",
      "INFO:tensorflow:Restoring parameters from ./trained_model\n"
     ]
    },
    {
     "name": "stderr",
     "output_type": "stream",
     "text": [
      "100%|██████████| 1256/1256 [00:04<00:00, 313.94it/s]\n"
     ]
    },
    {
     "name": "stdout",
     "output_type": "stream",
     "text": [
      "meanse:  942.8927336604731\n",
      "===== EPOCH ======:  13\n",
      "INFO:tensorflow:Restoring parameters from ./trained_model\n"
     ]
    },
    {
     "name": "stderr",
     "output_type": "stream",
     "text": [
      "100%|██████████| 1256/1256 [00:03<00:00, 334.65it/s]\n"
     ]
    },
    {
     "name": "stdout",
     "output_type": "stream",
     "text": [
      "meanse:  942.8863757172967\n",
      "===== EPOCH ======:  14\n",
      "INFO:tensorflow:Restoring parameters from ./trained_model\n"
     ]
    },
    {
     "name": "stderr",
     "output_type": "stream",
     "text": [
      "100%|██████████| 1256/1256 [00:02<00:00, 424.09it/s]\n"
     ]
    },
    {
     "name": "stdout",
     "output_type": "stream",
     "text": [
      "meanse:  942.8797873759726\n",
      "===== EPOCH ======:  15\n",
      "INFO:tensorflow:Restoring parameters from ./trained_model\n"
     ]
    },
    {
     "name": "stderr",
     "output_type": "stream",
     "text": [
      "100%|██████████| 1256/1256 [00:02<00:00, 419.80it/s]\n"
     ]
    },
    {
     "name": "stdout",
     "output_type": "stream",
     "text": [
      "meanse:  942.8732405559273\n",
      "===== EPOCH ======:  16\n",
      "INFO:tensorflow:Restoring parameters from ./trained_model\n"
     ]
    },
    {
     "name": "stderr",
     "output_type": "stream",
     "text": [
      "100%|██████████| 1256/1256 [00:02<00:00, 453.66it/s]\n"
     ]
    },
    {
     "name": "stdout",
     "output_type": "stream",
     "text": [
      "meanse:  942.8669410283399\n",
      "===== EPOCH ======:  17\n",
      "INFO:tensorflow:Restoring parameters from ./trained_model\n"
     ]
    },
    {
     "name": "stderr",
     "output_type": "stream",
     "text": [
      "100%|██████████| 1256/1256 [00:02<00:00, 449.20it/s]\n"
     ]
    },
    {
     "name": "stdout",
     "output_type": "stream",
     "text": [
      "meanse:  942.8605497847697\n",
      "===== EPOCH ======:  18\n",
      "INFO:tensorflow:Restoring parameters from ./trained_model\n"
     ]
    },
    {
     "name": "stderr",
     "output_type": "stream",
     "text": [
      "100%|██████████| 1256/1256 [00:02<00:00, 425.23it/s]\n"
     ]
    },
    {
     "name": "stdout",
     "output_type": "stream",
     "text": [
      "meanse:  942.8541567340778\n",
      "===== EPOCH ======:  19\n",
      "INFO:tensorflow:Restoring parameters from ./trained_model\n"
     ]
    },
    {
     "name": "stderr",
     "output_type": "stream",
     "text": [
      "100%|██████████| 1256/1256 [00:03<00:00, 411.45it/s]\n"
     ]
    },
    {
     "name": "stdout",
     "output_type": "stream",
     "text": [
      "meanse:  942.8479445458977\n",
      "===== EPOCH ======:  20\n",
      "INFO:tensorflow:Restoring parameters from ./trained_model\n"
     ]
    },
    {
     "name": "stderr",
     "output_type": "stream",
     "text": [
      "100%|██████████| 1256/1256 [00:02<00:00, 446.21it/s]\n"
     ]
    },
    {
     "name": "stdout",
     "output_type": "stream",
     "text": [
      "meanse:  942.8417777544374\n",
      "===== EPOCH ======:  21\n",
      "INFO:tensorflow:Restoring parameters from ./trained_model\n"
     ]
    },
    {
     "name": "stderr",
     "output_type": "stream",
     "text": [
      "100%|██████████| 1256/1256 [00:03<00:00, 400.28it/s]\n"
     ]
    },
    {
     "name": "stdout",
     "output_type": "stream",
     "text": [
      "meanse:  942.8354658533813\n",
      "===== EPOCH ======:  22\n",
      "INFO:tensorflow:Restoring parameters from ./trained_model\n"
     ]
    },
    {
     "name": "stderr",
     "output_type": "stream",
     "text": [
      "100%|██████████| 1256/1256 [00:02<00:00, 447.75it/s]\n"
     ]
    },
    {
     "name": "stdout",
     "output_type": "stream",
     "text": [
      "meanse:  942.8288454971496\n",
      "===== EPOCH ======:  23\n",
      "INFO:tensorflow:Restoring parameters from ./trained_model\n"
     ]
    },
    {
     "name": "stderr",
     "output_type": "stream",
     "text": [
      "100%|██████████| 1256/1256 [00:03<00:00, 360.10it/s]\n"
     ]
    },
    {
     "name": "stdout",
     "output_type": "stream",
     "text": [
      "meanse:  942.8225367714645\n",
      "===== EPOCH ======:  24\n",
      "INFO:tensorflow:Restoring parameters from ./trained_model\n"
     ]
    },
    {
     "name": "stderr",
     "output_type": "stream",
     "text": [
      "100%|██████████| 1256/1256 [00:02<00:00, 429.25it/s]\n"
     ]
    },
    {
     "name": "stdout",
     "output_type": "stream",
     "text": [
      "meanse:  942.816233957649\n",
      "===== EPOCH ======:  25\n",
      "INFO:tensorflow:Restoring parameters from ./trained_model\n"
     ]
    },
    {
     "name": "stderr",
     "output_type": "stream",
     "text": [
      "100%|██████████| 1256/1256 [00:02<00:00, 451.29it/s]\n"
     ]
    },
    {
     "name": "stdout",
     "output_type": "stream",
     "text": [
      "meanse:  942.8096372299134\n",
      "===== EPOCH ======:  26\n",
      "INFO:tensorflow:Restoring parameters from ./trained_model\n"
     ]
    },
    {
     "name": "stderr",
     "output_type": "stream",
     "text": [
      "100%|██████████| 1256/1256 [00:02<00:00, 456.28it/s]\n"
     ]
    },
    {
     "name": "stdout",
     "output_type": "stream",
     "text": [
      "meanse:  942.8030648671897\n",
      "===== EPOCH ======:  27\n",
      "INFO:tensorflow:Restoring parameters from ./trained_model\n"
     ]
    },
    {
     "name": "stderr",
     "output_type": "stream",
     "text": [
      "100%|██████████| 1256/1256 [00:03<00:00, 370.17it/s]\n"
     ]
    },
    {
     "name": "stdout",
     "output_type": "stream",
     "text": [
      "meanse:  942.7965801232939\n",
      "===== EPOCH ======:  28\n",
      "INFO:tensorflow:Restoring parameters from ./trained_model\n"
     ]
    },
    {
     "name": "stderr",
     "output_type": "stream",
     "text": [
      "100%|██████████| 1256/1256 [00:03<00:00, 418.29it/s]\n"
     ]
    },
    {
     "name": "stdout",
     "output_type": "stream",
     "text": [
      "meanse:  942.790015539546\n",
      "===== EPOCH ======:  29\n",
      "INFO:tensorflow:Restoring parameters from ./trained_model\n"
     ]
    },
    {
     "name": "stderr",
     "output_type": "stream",
     "text": [
      "100%|██████████| 1256/1256 [00:02<00:00, 421.00it/s]\n"
     ]
    },
    {
     "name": "stdout",
     "output_type": "stream",
     "text": [
      "meanse:  942.7835415411906\n",
      "===== EPOCH ======:  30\n",
      "INFO:tensorflow:Restoring parameters from ./trained_model\n"
     ]
    },
    {
     "name": "stderr",
     "output_type": "stream",
     "text": [
      "100%|██████████| 1256/1256 [00:02<00:00, 442.03it/s]\n"
     ]
    },
    {
     "name": "stdout",
     "output_type": "stream",
     "text": [
      "meanse:  942.7769981804927\n",
      "===== EPOCH ======:  31\n",
      "INFO:tensorflow:Restoring parameters from ./trained_model\n"
     ]
    },
    {
     "name": "stderr",
     "output_type": "stream",
     "text": [
      "100%|██████████| 1256/1256 [00:02<00:00, 446.17it/s]\n"
     ]
    },
    {
     "name": "stdout",
     "output_type": "stream",
     "text": [
      "meanse:  942.7704865583189\n",
      "===== EPOCH ======:  32\n",
      "INFO:tensorflow:Restoring parameters from ./trained_model\n"
     ]
    },
    {
     "name": "stderr",
     "output_type": "stream",
     "text": [
      "100%|██████████| 1256/1256 [00:02<00:00, 449.44it/s]\n"
     ]
    },
    {
     "name": "stdout",
     "output_type": "stream",
     "text": [
      "meanse:  942.7642186067666\n",
      "===== EPOCH ======:  33\n",
      "INFO:tensorflow:Restoring parameters from ./trained_model\n"
     ]
    },
    {
     "name": "stderr",
     "output_type": "stream",
     "text": [
      "100%|██████████| 1256/1256 [00:02<00:00, 437.03it/s]\n"
     ]
    },
    {
     "name": "stdout",
     "output_type": "stream",
     "text": [
      "meanse:  942.7578939457608\n",
      "===== EPOCH ======:  34\n",
      "INFO:tensorflow:Restoring parameters from ./trained_model\n"
     ]
    },
    {
     "name": "stderr",
     "output_type": "stream",
     "text": [
      "100%|██████████| 1256/1256 [00:02<00:00, 436.40it/s]\n"
     ]
    },
    {
     "name": "stdout",
     "output_type": "stream",
     "text": [
      "meanse:  942.7514130393411\n",
      "===== EPOCH ======:  35\n",
      "INFO:tensorflow:Restoring parameters from ./trained_model\n"
     ]
    },
    {
     "name": "stderr",
     "output_type": "stream",
     "text": [
      "100%|██████████| 1256/1256 [00:02<00:00, 431.40it/s]\n"
     ]
    },
    {
     "name": "stdout",
     "output_type": "stream",
     "text": [
      "meanse:  942.7449104778326\n",
      "===== EPOCH ======:  36\n",
      "INFO:tensorflow:Restoring parameters from ./trained_model\n"
     ]
    },
    {
     "name": "stderr",
     "output_type": "stream",
     "text": [
      "100%|██████████| 1256/1256 [00:02<00:00, 425.89it/s]\n"
     ]
    },
    {
     "name": "stdout",
     "output_type": "stream",
     "text": [
      "meanse:  942.7383612067836\n",
      "===== EPOCH ======:  37\n",
      "INFO:tensorflow:Restoring parameters from ./trained_model\n"
     ]
    },
    {
     "name": "stderr",
     "output_type": "stream",
     "text": [
      "100%|██████████| 1256/1256 [00:02<00:00, 424.69it/s]\n"
     ]
    },
    {
     "name": "stdout",
     "output_type": "stream",
     "text": [
      "meanse:  942.7317417761323\n",
      "===== EPOCH ======:  38\n",
      "INFO:tensorflow:Restoring parameters from ./trained_model\n"
     ]
    },
    {
     "name": "stderr",
     "output_type": "stream",
     "text": [
      "100%|██████████| 1256/1256 [00:03<00:00, 401.35it/s]\n"
     ]
    },
    {
     "name": "stdout",
     "output_type": "stream",
     "text": [
      "meanse:  942.7253058678026\n",
      "===== EPOCH ======:  39\n",
      "INFO:tensorflow:Restoring parameters from ./trained_model\n"
     ]
    },
    {
     "name": "stderr",
     "output_type": "stream",
     "text": [
      "100%|██████████| 1256/1256 [00:03<00:00, 384.72it/s]\n"
     ]
    },
    {
     "name": "stdout",
     "output_type": "stream",
     "text": [
      "meanse:  942.7187966320924\n",
      "===== EPOCH ======:  40\n",
      "INFO:tensorflow:Restoring parameters from ./trained_model\n"
     ]
    },
    {
     "name": "stderr",
     "output_type": "stream",
     "text": [
      "100%|██████████| 1256/1256 [00:04<00:00, 284.75it/s]\n"
     ]
    },
    {
     "name": "stdout",
     "output_type": "stream",
     "text": [
      "meanse:  942.7124016497545\n",
      "===== EPOCH ======:  41\n",
      "INFO:tensorflow:Restoring parameters from ./trained_model\n"
     ]
    },
    {
     "name": "stderr",
     "output_type": "stream",
     "text": [
      "100%|██████████| 1256/1256 [00:03<00:00, 384.54it/s]\n"
     ]
    },
    {
     "name": "stdout",
     "output_type": "stream",
     "text": [
      "meanse:  942.7060156460781\n",
      "===== EPOCH ======:  42\n",
      "INFO:tensorflow:Restoring parameters from ./trained_model\n"
     ]
    },
    {
     "name": "stderr",
     "output_type": "stream",
     "text": [
      "100%|██████████| 1256/1256 [00:04<00:00, 311.91it/s]\n"
     ]
    },
    {
     "name": "stdout",
     "output_type": "stream",
     "text": [
      "meanse:  942.6995222652034\n",
      "===== EPOCH ======:  43\n",
      "INFO:tensorflow:Restoring parameters from ./trained_model\n"
     ]
    },
    {
     "name": "stderr",
     "output_type": "stream",
     "text": [
      "100%|██████████| 1256/1256 [00:04<00:00, 311.40it/s]\n"
     ]
    },
    {
     "name": "stdout",
     "output_type": "stream",
     "text": [
      "meanse:  942.6931361787638\n",
      "===== EPOCH ======:  44\n",
      "INFO:tensorflow:Restoring parameters from ./trained_model\n"
     ]
    },
    {
     "name": "stderr",
     "output_type": "stream",
     "text": [
      "100%|██████████| 1256/1256 [00:03<00:00, 400.79it/s]\n"
     ]
    },
    {
     "name": "stdout",
     "output_type": "stream",
     "text": [
      "meanse:  942.6865921916476\n",
      "===== EPOCH ======:  45\n",
      "INFO:tensorflow:Restoring parameters from ./trained_model\n"
     ]
    },
    {
     "name": "stderr",
     "output_type": "stream",
     "text": [
      "100%|██████████| 1256/1256 [00:03<00:00, 416.43it/s]\n"
     ]
    },
    {
     "name": "stdout",
     "output_type": "stream",
     "text": [
      "meanse:  942.6801667129918\n",
      "===== EPOCH ======:  46\n",
      "INFO:tensorflow:Restoring parameters from ./trained_model\n"
     ]
    },
    {
     "name": "stderr",
     "output_type": "stream",
     "text": [
      "100%|██████████| 1256/1256 [00:02<00:00, 431.43it/s]\n"
     ]
    },
    {
     "name": "stdout",
     "output_type": "stream",
     "text": [
      "meanse:  942.6739898920059\n",
      "===== EPOCH ======:  47\n",
      "INFO:tensorflow:Restoring parameters from ./trained_model\n"
     ]
    },
    {
     "name": "stderr",
     "output_type": "stream",
     "text": [
      "100%|██████████| 1256/1256 [00:02<00:00, 449.15it/s]\n"
     ]
    },
    {
     "name": "stdout",
     "output_type": "stream",
     "text": [
      "meanse:  942.6674731499071\n",
      "===== EPOCH ======:  48\n",
      "INFO:tensorflow:Restoring parameters from ./trained_model\n"
     ]
    },
    {
     "name": "stderr",
     "output_type": "stream",
     "text": [
      "100%|██████████| 1256/1256 [00:02<00:00, 462.76it/s]\n"
     ]
    },
    {
     "name": "stdout",
     "output_type": "stream",
     "text": [
      "meanse:  942.6611398154763\n",
      "===== EPOCH ======:  49\n",
      "INFO:tensorflow:Restoring parameters from ./trained_model\n"
     ]
    },
    {
     "name": "stderr",
     "output_type": "stream",
     "text": [
      "100%|██████████| 1256/1256 [00:02<00:00, 441.83it/s]\n"
     ]
    },
    {
     "name": "stdout",
     "output_type": "stream",
     "text": [
      "meanse:  942.6549639124779\n",
      "===== EPOCH ======:  50\n",
      "INFO:tensorflow:Restoring parameters from ./trained_model\n"
     ]
    },
    {
     "name": "stderr",
     "output_type": "stream",
     "text": [
      "100%|██████████| 1256/1256 [00:02<00:00, 449.76it/s]\n"
     ]
    },
    {
     "name": "stdout",
     "output_type": "stream",
     "text": [
      "meanse:  942.6486827636221\n",
      "===== EPOCH ======:  51\n",
      "INFO:tensorflow:Restoring parameters from ./trained_model\n"
     ]
    },
    {
     "name": "stderr",
     "output_type": "stream",
     "text": [
      "100%|██████████| 1256/1256 [00:02<00:00, 459.48it/s]\n"
     ]
    },
    {
     "name": "stdout",
     "output_type": "stream",
     "text": [
      "meanse:  942.6423020993069\n",
      "===== EPOCH ======:  52\n",
      "INFO:tensorflow:Restoring parameters from ./trained_model\n"
     ]
    },
    {
     "name": "stderr",
     "output_type": "stream",
     "text": [
      "100%|██████████| 1256/1256 [00:02<00:00, 433.42it/s]\n"
     ]
    },
    {
     "name": "stdout",
     "output_type": "stream",
     "text": [
      "meanse:  942.6358464538671\n",
      "===== EPOCH ======:  53\n",
      "INFO:tensorflow:Restoring parameters from ./trained_model\n"
     ]
    },
    {
     "name": "stderr",
     "output_type": "stream",
     "text": [
      "100%|██████████| 1256/1256 [00:02<00:00, 455.64it/s]\n"
     ]
    },
    {
     "name": "stdout",
     "output_type": "stream",
     "text": [
      "meanse:  942.6295840854098\n",
      "===== EPOCH ======:  54\n",
      "INFO:tensorflow:Restoring parameters from ./trained_model\n"
     ]
    },
    {
     "name": "stderr",
     "output_type": "stream",
     "text": [
      "100%|██████████| 1256/1256 [00:03<00:00, 356.23it/s]\n"
     ]
    },
    {
     "name": "stdout",
     "output_type": "stream",
     "text": [
      "meanse:  942.6230748717193\n",
      "===== EPOCH ======:  55\n",
      "INFO:tensorflow:Restoring parameters from ./trained_model\n"
     ]
    },
    {
     "name": "stderr",
     "output_type": "stream",
     "text": [
      "100%|██████████| 1256/1256 [00:03<00:00, 390.88it/s]\n"
     ]
    },
    {
     "name": "stdout",
     "output_type": "stream",
     "text": [
      "meanse:  942.6167309064015\n",
      "===== EPOCH ======:  56\n",
      "INFO:tensorflow:Restoring parameters from ./trained_model\n"
     ]
    },
    {
     "name": "stderr",
     "output_type": "stream",
     "text": [
      "100%|██████████| 1256/1256 [00:03<00:00, 404.36it/s]\n"
     ]
    },
    {
     "name": "stdout",
     "output_type": "stream",
     "text": [
      "meanse:  942.6103202362729\n",
      "===== EPOCH ======:  57\n",
      "INFO:tensorflow:Restoring parameters from ./trained_model\n"
     ]
    },
    {
     "name": "stderr",
     "output_type": "stream",
     "text": [
      "100%|██████████| 1256/1256 [00:03<00:00, 416.07it/s]\n"
     ]
    },
    {
     "name": "stdout",
     "output_type": "stream",
     "text": [
      "meanse:  942.6039232106725\n",
      "===== EPOCH ======:  58\n",
      "INFO:tensorflow:Restoring parameters from ./trained_model\n"
     ]
    },
    {
     "name": "stderr",
     "output_type": "stream",
     "text": [
      "100%|██████████| 1256/1256 [00:02<00:00, 451.15it/s]\n"
     ]
    },
    {
     "name": "stdout",
     "output_type": "stream",
     "text": [
      "meanse:  942.5976309829457\n",
      "===== EPOCH ======:  59\n",
      "INFO:tensorflow:Restoring parameters from ./trained_model\n"
     ]
    },
    {
     "name": "stderr",
     "output_type": "stream",
     "text": [
      "100%|██████████| 1256/1256 [00:02<00:00, 462.29it/s]\n"
     ]
    },
    {
     "name": "stdout",
     "output_type": "stream",
     "text": [
      "meanse:  942.5913190917604\n",
      "===== EPOCH ======:  60\n",
      "INFO:tensorflow:Restoring parameters from ./trained_model\n"
     ]
    },
    {
     "name": "stderr",
     "output_type": "stream",
     "text": [
      "100%|██████████| 1256/1256 [00:02<00:00, 454.48it/s]\n"
     ]
    },
    {
     "name": "stdout",
     "output_type": "stream",
     "text": [
      "meanse:  942.5851878922456\n",
      "===== EPOCH ======:  61\n",
      "INFO:tensorflow:Restoring parameters from ./trained_model\n"
     ]
    },
    {
     "name": "stderr",
     "output_type": "stream",
     "text": [
      "100%|██████████| 1256/1256 [00:02<00:00, 449.16it/s]\n"
     ]
    },
    {
     "name": "stdout",
     "output_type": "stream",
     "text": [
      "meanse:  942.5788017913794\n",
      "===== EPOCH ======:  62\n",
      "INFO:tensorflow:Restoring parameters from ./trained_model\n"
     ]
    },
    {
     "name": "stderr",
     "output_type": "stream",
     "text": [
      "100%|██████████| 1256/1256 [00:02<00:00, 428.74it/s]\n"
     ]
    },
    {
     "name": "stdout",
     "output_type": "stream",
     "text": [
      "meanse:  942.5724917551514\n",
      "===== EPOCH ======:  63\n",
      "INFO:tensorflow:Restoring parameters from ./trained_model\n"
     ]
    },
    {
     "name": "stderr",
     "output_type": "stream",
     "text": [
      "100%|██████████| 1256/1256 [00:02<00:00, 438.54it/s]\n"
     ]
    },
    {
     "name": "stdout",
     "output_type": "stream",
     "text": [
      "meanse:  942.5662826626165\n",
      "===== EPOCH ======:  64\n",
      "INFO:tensorflow:Restoring parameters from ./trained_model\n"
     ]
    },
    {
     "name": "stderr",
     "output_type": "stream",
     "text": [
      "100%|██████████| 1256/1256 [00:02<00:00, 458.93it/s]\n"
     ]
    },
    {
     "name": "stdout",
     "output_type": "stream",
     "text": [
      "meanse:  942.5602082818937\n",
      "===== EPOCH ======:  65\n",
      "INFO:tensorflow:Restoring parameters from ./trained_model\n"
     ]
    },
    {
     "name": "stderr",
     "output_type": "stream",
     "text": [
      "100%|██████████| 1256/1256 [00:02<00:00, 458.74it/s]\n"
     ]
    },
    {
     "name": "stdout",
     "output_type": "stream",
     "text": [
      "meanse:  942.5537657479572\n",
      "===== EPOCH ======:  66\n",
      "INFO:tensorflow:Restoring parameters from ./trained_model\n"
     ]
    },
    {
     "name": "stderr",
     "output_type": "stream",
     "text": [
      "100%|██████████| 1256/1256 [00:02<00:00, 453.71it/s]\n"
     ]
    },
    {
     "name": "stdout",
     "output_type": "stream",
     "text": [
      "meanse:  942.5472818696575\n",
      "===== EPOCH ======:  67\n",
      "INFO:tensorflow:Restoring parameters from ./trained_model\n"
     ]
    },
    {
     "name": "stderr",
     "output_type": "stream",
     "text": [
      "100%|██████████| 1256/1256 [00:02<00:00, 451.15it/s]\n"
     ]
    },
    {
     "name": "stdout",
     "output_type": "stream",
     "text": [
      "meanse:  942.5408871181452\n",
      "===== EPOCH ======:  68\n",
      "INFO:tensorflow:Restoring parameters from ./trained_model\n"
     ]
    },
    {
     "name": "stderr",
     "output_type": "stream",
     "text": [
      "100%|██████████| 1256/1256 [00:02<00:00, 463.89it/s]\n"
     ]
    },
    {
     "name": "stdout",
     "output_type": "stream",
     "text": [
      "meanse:  942.534443477916\n",
      "===== EPOCH ======:  69\n",
      "INFO:tensorflow:Restoring parameters from ./trained_model\n"
     ]
    },
    {
     "name": "stderr",
     "output_type": "stream",
     "text": [
      "100%|██████████| 1256/1256 [00:02<00:00, 460.08it/s]\n"
     ]
    },
    {
     "name": "stdout",
     "output_type": "stream",
     "text": [
      "meanse:  942.5281191411292\n",
      "===== EPOCH ======:  70\n",
      "INFO:tensorflow:Restoring parameters from ./trained_model\n"
     ]
    },
    {
     "name": "stderr",
     "output_type": "stream",
     "text": [
      "100%|██████████| 1256/1256 [00:02<00:00, 459.33it/s]\n"
     ]
    },
    {
     "name": "stdout",
     "output_type": "stream",
     "text": [
      "meanse:  942.5222028584997\n",
      "===== EPOCH ======:  71\n",
      "INFO:tensorflow:Restoring parameters from ./trained_model\n"
     ]
    },
    {
     "name": "stderr",
     "output_type": "stream",
     "text": [
      "100%|██████████| 1256/1256 [00:02<00:00, 464.21it/s]\n"
     ]
    },
    {
     "name": "stdout",
     "output_type": "stream",
     "text": [
      "meanse:  942.5160041394507\n",
      "===== EPOCH ======:  72\n",
      "INFO:tensorflow:Restoring parameters from ./trained_model\n"
     ]
    },
    {
     "name": "stderr",
     "output_type": "stream",
     "text": [
      "100%|██████████| 1256/1256 [00:02<00:00, 461.95it/s]\n"
     ]
    },
    {
     "name": "stdout",
     "output_type": "stream",
     "text": [
      "meanse:  942.5096061047475\n",
      "===== EPOCH ======:  73\n",
      "INFO:tensorflow:Restoring parameters from ./trained_model\n"
     ]
    },
    {
     "name": "stderr",
     "output_type": "stream",
     "text": [
      "100%|██████████| 1256/1256 [00:02<00:00, 464.12it/s]\n"
     ]
    },
    {
     "name": "stdout",
     "output_type": "stream",
     "text": [
      "meanse:  942.5033127365598\n",
      "===== EPOCH ======:  74\n",
      "INFO:tensorflow:Restoring parameters from ./trained_model\n"
     ]
    },
    {
     "name": "stderr",
     "output_type": "stream",
     "text": [
      "100%|██████████| 1256/1256 [00:02<00:00, 462.30it/s]\n"
     ]
    },
    {
     "name": "stdout",
     "output_type": "stream",
     "text": [
      "meanse:  942.4969350820894\n",
      "===== EPOCH ======:  75\n",
      "INFO:tensorflow:Restoring parameters from ./trained_model\n"
     ]
    },
    {
     "name": "stderr",
     "output_type": "stream",
     "text": [
      "100%|██████████| 1256/1256 [00:02<00:00, 463.11it/s]\n"
     ]
    },
    {
     "name": "stdout",
     "output_type": "stream",
     "text": [
      "meanse:  942.4905210778971\n",
      "===== EPOCH ======:  76\n",
      "INFO:tensorflow:Restoring parameters from ./trained_model\n"
     ]
    },
    {
     "name": "stderr",
     "output_type": "stream",
     "text": [
      "100%|██████████| 1256/1256 [00:02<00:00, 462.77it/s]\n"
     ]
    },
    {
     "name": "stdout",
     "output_type": "stream",
     "text": [
      "meanse:  942.484214885979\n",
      "===== EPOCH ======:  77\n",
      "INFO:tensorflow:Restoring parameters from ./trained_model\n"
     ]
    },
    {
     "name": "stderr",
     "output_type": "stream",
     "text": [
      "100%|██████████| 1256/1256 [00:02<00:00, 458.02it/s]\n"
     ]
    },
    {
     "name": "stdout",
     "output_type": "stream",
     "text": [
      "meanse:  942.4779090987649\n",
      "===== EPOCH ======:  78\n",
      "INFO:tensorflow:Restoring parameters from ./trained_model\n"
     ]
    },
    {
     "name": "stderr",
     "output_type": "stream",
     "text": [
      "100%|██████████| 1256/1256 [00:02<00:00, 459.54it/s]\n"
     ]
    },
    {
     "name": "stdout",
     "output_type": "stream",
     "text": [
      "meanse:  942.4716347516722\n",
      "===== EPOCH ======:  79\n",
      "INFO:tensorflow:Restoring parameters from ./trained_model\n"
     ]
    },
    {
     "name": "stderr",
     "output_type": "stream",
     "text": [
      "100%|██████████| 1256/1256 [00:02<00:00, 443.92it/s]\n"
     ]
    },
    {
     "name": "stdout",
     "output_type": "stream",
     "text": [
      "meanse:  942.4653885964375\n",
      "===== EPOCH ======:  80\n",
      "INFO:tensorflow:Restoring parameters from ./trained_model\n"
     ]
    },
    {
     "name": "stderr",
     "output_type": "stream",
     "text": [
      "100%|██████████| 1256/1256 [00:02<00:00, 461.11it/s]\n"
     ]
    },
    {
     "name": "stdout",
     "output_type": "stream",
     "text": [
      "meanse:  942.4592565434754\n",
      "===== EPOCH ======:  81\n",
      "INFO:tensorflow:Restoring parameters from ./trained_model\n"
     ]
    },
    {
     "name": "stderr",
     "output_type": "stream",
     "text": [
      "100%|██████████| 1256/1256 [00:02<00:00, 460.43it/s]\n"
     ]
    },
    {
     "name": "stdout",
     "output_type": "stream",
     "text": [
      "meanse:  942.453096656283\n",
      "===== EPOCH ======:  82\n",
      "INFO:tensorflow:Restoring parameters from ./trained_model\n"
     ]
    },
    {
     "name": "stderr",
     "output_type": "stream",
     "text": [
      "100%|██████████| 1256/1256 [00:02<00:00, 456.53it/s]\n"
     ]
    },
    {
     "name": "stdout",
     "output_type": "stream",
     "text": [
      "meanse:  942.4469394805325\n",
      "===== EPOCH ======:  83\n",
      "INFO:tensorflow:Restoring parameters from ./trained_model\n"
     ]
    },
    {
     "name": "stderr",
     "output_type": "stream",
     "text": [
      "100%|██████████| 1256/1256 [00:02<00:00, 462.13it/s]\n"
     ]
    },
    {
     "name": "stdout",
     "output_type": "stream",
     "text": [
      "meanse:  942.4408390081612\n",
      "===== EPOCH ======:  84\n",
      "INFO:tensorflow:Restoring parameters from ./trained_model\n"
     ]
    },
    {
     "name": "stderr",
     "output_type": "stream",
     "text": [
      "100%|██████████| 1256/1256 [00:02<00:00, 462.99it/s]\n"
     ]
    },
    {
     "name": "stdout",
     "output_type": "stream",
     "text": [
      "meanse:  942.4346755522831\n",
      "===== EPOCH ======:  85\n",
      "INFO:tensorflow:Restoring parameters from ./trained_model\n"
     ]
    },
    {
     "name": "stderr",
     "output_type": "stream",
     "text": [
      "100%|██████████| 1256/1256 [00:02<00:00, 461.45it/s]\n"
     ]
    },
    {
     "name": "stdout",
     "output_type": "stream",
     "text": [
      "meanse:  942.428286116594\n",
      "===== EPOCH ======:  86\n",
      "INFO:tensorflow:Restoring parameters from ./trained_model\n"
     ]
    },
    {
     "name": "stderr",
     "output_type": "stream",
     "text": [
      "100%|██████████| 1256/1256 [00:02<00:00, 458.67it/s]\n"
     ]
    },
    {
     "name": "stdout",
     "output_type": "stream",
     "text": [
      "meanse:  942.4220989722355\n",
      "===== EPOCH ======:  87\n",
      "INFO:tensorflow:Restoring parameters from ./trained_model\n"
     ]
    },
    {
     "name": "stderr",
     "output_type": "stream",
     "text": [
      "100%|██████████| 1256/1256 [00:02<00:00, 461.39it/s]\n"
     ]
    },
    {
     "name": "stdout",
     "output_type": "stream",
     "text": [
      "meanse:  942.4159898264393\n",
      "===== EPOCH ======:  88\n",
      "INFO:tensorflow:Restoring parameters from ./trained_model\n"
     ]
    },
    {
     "name": "stderr",
     "output_type": "stream",
     "text": [
      "100%|██████████| 1256/1256 [00:02<00:00, 462.45it/s]\n"
     ]
    },
    {
     "name": "stdout",
     "output_type": "stream",
     "text": [
      "meanse:  942.4099911231144\n",
      "===== EPOCH ======:  89\n",
      "INFO:tensorflow:Restoring parameters from ./trained_model\n"
     ]
    },
    {
     "name": "stderr",
     "output_type": "stream",
     "text": [
      "100%|██████████| 1256/1256 [00:02<00:00, 461.10it/s]\n"
     ]
    },
    {
     "name": "stdout",
     "output_type": "stream",
     "text": [
      "meanse:  942.4038749697861\n",
      "===== EPOCH ======:  90\n",
      "INFO:tensorflow:Restoring parameters from ./trained_model\n"
     ]
    },
    {
     "name": "stderr",
     "output_type": "stream",
     "text": [
      "100%|██████████| 1256/1256 [00:02<00:00, 464.29it/s]\n"
     ]
    },
    {
     "name": "stdout",
     "output_type": "stream",
     "text": [
      "meanse:  942.3978318431575\n",
      "===== EPOCH ======:  91\n",
      "INFO:tensorflow:Restoring parameters from ./trained_model\n"
     ]
    },
    {
     "name": "stderr",
     "output_type": "stream",
     "text": [
      "100%|██████████| 1256/1256 [00:02<00:00, 463.54it/s]\n"
     ]
    },
    {
     "name": "stdout",
     "output_type": "stream",
     "text": [
      "meanse:  942.3915606448605\n",
      "===== EPOCH ======:  92\n",
      "INFO:tensorflow:Restoring parameters from ./trained_model\n"
     ]
    },
    {
     "name": "stderr",
     "output_type": "stream",
     "text": [
      "100%|██████████| 1256/1256 [00:02<00:00, 460.62it/s]\n"
     ]
    },
    {
     "name": "stdout",
     "output_type": "stream",
     "text": [
      "meanse:  942.3854641033586\n",
      "===== EPOCH ======:  93\n",
      "INFO:tensorflow:Restoring parameters from ./trained_model\n"
     ]
    },
    {
     "name": "stderr",
     "output_type": "stream",
     "text": [
      "100%|██████████| 1256/1256 [00:02<00:00, 464.64it/s]\n"
     ]
    },
    {
     "name": "stdout",
     "output_type": "stream",
     "text": [
      "meanse:  942.3793039648397\n",
      "===== EPOCH ======:  94\n",
      "INFO:tensorflow:Restoring parameters from ./trained_model\n"
     ]
    },
    {
     "name": "stderr",
     "output_type": "stream",
     "text": [
      "100%|██████████| 1256/1256 [00:02<00:00, 466.05it/s]\n"
     ]
    },
    {
     "name": "stdout",
     "output_type": "stream",
     "text": [
      "meanse:  942.373221428531\n",
      "===== EPOCH ======:  95\n",
      "INFO:tensorflow:Restoring parameters from ./trained_model\n"
     ]
    },
    {
     "name": "stderr",
     "output_type": "stream",
     "text": [
      "100%|██████████| 1256/1256 [00:02<00:00, 460.96it/s]\n"
     ]
    },
    {
     "name": "stdout",
     "output_type": "stream",
     "text": [
      "meanse:  942.3674255229865\n",
      "===== EPOCH ======:  96\n",
      "INFO:tensorflow:Restoring parameters from ./trained_model\n"
     ]
    },
    {
     "name": "stderr",
     "output_type": "stream",
     "text": [
      "100%|██████████| 1256/1256 [00:02<00:00, 463.57it/s]\n"
     ]
    },
    {
     "name": "stdout",
     "output_type": "stream",
     "text": [
      "meanse:  942.3613061267099\n",
      "===== EPOCH ======:  97\n",
      "INFO:tensorflow:Restoring parameters from ./trained_model\n"
     ]
    },
    {
     "name": "stderr",
     "output_type": "stream",
     "text": [
      "100%|██████████| 1256/1256 [00:03<00:00, 393.86it/s]\n"
     ]
    },
    {
     "name": "stdout",
     "output_type": "stream",
     "text": [
      "meanse:  942.3553877248886\n",
      "===== EPOCH ======:  98\n",
      "INFO:tensorflow:Restoring parameters from ./trained_model\n"
     ]
    },
    {
     "name": "stderr",
     "output_type": "stream",
     "text": [
      "100%|██████████| 1256/1256 [00:03<00:00, 320.12it/s]\n"
     ]
    },
    {
     "name": "stdout",
     "output_type": "stream",
     "text": [
      "meanse:  942.3492742746499\n",
      "===== EPOCH ======:  99\n",
      "INFO:tensorflow:Restoring parameters from ./trained_model\n"
     ]
    },
    {
     "name": "stderr",
     "output_type": "stream",
     "text": [
      "100%|██████████| 1256/1256 [00:04<00:00, 300.65it/s]\n"
     ]
    },
    {
     "name": "stdout",
     "output_type": "stream",
     "text": [
      "meanse:  942.3431315543545\n",
      "===== EPOCH ======:  100\n",
      "INFO:tensorflow:Restoring parameters from ./trained_model\n"
     ]
    },
    {
     "name": "stderr",
     "output_type": "stream",
     "text": [
      "100%|██████████| 1256/1256 [00:03<00:00, 350.22it/s]\n"
     ]
    },
    {
     "name": "stdout",
     "output_type": "stream",
     "text": [
      "meanse:  942.3370568258747\n",
      "===== EPOCH ======:  101\n",
      "INFO:tensorflow:Restoring parameters from ./trained_model\n"
     ]
    },
    {
     "name": "stderr",
     "output_type": "stream",
     "text": [
      "100%|██████████| 1256/1256 [00:03<00:00, 361.56it/s]\n"
     ]
    },
    {
     "name": "stdout",
     "output_type": "stream",
     "text": [
      "meanse:  942.3310756106285\n",
      "===== EPOCH ======:  102\n",
      "INFO:tensorflow:Restoring parameters from ./trained_model\n"
     ]
    },
    {
     "name": "stderr",
     "output_type": "stream",
     "text": [
      "100%|██████████| 1256/1256 [00:03<00:00, 416.80it/s]\n"
     ]
    },
    {
     "name": "stdout",
     "output_type": "stream",
     "text": [
      "meanse:  942.3248201889597\n",
      "===== EPOCH ======:  103\n",
      "INFO:tensorflow:Restoring parameters from ./trained_model\n"
     ]
    },
    {
     "name": "stderr",
     "output_type": "stream",
     "text": [
      "100%|██████████| 1256/1256 [00:02<00:00, 439.11it/s]\n"
     ]
    },
    {
     "name": "stdout",
     "output_type": "stream",
     "text": [
      "meanse:  942.3185914640974\n",
      "===== EPOCH ======:  104\n",
      "INFO:tensorflow:Restoring parameters from ./trained_model\n"
     ]
    },
    {
     "name": "stderr",
     "output_type": "stream",
     "text": [
      "100%|██████████| 1256/1256 [00:02<00:00, 434.87it/s]\n"
     ]
    },
    {
     "name": "stdout",
     "output_type": "stream",
     "text": [
      "meanse:  942.3123733640476\n",
      "===== EPOCH ======:  105\n",
      "INFO:tensorflow:Restoring parameters from ./trained_model\n"
     ]
    },
    {
     "name": "stderr",
     "output_type": "stream",
     "text": [
      "100%|██████████| 1256/1256 [00:03<00:00, 381.34it/s]\n"
     ]
    },
    {
     "name": "stdout",
     "output_type": "stream",
     "text": [
      "meanse:  942.3061783116334\n",
      "===== EPOCH ======:  106\n",
      "INFO:tensorflow:Restoring parameters from ./trained_model\n"
     ]
    },
    {
     "name": "stderr",
     "output_type": "stream",
     "text": [
      "100%|██████████| 1256/1256 [00:02<00:00, 438.94it/s]\n"
     ]
    },
    {
     "name": "stdout",
     "output_type": "stream",
     "text": [
      "meanse:  942.2999914611221\n",
      "===== EPOCH ======:  107\n",
      "INFO:tensorflow:Restoring parameters from ./trained_model\n"
     ]
    },
    {
     "name": "stderr",
     "output_type": "stream",
     "text": [
      "100%|██████████| 1256/1256 [00:02<00:00, 440.40it/s]\n"
     ]
    },
    {
     "name": "stdout",
     "output_type": "stream",
     "text": [
      "meanse:  942.2939006431847\n",
      "===== EPOCH ======:  108\n",
      "INFO:tensorflow:Restoring parameters from ./trained_model\n"
     ]
    },
    {
     "name": "stderr",
     "output_type": "stream",
     "text": [
      "100%|██████████| 1256/1256 [00:02<00:00, 437.06it/s]\n"
     ]
    },
    {
     "name": "stdout",
     "output_type": "stream",
     "text": [
      "meanse:  942.2875885659722\n",
      "===== EPOCH ======:  109\n",
      "INFO:tensorflow:Restoring parameters from ./trained_model\n"
     ]
    },
    {
     "name": "stderr",
     "output_type": "stream",
     "text": [
      "100%|██████████| 1256/1256 [00:02<00:00, 439.92it/s]\n"
     ]
    },
    {
     "name": "stdout",
     "output_type": "stream",
     "text": [
      "meanse:  942.2814740914448\n",
      "===== EPOCH ======:  110\n",
      "INFO:tensorflow:Restoring parameters from ./trained_model\n"
     ]
    },
    {
     "name": "stderr",
     "output_type": "stream",
     "text": [
      "100%|██████████| 1256/1256 [00:02<00:00, 434.22it/s]\n"
     ]
    },
    {
     "name": "stdout",
     "output_type": "stream",
     "text": [
      "meanse:  942.2756179715418\n",
      "===== EPOCH ======:  111\n",
      "INFO:tensorflow:Restoring parameters from ./trained_model\n"
     ]
    },
    {
     "name": "stderr",
     "output_type": "stream",
     "text": [
      "100%|██████████| 1256/1256 [00:02<00:00, 431.46it/s]\n"
     ]
    },
    {
     "name": "stdout",
     "output_type": "stream",
     "text": [
      "meanse:  942.2696647993318\n",
      "===== EPOCH ======:  112\n",
      "INFO:tensorflow:Restoring parameters from ./trained_model\n"
     ]
    },
    {
     "name": "stderr",
     "output_type": "stream",
     "text": [
      "100%|██████████| 1256/1256 [00:02<00:00, 434.49it/s]\n"
     ]
    },
    {
     "name": "stdout",
     "output_type": "stream",
     "text": [
      "meanse:  942.2636686700165\n",
      "===== EPOCH ======:  113\n",
      "INFO:tensorflow:Restoring parameters from ./trained_model\n"
     ]
    },
    {
     "name": "stderr",
     "output_type": "stream",
     "text": [
      "100%|██████████| 1256/1256 [00:02<00:00, 436.51it/s]\n"
     ]
    },
    {
     "name": "stdout",
     "output_type": "stream",
     "text": [
      "meanse:  942.2575880478902\n",
      "===== EPOCH ======:  114\n",
      "INFO:tensorflow:Restoring parameters from ./trained_model\n"
     ]
    },
    {
     "name": "stderr",
     "output_type": "stream",
     "text": [
      "100%|██████████| 1256/1256 [00:02<00:00, 423.52it/s]\n"
     ]
    },
    {
     "name": "stdout",
     "output_type": "stream",
     "text": [
      "meanse:  942.2513415722331\n",
      "===== EPOCH ======:  115\n",
      "INFO:tensorflow:Restoring parameters from ./trained_model\n"
     ]
    },
    {
     "name": "stderr",
     "output_type": "stream",
     "text": [
      "100%|██████████| 1256/1256 [00:02<00:00, 423.40it/s]\n"
     ]
    },
    {
     "name": "stdout",
     "output_type": "stream",
     "text": [
      "meanse:  942.2453931235964\n",
      "===== EPOCH ======:  116\n",
      "INFO:tensorflow:Restoring parameters from ./trained_model\n"
     ]
    },
    {
     "name": "stderr",
     "output_type": "stream",
     "text": [
      "100%|██████████| 1256/1256 [00:02<00:00, 451.40it/s]\n"
     ]
    },
    {
     "name": "stdout",
     "output_type": "stream",
     "text": [
      "meanse:  942.239506266679\n",
      "===== EPOCH ======:  117\n",
      "INFO:tensorflow:Restoring parameters from ./trained_model\n"
     ]
    },
    {
     "name": "stderr",
     "output_type": "stream",
     "text": [
      "100%|██████████| 1256/1256 [00:02<00:00, 447.16it/s]\n"
     ]
    },
    {
     "name": "stdout",
     "output_type": "stream",
     "text": [
      "meanse:  942.2335906400803\n",
      "===== EPOCH ======:  118\n",
      "INFO:tensorflow:Restoring parameters from ./trained_model\n"
     ]
    },
    {
     "name": "stderr",
     "output_type": "stream",
     "text": [
      "100%|██████████| 1256/1256 [00:02<00:00, 451.72it/s]\n"
     ]
    },
    {
     "name": "stdout",
     "output_type": "stream",
     "text": [
      "meanse:  942.2274752346574\n",
      "===== EPOCH ======:  119\n",
      "INFO:tensorflow:Restoring parameters from ./trained_model\n"
     ]
    },
    {
     "name": "stderr",
     "output_type": "stream",
     "text": [
      "100%|██████████| 1256/1256 [00:02<00:00, 458.45it/s]\n"
     ]
    },
    {
     "name": "stdout",
     "output_type": "stream",
     "text": [
      "meanse:  942.2212959300181\n",
      "===== EPOCH ======:  120\n",
      "INFO:tensorflow:Restoring parameters from ./trained_model\n"
     ]
    },
    {
     "name": "stderr",
     "output_type": "stream",
     "text": [
      "100%|██████████| 1256/1256 [00:02<00:00, 453.06it/s]\n"
     ]
    },
    {
     "name": "stdout",
     "output_type": "stream",
     "text": [
      "meanse:  942.215041761945\n",
      "===== EPOCH ======:  121\n",
      "INFO:tensorflow:Restoring parameters from ./trained_model\n"
     ]
    },
    {
     "name": "stderr",
     "output_type": "stream",
     "text": [
      "100%|██████████| 1256/1256 [00:02<00:00, 458.21it/s]\n"
     ]
    },
    {
     "name": "stdout",
     "output_type": "stream",
     "text": [
      "meanse:  942.2094998602654\n",
      "===== EPOCH ======:  122\n",
      "INFO:tensorflow:Restoring parameters from ./trained_model\n"
     ]
    },
    {
     "name": "stderr",
     "output_type": "stream",
     "text": [
      "100%|██████████| 1256/1256 [00:02<00:00, 463.88it/s]\n"
     ]
    },
    {
     "name": "stdout",
     "output_type": "stream",
     "text": [
      "meanse:  942.2033400907638\n",
      "===== EPOCH ======:  123\n",
      "INFO:tensorflow:Restoring parameters from ./trained_model\n"
     ]
    },
    {
     "name": "stderr",
     "output_type": "stream",
     "text": [
      "100%|██████████| 1256/1256 [00:02<00:00, 463.52it/s]\n"
     ]
    },
    {
     "name": "stdout",
     "output_type": "stream",
     "text": [
      "meanse:  942.1971224083262\n",
      "===== EPOCH ======:  124\n",
      "INFO:tensorflow:Restoring parameters from ./trained_model\n"
     ]
    },
    {
     "name": "stderr",
     "output_type": "stream",
     "text": [
      "100%|██████████| 1256/1256 [00:02<00:00, 459.17it/s]\n"
     ]
    },
    {
     "name": "stdout",
     "output_type": "stream",
     "text": [
      "meanse:  942.1909118662974\n",
      "===== EPOCH ======:  125\n",
      "INFO:tensorflow:Restoring parameters from ./trained_model\n"
     ]
    },
    {
     "name": "stderr",
     "output_type": "stream",
     "text": [
      "100%|██████████| 1256/1256 [00:02<00:00, 463.33it/s]\n"
     ]
    },
    {
     "name": "stdout",
     "output_type": "stream",
     "text": [
      "meanse:  942.184726548043\n",
      "===== EPOCH ======:  126\n",
      "INFO:tensorflow:Restoring parameters from ./trained_model\n"
     ]
    },
    {
     "name": "stderr",
     "output_type": "stream",
     "text": [
      "100%|██████████| 1256/1256 [00:02<00:00, 461.03it/s]\n"
     ]
    },
    {
     "name": "stdout",
     "output_type": "stream",
     "text": [
      "meanse:  942.1784753465349\n",
      "===== EPOCH ======:  127\n",
      "INFO:tensorflow:Restoring parameters from ./trained_model\n"
     ]
    },
    {
     "name": "stderr",
     "output_type": "stream",
     "text": [
      "100%|██████████| 1256/1256 [00:02<00:00, 458.49it/s]\n"
     ]
    },
    {
     "name": "stdout",
     "output_type": "stream",
     "text": [
      "meanse:  942.1724781898936\n",
      "===== EPOCH ======:  128\n",
      "INFO:tensorflow:Restoring parameters from ./trained_model\n"
     ]
    },
    {
     "name": "stderr",
     "output_type": "stream",
     "text": [
      "100%|██████████| 1256/1256 [00:02<00:00, 461.02it/s]\n"
     ]
    },
    {
     "name": "stdout",
     "output_type": "stream",
     "text": [
      "meanse:  942.1661847442579\n",
      "===== EPOCH ======:  129\n",
      "INFO:tensorflow:Restoring parameters from ./trained_model\n"
     ]
    },
    {
     "name": "stderr",
     "output_type": "stream",
     "text": [
      "100%|██████████| 1256/1256 [00:02<00:00, 461.27it/s]\n"
     ]
    },
    {
     "name": "stdout",
     "output_type": "stream",
     "text": [
      "meanse:  942.1603211695981\n",
      "===== EPOCH ======:  130\n",
      "INFO:tensorflow:Restoring parameters from ./trained_model\n"
     ]
    },
    {
     "name": "stderr",
     "output_type": "stream",
     "text": [
      "100%|██████████| 1256/1256 [00:02<00:00, 446.74it/s]\n"
     ]
    },
    {
     "name": "stdout",
     "output_type": "stream",
     "text": [
      "meanse:  942.1544256711462\n",
      "===== EPOCH ======:  131\n",
      "INFO:tensorflow:Restoring parameters from ./trained_model\n"
     ]
    },
    {
     "name": "stderr",
     "output_type": "stream",
     "text": [
      "100%|██████████| 1256/1256 [00:02<00:00, 451.87it/s]\n"
     ]
    },
    {
     "name": "stdout",
     "output_type": "stream",
     "text": [
      "meanse:  942.14834185087\n",
      "===== EPOCH ======:  132\n",
      "INFO:tensorflow:Restoring parameters from ./trained_model\n"
     ]
    },
    {
     "name": "stderr",
     "output_type": "stream",
     "text": [
      "100%|██████████| 1256/1256 [00:02<00:00, 461.73it/s]\n"
     ]
    },
    {
     "name": "stdout",
     "output_type": "stream",
     "text": [
      "meanse:  942.142179497488\n",
      "===== EPOCH ======:  133\n",
      "INFO:tensorflow:Restoring parameters from ./trained_model\n"
     ]
    },
    {
     "name": "stderr",
     "output_type": "stream",
     "text": [
      "100%|██████████| 1256/1256 [00:02<00:00, 459.77it/s]\n"
     ]
    },
    {
     "name": "stdout",
     "output_type": "stream",
     "text": [
      "meanse:  942.1361043574703\n",
      "===== EPOCH ======:  134\n",
      "INFO:tensorflow:Restoring parameters from ./trained_model\n"
     ]
    },
    {
     "name": "stderr",
     "output_type": "stream",
     "text": [
      "100%|██████████| 1256/1256 [00:02<00:00, 459.27it/s]\n"
     ]
    },
    {
     "name": "stdout",
     "output_type": "stream",
     "text": [
      "meanse:  942.1300358088912\n",
      "===== EPOCH ======:  135\n",
      "INFO:tensorflow:Restoring parameters from ./trained_model\n"
     ]
    },
    {
     "name": "stderr",
     "output_type": "stream",
     "text": [
      "100%|██████████| 1256/1256 [00:02<00:00, 461.82it/s]\n"
     ]
    },
    {
     "name": "stdout",
     "output_type": "stream",
     "text": [
      "meanse:  942.1239666976746\n",
      "===== EPOCH ======:  136\n",
      "INFO:tensorflow:Restoring parameters from ./trained_model\n"
     ]
    },
    {
     "name": "stderr",
     "output_type": "stream",
     "text": [
      "100%|██████████| 1256/1256 [00:02<00:00, 455.77it/s]\n"
     ]
    },
    {
     "name": "stdout",
     "output_type": "stream",
     "text": [
      "meanse:  942.117999351708\n",
      "===== EPOCH ======:  137\n",
      "INFO:tensorflow:Restoring parameters from ./trained_model\n"
     ]
    },
    {
     "name": "stderr",
     "output_type": "stream",
     "text": [
      "100%|██████████| 1256/1256 [00:02<00:00, 456.28it/s]\n"
     ]
    },
    {
     "name": "stdout",
     "output_type": "stream",
     "text": [
      "meanse:  942.1119231631042\n",
      "===== EPOCH ======:  138\n",
      "INFO:tensorflow:Restoring parameters from ./trained_model\n"
     ]
    },
    {
     "name": "stderr",
     "output_type": "stream",
     "text": [
      "100%|██████████| 1256/1256 [00:02<00:00, 431.60it/s]\n"
     ]
    },
    {
     "name": "stdout",
     "output_type": "stream",
     "text": [
      "meanse:  942.1058444126396\n",
      "===== EPOCH ======:  139\n",
      "INFO:tensorflow:Restoring parameters from ./trained_model\n"
     ]
    },
    {
     "name": "stderr",
     "output_type": "stream",
     "text": [
      "100%|██████████| 1256/1256 [00:02<00:00, 441.65it/s]\n"
     ]
    },
    {
     "name": "stdout",
     "output_type": "stream",
     "text": [
      "meanse:  942.0999374769295\n",
      "===== EPOCH ======:  140\n",
      "INFO:tensorflow:Restoring parameters from ./trained_model\n"
     ]
    },
    {
     "name": "stderr",
     "output_type": "stream",
     "text": [
      "100%|██████████| 1256/1256 [00:02<00:00, 459.80it/s]\n"
     ]
    },
    {
     "name": "stdout",
     "output_type": "stream",
     "text": [
      "meanse:  942.0937558359401\n",
      "===== EPOCH ======:  141\n",
      "INFO:tensorflow:Restoring parameters from ./trained_model\n"
     ]
    },
    {
     "name": "stderr",
     "output_type": "stream",
     "text": [
      "100%|██████████| 1256/1256 [00:02<00:00, 455.53it/s]\n"
     ]
    },
    {
     "name": "stdout",
     "output_type": "stream",
     "text": [
      "meanse:  942.0874571276319\n",
      "===== EPOCH ======:  142\n",
      "INFO:tensorflow:Restoring parameters from ./trained_model\n"
     ]
    },
    {
     "name": "stderr",
     "output_type": "stream",
     "text": [
      "100%|██████████| 1256/1256 [00:02<00:00, 457.82it/s]\n"
     ]
    },
    {
     "name": "stdout",
     "output_type": "stream",
     "text": [
      "meanse:  942.0814161255101\n",
      "===== EPOCH ======:  143\n",
      "INFO:tensorflow:Restoring parameters from ./trained_model\n"
     ]
    },
    {
     "name": "stderr",
     "output_type": "stream",
     "text": [
      "100%|██████████| 1256/1256 [00:02<00:00, 456.76it/s]\n"
     ]
    },
    {
     "name": "stdout",
     "output_type": "stream",
     "text": [
      "meanse:  942.0751385977313\n",
      "===== EPOCH ======:  144\n",
      "INFO:tensorflow:Restoring parameters from ./trained_model\n"
     ]
    },
    {
     "name": "stderr",
     "output_type": "stream",
     "text": [
      "100%|██████████| 1256/1256 [00:02<00:00, 457.82it/s]\n"
     ]
    },
    {
     "name": "stdout",
     "output_type": "stream",
     "text": [
      "meanse:  942.0691533065906\n",
      "===== EPOCH ======:  145\n",
      "INFO:tensorflow:Restoring parameters from ./trained_model\n"
     ]
    },
    {
     "name": "stderr",
     "output_type": "stream",
     "text": [
      "100%|██████████| 1256/1256 [00:02<00:00, 456.14it/s]\n"
     ]
    },
    {
     "name": "stdout",
     "output_type": "stream",
     "text": [
      "meanse:  942.0633366107941\n",
      "===== EPOCH ======:  146\n",
      "INFO:tensorflow:Restoring parameters from ./trained_model\n"
     ]
    },
    {
     "name": "stderr",
     "output_type": "stream",
     "text": [
      "100%|██████████| 1256/1256 [00:02<00:00, 459.01it/s]\n"
     ]
    },
    {
     "name": "stdout",
     "output_type": "stream",
     "text": [
      "meanse:  942.0573187990553\n",
      "===== EPOCH ======:  147\n",
      "INFO:tensorflow:Restoring parameters from ./trained_model\n"
     ]
    },
    {
     "name": "stderr",
     "output_type": "stream",
     "text": [
      "100%|██████████| 1256/1256 [00:02<00:00, 468.99it/s]\n"
     ]
    },
    {
     "name": "stdout",
     "output_type": "stream",
     "text": [
      "meanse:  942.0513151975194\n",
      "===== EPOCH ======:  148\n",
      "INFO:tensorflow:Restoring parameters from ./trained_model\n"
     ]
    },
    {
     "name": "stderr",
     "output_type": "stream",
     "text": [
      "100%|██████████| 1256/1256 [00:02<00:00, 456.66it/s]\n"
     ]
    },
    {
     "name": "stdout",
     "output_type": "stream",
     "text": [
      "meanse:  942.0454130400518\n",
      "===== EPOCH ======:  149\n",
      "INFO:tensorflow:Restoring parameters from ./trained_model\n"
     ]
    },
    {
     "name": "stderr",
     "output_type": "stream",
     "text": [
      "100%|██████████| 1256/1256 [00:02<00:00, 456.05it/s]\n"
     ]
    },
    {
     "name": "stdout",
     "output_type": "stream",
     "text": [
      "meanse:  942.0395987428677\n",
      "===== EPOCH ======:  150\n",
      "INFO:tensorflow:Restoring parameters from ./trained_model\n"
     ]
    },
    {
     "name": "stderr",
     "output_type": "stream",
     "text": [
      "100%|██████████| 1256/1256 [00:02<00:00, 463.25it/s]\n"
     ]
    },
    {
     "name": "stdout",
     "output_type": "stream",
     "text": [
      "meanse:  942.0335608940975\n",
      "===== EPOCH ======:  151\n",
      "INFO:tensorflow:Restoring parameters from ./trained_model\n"
     ]
    },
    {
     "name": "stderr",
     "output_type": "stream",
     "text": [
      "100%|██████████| 1256/1256 [00:02<00:00, 457.92it/s]\n"
     ]
    },
    {
     "name": "stdout",
     "output_type": "stream",
     "text": [
      "meanse:  942.0273101884088\n",
      "===== EPOCH ======:  152\n",
      "INFO:tensorflow:Restoring parameters from ./trained_model\n"
     ]
    },
    {
     "name": "stderr",
     "output_type": "stream",
     "text": [
      "100%|██████████| 1256/1256 [00:02<00:00, 463.34it/s]\n"
     ]
    },
    {
     "name": "stdout",
     "output_type": "stream",
     "text": [
      "meanse:  942.021242127297\n",
      "===== EPOCH ======:  153\n",
      "INFO:tensorflow:Restoring parameters from ./trained_model\n"
     ]
    },
    {
     "name": "stderr",
     "output_type": "stream",
     "text": [
      "100%|██████████| 1256/1256 [00:02<00:00, 462.86it/s]\n"
     ]
    },
    {
     "name": "stdout",
     "output_type": "stream",
     "text": [
      "meanse:  942.0152061167796\n",
      "===== EPOCH ======:  154\n",
      "INFO:tensorflow:Restoring parameters from ./trained_model\n"
     ]
    },
    {
     "name": "stderr",
     "output_type": "stream",
     "text": [
      "100%|██████████| 1256/1256 [00:03<00:00, 413.05it/s]\n"
     ]
    },
    {
     "name": "stdout",
     "output_type": "stream",
     "text": [
      "meanse:  942.0092766801263\n",
      "===== EPOCH ======:  155\n",
      "INFO:tensorflow:Restoring parameters from ./trained_model\n"
     ]
    },
    {
     "name": "stderr",
     "output_type": "stream",
     "text": [
      "100%|██████████| 1256/1256 [00:03<00:00, 320.54it/s]\n"
     ]
    },
    {
     "name": "stdout",
     "output_type": "stream",
     "text": [
      "meanse:  942.0032532435314\n",
      "===== EPOCH ======:  156\n",
      "INFO:tensorflow:Restoring parameters from ./trained_model\n"
     ]
    },
    {
     "name": "stderr",
     "output_type": "stream",
     "text": [
      "100%|██████████| 1256/1256 [00:03<00:00, 334.18it/s]\n"
     ]
    },
    {
     "name": "stdout",
     "output_type": "stream",
     "text": [
      "meanse:  941.9974216746676\n",
      "===== EPOCH ======:  157\n",
      "INFO:tensorflow:Restoring parameters from ./trained_model\n"
     ]
    },
    {
     "name": "stderr",
     "output_type": "stream",
     "text": [
      "100%|██████████| 1256/1256 [00:04<00:00, 311.51it/s]\n"
     ]
    },
    {
     "name": "stdout",
     "output_type": "stream",
     "text": [
      "meanse:  941.9914012433617\n",
      "===== EPOCH ======:  158\n",
      "INFO:tensorflow:Restoring parameters from ./trained_model\n"
     ]
    },
    {
     "name": "stderr",
     "output_type": "stream",
     "text": [
      "100%|██████████| 1256/1256 [00:03<00:00, 345.10it/s]\n"
     ]
    },
    {
     "name": "stdout",
     "output_type": "stream",
     "text": [
      "meanse:  941.9854024884048\n",
      "===== EPOCH ======:  159\n",
      "INFO:tensorflow:Restoring parameters from ./trained_model\n"
     ]
    },
    {
     "name": "stderr",
     "output_type": "stream",
     "text": [
      "100%|██████████| 1256/1256 [00:02<00:00, 438.56it/s]\n"
     ]
    },
    {
     "name": "stdout",
     "output_type": "stream",
     "text": [
      "meanse:  941.9794126589587\n",
      "===== EPOCH ======:  160\n",
      "INFO:tensorflow:Restoring parameters from ./trained_model\n"
     ]
    },
    {
     "name": "stderr",
     "output_type": "stream",
     "text": [
      "100%|██████████| 1256/1256 [00:02<00:00, 438.52it/s]\n"
     ]
    },
    {
     "name": "stdout",
     "output_type": "stream",
     "text": [
      "meanse:  941.9735104513776\n",
      "===== EPOCH ======:  161\n",
      "INFO:tensorflow:Restoring parameters from ./trained_model\n"
     ]
    },
    {
     "name": "stderr",
     "output_type": "stream",
     "text": [
      "100%|██████████| 1256/1256 [00:02<00:00, 433.21it/s]\n"
     ]
    },
    {
     "name": "stdout",
     "output_type": "stream",
     "text": [
      "meanse:  941.9677084152866\n",
      "===== EPOCH ======:  162\n",
      "INFO:tensorflow:Restoring parameters from ./trained_model\n"
     ]
    },
    {
     "name": "stderr",
     "output_type": "stream",
     "text": [
      "100%|██████████| 1256/1256 [00:02<00:00, 434.98it/s]\n"
     ]
    },
    {
     "name": "stdout",
     "output_type": "stream",
     "text": [
      "meanse:  941.9619276493219\n",
      "===== EPOCH ======:  163\n",
      "INFO:tensorflow:Restoring parameters from ./trained_model\n"
     ]
    },
    {
     "name": "stderr",
     "output_type": "stream",
     "text": [
      "100%|██████████| 1256/1256 [00:02<00:00, 436.26it/s]\n"
     ]
    },
    {
     "name": "stdout",
     "output_type": "stream",
     "text": [
      "meanse:  941.9557775737374\n",
      "===== EPOCH ======:  164\n",
      "INFO:tensorflow:Restoring parameters from ./trained_model\n"
     ]
    },
    {
     "name": "stderr",
     "output_type": "stream",
     "text": [
      "100%|██████████| 1256/1256 [00:03<00:00, 416.88it/s]\n"
     ]
    },
    {
     "name": "stdout",
     "output_type": "stream",
     "text": [
      "meanse:  941.9502661668571\n",
      "===== EPOCH ======:  165\n",
      "INFO:tensorflow:Restoring parameters from ./trained_model\n"
     ]
    },
    {
     "name": "stderr",
     "output_type": "stream",
     "text": [
      "100%|██████████| 1256/1256 [00:02<00:00, 428.92it/s]\n"
     ]
    },
    {
     "name": "stdout",
     "output_type": "stream",
     "text": [
      "meanse:  941.9443715712067\n",
      "===== EPOCH ======:  166\n",
      "INFO:tensorflow:Restoring parameters from ./trained_model\n"
     ]
    },
    {
     "name": "stderr",
     "output_type": "stream",
     "text": [
      "100%|██████████| 1256/1256 [00:02<00:00, 440.78it/s]\n"
     ]
    },
    {
     "name": "stdout",
     "output_type": "stream",
     "text": [
      "meanse:  941.938352458796\n",
      "===== EPOCH ======:  167\n",
      "INFO:tensorflow:Restoring parameters from ./trained_model\n"
     ]
    },
    {
     "name": "stderr",
     "output_type": "stream",
     "text": [
      "100%|██████████| 1256/1256 [00:02<00:00, 431.83it/s]\n"
     ]
    },
    {
     "name": "stdout",
     "output_type": "stream",
     "text": [
      "meanse:  941.9322395537309\n",
      "===== EPOCH ======:  168\n",
      "INFO:tensorflow:Restoring parameters from ./trained_model\n"
     ]
    },
    {
     "name": "stderr",
     "output_type": "stream",
     "text": [
      "100%|██████████| 1256/1256 [00:02<00:00, 432.67it/s]\n"
     ]
    },
    {
     "name": "stdout",
     "output_type": "stream",
     "text": [
      "meanse:  941.9265571756728\n",
      "===== EPOCH ======:  169\n",
      "INFO:tensorflow:Restoring parameters from ./trained_model\n"
     ]
    },
    {
     "name": "stderr",
     "output_type": "stream",
     "text": [
      "100%|██████████| 1256/1256 [00:02<00:00, 423.17it/s]\n"
     ]
    },
    {
     "name": "stdout",
     "output_type": "stream",
     "text": [
      "meanse:  941.9207514440938\n",
      "===== EPOCH ======:  170\n",
      "INFO:tensorflow:Restoring parameters from ./trained_model\n"
     ]
    },
    {
     "name": "stderr",
     "output_type": "stream",
     "text": [
      "100%|██████████| 1256/1256 [00:03<00:00, 417.77it/s]\n"
     ]
    },
    {
     "name": "stdout",
     "output_type": "stream",
     "text": [
      "meanse:  941.9146945172814\n",
      "===== EPOCH ======:  171\n",
      "INFO:tensorflow:Restoring parameters from ./trained_model\n"
     ]
    },
    {
     "name": "stderr",
     "output_type": "stream",
     "text": [
      "100%|██████████| 1256/1256 [00:03<00:00, 386.95it/s]\n"
     ]
    },
    {
     "name": "stdout",
     "output_type": "stream",
     "text": [
      "meanse:  941.9089387624887\n",
      "===== EPOCH ======:  172\n",
      "INFO:tensorflow:Restoring parameters from ./trained_model\n"
     ]
    },
    {
     "name": "stderr",
     "output_type": "stream",
     "text": [
      "100%|██████████| 1256/1256 [00:02<00:00, 437.05it/s]\n"
     ]
    },
    {
     "name": "stdout",
     "output_type": "stream",
     "text": [
      "meanse:  941.9029974459083\n",
      "===== EPOCH ======:  173\n",
      "INFO:tensorflow:Restoring parameters from ./trained_model\n"
     ]
    },
    {
     "name": "stderr",
     "output_type": "stream",
     "text": [
      "100%|██████████| 1256/1256 [00:03<00:00, 401.54it/s]\n"
     ]
    },
    {
     "name": "stdout",
     "output_type": "stream",
     "text": [
      "meanse:  941.896939926846\n",
      "===== EPOCH ======:  174\n",
      "INFO:tensorflow:Restoring parameters from ./trained_model\n"
     ]
    },
    {
     "name": "stderr",
     "output_type": "stream",
     "text": [
      "100%|██████████| 1256/1256 [00:03<00:00, 390.81it/s]\n"
     ]
    },
    {
     "name": "stdout",
     "output_type": "stream",
     "text": [
      "meanse:  941.8909154614066\n",
      "===== EPOCH ======:  175\n",
      "INFO:tensorflow:Restoring parameters from ./trained_model\n"
     ]
    },
    {
     "name": "stderr",
     "output_type": "stream",
     "text": [
      "100%|██████████| 1256/1256 [00:03<00:00, 415.90it/s]\n"
     ]
    },
    {
     "name": "stdout",
     "output_type": "stream",
     "text": [
      "meanse:  941.8851577521889\n",
      "===== EPOCH ======:  176\n",
      "INFO:tensorflow:Restoring parameters from ./trained_model\n"
     ]
    },
    {
     "name": "stderr",
     "output_type": "stream",
     "text": [
      "100%|██████████| 1256/1256 [00:03<00:00, 367.67it/s]\n"
     ]
    },
    {
     "name": "stdout",
     "output_type": "stream",
     "text": [
      "meanse:  941.8794027764327\n",
      "===== EPOCH ======:  177\n",
      "INFO:tensorflow:Restoring parameters from ./trained_model\n"
     ]
    },
    {
     "name": "stderr",
     "output_type": "stream",
     "text": [
      "100%|██████████| 1256/1256 [00:03<00:00, 372.61it/s]\n"
     ]
    },
    {
     "name": "stdout",
     "output_type": "stream",
     "text": [
      "meanse:  941.873647315487\n",
      "===== EPOCH ======:  178\n",
      "INFO:tensorflow:Restoring parameters from ./trained_model\n"
     ]
    },
    {
     "name": "stderr",
     "output_type": "stream",
     "text": [
      "100%|██████████| 1256/1256 [00:03<00:00, 376.04it/s]\n"
     ]
    },
    {
     "name": "stdout",
     "output_type": "stream",
     "text": [
      "meanse:  941.8678227898422\n",
      "===== EPOCH ======:  179\n",
      "INFO:tensorflow:Restoring parameters from ./trained_model\n"
     ]
    },
    {
     "name": "stderr",
     "output_type": "stream",
     "text": [
      "100%|██████████| 1256/1256 [00:03<00:00, 407.31it/s]\n"
     ]
    },
    {
     "name": "stdout",
     "output_type": "stream",
     "text": [
      "meanse:  941.8620123081147\n",
      "===== EPOCH ======:  180\n",
      "INFO:tensorflow:Restoring parameters from ./trained_model\n"
     ]
    },
    {
     "name": "stderr",
     "output_type": "stream",
     "text": [
      "100%|██████████| 1256/1256 [00:02<00:00, 439.94it/s]\n"
     ]
    },
    {
     "name": "stdout",
     "output_type": "stream",
     "text": [
      "meanse:  941.8562964056707\n",
      "===== EPOCH ======:  181\n",
      "INFO:tensorflow:Restoring parameters from ./trained_model\n"
     ]
    },
    {
     "name": "stderr",
     "output_type": "stream",
     "text": [
      "100%|██████████| 1256/1256 [00:03<00:00, 375.47it/s]\n"
     ]
    },
    {
     "name": "stdout",
     "output_type": "stream",
     "text": [
      "meanse:  941.8505827173306\n",
      "===== EPOCH ======:  182\n",
      "INFO:tensorflow:Restoring parameters from ./trained_model\n"
     ]
    },
    {
     "name": "stderr",
     "output_type": "stream",
     "text": [
      "100%|██████████| 1256/1256 [00:03<00:00, 371.99it/s]\n"
     ]
    },
    {
     "name": "stdout",
     "output_type": "stream",
     "text": [
      "meanse:  941.8448612021792\n",
      "===== EPOCH ======:  183\n",
      "INFO:tensorflow:Restoring parameters from ./trained_model\n"
     ]
    },
    {
     "name": "stderr",
     "output_type": "stream",
     "text": [
      "100%|██████████| 1256/1256 [00:03<00:00, 407.58it/s]\n"
     ]
    },
    {
     "name": "stdout",
     "output_type": "stream",
     "text": [
      "meanse:  941.8391533733173\n",
      "===== EPOCH ======:  184\n",
      "INFO:tensorflow:Restoring parameters from ./trained_model\n"
     ]
    },
    {
     "name": "stderr",
     "output_type": "stream",
     "text": [
      "100%|██████████| 1256/1256 [00:03<00:00, 343.66it/s]\n"
     ]
    },
    {
     "name": "stdout",
     "output_type": "stream",
     "text": [
      "meanse:  941.8333742102241\n",
      "===== EPOCH ======:  185\n",
      "INFO:tensorflow:Restoring parameters from ./trained_model\n"
     ]
    },
    {
     "name": "stderr",
     "output_type": "stream",
     "text": [
      "100%|██████████| 1256/1256 [00:03<00:00, 317.09it/s]\n"
     ]
    },
    {
     "name": "stdout",
     "output_type": "stream",
     "text": [
      "meanse:  941.8277728868898\n",
      "===== EPOCH ======:  186\n",
      "INFO:tensorflow:Restoring parameters from ./trained_model\n"
     ]
    },
    {
     "name": "stderr",
     "output_type": "stream",
     "text": [
      "100%|██████████| 1256/1256 [00:04<00:00, 296.30it/s]\n"
     ]
    },
    {
     "name": "stdout",
     "output_type": "stream",
     "text": [
      "meanse:  941.821991832393\n",
      "===== EPOCH ======:  187\n",
      "INFO:tensorflow:Restoring parameters from ./trained_model\n"
     ]
    },
    {
     "name": "stderr",
     "output_type": "stream",
     "text": [
      "100%|██████████| 1256/1256 [00:05<00:00, 237.35it/s]\n"
     ]
    },
    {
     "name": "stdout",
     "output_type": "stream",
     "text": [
      "meanse:  941.8163085105313\n",
      "===== EPOCH ======:  188\n",
      "INFO:tensorflow:Restoring parameters from ./trained_model\n"
     ]
    },
    {
     "name": "stderr",
     "output_type": "stream",
     "text": [
      "100%|██████████| 1256/1256 [00:05<00:00, 218.38it/s]\n"
     ]
    },
    {
     "name": "stdout",
     "output_type": "stream",
     "text": [
      "meanse:  941.8108872091694\n",
      "===== EPOCH ======:  189\n",
      "INFO:tensorflow:Restoring parameters from ./trained_model\n"
     ]
    },
    {
     "name": "stderr",
     "output_type": "stream",
     "text": [
      "100%|██████████| 1256/1256 [00:02<00:00, 431.66it/s]\n"
     ]
    },
    {
     "name": "stdout",
     "output_type": "stream",
     "text": [
      "meanse:  941.8050821412141\n",
      "===== EPOCH ======:  190\n",
      "INFO:tensorflow:Restoring parameters from ./trained_model\n"
     ]
    },
    {
     "name": "stderr",
     "output_type": "stream",
     "text": [
      "100%|██████████| 1256/1256 [00:02<00:00, 436.19it/s]\n"
     ]
    },
    {
     "name": "stdout",
     "output_type": "stream",
     "text": [
      "meanse:  941.7993659206256\n",
      "===== EPOCH ======:  191\n",
      "INFO:tensorflow:Restoring parameters from ./trained_model\n"
     ]
    },
    {
     "name": "stderr",
     "output_type": "stream",
     "text": [
      "100%|██████████| 1256/1256 [00:02<00:00, 433.94it/s]\n"
     ]
    },
    {
     "name": "stdout",
     "output_type": "stream",
     "text": [
      "meanse:  941.7937535594224\n",
      "===== EPOCH ======:  192\n",
      "INFO:tensorflow:Restoring parameters from ./trained_model\n"
     ]
    },
    {
     "name": "stderr",
     "output_type": "stream",
     "text": [
      "100%|██████████| 1256/1256 [00:03<00:00, 321.77it/s]\n"
     ]
    },
    {
     "name": "stdout",
     "output_type": "stream",
     "text": [
      "meanse:  941.7880289068647\n",
      "===== EPOCH ======:  193\n",
      "INFO:tensorflow:Restoring parameters from ./trained_model\n"
     ]
    },
    {
     "name": "stderr",
     "output_type": "stream",
     "text": [
      "100%|██████████| 1256/1256 [00:05<00:00, 241.62it/s]\n"
     ]
    },
    {
     "name": "stdout",
     "output_type": "stream",
     "text": [
      "meanse:  941.7823084061313\n",
      "===== EPOCH ======:  194\n",
      "INFO:tensorflow:Restoring parameters from ./trained_model\n"
     ]
    },
    {
     "name": "stderr",
     "output_type": "stream",
     "text": [
      "100%|██████████| 1256/1256 [00:04<00:00, 304.74it/s]\n"
     ]
    },
    {
     "name": "stdout",
     "output_type": "stream",
     "text": [
      "meanse:  941.776680966851\n",
      "===== EPOCH ======:  195\n",
      "INFO:tensorflow:Restoring parameters from ./trained_model\n"
     ]
    },
    {
     "name": "stderr",
     "output_type": "stream",
     "text": [
      "100%|██████████| 1256/1256 [00:03<00:00, 365.99it/s]\n"
     ]
    },
    {
     "name": "stdout",
     "output_type": "stream",
     "text": [
      "meanse:  941.7707048244537\n",
      "===== EPOCH ======:  196\n",
      "INFO:tensorflow:Restoring parameters from ./trained_model\n"
     ]
    },
    {
     "name": "stderr",
     "output_type": "stream",
     "text": [
      "100%|██████████| 1256/1256 [00:02<00:00, 441.48it/s]\n"
     ]
    },
    {
     "name": "stdout",
     "output_type": "stream",
     "text": [
      "meanse:  941.7653561914043\n",
      "===== EPOCH ======:  197\n",
      "INFO:tensorflow:Restoring parameters from ./trained_model\n"
     ]
    },
    {
     "name": "stderr",
     "output_type": "stream",
     "text": [
      "100%|██████████| 1256/1256 [00:02<00:00, 419.66it/s]\n"
     ]
    },
    {
     "name": "stdout",
     "output_type": "stream",
     "text": [
      "meanse:  941.7594466125889\n",
      "===== EPOCH ======:  198\n",
      "INFO:tensorflow:Restoring parameters from ./trained_model\n"
     ]
    },
    {
     "name": "stderr",
     "output_type": "stream",
     "text": [
      "100%|██████████| 1256/1256 [00:02<00:00, 434.39it/s]\n"
     ]
    },
    {
     "name": "stdout",
     "output_type": "stream",
     "text": [
      "meanse:  941.7536523068786\n",
      "===== EPOCH ======:  199\n",
      "INFO:tensorflow:Restoring parameters from ./trained_model\n"
     ]
    },
    {
     "name": "stderr",
     "output_type": "stream",
     "text": [
      "100%|██████████| 1256/1256 [00:03<00:00, 371.75it/s]\n"
     ]
    },
    {
     "name": "stdout",
     "output_type": "stream",
     "text": [
      "meanse:  941.7481307588565\n",
      "===== EPOCH ======:  200\n",
      "INFO:tensorflow:Restoring parameters from ./trained_model\n"
     ]
    },
    {
     "name": "stderr",
     "output_type": "stream",
     "text": [
      "100%|██████████| 1256/1256 [00:04<00:00, 267.08it/s]\n"
     ]
    },
    {
     "name": "stdout",
     "output_type": "stream",
     "text": [
      "meanse:  941.7424013181857\n",
      "===== EPOCH ======:  201\n",
      "INFO:tensorflow:Restoring parameters from ./trained_model\n"
     ]
    },
    {
     "name": "stderr",
     "output_type": "stream",
     "text": [
      "100%|██████████| 1256/1256 [00:04<00:00, 286.98it/s]\n"
     ]
    },
    {
     "name": "stdout",
     "output_type": "stream",
     "text": [
      "meanse:  941.7367767824488\n",
      "===== EPOCH ======:  202\n",
      "INFO:tensorflow:Restoring parameters from ./trained_model\n"
     ]
    },
    {
     "name": "stderr",
     "output_type": "stream",
     "text": [
      "100%|██████████| 1256/1256 [00:04<00:00, 301.55it/s]\n"
     ]
    },
    {
     "name": "stdout",
     "output_type": "stream",
     "text": [
      "meanse:  941.7312104367907\n",
      "===== EPOCH ======:  203\n",
      "INFO:tensorflow:Restoring parameters from ./trained_model\n"
     ]
    },
    {
     "name": "stderr",
     "output_type": "stream",
     "text": [
      "100%|██████████| 1256/1256 [00:04<00:00, 309.58it/s]\n"
     ]
    },
    {
     "name": "stdout",
     "output_type": "stream",
     "text": [
      "meanse:  941.7254434679724\n",
      "===== EPOCH ======:  204\n",
      "INFO:tensorflow:Restoring parameters from ./trained_model\n"
     ]
    },
    {
     "name": "stderr",
     "output_type": "stream",
     "text": [
      "100%|██████████| 1256/1256 [00:07<00:00, 170.68it/s]\n"
     ]
    },
    {
     "name": "stdout",
     "output_type": "stream",
     "text": [
      "meanse:  941.7196028877975\n",
      "===== EPOCH ======:  205\n",
      "INFO:tensorflow:Restoring parameters from ./trained_model\n"
     ]
    },
    {
     "name": "stderr",
     "output_type": "stream",
     "text": [
      "100%|██████████| 1256/1256 [00:04<00:00, 253.99it/s]\n"
     ]
    },
    {
     "name": "stdout",
     "output_type": "stream",
     "text": [
      "meanse:  941.714030451076\n",
      "===== EPOCH ======:  206\n",
      "INFO:tensorflow:Restoring parameters from ./trained_model\n"
     ]
    },
    {
     "name": "stderr",
     "output_type": "stream",
     "text": [
      "100%|██████████| 1256/1256 [00:03<00:00, 366.49it/s]\n"
     ]
    },
    {
     "name": "stdout",
     "output_type": "stream",
     "text": [
      "meanse:  941.7082477200563\n",
      "===== EPOCH ======:  207\n",
      "INFO:tensorflow:Restoring parameters from ./trained_model\n"
     ]
    },
    {
     "name": "stderr",
     "output_type": "stream",
     "text": [
      "100%|██████████| 1256/1256 [00:03<00:00, 383.80it/s]\n"
     ]
    },
    {
     "name": "stdout",
     "output_type": "stream",
     "text": [
      "meanse:  941.7028180497467\n",
      "===== EPOCH ======:  208\n",
      "INFO:tensorflow:Restoring parameters from ./trained_model\n"
     ]
    },
    {
     "name": "stderr",
     "output_type": "stream",
     "text": [
      "100%|██████████| 1256/1256 [00:04<00:00, 299.58it/s]\n"
     ]
    },
    {
     "name": "stdout",
     "output_type": "stream",
     "text": [
      "meanse:  941.6969842394446\n",
      "===== EPOCH ======:  209\n",
      "INFO:tensorflow:Restoring parameters from ./trained_model\n"
     ]
    },
    {
     "name": "stderr",
     "output_type": "stream",
     "text": [
      "100%|██████████| 1256/1256 [00:03<00:00, 348.50it/s]\n"
     ]
    },
    {
     "name": "stdout",
     "output_type": "stream",
     "text": [
      "meanse:  941.6911513114432\n",
      "===== EPOCH ======:  210\n",
      "INFO:tensorflow:Restoring parameters from ./trained_model\n"
     ]
    },
    {
     "name": "stderr",
     "output_type": "stream",
     "text": [
      "100%|██████████| 1256/1256 [00:04<00:00, 256.28it/s]\n"
     ]
    },
    {
     "name": "stdout",
     "output_type": "stream",
     "text": [
      "meanse:  941.6854936408389\n",
      "===== EPOCH ======:  211\n",
      "INFO:tensorflow:Restoring parameters from ./trained_model\n"
     ]
    },
    {
     "name": "stderr",
     "output_type": "stream",
     "text": [
      "100%|██████████| 1256/1256 [00:04<00:00, 273.83it/s]\n"
     ]
    },
    {
     "name": "stdout",
     "output_type": "stream",
     "text": [
      "meanse:  941.6798016827577\n",
      "===== EPOCH ======:  212\n",
      "INFO:tensorflow:Restoring parameters from ./trained_model\n"
     ]
    },
    {
     "name": "stderr",
     "output_type": "stream",
     "text": [
      "100%|██████████| 1256/1256 [00:04<00:00, 295.11it/s]\n"
     ]
    },
    {
     "name": "stdout",
     "output_type": "stream",
     "text": [
      "meanse:  941.6739117279175\n",
      "===== EPOCH ======:  213\n",
      "INFO:tensorflow:Restoring parameters from ./trained_model\n"
     ]
    },
    {
     "name": "stderr",
     "output_type": "stream",
     "text": [
      "100%|██████████| 1256/1256 [00:04<00:00, 303.43it/s]\n"
     ]
    },
    {
     "name": "stdout",
     "output_type": "stream",
     "text": [
      "meanse:  941.667959973311\n",
      "===== EPOCH ======:  214\n",
      "INFO:tensorflow:Restoring parameters from ./trained_model\n"
     ]
    },
    {
     "name": "stderr",
     "output_type": "stream",
     "text": [
      "100%|██████████| 1256/1256 [00:04<00:00, 281.05it/s]\n"
     ]
    },
    {
     "name": "stdout",
     "output_type": "stream",
     "text": [
      "meanse:  941.6620879507368\n",
      "===== EPOCH ======:  215\n",
      "INFO:tensorflow:Restoring parameters from ./trained_model\n"
     ]
    },
    {
     "name": "stderr",
     "output_type": "stream",
     "text": [
      "100%|██████████| 1256/1256 [00:03<00:00, 331.36it/s]\n"
     ]
    },
    {
     "name": "stdout",
     "output_type": "stream",
     "text": [
      "meanse:  941.6560738010771\n",
      "===== EPOCH ======:  216\n",
      "INFO:tensorflow:Restoring parameters from ./trained_model\n"
     ]
    },
    {
     "name": "stderr",
     "output_type": "stream",
     "text": [
      "100%|██████████| 1256/1256 [00:03<00:00, 391.31it/s]\n"
     ]
    },
    {
     "name": "stdout",
     "output_type": "stream",
     "text": [
      "meanse:  941.6501660346985\n",
      "===== EPOCH ======:  217\n",
      "INFO:tensorflow:Restoring parameters from ./trained_model\n"
     ]
    },
    {
     "name": "stderr",
     "output_type": "stream",
     "text": [
      "100%|██████████| 1256/1256 [00:03<00:00, 361.94it/s]\n"
     ]
    },
    {
     "name": "stdout",
     "output_type": "stream",
     "text": [
      "meanse:  941.6446211543052\n",
      "===== EPOCH ======:  218\n",
      "INFO:tensorflow:Restoring parameters from ./trained_model\n"
     ]
    },
    {
     "name": "stderr",
     "output_type": "stream",
     "text": [
      "100%|██████████| 1256/1256 [00:03<00:00, 382.01it/s]\n"
     ]
    },
    {
     "name": "stdout",
     "output_type": "stream",
     "text": [
      "meanse:  941.638541127466\n",
      "===== EPOCH ======:  219\n",
      "INFO:tensorflow:Restoring parameters from ./trained_model\n"
     ]
    },
    {
     "name": "stderr",
     "output_type": "stream",
     "text": [
      "100%|██████████| 1256/1256 [00:02<00:00, 431.75it/s]\n"
     ]
    },
    {
     "name": "stdout",
     "output_type": "stream",
     "text": [
      "meanse:  941.6327319205947\n",
      "===== EPOCH ======:  220\n",
      "INFO:tensorflow:Restoring parameters from ./trained_model\n"
     ]
    },
    {
     "name": "stderr",
     "output_type": "stream",
     "text": [
      "100%|██████████| 1256/1256 [00:02<00:00, 446.42it/s]\n"
     ]
    },
    {
     "name": "stdout",
     "output_type": "stream",
     "text": [
      "meanse:  941.6272623455449\n",
      "===== EPOCH ======:  221\n",
      "INFO:tensorflow:Restoring parameters from ./trained_model\n"
     ]
    },
    {
     "name": "stderr",
     "output_type": "stream",
     "text": [
      "100%|██████████| 1256/1256 [00:03<00:00, 411.68it/s]\n"
     ]
    },
    {
     "name": "stdout",
     "output_type": "stream",
     "text": [
      "meanse:  941.6214632927232\n",
      "===== EPOCH ======:  222\n",
      "INFO:tensorflow:Restoring parameters from ./trained_model\n"
     ]
    },
    {
     "name": "stderr",
     "output_type": "stream",
     "text": [
      "100%|██████████| 1256/1256 [00:02<00:00, 440.70it/s]\n"
     ]
    },
    {
     "name": "stdout",
     "output_type": "stream",
     "text": [
      "meanse:  941.6155010757932\n",
      "===== EPOCH ======:  223\n",
      "INFO:tensorflow:Restoring parameters from ./trained_model\n"
     ]
    },
    {
     "name": "stderr",
     "output_type": "stream",
     "text": [
      "100%|██████████| 1256/1256 [00:02<00:00, 438.09it/s]\n"
     ]
    },
    {
     "name": "stdout",
     "output_type": "stream",
     "text": [
      "meanse:  941.6096406355026\n",
      "===== EPOCH ======:  224\n",
      "INFO:tensorflow:Restoring parameters from ./trained_model\n"
     ]
    },
    {
     "name": "stderr",
     "output_type": "stream",
     "text": [
      "100%|██████████| 1256/1256 [00:03<00:00, 416.88it/s]\n"
     ]
    },
    {
     "name": "stdout",
     "output_type": "stream",
     "text": [
      "meanse:  941.603389074848\n",
      "===== EPOCH ======:  225\n",
      "INFO:tensorflow:Restoring parameters from ./trained_model\n"
     ]
    },
    {
     "name": "stderr",
     "output_type": "stream",
     "text": [
      "100%|██████████| 1256/1256 [00:02<00:00, 423.67it/s]\n"
     ]
    },
    {
     "name": "stdout",
     "output_type": "stream",
     "text": [
      "meanse:  941.5976752422417\n",
      "===== EPOCH ======:  226\n",
      "INFO:tensorflow:Restoring parameters from ./trained_model\n"
     ]
    },
    {
     "name": "stderr",
     "output_type": "stream",
     "text": [
      "100%|██████████| 1256/1256 [00:03<00:00, 317.08it/s]\n"
     ]
    },
    {
     "name": "stdout",
     "output_type": "stream",
     "text": [
      "meanse:  941.5917936373668\n",
      "===== EPOCH ======:  227\n",
      "INFO:tensorflow:Restoring parameters from ./trained_model\n"
     ]
    },
    {
     "name": "stderr",
     "output_type": "stream",
     "text": [
      "100%|██████████| 1256/1256 [00:03<00:00, 377.45it/s]\n"
     ]
    },
    {
     "name": "stdout",
     "output_type": "stream",
     "text": [
      "meanse:  941.5859415865248\n",
      "===== EPOCH ======:  228\n",
      "INFO:tensorflow:Restoring parameters from ./trained_model\n"
     ]
    },
    {
     "name": "stderr",
     "output_type": "stream",
     "text": [
      "100%|██████████| 1256/1256 [00:03<00:00, 373.23it/s]\n"
     ]
    },
    {
     "name": "stdout",
     "output_type": "stream",
     "text": [
      "meanse:  941.5801762820809\n",
      "===== EPOCH ======:  229\n",
      "INFO:tensorflow:Restoring parameters from ./trained_model\n"
     ]
    },
    {
     "name": "stderr",
     "output_type": "stream",
     "text": [
      "100%|██████████| 1256/1256 [00:03<00:00, 346.27it/s]\n"
     ]
    },
    {
     "name": "stdout",
     "output_type": "stream",
     "text": [
      "meanse:  941.5743419015483\n",
      "===== EPOCH ======:  230\n",
      "INFO:tensorflow:Restoring parameters from ./trained_model\n"
     ]
    },
    {
     "name": "stderr",
     "output_type": "stream",
     "text": [
      "100%|██████████| 1256/1256 [00:03<00:00, 349.67it/s]\n"
     ]
    },
    {
     "name": "stdout",
     "output_type": "stream",
     "text": [
      "meanse:  941.5685898247798\n",
      "===== EPOCH ======:  231\n",
      "INFO:tensorflow:Restoring parameters from ./trained_model\n"
     ]
    },
    {
     "name": "stderr",
     "output_type": "stream",
     "text": [
      "100%|██████████| 1256/1256 [00:03<00:00, 339.23it/s]\n"
     ]
    },
    {
     "name": "stdout",
     "output_type": "stream",
     "text": [
      "meanse:  941.5628416371194\n",
      "===== EPOCH ======:  232\n",
      "INFO:tensorflow:Restoring parameters from ./trained_model\n"
     ]
    },
    {
     "name": "stderr",
     "output_type": "stream",
     "text": [
      "100%|██████████| 1256/1256 [00:03<00:00, 396.73it/s]\n"
     ]
    },
    {
     "name": "stdout",
     "output_type": "stream",
     "text": [
      "meanse:  941.5570969186771\n",
      "===== EPOCH ======:  233\n",
      "INFO:tensorflow:Restoring parameters from ./trained_model\n"
     ]
    },
    {
     "name": "stderr",
     "output_type": "stream",
     "text": [
      "100%|██████████| 1256/1256 [00:03<00:00, 386.47it/s]\n"
     ]
    },
    {
     "name": "stdout",
     "output_type": "stream",
     "text": [
      "meanse:  941.5513565494756\n",
      "===== EPOCH ======:  234\n",
      "INFO:tensorflow:Restoring parameters from ./trained_model\n"
     ]
    },
    {
     "name": "stderr",
     "output_type": "stream",
     "text": [
      "100%|██████████| 1256/1256 [00:03<00:00, 378.47it/s]\n"
     ]
    },
    {
     "name": "stdout",
     "output_type": "stream",
     "text": [
      "meanse:  941.5455394261961\n",
      "===== EPOCH ======:  235\n",
      "INFO:tensorflow:Restoring parameters from ./trained_model\n"
     ]
    },
    {
     "name": "stderr",
     "output_type": "stream",
     "text": [
      "100%|██████████| 1256/1256 [00:03<00:00, 406.90it/s]\n"
     ]
    },
    {
     "name": "stdout",
     "output_type": "stream",
     "text": [
      "meanse:  941.5398195966793\n",
      "===== EPOCH ======:  236\n",
      "INFO:tensorflow:Restoring parameters from ./trained_model\n"
     ]
    },
    {
     "name": "stderr",
     "output_type": "stream",
     "text": [
      "100%|██████████| 1256/1256 [00:03<00:00, 410.73it/s]\n"
     ]
    },
    {
     "name": "stdout",
     "output_type": "stream",
     "text": [
      "meanse:  941.5340928765619\n",
      "===== EPOCH ======:  237\n",
      "INFO:tensorflow:Restoring parameters from ./trained_model\n"
     ]
    },
    {
     "name": "stderr",
     "output_type": "stream",
     "text": [
      "100%|██████████| 1256/1256 [00:03<00:00, 409.70it/s]\n"
     ]
    },
    {
     "name": "stdout",
     "output_type": "stream",
     "text": [
      "meanse:  941.528298128942\n",
      "===== EPOCH ======:  238\n",
      "INFO:tensorflow:Restoring parameters from ./trained_model\n"
     ]
    },
    {
     "name": "stderr",
     "output_type": "stream",
     "text": [
      "100%|██████████| 1256/1256 [00:03<00:00, 408.62it/s]\n"
     ]
    },
    {
     "name": "stdout",
     "output_type": "stream",
     "text": [
      "meanse:  941.5225215398582\n",
      "===== EPOCH ======:  239\n",
      "INFO:tensorflow:Restoring parameters from ./trained_model\n"
     ]
    },
    {
     "name": "stderr",
     "output_type": "stream",
     "text": [
      "100%|██████████| 1256/1256 [00:03<00:00, 407.31it/s]\n"
     ]
    },
    {
     "name": "stdout",
     "output_type": "stream",
     "text": [
      "meanse:  941.5168369947725\n",
      "===== EPOCH ======:  240\n",
      "INFO:tensorflow:Restoring parameters from ./trained_model\n"
     ]
    },
    {
     "name": "stderr",
     "output_type": "stream",
     "text": [
      "100%|██████████| 1256/1256 [00:03<00:00, 408.81it/s]\n"
     ]
    },
    {
     "name": "stdout",
     "output_type": "stream",
     "text": [
      "meanse:  941.5111516342041\n",
      "===== EPOCH ======:  241\n",
      "INFO:tensorflow:Restoring parameters from ./trained_model\n"
     ]
    },
    {
     "name": "stderr",
     "output_type": "stream",
     "text": [
      "100%|██████████| 1256/1256 [00:03<00:00, 393.62it/s]\n"
     ]
    },
    {
     "name": "stdout",
     "output_type": "stream",
     "text": [
      "meanse:  941.5053965354422\n",
      "===== EPOCH ======:  242\n",
      "INFO:tensorflow:Restoring parameters from ./trained_model\n"
     ]
    },
    {
     "name": "stderr",
     "output_type": "stream",
     "text": [
      "100%|██████████| 1256/1256 [00:03<00:00, 406.15it/s]\n"
     ]
    },
    {
     "name": "stdout",
     "output_type": "stream",
     "text": [
      "meanse:  941.4997207055426\n",
      "===== EPOCH ======:  243\n",
      "INFO:tensorflow:Restoring parameters from ./trained_model\n"
     ]
    },
    {
     "name": "stderr",
     "output_type": "stream",
     "text": [
      "100%|██████████| 1256/1256 [00:03<00:00, 353.75it/s]\n"
     ]
    },
    {
     "name": "stdout",
     "output_type": "stream",
     "text": [
      "meanse:  941.4941276289096\n",
      "===== EPOCH ======:  244\n",
      "INFO:tensorflow:Restoring parameters from ./trained_model\n"
     ]
    },
    {
     "name": "stderr",
     "output_type": "stream",
     "text": [
      "100%|██████████| 1256/1256 [00:03<00:00, 341.76it/s]\n"
     ]
    },
    {
     "name": "stdout",
     "output_type": "stream",
     "text": [
      "meanse:  941.4883738923224\n",
      "===== EPOCH ======:  245\n",
      "INFO:tensorflow:Restoring parameters from ./trained_model\n"
     ]
    },
    {
     "name": "stderr",
     "output_type": "stream",
     "text": [
      "100%|██████████| 1256/1256 [00:03<00:00, 350.91it/s]\n"
     ]
    },
    {
     "name": "stdout",
     "output_type": "stream",
     "text": [
      "meanse:  941.4827110486425\n",
      "===== EPOCH ======:  246\n",
      "INFO:tensorflow:Restoring parameters from ./trained_model\n"
     ]
    },
    {
     "name": "stderr",
     "output_type": "stream",
     "text": [
      "100%|██████████| 1256/1256 [00:03<00:00, 394.13it/s]\n"
     ]
    },
    {
     "name": "stdout",
     "output_type": "stream",
     "text": [
      "meanse:  941.4769826041666\n",
      "===== EPOCH ======:  247\n",
      "INFO:tensorflow:Restoring parameters from ./trained_model\n"
     ]
    },
    {
     "name": "stderr",
     "output_type": "stream",
     "text": [
      "100%|██████████| 1256/1256 [00:03<00:00, 390.54it/s]\n"
     ]
    },
    {
     "name": "stdout",
     "output_type": "stream",
     "text": [
      "meanse:  941.4713362645192\n",
      "===== EPOCH ======:  248\n",
      "INFO:tensorflow:Restoring parameters from ./trained_model\n"
     ]
    },
    {
     "name": "stderr",
     "output_type": "stream",
     "text": [
      "100%|██████████| 1256/1256 [00:03<00:00, 404.93it/s]\n"
     ]
    },
    {
     "name": "stdout",
     "output_type": "stream",
     "text": [
      "meanse:  941.4657140848743\n",
      "===== EPOCH ======:  249\n",
      "INFO:tensorflow:Restoring parameters from ./trained_model\n"
     ]
    },
    {
     "name": "stderr",
     "output_type": "stream",
     "text": [
      "100%|██████████| 1256/1256 [00:03<00:00, 396.15it/s]\n"
     ]
    },
    {
     "name": "stdout",
     "output_type": "stream",
     "text": [
      "meanse:  941.4600773077862\n",
      "===== EPOCH ======:  250\n",
      "INFO:tensorflow:Restoring parameters from ./trained_model\n"
     ]
    },
    {
     "name": "stderr",
     "output_type": "stream",
     "text": [
      "100%|██████████| 1256/1256 [00:03<00:00, 407.57it/s]\n"
     ]
    },
    {
     "name": "stdout",
     "output_type": "stream",
     "text": [
      "meanse:  941.4543699815774\n",
      "===== EPOCH ======:  251\n",
      "INFO:tensorflow:Restoring parameters from ./trained_model\n"
     ]
    },
    {
     "name": "stderr",
     "output_type": "stream",
     "text": [
      "100%|██████████| 1256/1256 [00:03<00:00, 407.70it/s]\n"
     ]
    },
    {
     "name": "stdout",
     "output_type": "stream",
     "text": [
      "meanse:  941.4487451481971\n",
      "===== EPOCH ======:  252\n",
      "INFO:tensorflow:Restoring parameters from ./trained_model\n"
     ]
    },
    {
     "name": "stderr",
     "output_type": "stream",
     "text": [
      "100%|██████████| 1256/1256 [00:03<00:00, 338.81it/s]\n"
     ]
    },
    {
     "name": "stdout",
     "output_type": "stream",
     "text": [
      "meanse:  941.4431265949444\n",
      "===== EPOCH ======:  253\n",
      "INFO:tensorflow:Restoring parameters from ./trained_model\n"
     ]
    },
    {
     "name": "stderr",
     "output_type": "stream",
     "text": [
      "100%|██████████| 1256/1256 [00:04<00:00, 270.94it/s]\n"
     ]
    },
    {
     "name": "stdout",
     "output_type": "stream",
     "text": [
      "meanse:  941.4374383376662\n",
      "===== EPOCH ======:  254\n",
      "INFO:tensorflow:Restoring parameters from ./trained_model\n"
     ]
    },
    {
     "name": "stderr",
     "output_type": "stream",
     "text": [
      "100%|██████████| 1256/1256 [00:03<00:00, 373.53it/s]\n"
     ]
    },
    {
     "name": "stdout",
     "output_type": "stream",
     "text": [
      "meanse:  941.431834277074\n",
      "===== EPOCH ======:  255\n",
      "INFO:tensorflow:Restoring parameters from ./trained_model\n"
     ]
    },
    {
     "name": "stderr",
     "output_type": "stream",
     "text": [
      "100%|██████████| 1256/1256 [00:03<00:00, 326.57it/s]\n"
     ]
    },
    {
     "name": "stdout",
     "output_type": "stream",
     "text": [
      "meanse:  941.4264050722122\n",
      "===== EPOCH ======:  256\n",
      "INFO:tensorflow:Restoring parameters from ./trained_model\n"
     ]
    },
    {
     "name": "stderr",
     "output_type": "stream",
     "text": [
      "100%|██████████| 1256/1256 [00:03<00:00, 329.16it/s]\n"
     ]
    },
    {
     "name": "stdout",
     "output_type": "stream",
     "text": [
      "meanse:  941.4207046601423\n",
      "===== EPOCH ======:  257\n",
      "INFO:tensorflow:Restoring parameters from ./trained_model\n"
     ]
    },
    {
     "name": "stderr",
     "output_type": "stream",
     "text": [
      "100%|██████████| 1256/1256 [00:03<00:00, 343.97it/s]\n"
     ]
    },
    {
     "name": "stdout",
     "output_type": "stream",
     "text": [
      "meanse:  941.4150931949068\n",
      "===== EPOCH ======:  258\n",
      "INFO:tensorflow:Restoring parameters from ./trained_model\n"
     ]
    },
    {
     "name": "stderr",
     "output_type": "stream",
     "text": [
      "100%|██████████| 1256/1256 [00:03<00:00, 341.70it/s]\n"
     ]
    },
    {
     "name": "stdout",
     "output_type": "stream",
     "text": [
      "meanse:  941.4095488475386\n",
      "===== EPOCH ======:  259\n",
      "INFO:tensorflow:Restoring parameters from ./trained_model\n"
     ]
    },
    {
     "name": "stderr",
     "output_type": "stream",
     "text": [
      "100%|██████████| 1256/1256 [00:02<00:00, 422.59it/s]\n"
     ]
    },
    {
     "name": "stdout",
     "output_type": "stream",
     "text": [
      "meanse:  941.4039243216728\n",
      "===== EPOCH ======:  260\n",
      "INFO:tensorflow:Restoring parameters from ./trained_model\n"
     ]
    },
    {
     "name": "stderr",
     "output_type": "stream",
     "text": [
      "100%|██████████| 1256/1256 [00:02<00:00, 463.47it/s]\n"
     ]
    },
    {
     "name": "stdout",
     "output_type": "stream",
     "text": [
      "meanse:  941.398300501951\n",
      "===== EPOCH ======:  261\n",
      "INFO:tensorflow:Restoring parameters from ./trained_model\n"
     ]
    },
    {
     "name": "stderr",
     "output_type": "stream",
     "text": [
      "100%|██████████| 1256/1256 [00:03<00:00, 380.84it/s]\n"
     ]
    },
    {
     "name": "stdout",
     "output_type": "stream",
     "text": [
      "meanse:  941.3926801795412\n",
      "===== EPOCH ======:  262\n",
      "INFO:tensorflow:Restoring parameters from ./trained_model\n"
     ]
    },
    {
     "name": "stderr",
     "output_type": "stream",
     "text": [
      "100%|██████████| 1256/1256 [00:03<00:00, 351.11it/s]\n"
     ]
    },
    {
     "name": "stdout",
     "output_type": "stream",
     "text": [
      "meanse:  941.3869915714689\n",
      "===== EPOCH ======:  263\n",
      "INFO:tensorflow:Restoring parameters from ./trained_model\n"
     ]
    },
    {
     "name": "stderr",
     "output_type": "stream",
     "text": [
      "100%|██████████| 1256/1256 [00:04<00:00, 288.54it/s]\n"
     ]
    },
    {
     "name": "stdout",
     "output_type": "stream",
     "text": [
      "meanse:  941.3814850354651\n",
      "===== EPOCH ======:  264\n",
      "INFO:tensorflow:Restoring parameters from ./trained_model\n"
     ]
    },
    {
     "name": "stderr",
     "output_type": "stream",
     "text": [
      "100%|██████████| 1256/1256 [00:03<00:00, 337.64it/s]\n"
     ]
    },
    {
     "name": "stdout",
     "output_type": "stream",
     "text": [
      "meanse:  941.375798485841\n",
      "===== EPOCH ======:  265\n",
      "INFO:tensorflow:Restoring parameters from ./trained_model\n"
     ]
    },
    {
     "name": "stderr",
     "output_type": "stream",
     "text": [
      "100%|██████████| 1256/1256 [00:04<00:00, 303.24it/s]\n"
     ]
    },
    {
     "name": "stdout",
     "output_type": "stream",
     "text": [
      "meanse:  941.3701975603772\n",
      "===== EPOCH ======:  266\n",
      "INFO:tensorflow:Restoring parameters from ./trained_model\n"
     ]
    },
    {
     "name": "stderr",
     "output_type": "stream",
     "text": [
      "100%|██████████| 1256/1256 [00:03<00:00, 335.70it/s]\n"
     ]
    },
    {
     "name": "stdout",
     "output_type": "stream",
     "text": [
      "meanse:  941.3646270568204\n",
      "===== EPOCH ======:  267\n",
      "INFO:tensorflow:Restoring parameters from ./trained_model\n"
     ]
    },
    {
     "name": "stderr",
     "output_type": "stream",
     "text": [
      "100%|██████████| 1256/1256 [00:03<00:00, 361.37it/s]\n"
     ]
    },
    {
     "name": "stdout",
     "output_type": "stream",
     "text": [
      "meanse:  941.3590341502694\n",
      "===== EPOCH ======:  268\n",
      "INFO:tensorflow:Restoring parameters from ./trained_model\n"
     ]
    },
    {
     "name": "stderr",
     "output_type": "stream",
     "text": [
      "100%|██████████| 1256/1256 [00:04<00:00, 275.43it/s]\n"
     ]
    },
    {
     "name": "stdout",
     "output_type": "stream",
     "text": [
      "meanse:  941.3532272152081\n",
      "===== EPOCH ======:  269\n",
      "INFO:tensorflow:Restoring parameters from ./trained_model\n"
     ]
    },
    {
     "name": "stderr",
     "output_type": "stream",
     "text": [
      "100%|██████████| 1256/1256 [00:03<00:00, 387.49it/s]\n"
     ]
    },
    {
     "name": "stdout",
     "output_type": "stream",
     "text": [
      "meanse:  941.3477034614344\n",
      "===== EPOCH ======:  270\n",
      "INFO:tensorflow:Restoring parameters from ./trained_model\n"
     ]
    },
    {
     "name": "stderr",
     "output_type": "stream",
     "text": [
      "100%|██████████| 1256/1256 [00:04<00:00, 311.19it/s]\n"
     ]
    },
    {
     "name": "stdout",
     "output_type": "stream",
     "text": [
      "meanse:  941.3420977455795\n",
      "===== EPOCH ======:  271\n",
      "INFO:tensorflow:Restoring parameters from ./trained_model\n"
     ]
    },
    {
     "name": "stderr",
     "output_type": "stream",
     "text": [
      "100%|██████████| 1256/1256 [00:03<00:00, 386.76it/s]\n"
     ]
    },
    {
     "name": "stdout",
     "output_type": "stream",
     "text": [
      "meanse:  941.3364985854762\n",
      "===== EPOCH ======:  272\n",
      "INFO:tensorflow:Restoring parameters from ./trained_model\n"
     ]
    },
    {
     "name": "stderr",
     "output_type": "stream",
     "text": [
      "100%|██████████| 1256/1256 [00:03<00:00, 402.04it/s]\n"
     ]
    },
    {
     "name": "stdout",
     "output_type": "stream",
     "text": [
      "meanse:  941.3309165892327\n",
      "===== EPOCH ======:  273\n",
      "INFO:tensorflow:Restoring parameters from ./trained_model\n"
     ]
    },
    {
     "name": "stderr",
     "output_type": "stream",
     "text": [
      "100%|██████████| 1256/1256 [00:03<00:00, 410.62it/s]\n"
     ]
    },
    {
     "name": "stdout",
     "output_type": "stream",
     "text": [
      "meanse:  941.3253480173221\n",
      "===== EPOCH ======:  274\n",
      "INFO:tensorflow:Restoring parameters from ./trained_model\n"
     ]
    },
    {
     "name": "stderr",
     "output_type": "stream",
     "text": [
      "100%|██████████| 1256/1256 [00:02<00:00, 422.17it/s]\n"
     ]
    },
    {
     "name": "stdout",
     "output_type": "stream",
     "text": [
      "meanse:  941.3198095461365\n",
      "===== EPOCH ======:  275\n",
      "INFO:tensorflow:Restoring parameters from ./trained_model\n"
     ]
    },
    {
     "name": "stderr",
     "output_type": "stream",
     "text": [
      "100%|██████████| 1256/1256 [00:02<00:00, 435.10it/s]\n"
     ]
    },
    {
     "name": "stdout",
     "output_type": "stream",
     "text": [
      "meanse:  941.3145261000676\n",
      "===== EPOCH ======:  276\n",
      "INFO:tensorflow:Restoring parameters from ./trained_model\n"
     ]
    },
    {
     "name": "stderr",
     "output_type": "stream",
     "text": [
      "100%|██████████| 1256/1256 [00:02<00:00, 437.48it/s]\n"
     ]
    },
    {
     "name": "stdout",
     "output_type": "stream",
     "text": [
      "meanse:  941.3092092617302\n",
      "===== EPOCH ======:  277\n",
      "INFO:tensorflow:Restoring parameters from ./trained_model\n"
     ]
    },
    {
     "name": "stderr",
     "output_type": "stream",
     "text": [
      "100%|██████████| 1256/1256 [00:02<00:00, 446.82it/s]\n"
     ]
    },
    {
     "name": "stdout",
     "output_type": "stream",
     "text": [
      "meanse:  941.3036928617271\n",
      "===== EPOCH ======:  278\n",
      "INFO:tensorflow:Restoring parameters from ./trained_model\n"
     ]
    },
    {
     "name": "stderr",
     "output_type": "stream",
     "text": [
      "100%|██████████| 1256/1256 [00:02<00:00, 448.10it/s]\n"
     ]
    },
    {
     "name": "stdout",
     "output_type": "stream",
     "text": [
      "meanse:  941.2981046840644\n",
      "===== EPOCH ======:  279\n",
      "INFO:tensorflow:Restoring parameters from ./trained_model\n"
     ]
    },
    {
     "name": "stderr",
     "output_type": "stream",
     "text": [
      "100%|██████████| 1256/1256 [00:02<00:00, 449.64it/s]\n"
     ]
    },
    {
     "name": "stdout",
     "output_type": "stream",
     "text": [
      "meanse:  941.2926166201853\n",
      "===== EPOCH ======:  280\n",
      "INFO:tensorflow:Restoring parameters from ./trained_model\n"
     ]
    },
    {
     "name": "stderr",
     "output_type": "stream",
     "text": [
      "100%|██████████| 1256/1256 [00:03<00:00, 324.72it/s]\n"
     ]
    },
    {
     "name": "stdout",
     "output_type": "stream",
     "text": [
      "meanse:  941.2873607046286\n",
      "===== EPOCH ======:  281\n",
      "INFO:tensorflow:Restoring parameters from ./trained_model\n"
     ]
    },
    {
     "name": "stderr",
     "output_type": "stream",
     "text": [
      "100%|██████████| 1256/1256 [00:02<00:00, 420.12it/s]\n"
     ]
    },
    {
     "name": "stdout",
     "output_type": "stream",
     "text": [
      "meanse:  941.2816770456399\n",
      "===== EPOCH ======:  282\n",
      "INFO:tensorflow:Restoring parameters from ./trained_model\n"
     ]
    },
    {
     "name": "stderr",
     "output_type": "stream",
     "text": [
      "100%|██████████| 1256/1256 [00:02<00:00, 422.91it/s]\n"
     ]
    },
    {
     "name": "stdout",
     "output_type": "stream",
     "text": [
      "meanse:  941.2764462414821\n",
      "===== EPOCH ======:  283\n",
      "INFO:tensorflow:Restoring parameters from ./trained_model\n"
     ]
    },
    {
     "name": "stderr",
     "output_type": "stream",
     "text": [
      "100%|██████████| 1256/1256 [00:03<00:00, 417.89it/s]\n"
     ]
    },
    {
     "name": "stdout",
     "output_type": "stream",
     "text": [
      "meanse:  941.2708260010762\n",
      "===== EPOCH ======:  284\n",
      "INFO:tensorflow:Restoring parameters from ./trained_model\n"
     ]
    },
    {
     "name": "stderr",
     "output_type": "stream",
     "text": [
      "100%|██████████| 1256/1256 [00:02<00:00, 437.10it/s]\n"
     ]
    },
    {
     "name": "stdout",
     "output_type": "stream",
     "text": [
      "meanse:  941.2654725814322\n",
      "===== EPOCH ======:  285\n",
      "INFO:tensorflow:Restoring parameters from ./trained_model\n"
     ]
    },
    {
     "name": "stderr",
     "output_type": "stream",
     "text": [
      "100%|██████████| 1256/1256 [00:02<00:00, 426.89it/s]\n"
     ]
    },
    {
     "name": "stdout",
     "output_type": "stream",
     "text": [
      "meanse:  941.2600747954314\n",
      "===== EPOCH ======:  286\n",
      "INFO:tensorflow:Restoring parameters from ./trained_model\n"
     ]
    },
    {
     "name": "stderr",
     "output_type": "stream",
     "text": [
      "100%|██████████| 1256/1256 [00:02<00:00, 450.43it/s]\n"
     ]
    },
    {
     "name": "stdout",
     "output_type": "stream",
     "text": [
      "meanse:  941.2544071924914\n",
      "===== EPOCH ======:  287\n",
      "INFO:tensorflow:Restoring parameters from ./trained_model\n"
     ]
    },
    {
     "name": "stderr",
     "output_type": "stream",
     "text": [
      "100%|██████████| 1256/1256 [00:02<00:00, 460.26it/s]\n"
     ]
    },
    {
     "name": "stdout",
     "output_type": "stream",
     "text": [
      "meanse:  941.2486987873248\n",
      "===== EPOCH ======:  288\n",
      "INFO:tensorflow:Restoring parameters from ./trained_model\n"
     ]
    },
    {
     "name": "stderr",
     "output_type": "stream",
     "text": [
      "100%|██████████| 1256/1256 [00:02<00:00, 460.47it/s]\n"
     ]
    },
    {
     "name": "stdout",
     "output_type": "stream",
     "text": [
      "meanse:  941.2430868619566\n",
      "===== EPOCH ======:  289\n",
      "INFO:tensorflow:Restoring parameters from ./trained_model\n"
     ]
    },
    {
     "name": "stderr",
     "output_type": "stream",
     "text": [
      "100%|██████████| 1256/1256 [00:02<00:00, 468.88it/s]\n"
     ]
    },
    {
     "name": "stdout",
     "output_type": "stream",
     "text": [
      "meanse:  941.2375630800891\n",
      "===== EPOCH ======:  290\n",
      "INFO:tensorflow:Restoring parameters from ./trained_model\n"
     ]
    },
    {
     "name": "stderr",
     "output_type": "stream",
     "text": [
      "100%|██████████| 1256/1256 [00:02<00:00, 465.77it/s]\n"
     ]
    },
    {
     "name": "stdout",
     "output_type": "stream",
     "text": [
      "meanse:  941.2320365252768\n",
      "===== EPOCH ======:  291\n",
      "INFO:tensorflow:Restoring parameters from ./trained_model\n"
     ]
    },
    {
     "name": "stderr",
     "output_type": "stream",
     "text": [
      "100%|██████████| 1256/1256 [00:02<00:00, 463.63it/s]\n"
     ]
    },
    {
     "name": "stdout",
     "output_type": "stream",
     "text": [
      "meanse:  941.2264505601993\n",
      "===== EPOCH ======:  292\n",
      "INFO:tensorflow:Restoring parameters from ./trained_model\n"
     ]
    },
    {
     "name": "stderr",
     "output_type": "stream",
     "text": [
      "100%|██████████| 1256/1256 [00:02<00:00, 463.54it/s]\n"
     ]
    },
    {
     "name": "stdout",
     "output_type": "stream",
     "text": [
      "meanse:  941.2209468206783\n",
      "===== EPOCH ======:  293\n",
      "INFO:tensorflow:Restoring parameters from ./trained_model\n"
     ]
    },
    {
     "name": "stderr",
     "output_type": "stream",
     "text": [
      "100%|██████████| 1256/1256 [00:02<00:00, 463.29it/s]\n"
     ]
    },
    {
     "name": "stdout",
     "output_type": "stream",
     "text": [
      "meanse:  941.2154465594868\n",
      "===== EPOCH ======:  294\n",
      "INFO:tensorflow:Restoring parameters from ./trained_model\n"
     ]
    },
    {
     "name": "stderr",
     "output_type": "stream",
     "text": [
      "100%|██████████| 1256/1256 [00:02<00:00, 457.77it/s]\n"
     ]
    },
    {
     "name": "stdout",
     "output_type": "stream",
     "text": [
      "meanse:  941.2100480187471\n",
      "===== EPOCH ======:  295\n",
      "INFO:tensorflow:Restoring parameters from ./trained_model\n"
     ]
    },
    {
     "name": "stderr",
     "output_type": "stream",
     "text": [
      "100%|██████████| 1256/1256 [00:02<00:00, 456.29it/s]\n"
     ]
    },
    {
     "name": "stdout",
     "output_type": "stream",
     "text": [
      "meanse:  941.2044716769723\n",
      "===== EPOCH ======:  296\n",
      "INFO:tensorflow:Restoring parameters from ./trained_model\n"
     ]
    },
    {
     "name": "stderr",
     "output_type": "stream",
     "text": [
      "100%|██████████| 1256/1256 [00:02<00:00, 458.09it/s]\n"
     ]
    },
    {
     "name": "stdout",
     "output_type": "stream",
     "text": [
      "meanse:  941.1989751704939\n",
      "===== EPOCH ======:  297\n",
      "INFO:tensorflow:Restoring parameters from ./trained_model\n"
     ]
    },
    {
     "name": "stderr",
     "output_type": "stream",
     "text": [
      "100%|██████████| 1256/1256 [00:02<00:00, 464.40it/s]\n"
     ]
    },
    {
     "name": "stdout",
     "output_type": "stream",
     "text": [
      "meanse:  941.1934803929298\n",
      "===== EPOCH ======:  298\n",
      "INFO:tensorflow:Restoring parameters from ./trained_model\n"
     ]
    },
    {
     "name": "stderr",
     "output_type": "stream",
     "text": [
      "100%|██████████| 1256/1256 [00:02<00:00, 420.81it/s]\n"
     ]
    },
    {
     "name": "stdout",
     "output_type": "stream",
     "text": [
      "meanse:  941.1879147450635\n",
      "===== EPOCH ======:  299\n",
      "INFO:tensorflow:Restoring parameters from ./trained_model\n"
     ]
    },
    {
     "name": "stderr",
     "output_type": "stream",
     "text": [
      "100%|██████████| 1256/1256 [00:02<00:00, 460.82it/s]\n"
     ]
    },
    {
     "name": "stdout",
     "output_type": "stream",
     "text": [
      "meanse:  941.1824410121152\n",
      "===== EPOCH ======:  300\n",
      "INFO:tensorflow:Restoring parameters from ./trained_model\n"
     ]
    },
    {
     "name": "stderr",
     "output_type": "stream",
     "text": [
      "100%|██████████| 1256/1256 [00:02<00:00, 464.22it/s]\n"
     ]
    },
    {
     "name": "stdout",
     "output_type": "stream",
     "text": [
      "meanse:  941.177208334777\n",
      "===== EPOCH ======:  301\n",
      "INFO:tensorflow:Restoring parameters from ./trained_model\n"
     ]
    },
    {
     "name": "stderr",
     "output_type": "stream",
     "text": [
      "100%|██████████| 1256/1256 [00:02<00:00, 464.22it/s]\n"
     ]
    },
    {
     "name": "stdout",
     "output_type": "stream",
     "text": [
      "meanse:  941.171624042426\n",
      "===== EPOCH ======:  302\n",
      "INFO:tensorflow:Restoring parameters from ./trained_model\n"
     ]
    },
    {
     "name": "stderr",
     "output_type": "stream",
     "text": [
      "100%|██████████| 1256/1256 [00:02<00:00, 469.78it/s]\n"
     ]
    },
    {
     "name": "stdout",
     "output_type": "stream",
     "text": [
      "meanse:  941.1661133462457\n",
      "===== EPOCH ======:  303\n",
      "INFO:tensorflow:Restoring parameters from ./trained_model\n"
     ]
    },
    {
     "name": "stderr",
     "output_type": "stream",
     "text": [
      "100%|██████████| 1256/1256 [00:02<00:00, 468.31it/s]\n"
     ]
    },
    {
     "name": "stdout",
     "output_type": "stream",
     "text": [
      "meanse:  941.1607139763559\n",
      "===== EPOCH ======:  304\n",
      "INFO:tensorflow:Restoring parameters from ./trained_model\n"
     ]
    },
    {
     "name": "stderr",
     "output_type": "stream",
     "text": [
      "100%|██████████| 1256/1256 [00:02<00:00, 467.96it/s]\n"
     ]
    },
    {
     "name": "stdout",
     "output_type": "stream",
     "text": [
      "meanse:  941.1549118430751\n",
      "===== EPOCH ======:  305\n",
      "INFO:tensorflow:Restoring parameters from ./trained_model\n"
     ]
    },
    {
     "name": "stderr",
     "output_type": "stream",
     "text": [
      "100%|██████████| 1256/1256 [00:02<00:00, 467.46it/s]\n"
     ]
    },
    {
     "name": "stdout",
     "output_type": "stream",
     "text": [
      "meanse:  941.149630853325\n",
      "===== EPOCH ======:  306\n",
      "INFO:tensorflow:Restoring parameters from ./trained_model\n"
     ]
    },
    {
     "name": "stderr",
     "output_type": "stream",
     "text": [
      "100%|██████████| 1256/1256 [00:02<00:00, 469.56it/s]\n"
     ]
    },
    {
     "name": "stdout",
     "output_type": "stream",
     "text": [
      "meanse:  941.1440856995856\n",
      "===== EPOCH ======:  307\n",
      "INFO:tensorflow:Restoring parameters from ./trained_model\n"
     ]
    },
    {
     "name": "stderr",
     "output_type": "stream",
     "text": [
      "100%|██████████| 1256/1256 [00:02<00:00, 471.91it/s]\n"
     ]
    },
    {
     "name": "stdout",
     "output_type": "stream",
     "text": [
      "meanse:  941.1386276870776\n",
      "===== EPOCH ======:  308\n",
      "INFO:tensorflow:Restoring parameters from ./trained_model\n"
     ]
    },
    {
     "name": "stderr",
     "output_type": "stream",
     "text": [
      "100%|██████████| 1256/1256 [00:02<00:00, 470.66it/s]\n"
     ]
    },
    {
     "name": "stdout",
     "output_type": "stream",
     "text": [
      "meanse:  941.1333342403364\n",
      "===== EPOCH ======:  309\n",
      "INFO:tensorflow:Restoring parameters from ./trained_model\n"
     ]
    },
    {
     "name": "stderr",
     "output_type": "stream",
     "text": [
      "100%|██████████| 1256/1256 [00:02<00:00, 468.82it/s]\n"
     ]
    },
    {
     "name": "stdout",
     "output_type": "stream",
     "text": [
      "meanse:  941.1277809013986\n",
      "===== EPOCH ======:  310\n",
      "INFO:tensorflow:Restoring parameters from ./trained_model\n"
     ]
    },
    {
     "name": "stderr",
     "output_type": "stream",
     "text": [
      "100%|██████████| 1256/1256 [00:02<00:00, 462.23it/s]\n"
     ]
    },
    {
     "name": "stdout",
     "output_type": "stream",
     "text": [
      "meanse:  941.1222359382423\n",
      "===== EPOCH ======:  311\n",
      "INFO:tensorflow:Restoring parameters from ./trained_model\n"
     ]
    },
    {
     "name": "stderr",
     "output_type": "stream",
     "text": [
      "100%|██████████| 1256/1256 [00:02<00:00, 469.39it/s]\n"
     ]
    },
    {
     "name": "stdout",
     "output_type": "stream",
     "text": [
      "meanse:  941.1167785984695\n",
      "===== EPOCH ======:  312\n",
      "INFO:tensorflow:Restoring parameters from ./trained_model\n"
     ]
    },
    {
     "name": "stderr",
     "output_type": "stream",
     "text": [
      "100%|██████████| 1256/1256 [00:02<00:00, 457.61it/s]\n"
     ]
    },
    {
     "name": "stdout",
     "output_type": "stream",
     "text": [
      "meanse:  941.1116689413217\n",
      "===== EPOCH ======:  313\n",
      "INFO:tensorflow:Restoring parameters from ./trained_model\n"
     ]
    },
    {
     "name": "stderr",
     "output_type": "stream",
     "text": [
      "100%|██████████| 1256/1256 [00:02<00:00, 456.97it/s]\n"
     ]
    },
    {
     "name": "stdout",
     "output_type": "stream",
     "text": [
      "meanse:  941.106157365878\n",
      "===== EPOCH ======:  314\n",
      "INFO:tensorflow:Restoring parameters from ./trained_model\n"
     ]
    },
    {
     "name": "stderr",
     "output_type": "stream",
     "text": [
      "100%|██████████| 1256/1256 [00:02<00:00, 472.02it/s]\n"
     ]
    },
    {
     "name": "stdout",
     "output_type": "stream",
     "text": [
      "meanse:  941.100646734997\n",
      "===== EPOCH ======:  315\n",
      "INFO:tensorflow:Restoring parameters from ./trained_model\n"
     ]
    },
    {
     "name": "stderr",
     "output_type": "stream",
     "text": [
      "100%|██████████| 1256/1256 [00:02<00:00, 456.36it/s]\n"
     ]
    },
    {
     "name": "stdout",
     "output_type": "stream",
     "text": [
      "meanse:  941.0951430326814\n",
      "===== EPOCH ======:  316\n",
      "INFO:tensorflow:Restoring parameters from ./trained_model\n"
     ]
    },
    {
     "name": "stderr",
     "output_type": "stream",
     "text": [
      "100%|██████████| 1256/1256 [00:02<00:00, 470.26it/s]\n"
     ]
    },
    {
     "name": "stdout",
     "output_type": "stream",
     "text": [
      "meanse:  941.0894911797942\n",
      "===== EPOCH ======:  317\n",
      "INFO:tensorflow:Restoring parameters from ./trained_model\n"
     ]
    },
    {
     "name": "stderr",
     "output_type": "stream",
     "text": [
      "100%|██████████| 1256/1256 [00:02<00:00, 458.34it/s]\n"
     ]
    },
    {
     "name": "stdout",
     "output_type": "stream",
     "text": [
      "meanse:  941.0841876541733\n",
      "===== EPOCH ======:  318\n",
      "INFO:tensorflow:Restoring parameters from ./trained_model\n"
     ]
    },
    {
     "name": "stderr",
     "output_type": "stream",
     "text": [
      "100%|██████████| 1256/1256 [00:02<00:00, 459.65it/s]\n"
     ]
    },
    {
     "name": "stdout",
     "output_type": "stream",
     "text": [
      "meanse:  941.0786048720597\n",
      "===== EPOCH ======:  319\n",
      "INFO:tensorflow:Restoring parameters from ./trained_model\n"
     ]
    },
    {
     "name": "stderr",
     "output_type": "stream",
     "text": [
      "100%|██████████| 1256/1256 [00:02<00:00, 468.33it/s]\n"
     ]
    },
    {
     "name": "stdout",
     "output_type": "stream",
     "text": [
      "meanse:  941.0732185293914\n",
      "===== EPOCH ======:  320\n",
      "INFO:tensorflow:Restoring parameters from ./trained_model\n"
     ]
    },
    {
     "name": "stderr",
     "output_type": "stream",
     "text": [
      "100%|██████████| 1256/1256 [00:02<00:00, 464.39it/s]\n"
     ]
    },
    {
     "name": "stdout",
     "output_type": "stream",
     "text": [
      "meanse:  941.0677233144736\n",
      "===== EPOCH ======:  321\n",
      "INFO:tensorflow:Restoring parameters from ./trained_model\n"
     ]
    },
    {
     "name": "stderr",
     "output_type": "stream",
     "text": [
      "100%|██████████| 1256/1256 [00:02<00:00, 465.52it/s]\n"
     ]
    },
    {
     "name": "stdout",
     "output_type": "stream",
     "text": [
      "meanse:  941.0623269870782\n",
      "===== EPOCH ======:  322\n",
      "INFO:tensorflow:Restoring parameters from ./trained_model\n"
     ]
    },
    {
     "name": "stderr",
     "output_type": "stream",
     "text": [
      "100%|██████████| 1256/1256 [00:03<00:00, 410.71it/s]\n"
     ]
    },
    {
     "name": "stdout",
     "output_type": "stream",
     "text": [
      "meanse:  941.0568125202398\n",
      "===== EPOCH ======:  323\n",
      "INFO:tensorflow:Restoring parameters from ./trained_model\n"
     ]
    },
    {
     "name": "stderr",
     "output_type": "stream",
     "text": [
      "100%|██████████| 1256/1256 [00:04<00:00, 297.95it/s]\n"
     ]
    },
    {
     "name": "stdout",
     "output_type": "stream",
     "text": [
      "meanse:  941.0513009349252\n",
      "===== EPOCH ======:  324\n",
      "INFO:tensorflow:Restoring parameters from ./trained_model\n"
     ]
    },
    {
     "name": "stderr",
     "output_type": "stream",
     "text": [
      "100%|██████████| 1256/1256 [00:04<00:00, 312.48it/s]\n"
     ]
    },
    {
     "name": "stdout",
     "output_type": "stream",
     "text": [
      "meanse:  941.0458019987034\n",
      "===== EPOCH ======:  325\n",
      "INFO:tensorflow:Restoring parameters from ./trained_model\n"
     ]
    },
    {
     "name": "stderr",
     "output_type": "stream",
     "text": [
      "100%|██████████| 1256/1256 [00:03<00:00, 343.18it/s]\n"
     ]
    },
    {
     "name": "stdout",
     "output_type": "stream",
     "text": [
      "meanse:  941.040489007713\n",
      "===== EPOCH ======:  326\n",
      "INFO:tensorflow:Restoring parameters from ./trained_model\n"
     ]
    },
    {
     "name": "stderr",
     "output_type": "stream",
     "text": [
      "100%|██████████| 1256/1256 [00:03<00:00, 319.94it/s]\n"
     ]
    },
    {
     "name": "stdout",
     "output_type": "stream",
     "text": [
      "meanse:  941.0349594460931\n",
      "===== EPOCH ======:  327\n",
      "INFO:tensorflow:Restoring parameters from ./trained_model\n"
     ]
    },
    {
     "name": "stderr",
     "output_type": "stream",
     "text": [
      "100%|██████████| 1256/1256 [00:03<00:00, 328.68it/s]\n"
     ]
    },
    {
     "name": "stdout",
     "output_type": "stream",
     "text": [
      "meanse:  941.0293546482256\n",
      "===== EPOCH ======:  328\n",
      "INFO:tensorflow:Restoring parameters from ./trained_model\n"
     ]
    },
    {
     "name": "stderr",
     "output_type": "stream",
     "text": [
      "100%|██████████| 1256/1256 [00:04<00:00, 308.69it/s]\n"
     ]
    },
    {
     "name": "stdout",
     "output_type": "stream",
     "text": [
      "meanse:  941.0237605609711\n",
      "===== EPOCH ======:  329\n",
      "INFO:tensorflow:Restoring parameters from ./trained_model\n"
     ]
    },
    {
     "name": "stderr",
     "output_type": "stream",
     "text": [
      "100%|██████████| 1256/1256 [00:03<00:00, 351.58it/s]\n"
     ]
    },
    {
     "name": "stdout",
     "output_type": "stream",
     "text": [
      "meanse:  941.0182770528611\n",
      "===== EPOCH ======:  330\n",
      "INFO:tensorflow:Restoring parameters from ./trained_model\n"
     ]
    },
    {
     "name": "stderr",
     "output_type": "stream",
     "text": [
      "100%|██████████| 1256/1256 [00:02<00:00, 438.49it/s]\n"
     ]
    },
    {
     "name": "stdout",
     "output_type": "stream",
     "text": [
      "meanse:  941.0124538453521\n",
      "===== EPOCH ======:  331\n",
      "INFO:tensorflow:Restoring parameters from ./trained_model\n"
     ]
    },
    {
     "name": "stderr",
     "output_type": "stream",
     "text": [
      "100%|██████████| 1256/1256 [00:02<00:00, 418.91it/s]\n"
     ]
    },
    {
     "name": "stdout",
     "output_type": "stream",
     "text": [
      "meanse:  941.0069642742728\n",
      "===== EPOCH ======:  332\n",
      "INFO:tensorflow:Restoring parameters from ./trained_model\n"
     ]
    },
    {
     "name": "stderr",
     "output_type": "stream",
     "text": [
      "100%|██████████| 1256/1256 [00:03<00:00, 405.96it/s]\n"
     ]
    },
    {
     "name": "stdout",
     "output_type": "stream",
     "text": [
      "meanse:  941.0013664862153\n",
      "===== EPOCH ======:  333\n",
      "INFO:tensorflow:Restoring parameters from ./trained_model\n"
     ]
    },
    {
     "name": "stderr",
     "output_type": "stream",
     "text": [
      "100%|██████████| 1256/1256 [00:04<00:00, 312.35it/s]\n"
     ]
    },
    {
     "name": "stdout",
     "output_type": "stream",
     "text": [
      "meanse:  940.9959748482248\n",
      "===== EPOCH ======:  334\n",
      "INFO:tensorflow:Restoring parameters from ./trained_model\n"
     ]
    },
    {
     "name": "stderr",
     "output_type": "stream",
     "text": [
      "100%|██████████| 1256/1256 [00:02<00:00, 423.92it/s]\n"
     ]
    },
    {
     "name": "stdout",
     "output_type": "stream",
     "text": [
      "meanse:  940.9905051471321\n",
      "===== EPOCH ======:  335\n",
      "INFO:tensorflow:Restoring parameters from ./trained_model\n"
     ]
    },
    {
     "name": "stderr",
     "output_type": "stream",
     "text": [
      "100%|██████████| 1256/1256 [00:02<00:00, 433.01it/s]\n"
     ]
    },
    {
     "name": "stdout",
     "output_type": "stream",
     "text": [
      "meanse:  940.9851240732108\n",
      "===== EPOCH ======:  336\n",
      "INFO:tensorflow:Restoring parameters from ./trained_model\n"
     ]
    },
    {
     "name": "stderr",
     "output_type": "stream",
     "text": [
      "100%|██████████| 1256/1256 [00:02<00:00, 433.97it/s]\n"
     ]
    },
    {
     "name": "stdout",
     "output_type": "stream",
     "text": [
      "meanse:  940.9797433113596\n",
      "===== EPOCH ======:  337\n",
      "INFO:tensorflow:Restoring parameters from ./trained_model\n"
     ]
    },
    {
     "name": "stderr",
     "output_type": "stream",
     "text": [
      "100%|██████████| 1256/1256 [00:02<00:00, 432.55it/s]\n"
     ]
    },
    {
     "name": "stdout",
     "output_type": "stream",
     "text": [
      "meanse:  940.9747062655771\n",
      "===== EPOCH ======:  338\n",
      "INFO:tensorflow:Restoring parameters from ./trained_model\n"
     ]
    },
    {
     "name": "stderr",
     "output_type": "stream",
     "text": [
      "100%|██████████| 1256/1256 [00:02<00:00, 442.39it/s]\n"
     ]
    },
    {
     "name": "stdout",
     "output_type": "stream",
     "text": [
      "meanse:  940.9692626424655\n",
      "===== EPOCH ======:  339\n",
      "INFO:tensorflow:Restoring parameters from ./trained_model\n"
     ]
    },
    {
     "name": "stderr",
     "output_type": "stream",
     "text": [
      "100%|██████████| 1256/1256 [00:02<00:00, 438.85it/s]\n"
     ]
    },
    {
     "name": "stdout",
     "output_type": "stream",
     "text": [
      "meanse:  940.9637599606423\n",
      "===== EPOCH ======:  340\n",
      "INFO:tensorflow:Restoring parameters from ./trained_model\n"
     ]
    },
    {
     "name": "stderr",
     "output_type": "stream",
     "text": [
      "100%|██████████| 1256/1256 [00:02<00:00, 437.11it/s]\n"
     ]
    },
    {
     "name": "stdout",
     "output_type": "stream",
     "text": [
      "meanse:  940.958582618434\n",
      "===== EPOCH ======:  341\n",
      "INFO:tensorflow:Restoring parameters from ./trained_model\n"
     ]
    },
    {
     "name": "stderr",
     "output_type": "stream",
     "text": [
      "100%|██████████| 1256/1256 [00:02<00:00, 429.79it/s]\n"
     ]
    },
    {
     "name": "stdout",
     "output_type": "stream",
     "text": [
      "meanse:  940.9530495762066\n",
      "===== EPOCH ======:  342\n",
      "INFO:tensorflow:Restoring parameters from ./trained_model\n"
     ]
    },
    {
     "name": "stderr",
     "output_type": "stream",
     "text": [
      "100%|██████████| 1256/1256 [00:03<00:00, 409.94it/s]\n"
     ]
    },
    {
     "name": "stdout",
     "output_type": "stream",
     "text": [
      "meanse:  940.9474554441537\n",
      "===== EPOCH ======:  343\n",
      "INFO:tensorflow:Restoring parameters from ./trained_model\n"
     ]
    },
    {
     "name": "stderr",
     "output_type": "stream",
     "text": [
      "100%|██████████| 1256/1256 [00:02<00:00, 431.06it/s]\n"
     ]
    },
    {
     "name": "stdout",
     "output_type": "stream",
     "text": [
      "meanse:  940.9419024484173\n",
      "===== EPOCH ======:  344\n",
      "INFO:tensorflow:Restoring parameters from ./trained_model\n"
     ]
    },
    {
     "name": "stderr",
     "output_type": "stream",
     "text": [
      "100%|██████████| 1256/1256 [00:02<00:00, 428.78it/s]\n"
     ]
    },
    {
     "name": "stdout",
     "output_type": "stream",
     "text": [
      "meanse:  940.9365168954157\n",
      "===== EPOCH ======:  345\n",
      "INFO:tensorflow:Restoring parameters from ./trained_model\n"
     ]
    },
    {
     "name": "stderr",
     "output_type": "stream",
     "text": [
      "100%|██████████| 1256/1256 [00:02<00:00, 437.17it/s]\n"
     ]
    },
    {
     "name": "stdout",
     "output_type": "stream",
     "text": [
      "meanse:  940.9313084540094\n",
      "===== EPOCH ======:  346\n",
      "INFO:tensorflow:Restoring parameters from ./trained_model\n"
     ]
    },
    {
     "name": "stderr",
     "output_type": "stream",
     "text": [
      "100%|██████████| 1256/1256 [00:02<00:00, 456.08it/s]\n"
     ]
    },
    {
     "name": "stdout",
     "output_type": "stream",
     "text": [
      "meanse:  940.9259029755926\n",
      "===== EPOCH ======:  347\n",
      "INFO:tensorflow:Restoring parameters from ./trained_model\n"
     ]
    },
    {
     "name": "stderr",
     "output_type": "stream",
     "text": [
      "100%|██████████| 1256/1256 [00:02<00:00, 443.61it/s]\n"
     ]
    },
    {
     "name": "stdout",
     "output_type": "stream",
     "text": [
      "meanse:  940.9204958373574\n",
      "===== EPOCH ======:  348\n",
      "INFO:tensorflow:Restoring parameters from ./trained_model\n"
     ]
    },
    {
     "name": "stderr",
     "output_type": "stream",
     "text": [
      "100%|██████████| 1256/1256 [00:02<00:00, 445.83it/s]\n"
     ]
    },
    {
     "name": "stdout",
     "output_type": "stream",
     "text": [
      "meanse:  940.9150856839624\n",
      "===== EPOCH ======:  349\n",
      "INFO:tensorflow:Restoring parameters from ./trained_model\n"
     ]
    },
    {
     "name": "stderr",
     "output_type": "stream",
     "text": [
      "100%|██████████| 1256/1256 [00:02<00:00, 465.31it/s]\n"
     ]
    },
    {
     "name": "stdout",
     "output_type": "stream",
     "text": [
      "meanse:  940.9097862820717\n",
      "===== EPOCH ======:  350\n",
      "INFO:tensorflow:Restoring parameters from ./trained_model\n"
     ]
    },
    {
     "name": "stderr",
     "output_type": "stream",
     "text": [
      "100%|██████████| 1256/1256 [00:02<00:00, 461.85it/s]\n"
     ]
    },
    {
     "name": "stdout",
     "output_type": "stream",
     "text": [
      "meanse:  940.9045395646126\n",
      "===== EPOCH ======:  351\n",
      "INFO:tensorflow:Restoring parameters from ./trained_model\n"
     ]
    },
    {
     "name": "stderr",
     "output_type": "stream",
     "text": [
      "100%|██████████| 1256/1256 [00:02<00:00, 451.29it/s]\n"
     ]
    },
    {
     "name": "stdout",
     "output_type": "stream",
     "text": [
      "meanse:  940.8990902338818\n",
      "===== EPOCH ======:  352\n",
      "INFO:tensorflow:Restoring parameters from ./trained_model\n"
     ]
    },
    {
     "name": "stderr",
     "output_type": "stream",
     "text": [
      "100%|██████████| 1256/1256 [00:02<00:00, 450.16it/s]\n"
     ]
    },
    {
     "name": "stdout",
     "output_type": "stream",
     "text": [
      "meanse:  940.8935704945\n",
      "===== EPOCH ======:  353\n",
      "INFO:tensorflow:Restoring parameters from ./trained_model\n"
     ]
    },
    {
     "name": "stderr",
     "output_type": "stream",
     "text": [
      "100%|██████████| 1256/1256 [00:02<00:00, 453.46it/s]\n"
     ]
    },
    {
     "name": "stdout",
     "output_type": "stream",
     "text": [
      "meanse:  940.8880794200169\n",
      "===== EPOCH ======:  354\n",
      "INFO:tensorflow:Restoring parameters from ./trained_model\n"
     ]
    },
    {
     "name": "stderr",
     "output_type": "stream",
     "text": [
      "100%|██████████| 1256/1256 [00:02<00:00, 459.45it/s]\n"
     ]
    },
    {
     "name": "stdout",
     "output_type": "stream",
     "text": [
      "meanse:  940.8825126073922\n",
      "===== EPOCH ======:  355\n",
      "INFO:tensorflow:Restoring parameters from ./trained_model\n"
     ]
    },
    {
     "name": "stderr",
     "output_type": "stream",
     "text": [
      "100%|██████████| 1256/1256 [00:02<00:00, 454.26it/s]\n"
     ]
    },
    {
     "name": "stdout",
     "output_type": "stream",
     "text": [
      "meanse:  940.8768518517732\n",
      "===== EPOCH ======:  356\n",
      "INFO:tensorflow:Restoring parameters from ./trained_model\n"
     ]
    },
    {
     "name": "stderr",
     "output_type": "stream",
     "text": [
      "100%|██████████| 1256/1256 [00:02<00:00, 423.67it/s]\n"
     ]
    },
    {
     "name": "stdout",
     "output_type": "stream",
     "text": [
      "meanse:  940.8713915044335\n",
      "===== EPOCH ======:  357\n",
      "INFO:tensorflow:Restoring parameters from ./trained_model\n"
     ]
    },
    {
     "name": "stderr",
     "output_type": "stream",
     "text": [
      "100%|██████████| 1256/1256 [00:02<00:00, 437.03it/s]\n"
     ]
    },
    {
     "name": "stdout",
     "output_type": "stream",
     "text": [
      "meanse:  940.8661120666819\n",
      "===== EPOCH ======:  358\n",
      "INFO:tensorflow:Restoring parameters from ./trained_model\n"
     ]
    },
    {
     "name": "stderr",
     "output_type": "stream",
     "text": [
      "100%|██████████| 1256/1256 [00:02<00:00, 460.24it/s]\n"
     ]
    },
    {
     "name": "stdout",
     "output_type": "stream",
     "text": [
      "meanse:  940.8608382363228\n",
      "===== EPOCH ======:  359\n",
      "INFO:tensorflow:Restoring parameters from ./trained_model\n"
     ]
    },
    {
     "name": "stderr",
     "output_type": "stream",
     "text": [
      "100%|██████████| 1256/1256 [00:02<00:00, 462.98it/s]\n"
     ]
    },
    {
     "name": "stdout",
     "output_type": "stream",
     "text": [
      "meanse:  940.8558236299806\n",
      "===== EPOCH ======:  360\n",
      "INFO:tensorflow:Restoring parameters from ./trained_model\n"
     ]
    },
    {
     "name": "stderr",
     "output_type": "stream",
     "text": [
      "100%|██████████| 1256/1256 [00:02<00:00, 458.02it/s]\n"
     ]
    },
    {
     "name": "stdout",
     "output_type": "stream",
     "text": [
      "meanse:  940.8505005608698\n",
      "===== EPOCH ======:  361\n",
      "INFO:tensorflow:Restoring parameters from ./trained_model\n"
     ]
    },
    {
     "name": "stderr",
     "output_type": "stream",
     "text": [
      "100%|██████████| 1256/1256 [00:02<00:00, 460.23it/s]\n"
     ]
    },
    {
     "name": "stdout",
     "output_type": "stream",
     "text": [
      "meanse:  940.8451789397343\n",
      "===== EPOCH ======:  362\n",
      "INFO:tensorflow:Restoring parameters from ./trained_model\n"
     ]
    },
    {
     "name": "stderr",
     "output_type": "stream",
     "text": [
      "100%|██████████| 1256/1256 [00:02<00:00, 458.95it/s]\n"
     ]
    },
    {
     "name": "stdout",
     "output_type": "stream",
     "text": [
      "meanse:  940.8397100017329\n",
      "===== EPOCH ======:  363\n",
      "INFO:tensorflow:Restoring parameters from ./trained_model\n"
     ]
    },
    {
     "name": "stderr",
     "output_type": "stream",
     "text": [
      "100%|██████████| 1256/1256 [00:03<00:00, 415.65it/s]\n"
     ]
    },
    {
     "name": "stdout",
     "output_type": "stream",
     "text": [
      "meanse:  940.8344236931224\n",
      "===== EPOCH ======:  364\n",
      "INFO:tensorflow:Restoring parameters from ./trained_model\n"
     ]
    },
    {
     "name": "stderr",
     "output_type": "stream",
     "text": [
      "100%|██████████| 1256/1256 [00:02<00:00, 456.20it/s]\n"
     ]
    },
    {
     "name": "stdout",
     "output_type": "stream",
     "text": [
      "meanse:  940.8290679128306\n",
      "===== EPOCH ======:  365\n",
      "INFO:tensorflow:Restoring parameters from ./trained_model\n"
     ]
    },
    {
     "name": "stderr",
     "output_type": "stream",
     "text": [
      "100%|██████████| 1256/1256 [00:03<00:00, 404.29it/s]\n"
     ]
    },
    {
     "name": "stdout",
     "output_type": "stream",
     "text": [
      "meanse:  940.8237282774251\n",
      "===== EPOCH ======:  366\n",
      "INFO:tensorflow:Restoring parameters from ./trained_model\n"
     ]
    },
    {
     "name": "stderr",
     "output_type": "stream",
     "text": [
      "100%|██████████| 1256/1256 [00:02<00:00, 449.95it/s]\n"
     ]
    },
    {
     "name": "stdout",
     "output_type": "stream",
     "text": [
      "meanse:  940.818402446759\n",
      "===== EPOCH ======:  367\n",
      "INFO:tensorflow:Restoring parameters from ./trained_model\n"
     ]
    },
    {
     "name": "stderr",
     "output_type": "stream",
     "text": [
      "100%|██████████| 1256/1256 [00:02<00:00, 452.97it/s]\n"
     ]
    },
    {
     "name": "stdout",
     "output_type": "stream",
     "text": [
      "meanse:  940.8131681042871\n",
      "===== EPOCH ======:  368\n",
      "INFO:tensorflow:Restoring parameters from ./trained_model\n"
     ]
    },
    {
     "name": "stderr",
     "output_type": "stream",
     "text": [
      "100%|██████████| 1256/1256 [00:02<00:00, 459.41it/s]\n"
     ]
    },
    {
     "name": "stdout",
     "output_type": "stream",
     "text": [
      "meanse:  940.8082034610638\n",
      "===== EPOCH ======:  369\n",
      "INFO:tensorflow:Restoring parameters from ./trained_model\n"
     ]
    },
    {
     "name": "stderr",
     "output_type": "stream",
     "text": [
      "100%|██████████| 1256/1256 [00:02<00:00, 462.32it/s]\n"
     ]
    },
    {
     "name": "stdout",
     "output_type": "stream",
     "text": [
      "meanse:  940.8026107868571\n",
      "===== EPOCH ======:  370\n",
      "INFO:tensorflow:Restoring parameters from ./trained_model\n"
     ]
    },
    {
     "name": "stderr",
     "output_type": "stream",
     "text": [
      "100%|██████████| 1256/1256 [00:02<00:00, 456.43it/s]\n"
     ]
    },
    {
     "name": "stdout",
     "output_type": "stream",
     "text": [
      "meanse:  940.7973974411655\n",
      "===== EPOCH ======:  371\n",
      "INFO:tensorflow:Restoring parameters from ./trained_model\n"
     ]
    },
    {
     "name": "stderr",
     "output_type": "stream",
     "text": [
      "100%|██████████| 1256/1256 [00:02<00:00, 458.84it/s]\n"
     ]
    },
    {
     "name": "stdout",
     "output_type": "stream",
     "text": [
      "meanse:  940.7921877104766\n",
      "===== EPOCH ======:  372\n",
      "INFO:tensorflow:Restoring parameters from ./trained_model\n"
     ]
    },
    {
     "name": "stderr",
     "output_type": "stream",
     "text": [
      "100%|██████████| 1256/1256 [00:02<00:00, 458.99it/s]\n"
     ]
    },
    {
     "name": "stdout",
     "output_type": "stream",
     "text": [
      "meanse:  940.7869783040065\n",
      "===== EPOCH ======:  373\n",
      "INFO:tensorflow:Restoring parameters from ./trained_model\n"
     ]
    },
    {
     "name": "stderr",
     "output_type": "stream",
     "text": [
      "100%|██████████| 1256/1256 [00:02<00:00, 466.08it/s]\n"
     ]
    },
    {
     "name": "stdout",
     "output_type": "stream",
     "text": [
      "meanse:  940.7815940114343\n",
      "===== EPOCH ======:  374\n",
      "INFO:tensorflow:Restoring parameters from ./trained_model\n"
     ]
    },
    {
     "name": "stderr",
     "output_type": "stream",
     "text": [
      "100%|██████████| 1256/1256 [00:02<00:00, 466.61it/s]\n"
     ]
    },
    {
     "name": "stdout",
     "output_type": "stream",
     "text": [
      "meanse:  940.7764265408182\n",
      "===== EPOCH ======:  375\n",
      "INFO:tensorflow:Restoring parameters from ./trained_model\n"
     ]
    },
    {
     "name": "stderr",
     "output_type": "stream",
     "text": [
      "100%|██████████| 1256/1256 [00:02<00:00, 460.60it/s]\n"
     ]
    },
    {
     "name": "stdout",
     "output_type": "stream",
     "text": [
      "meanse:  940.7714423776432\n",
      "===== EPOCH ======:  376\n",
      "INFO:tensorflow:Restoring parameters from ./trained_model\n"
     ]
    },
    {
     "name": "stderr",
     "output_type": "stream",
     "text": [
      "100%|██████████| 1256/1256 [00:02<00:00, 465.04it/s]\n"
     ]
    },
    {
     "name": "stdout",
     "output_type": "stream",
     "text": [
      "meanse:  940.7662517234778\n",
      "===== EPOCH ======:  377\n",
      "INFO:tensorflow:Restoring parameters from ./trained_model\n"
     ]
    },
    {
     "name": "stderr",
     "output_type": "stream",
     "text": [
      "100%|██████████| 1256/1256 [00:02<00:00, 459.73it/s]\n"
     ]
    },
    {
     "name": "stdout",
     "output_type": "stream",
     "text": [
      "meanse:  940.7610587284064\n",
      "===== EPOCH ======:  378\n",
      "INFO:tensorflow:Restoring parameters from ./trained_model\n"
     ]
    },
    {
     "name": "stderr",
     "output_type": "stream",
     "text": [
      "100%|██████████| 1256/1256 [00:02<00:00, 461.01it/s]\n"
     ]
    },
    {
     "name": "stdout",
     "output_type": "stream",
     "text": [
      "meanse:  940.7558762017329\n",
      "===== EPOCH ======:  379\n",
      "INFO:tensorflow:Restoring parameters from ./trained_model\n"
     ]
    },
    {
     "name": "stderr",
     "output_type": "stream",
     "text": [
      "100%|██████████| 1256/1256 [00:02<00:00, 458.24it/s]\n"
     ]
    },
    {
     "name": "stdout",
     "output_type": "stream",
     "text": [
      "meanse:  940.7506192755548\n",
      "===== EPOCH ======:  380\n",
      "INFO:tensorflow:Restoring parameters from ./trained_model\n"
     ]
    },
    {
     "name": "stderr",
     "output_type": "stream",
     "text": [
      "100%|██████████| 1256/1256 [00:02<00:00, 444.89it/s]\n"
     ]
    },
    {
     "name": "stdout",
     "output_type": "stream",
     "text": [
      "meanse:  940.7454458573822\n",
      "===== EPOCH ======:  381\n",
      "INFO:tensorflow:Restoring parameters from ./trained_model\n"
     ]
    },
    {
     "name": "stderr",
     "output_type": "stream",
     "text": [
      "100%|██████████| 1256/1256 [00:02<00:00, 454.56it/s]\n"
     ]
    },
    {
     "name": "stdout",
     "output_type": "stream",
     "text": [
      "meanse:  940.7402803951009\n",
      "===== EPOCH ======:  382\n",
      "INFO:tensorflow:Restoring parameters from ./trained_model\n"
     ]
    },
    {
     "name": "stderr",
     "output_type": "stream",
     "text": [
      "100%|██████████| 1256/1256 [00:02<00:00, 454.46it/s]\n"
     ]
    },
    {
     "name": "stdout",
     "output_type": "stream",
     "text": [
      "meanse:  940.735286301868\n",
      "===== EPOCH ======:  383\n",
      "INFO:tensorflow:Restoring parameters from ./trained_model\n"
     ]
    },
    {
     "name": "stderr",
     "output_type": "stream",
     "text": [
      "100%|██████████| 1256/1256 [00:02<00:00, 461.13it/s]\n"
     ]
    },
    {
     "name": "stdout",
     "output_type": "stream",
     "text": [
      "meanse:  940.730015729643\n",
      "===== EPOCH ======:  384\n",
      "INFO:tensorflow:Restoring parameters from ./trained_model\n"
     ]
    },
    {
     "name": "stderr",
     "output_type": "stream",
     "text": [
      "100%|██████████| 1256/1256 [00:04<00:00, 283.26it/s]\n"
     ]
    },
    {
     "name": "stdout",
     "output_type": "stream",
     "text": [
      "meanse:  940.7248414139839\n",
      "===== EPOCH ======:  385\n",
      "INFO:tensorflow:Restoring parameters from ./trained_model\n"
     ]
    },
    {
     "name": "stderr",
     "output_type": "stream",
     "text": [
      "100%|██████████| 1256/1256 [00:04<00:00, 263.09it/s]\n"
     ]
    },
    {
     "name": "stdout",
     "output_type": "stream",
     "text": [
      "meanse:  940.7198365152262\n",
      "===== EPOCH ======:  386\n",
      "INFO:tensorflow:Restoring parameters from ./trained_model\n"
     ]
    },
    {
     "name": "stderr",
     "output_type": "stream",
     "text": [
      "100%|██████████| 1256/1256 [00:06<00:00, 199.12it/s]\n"
     ]
    },
    {
     "name": "stdout",
     "output_type": "stream",
     "text": [
      "meanse:  940.7145600994681\n",
      "===== EPOCH ======:  387\n",
      "INFO:tensorflow:Restoring parameters from ./trained_model\n"
     ]
    },
    {
     "name": "stderr",
     "output_type": "stream",
     "text": [
      "100%|██████████| 1256/1256 [00:03<00:00, 345.25it/s]\n"
     ]
    },
    {
     "name": "stdout",
     "output_type": "stream",
     "text": [
      "meanse:  940.7093709054267\n",
      "===== EPOCH ======:  388\n",
      "INFO:tensorflow:Restoring parameters from ./trained_model\n"
     ]
    },
    {
     "name": "stderr",
     "output_type": "stream",
     "text": [
      "100%|██████████| 1256/1256 [00:03<00:00, 394.42it/s]\n"
     ]
    },
    {
     "name": "stdout",
     "output_type": "stream",
     "text": [
      "meanse:  940.7044244002385\n",
      "===== EPOCH ======:  389\n",
      "INFO:tensorflow:Restoring parameters from ./trained_model\n"
     ]
    },
    {
     "name": "stderr",
     "output_type": "stream",
     "text": [
      "100%|██████████| 1256/1256 [00:03<00:00, 393.41it/s]\n"
     ]
    },
    {
     "name": "stdout",
     "output_type": "stream",
     "text": [
      "meanse:  940.6991223742248\n",
      "===== EPOCH ======:  390\n",
      "INFO:tensorflow:Restoring parameters from ./trained_model\n"
     ]
    },
    {
     "name": "stderr",
     "output_type": "stream",
     "text": [
      "100%|██████████| 1256/1256 [00:02<00:00, 450.45it/s]\n"
     ]
    },
    {
     "name": "stdout",
     "output_type": "stream",
     "text": [
      "meanse:  940.6939113489382\n",
      "===== EPOCH ======:  391\n",
      "INFO:tensorflow:Restoring parameters from ./trained_model\n"
     ]
    },
    {
     "name": "stderr",
     "output_type": "stream",
     "text": [
      "100%|██████████| 1256/1256 [00:02<00:00, 453.78it/s]\n"
     ]
    },
    {
     "name": "stdout",
     "output_type": "stream",
     "text": [
      "meanse:  940.6887888521146\n",
      "===== EPOCH ======:  392\n",
      "INFO:tensorflow:Restoring parameters from ./trained_model\n"
     ]
    },
    {
     "name": "stderr",
     "output_type": "stream",
     "text": [
      "100%|██████████| 1256/1256 [00:02<00:00, 445.08it/s]\n"
     ]
    },
    {
     "name": "stdout",
     "output_type": "stream",
     "text": [
      "meanse:  940.6835601572777\n",
      "===== EPOCH ======:  393\n",
      "INFO:tensorflow:Restoring parameters from ./trained_model\n"
     ]
    },
    {
     "name": "stderr",
     "output_type": "stream",
     "text": [
      "100%|██████████| 1256/1256 [00:03<00:00, 418.48it/s]\n"
     ]
    },
    {
     "name": "stdout",
     "output_type": "stream",
     "text": [
      "meanse:  940.6782685282883\n",
      "===== EPOCH ======:  394\n",
      "INFO:tensorflow:Restoring parameters from ./trained_model\n"
     ]
    },
    {
     "name": "stderr",
     "output_type": "stream",
     "text": [
      "100%|██████████| 1256/1256 [00:03<00:00, 409.18it/s]\n"
     ]
    },
    {
     "name": "stdout",
     "output_type": "stream",
     "text": [
      "meanse:  940.6729150721982\n",
      "===== EPOCH ======:  395\n",
      "INFO:tensorflow:Restoring parameters from ./trained_model\n"
     ]
    },
    {
     "name": "stderr",
     "output_type": "stream",
     "text": [
      "100%|██████████| 1256/1256 [00:02<00:00, 422.15it/s]\n"
     ]
    },
    {
     "name": "stdout",
     "output_type": "stream",
     "text": [
      "meanse:  940.6676669826933\n",
      "===== EPOCH ======:  396\n",
      "INFO:tensorflow:Restoring parameters from ./trained_model\n"
     ]
    },
    {
     "name": "stderr",
     "output_type": "stream",
     "text": [
      "100%|██████████| 1256/1256 [00:02<00:00, 451.19it/s]\n"
     ]
    },
    {
     "name": "stdout",
     "output_type": "stream",
     "text": [
      "meanse:  940.6624398717455\n",
      "===== EPOCH ======:  397\n",
      "INFO:tensorflow:Restoring parameters from ./trained_model\n"
     ]
    },
    {
     "name": "stderr",
     "output_type": "stream",
     "text": [
      "100%|██████████| 1256/1256 [00:02<00:00, 440.20it/s]\n"
     ]
    },
    {
     "name": "stdout",
     "output_type": "stream",
     "text": [
      "meanse:  940.6572205891275\n",
      "===== EPOCH ======:  398\n",
      "INFO:tensorflow:Restoring parameters from ./trained_model\n"
     ]
    },
    {
     "name": "stderr",
     "output_type": "stream",
     "text": [
      "100%|██████████| 1256/1256 [00:02<00:00, 448.59it/s]\n"
     ]
    },
    {
     "name": "stdout",
     "output_type": "stream",
     "text": [
      "meanse:  940.6519539781436\n",
      "===== EPOCH ======:  399\n",
      "INFO:tensorflow:Restoring parameters from ./trained_model\n"
     ]
    },
    {
     "name": "stderr",
     "output_type": "stream",
     "text": [
      "100%|██████████| 1256/1256 [00:02<00:00, 451.33it/s]\n"
     ]
    },
    {
     "name": "stdout",
     "output_type": "stream",
     "text": [
      "meanse:  940.6470275851572\n",
      "===== EPOCH ======:  400\n",
      "INFO:tensorflow:Restoring parameters from ./trained_model\n"
     ]
    },
    {
     "name": "stderr",
     "output_type": "stream",
     "text": [
      "100%|██████████| 1256/1256 [00:02<00:00, 460.25it/s]\n"
     ]
    },
    {
     "name": "stdout",
     "output_type": "stream",
     "text": [
      "meanse:  940.6420797155162\n",
      "===== EPOCH ======:  401\n",
      "INFO:tensorflow:Restoring parameters from ./trained_model\n"
     ]
    },
    {
     "name": "stderr",
     "output_type": "stream",
     "text": [
      "100%|██████████| 1256/1256 [00:02<00:00, 429.39it/s]\n"
     ]
    },
    {
     "name": "stdout",
     "output_type": "stream",
     "text": [
      "meanse:  940.6371072014426\n",
      "===== EPOCH ======:  402\n",
      "INFO:tensorflow:Restoring parameters from ./trained_model\n"
     ]
    },
    {
     "name": "stderr",
     "output_type": "stream",
     "text": [
      "100%|██████████| 1256/1256 [00:02<00:00, 440.06it/s]\n"
     ]
    },
    {
     "name": "stdout",
     "output_type": "stream",
     "text": [
      "meanse:  940.6321937863235\n",
      "===== EPOCH ======:  403\n",
      "INFO:tensorflow:Restoring parameters from ./trained_model\n"
     ]
    },
    {
     "name": "stderr",
     "output_type": "stream",
     "text": [
      "100%|██████████| 1256/1256 [00:02<00:00, 447.09it/s]\n"
     ]
    },
    {
     "name": "stdout",
     "output_type": "stream",
     "text": [
      "meanse:  940.6269029781317\n",
      "===== EPOCH ======:  404\n",
      "INFO:tensorflow:Restoring parameters from ./trained_model\n"
     ]
    },
    {
     "name": "stderr",
     "output_type": "stream",
     "text": [
      "100%|██████████| 1256/1256 [00:02<00:00, 423.75it/s]\n"
     ]
    },
    {
     "name": "stdout",
     "output_type": "stream",
     "text": [
      "meanse:  940.6216242973971\n",
      "===== EPOCH ======:  405\n",
      "INFO:tensorflow:Restoring parameters from ./trained_model\n"
     ]
    },
    {
     "name": "stderr",
     "output_type": "stream",
     "text": [
      "100%|██████████| 1256/1256 [00:02<00:00, 445.62it/s]\n"
     ]
    },
    {
     "name": "stdout",
     "output_type": "stream",
     "text": [
      "meanse:  940.6164311307251\n",
      "===== EPOCH ======:  406\n",
      "INFO:tensorflow:Restoring parameters from ./trained_model\n"
     ]
    },
    {
     "name": "stderr",
     "output_type": "stream",
     "text": [
      "100%|██████████| 1256/1256 [00:02<00:00, 468.22it/s]\n"
     ]
    },
    {
     "name": "stdout",
     "output_type": "stream",
     "text": [
      "meanse:  940.611247984467\n",
      "===== EPOCH ======:  407\n",
      "INFO:tensorflow:Restoring parameters from ./trained_model\n"
     ]
    },
    {
     "name": "stderr",
     "output_type": "stream",
     "text": [
      "100%|██████████| 1256/1256 [00:02<00:00, 461.39it/s]\n"
     ]
    },
    {
     "name": "stdout",
     "output_type": "stream",
     "text": [
      "meanse:  940.6060626081601\n",
      "===== EPOCH ======:  408\n",
      "INFO:tensorflow:Restoring parameters from ./trained_model\n"
     ]
    },
    {
     "name": "stderr",
     "output_type": "stream",
     "text": [
      "100%|██████████| 1256/1256 [00:02<00:00, 466.16it/s]\n"
     ]
    },
    {
     "name": "stdout",
     "output_type": "stream",
     "text": [
      "meanse:  940.6008070745286\n",
      "===== EPOCH ======:  409\n",
      "INFO:tensorflow:Restoring parameters from ./trained_model\n"
     ]
    },
    {
     "name": "stderr",
     "output_type": "stream",
     "text": [
      "100%|██████████| 1256/1256 [00:02<00:00, 467.00it/s]\n"
     ]
    },
    {
     "name": "stdout",
     "output_type": "stream",
     "text": [
      "meanse:  940.5957813862782\n",
      "===== EPOCH ======:  410\n",
      "INFO:tensorflow:Restoring parameters from ./trained_model\n"
     ]
    },
    {
     "name": "stderr",
     "output_type": "stream",
     "text": [
      "100%|██████████| 1256/1256 [00:02<00:00, 468.80it/s]\n"
     ]
    },
    {
     "name": "stdout",
     "output_type": "stream",
     "text": [
      "meanse:  940.5904427007505\n",
      "===== EPOCH ======:  411\n",
      "INFO:tensorflow:Restoring parameters from ./trained_model\n"
     ]
    },
    {
     "name": "stderr",
     "output_type": "stream",
     "text": [
      "100%|██████████| 1256/1256 [00:02<00:00, 460.99it/s]\n"
     ]
    },
    {
     "name": "stdout",
     "output_type": "stream",
     "text": [
      "meanse:  940.5853448301364\n",
      "===== EPOCH ======:  412\n",
      "INFO:tensorflow:Restoring parameters from ./trained_model\n"
     ]
    },
    {
     "name": "stderr",
     "output_type": "stream",
     "text": [
      "100%|██████████| 1256/1256 [00:02<00:00, 459.93it/s]\n"
     ]
    },
    {
     "name": "stdout",
     "output_type": "stream",
     "text": [
      "meanse:  940.580379622757\n",
      "===== EPOCH ======:  413\n",
      "INFO:tensorflow:Restoring parameters from ./trained_model\n"
     ]
    },
    {
     "name": "stderr",
     "output_type": "stream",
     "text": [
      "100%|██████████| 1256/1256 [00:02<00:00, 446.04it/s]\n"
     ]
    },
    {
     "name": "stdout",
     "output_type": "stream",
     "text": [
      "meanse:  940.5751542718547\n",
      "===== EPOCH ======:  414\n",
      "INFO:tensorflow:Restoring parameters from ./trained_model\n"
     ]
    },
    {
     "name": "stderr",
     "output_type": "stream",
     "text": [
      "100%|██████████| 1256/1256 [00:02<00:00, 469.18it/s]\n"
     ]
    },
    {
     "name": "stdout",
     "output_type": "stream",
     "text": [
      "meanse:  940.5699677095291\n",
      "===== EPOCH ======:  415\n",
      "INFO:tensorflow:Restoring parameters from ./trained_model\n"
     ]
    },
    {
     "name": "stderr",
     "output_type": "stream",
     "text": [
      "100%|██████████| 1256/1256 [00:02<00:00, 468.63it/s]\n"
     ]
    },
    {
     "name": "stdout",
     "output_type": "stream",
     "text": [
      "meanse:  940.5648890604639\n",
      "===== EPOCH ======:  416\n",
      "INFO:tensorflow:Restoring parameters from ./trained_model\n"
     ]
    },
    {
     "name": "stderr",
     "output_type": "stream",
     "text": [
      "100%|██████████| 1256/1256 [00:02<00:00, 477.08it/s]\n"
     ]
    },
    {
     "name": "stdout",
     "output_type": "stream",
     "text": [
      "meanse:  940.5597369868285\n",
      "===== EPOCH ======:  417\n",
      "INFO:tensorflow:Restoring parameters from ./trained_model\n"
     ]
    },
    {
     "name": "stderr",
     "output_type": "stream",
     "text": [
      "100%|██████████| 1256/1256 [00:02<00:00, 473.66it/s]\n"
     ]
    },
    {
     "name": "stdout",
     "output_type": "stream",
     "text": [
      "meanse:  940.5543543639457\n",
      "===== EPOCH ======:  418\n",
      "INFO:tensorflow:Restoring parameters from ./trained_model\n"
     ]
    },
    {
     "name": "stderr",
     "output_type": "stream",
     "text": [
      "100%|██████████| 1256/1256 [00:02<00:00, 457.45it/s]\n"
     ]
    },
    {
     "name": "stdout",
     "output_type": "stream",
     "text": [
      "meanse:  940.5489751313143\n",
      "===== EPOCH ======:  419\n",
      "INFO:tensorflow:Restoring parameters from ./trained_model\n"
     ]
    },
    {
     "name": "stderr",
     "output_type": "stream",
     "text": [
      "100%|██████████| 1256/1256 [00:02<00:00, 475.96it/s]\n"
     ]
    },
    {
     "name": "stdout",
     "output_type": "stream",
     "text": [
      "meanse:  940.5437730672253\n",
      "===== EPOCH ======:  420\n",
      "INFO:tensorflow:Restoring parameters from ./trained_model\n"
     ]
    },
    {
     "name": "stderr",
     "output_type": "stream",
     "text": [
      "100%|██████████| 1256/1256 [00:02<00:00, 471.11it/s]\n"
     ]
    },
    {
     "name": "stdout",
     "output_type": "stream",
     "text": [
      "meanse:  940.5385799992616\n",
      "===== EPOCH ======:  421\n",
      "INFO:tensorflow:Restoring parameters from ./trained_model\n"
     ]
    },
    {
     "name": "stderr",
     "output_type": "stream",
     "text": [
      "100%|██████████| 1256/1256 [00:02<00:00, 465.92it/s]\n"
     ]
    },
    {
     "name": "stdout",
     "output_type": "stream",
     "text": [
      "meanse:  940.5333145970751\n",
      "===== EPOCH ======:  422\n",
      "INFO:tensorflow:Restoring parameters from ./trained_model\n"
     ]
    },
    {
     "name": "stderr",
     "output_type": "stream",
     "text": [
      "100%|██████████| 1256/1256 [00:02<00:00, 471.83it/s]\n"
     ]
    },
    {
     "name": "stdout",
     "output_type": "stream",
     "text": [
      "meanse:  940.5283683849748\n",
      "===== EPOCH ======:  423\n",
      "INFO:tensorflow:Restoring parameters from ./trained_model\n"
     ]
    },
    {
     "name": "stderr",
     "output_type": "stream",
     "text": [
      "100%|██████████| 1256/1256 [00:02<00:00, 472.48it/s]\n"
     ]
    },
    {
     "name": "stdout",
     "output_type": "stream",
     "text": [
      "meanse:  940.5230089722165\n",
      "===== EPOCH ======:  424\n",
      "INFO:tensorflow:Restoring parameters from ./trained_model\n"
     ]
    },
    {
     "name": "stderr",
     "output_type": "stream",
     "text": [
      "100%|██████████| 1256/1256 [00:02<00:00, 469.04it/s]\n"
     ]
    },
    {
     "name": "stdout",
     "output_type": "stream",
     "text": [
      "meanse:  940.5178157645425\n",
      "===== EPOCH ======:  425\n",
      "INFO:tensorflow:Restoring parameters from ./trained_model\n"
     ]
    },
    {
     "name": "stderr",
     "output_type": "stream",
     "text": [
      "100%|██████████| 1256/1256 [00:02<00:00, 476.78it/s]\n"
     ]
    },
    {
     "name": "stdout",
     "output_type": "stream",
     "text": [
      "meanse:  940.5125948023644\n",
      "===== EPOCH ======:  426\n",
      "INFO:tensorflow:Restoring parameters from ./trained_model\n"
     ]
    },
    {
     "name": "stderr",
     "output_type": "stream",
     "text": [
      "100%|██████████| 1256/1256 [00:02<00:00, 471.45it/s]\n"
     ]
    },
    {
     "name": "stdout",
     "output_type": "stream",
     "text": [
      "meanse:  940.5073334381079\n",
      "===== EPOCH ======:  427\n",
      "INFO:tensorflow:Restoring parameters from ./trained_model\n"
     ]
    },
    {
     "name": "stderr",
     "output_type": "stream",
     "text": [
      "100%|██████████| 1256/1256 [00:02<00:00, 473.41it/s]\n"
     ]
    },
    {
     "name": "stdout",
     "output_type": "stream",
     "text": [
      "meanse:  940.5021221857921\n",
      "===== EPOCH ======:  428\n",
      "INFO:tensorflow:Restoring parameters from ./trained_model\n"
     ]
    },
    {
     "name": "stderr",
     "output_type": "stream",
     "text": [
      "100%|██████████| 1256/1256 [00:02<00:00, 478.96it/s]\n"
     ]
    },
    {
     "name": "stdout",
     "output_type": "stream",
     "text": [
      "meanse:  940.4969660453736\n",
      "===== EPOCH ======:  429\n",
      "INFO:tensorflow:Restoring parameters from ./trained_model\n"
     ]
    },
    {
     "name": "stderr",
     "output_type": "stream",
     "text": [
      "100%|██████████| 1256/1256 [00:02<00:00, 464.84it/s]\n"
     ]
    },
    {
     "name": "stdout",
     "output_type": "stream",
     "text": [
      "meanse:  940.4919438210262\n",
      "===== EPOCH ======:  430\n",
      "INFO:tensorflow:Restoring parameters from ./trained_model\n"
     ]
    },
    {
     "name": "stderr",
     "output_type": "stream",
     "text": [
      "100%|██████████| 1256/1256 [00:02<00:00, 471.65it/s]\n"
     ]
    },
    {
     "name": "stdout",
     "output_type": "stream",
     "text": [
      "meanse:  940.486518266854\n",
      "===== EPOCH ======:  431\n",
      "INFO:tensorflow:Restoring parameters from ./trained_model\n"
     ]
    },
    {
     "name": "stderr",
     "output_type": "stream",
     "text": [
      "100%|██████████| 1256/1256 [00:02<00:00, 472.88it/s]\n"
     ]
    },
    {
     "name": "stdout",
     "output_type": "stream",
     "text": [
      "meanse:  940.4811076761051\n",
      "===== EPOCH ======:  432\n",
      "INFO:tensorflow:Restoring parameters from ./trained_model\n"
     ]
    },
    {
     "name": "stderr",
     "output_type": "stream",
     "text": [
      "100%|██████████| 1256/1256 [00:02<00:00, 472.01it/s]\n"
     ]
    },
    {
     "name": "stdout",
     "output_type": "stream",
     "text": [
      "meanse:  940.4761363009738\n",
      "===== EPOCH ======:  433\n",
      "INFO:tensorflow:Restoring parameters from ./trained_model\n"
     ]
    },
    {
     "name": "stderr",
     "output_type": "stream",
     "text": [
      "100%|██████████| 1256/1256 [00:02<00:00, 476.61it/s]\n"
     ]
    },
    {
     "name": "stdout",
     "output_type": "stream",
     "text": [
      "meanse:  940.4713280747651\n",
      "===== EPOCH ======:  434\n",
      "INFO:tensorflow:Restoring parameters from ./trained_model\n"
     ]
    },
    {
     "name": "stderr",
     "output_type": "stream",
     "text": [
      "100%|██████████| 1256/1256 [00:02<00:00, 464.72it/s]\n"
     ]
    },
    {
     "name": "stdout",
     "output_type": "stream",
     "text": [
      "meanse:  940.4664987378819\n",
      "===== EPOCH ======:  435\n",
      "INFO:tensorflow:Restoring parameters from ./trained_model\n"
     ]
    },
    {
     "name": "stderr",
     "output_type": "stream",
     "text": [
      "100%|██████████| 1256/1256 [00:02<00:00, 474.55it/s]\n"
     ]
    },
    {
     "name": "stdout",
     "output_type": "stream",
     "text": [
      "meanse:  940.461371599489\n",
      "===== EPOCH ======:  436\n",
      "INFO:tensorflow:Restoring parameters from ./trained_model\n"
     ]
    },
    {
     "name": "stderr",
     "output_type": "stream",
     "text": [
      "100%|██████████| 1256/1256 [00:02<00:00, 476.91it/s]\n"
     ]
    },
    {
     "name": "stdout",
     "output_type": "stream",
     "text": [
      "meanse:  940.4561518643312\n",
      "===== EPOCH ======:  437\n",
      "INFO:tensorflow:Restoring parameters from ./trained_model\n"
     ]
    },
    {
     "name": "stderr",
     "output_type": "stream",
     "text": [
      "100%|██████████| 1256/1256 [00:02<00:00, 473.49it/s]\n"
     ]
    },
    {
     "name": "stdout",
     "output_type": "stream",
     "text": [
      "meanse:  940.4510051816892\n",
      "===== EPOCH ======:  438\n",
      "INFO:tensorflow:Restoring parameters from ./trained_model\n"
     ]
    },
    {
     "name": "stderr",
     "output_type": "stream",
     "text": [
      "100%|██████████| 1256/1256 [00:02<00:00, 469.29it/s]\n"
     ]
    },
    {
     "name": "stdout",
     "output_type": "stream",
     "text": [
      "meanse:  940.4457514346785\n",
      "===== EPOCH ======:  439\n",
      "INFO:tensorflow:Restoring parameters from ./trained_model\n"
     ]
    },
    {
     "name": "stderr",
     "output_type": "stream",
     "text": [
      "100%|██████████| 1256/1256 [00:02<00:00, 473.56it/s]\n"
     ]
    },
    {
     "name": "stdout",
     "output_type": "stream",
     "text": [
      "meanse:  940.4404970612495\n",
      "===== EPOCH ======:  440\n",
      "INFO:tensorflow:Restoring parameters from ./trained_model\n"
     ]
    },
    {
     "name": "stderr",
     "output_type": "stream",
     "text": [
      "100%|██████████| 1256/1256 [00:02<00:00, 466.86it/s]\n"
     ]
    },
    {
     "name": "stdout",
     "output_type": "stream",
     "text": [
      "meanse:  940.4353357781271\n",
      "===== EPOCH ======:  441\n",
      "INFO:tensorflow:Restoring parameters from ./trained_model\n"
     ]
    },
    {
     "name": "stderr",
     "output_type": "stream",
     "text": [
      "100%|██████████| 1256/1256 [00:03<00:00, 387.01it/s]\n"
     ]
    },
    {
     "name": "stdout",
     "output_type": "stream",
     "text": [
      "meanse:  940.4299982565983\n",
      "===== EPOCH ======:  442\n",
      "INFO:tensorflow:Restoring parameters from ./trained_model\n"
     ]
    },
    {
     "name": "stderr",
     "output_type": "stream",
     "text": [
      "100%|██████████| 1256/1256 [00:05<00:00, 236.77it/s]\n"
     ]
    },
    {
     "name": "stdout",
     "output_type": "stream",
     "text": [
      "meanse:  940.4248211877361\n",
      "===== EPOCH ======:  443\n",
      "INFO:tensorflow:Restoring parameters from ./trained_model\n"
     ]
    },
    {
     "name": "stderr",
     "output_type": "stream",
     "text": [
      "100%|██████████| 1256/1256 [00:04<00:00, 256.70it/s]\n"
     ]
    },
    {
     "name": "stdout",
     "output_type": "stream",
     "text": [
      "meanse:  940.419586061672\n",
      "===== EPOCH ======:  444\n",
      "INFO:tensorflow:Restoring parameters from ./trained_model\n"
     ]
    },
    {
     "name": "stderr",
     "output_type": "stream",
     "text": [
      "100%|██████████| 1256/1256 [00:04<00:00, 297.69it/s]\n"
     ]
    },
    {
     "name": "stdout",
     "output_type": "stream",
     "text": [
      "meanse:  940.4144993390247\n",
      "===== EPOCH ======:  445\n",
      "INFO:tensorflow:Restoring parameters from ./trained_model\n"
     ]
    },
    {
     "name": "stderr",
     "output_type": "stream",
     "text": [
      "100%|██████████| 1256/1256 [00:03<00:00, 323.53it/s]\n"
     ]
    },
    {
     "name": "stdout",
     "output_type": "stream",
     "text": [
      "meanse:  940.4094469486528\n",
      "===== EPOCH ======:  446\n",
      "INFO:tensorflow:Restoring parameters from ./trained_model\n"
     ]
    },
    {
     "name": "stderr",
     "output_type": "stream",
     "text": [
      "100%|██████████| 1256/1256 [00:03<00:00, 390.59it/s]\n"
     ]
    },
    {
     "name": "stdout",
     "output_type": "stream",
     "text": [
      "meanse:  940.4046381666402\n",
      "===== EPOCH ======:  447\n",
      "INFO:tensorflow:Restoring parameters from ./trained_model\n"
     ]
    },
    {
     "name": "stderr",
     "output_type": "stream",
     "text": [
      "100%|██████████| 1256/1256 [00:02<00:00, 448.63it/s]\n"
     ]
    },
    {
     "name": "stdout",
     "output_type": "stream",
     "text": [
      "meanse:  940.399600284874\n",
      "===== EPOCH ======:  448\n",
      "INFO:tensorflow:Restoring parameters from ./trained_model\n"
     ]
    },
    {
     "name": "stderr",
     "output_type": "stream",
     "text": [
      "100%|██████████| 1256/1256 [00:02<00:00, 454.68it/s]\n"
     ]
    },
    {
     "name": "stdout",
     "output_type": "stream",
     "text": [
      "meanse:  940.3945328300925\n",
      "===== EPOCH ======:  449\n",
      "INFO:tensorflow:Restoring parameters from ./trained_model\n"
     ]
    },
    {
     "name": "stderr",
     "output_type": "stream",
     "text": [
      "100%|██████████| 1256/1256 [00:02<00:00, 458.92it/s]\n"
     ]
    },
    {
     "name": "stdout",
     "output_type": "stream",
     "text": [
      "meanse:  940.3894207113108\n",
      "===== EPOCH ======:  450\n",
      "INFO:tensorflow:Restoring parameters from ./trained_model\n"
     ]
    },
    {
     "name": "stderr",
     "output_type": "stream",
     "text": [
      "100%|██████████| 1256/1256 [00:02<00:00, 455.32it/s]\n"
     ]
    },
    {
     "name": "stdout",
     "output_type": "stream",
     "text": [
      "meanse:  940.384179096313\n",
      "===== EPOCH ======:  451\n",
      "INFO:tensorflow:Restoring parameters from ./trained_model\n"
     ]
    },
    {
     "name": "stderr",
     "output_type": "stream",
     "text": [
      "100%|██████████| 1256/1256 [00:02<00:00, 458.31it/s]\n"
     ]
    },
    {
     "name": "stdout",
     "output_type": "stream",
     "text": [
      "meanse:  940.3790400886232\n",
      "===== EPOCH ======:  452\n",
      "INFO:tensorflow:Restoring parameters from ./trained_model\n"
     ]
    },
    {
     "name": "stderr",
     "output_type": "stream",
     "text": [
      "100%|██████████| 1256/1256 [00:03<00:00, 373.62it/s]\n"
     ]
    },
    {
     "name": "stdout",
     "output_type": "stream",
     "text": [
      "meanse:  940.3741069310789\n",
      "===== EPOCH ======:  453\n",
      "INFO:tensorflow:Restoring parameters from ./trained_model\n"
     ]
    },
    {
     "name": "stderr",
     "output_type": "stream",
     "text": [
      "100%|██████████| 1256/1256 [00:03<00:00, 414.28it/s]\n"
     ]
    },
    {
     "name": "stdout",
     "output_type": "stream",
     "text": [
      "meanse:  940.3692641911233\n",
      "===== EPOCH ======:  454\n",
      "INFO:tensorflow:Restoring parameters from ./trained_model\n"
     ]
    },
    {
     "name": "stderr",
     "output_type": "stream",
     "text": [
      "100%|██████████| 1256/1256 [00:02<00:00, 420.97it/s]\n"
     ]
    },
    {
     "name": "stdout",
     "output_type": "stream",
     "text": [
      "meanse:  940.3642835510764\n",
      "===== EPOCH ======:  455\n",
      "INFO:tensorflow:Restoring parameters from ./trained_model\n"
     ]
    },
    {
     "name": "stderr",
     "output_type": "stream",
     "text": [
      "100%|██████████| 1256/1256 [00:02<00:00, 425.74it/s]\n"
     ]
    },
    {
     "name": "stdout",
     "output_type": "stream",
     "text": [
      "meanse:  940.3592399563759\n",
      "===== EPOCH ======:  456\n",
      "INFO:tensorflow:Restoring parameters from ./trained_model\n"
     ]
    },
    {
     "name": "stderr",
     "output_type": "stream",
     "text": [
      "100%|██████████| 1256/1256 [00:02<00:00, 434.70it/s]\n"
     ]
    },
    {
     "name": "stdout",
     "output_type": "stream",
     "text": [
      "meanse:  940.354195881801\n",
      "===== EPOCH ======:  457\n",
      "INFO:tensorflow:Restoring parameters from ./trained_model\n"
     ]
    },
    {
     "name": "stderr",
     "output_type": "stream",
     "text": [
      "100%|██████████| 1256/1256 [00:03<00:00, 414.31it/s]\n"
     ]
    },
    {
     "name": "stdout",
     "output_type": "stream",
     "text": [
      "meanse:  940.3488870289675\n",
      "===== EPOCH ======:  458\n",
      "INFO:tensorflow:Restoring parameters from ./trained_model\n"
     ]
    },
    {
     "name": "stderr",
     "output_type": "stream",
     "text": [
      "100%|██████████| 1256/1256 [00:03<00:00, 410.85it/s]\n"
     ]
    },
    {
     "name": "stdout",
     "output_type": "stream",
     "text": [
      "meanse:  940.3438940351936\n",
      "===== EPOCH ======:  459\n",
      "INFO:tensorflow:Restoring parameters from ./trained_model\n"
     ]
    },
    {
     "name": "stderr",
     "output_type": "stream",
     "text": [
      "100%|██████████| 1256/1256 [00:02<00:00, 454.44it/s]\n"
     ]
    },
    {
     "name": "stdout",
     "output_type": "stream",
     "text": [
      "meanse:  940.338865601333\n",
      "===== EPOCH ======:  460\n",
      "INFO:tensorflow:Restoring parameters from ./trained_model\n"
     ]
    },
    {
     "name": "stderr",
     "output_type": "stream",
     "text": [
      "100%|██████████| 1256/1256 [00:02<00:00, 453.10it/s]\n"
     ]
    },
    {
     "name": "stdout",
     "output_type": "stream",
     "text": [
      "meanse:  940.333788459468\n",
      "===== EPOCH ======:  461\n",
      "INFO:tensorflow:Restoring parameters from ./trained_model\n"
     ]
    },
    {
     "name": "stderr",
     "output_type": "stream",
     "text": [
      "100%|██████████| 1256/1256 [00:02<00:00, 456.51it/s]\n"
     ]
    },
    {
     "name": "stdout",
     "output_type": "stream",
     "text": [
      "meanse:  940.3289455630977\n",
      "===== EPOCH ======:  462\n",
      "INFO:tensorflow:Restoring parameters from ./trained_model\n"
     ]
    },
    {
     "name": "stderr",
     "output_type": "stream",
     "text": [
      "100%|██████████| 1256/1256 [00:02<00:00, 445.52it/s]\n"
     ]
    },
    {
     "name": "stdout",
     "output_type": "stream",
     "text": [
      "meanse:  940.3239267335576\n",
      "===== EPOCH ======:  463\n",
      "INFO:tensorflow:Restoring parameters from ./trained_model\n"
     ]
    },
    {
     "name": "stderr",
     "output_type": "stream",
     "text": [
      "100%|██████████| 1256/1256 [00:02<00:00, 452.09it/s]\n"
     ]
    },
    {
     "name": "stdout",
     "output_type": "stream",
     "text": [
      "meanse:  940.3191581296313\n",
      "===== EPOCH ======:  464\n",
      "INFO:tensorflow:Restoring parameters from ./trained_model\n"
     ]
    },
    {
     "name": "stderr",
     "output_type": "stream",
     "text": [
      "100%|██████████| 1256/1256 [00:02<00:00, 448.17it/s]\n"
     ]
    },
    {
     "name": "stdout",
     "output_type": "stream",
     "text": [
      "meanse:  940.3142630400931\n",
      "===== EPOCH ======:  465\n",
      "INFO:tensorflow:Restoring parameters from ./trained_model\n"
     ]
    },
    {
     "name": "stderr",
     "output_type": "stream",
     "text": [
      "100%|██████████| 1256/1256 [00:02<00:00, 456.51it/s]\n"
     ]
    },
    {
     "name": "stdout",
     "output_type": "stream",
     "text": [
      "meanse:  940.3097908193139\n",
      "===== EPOCH ======:  466\n",
      "INFO:tensorflow:Restoring parameters from ./trained_model\n"
     ]
    },
    {
     "name": "stderr",
     "output_type": "stream",
     "text": [
      "100%|██████████| 1256/1256 [00:02<00:00, 448.96it/s]\n"
     ]
    },
    {
     "name": "stdout",
     "output_type": "stream",
     "text": [
      "meanse:  940.3048222558514\n",
      "===== EPOCH ======:  467\n",
      "INFO:tensorflow:Restoring parameters from ./trained_model\n"
     ]
    },
    {
     "name": "stderr",
     "output_type": "stream",
     "text": [
      "100%|██████████| 1256/1256 [00:02<00:00, 460.38it/s]\n"
     ]
    },
    {
     "name": "stdout",
     "output_type": "stream",
     "text": [
      "meanse:  940.2998785312009\n",
      "===== EPOCH ======:  468\n",
      "INFO:tensorflow:Restoring parameters from ./trained_model\n"
     ]
    },
    {
     "name": "stderr",
     "output_type": "stream",
     "text": [
      "100%|██████████| 1256/1256 [00:02<00:00, 459.23it/s]\n"
     ]
    },
    {
     "name": "stdout",
     "output_type": "stream",
     "text": [
      "meanse:  940.29483639055\n",
      "===== EPOCH ======:  469\n",
      "INFO:tensorflow:Restoring parameters from ./trained_model\n"
     ]
    },
    {
     "name": "stderr",
     "output_type": "stream",
     "text": [
      "100%|██████████| 1256/1256 [00:02<00:00, 462.81it/s]\n"
     ]
    },
    {
     "name": "stdout",
     "output_type": "stream",
     "text": [
      "meanse:  940.2898408948995\n",
      "===== EPOCH ======:  470\n",
      "INFO:tensorflow:Restoring parameters from ./trained_model\n"
     ]
    },
    {
     "name": "stderr",
     "output_type": "stream",
     "text": [
      "100%|██████████| 1256/1256 [00:02<00:00, 456.69it/s]\n"
     ]
    },
    {
     "name": "stdout",
     "output_type": "stream",
     "text": [
      "meanse:  940.2848399125846\n",
      "===== EPOCH ======:  471\n",
      "INFO:tensorflow:Restoring parameters from ./trained_model\n"
     ]
    },
    {
     "name": "stderr",
     "output_type": "stream",
     "text": [
      "100%|██████████| 1256/1256 [00:02<00:00, 457.62it/s]\n"
     ]
    },
    {
     "name": "stdout",
     "output_type": "stream",
     "text": [
      "meanse:  940.2799284139256\n",
      "===== EPOCH ======:  472\n",
      "INFO:tensorflow:Restoring parameters from ./trained_model\n"
     ]
    },
    {
     "name": "stderr",
     "output_type": "stream",
     "text": [
      "100%|██████████| 1256/1256 [00:02<00:00, 451.67it/s]\n"
     ]
    },
    {
     "name": "stdout",
     "output_type": "stream",
     "text": [
      "meanse:  940.2750437441905\n",
      "===== EPOCH ======:  473\n",
      "INFO:tensorflow:Restoring parameters from ./trained_model\n"
     ]
    },
    {
     "name": "stderr",
     "output_type": "stream",
     "text": [
      "100%|██████████| 1256/1256 [00:02<00:00, 458.59it/s]\n"
     ]
    },
    {
     "name": "stdout",
     "output_type": "stream",
     "text": [
      "meanse:  940.2701427374676\n",
      "===== EPOCH ======:  474\n",
      "INFO:tensorflow:Restoring parameters from ./trained_model\n"
     ]
    },
    {
     "name": "stderr",
     "output_type": "stream",
     "text": [
      "100%|██████████| 1256/1256 [00:02<00:00, 460.44it/s]\n"
     ]
    },
    {
     "name": "stdout",
     "output_type": "stream",
     "text": [
      "meanse:  940.2652271826556\n",
      "===== EPOCH ======:  475\n",
      "INFO:tensorflow:Restoring parameters from ./trained_model\n"
     ]
    },
    {
     "name": "stderr",
     "output_type": "stream",
     "text": [
      "100%|██████████| 1256/1256 [00:02<00:00, 459.99it/s]\n"
     ]
    },
    {
     "name": "stdout",
     "output_type": "stream",
     "text": [
      "meanse:  940.2603255373657\n",
      "===== EPOCH ======:  476\n",
      "INFO:tensorflow:Restoring parameters from ./trained_model\n"
     ]
    },
    {
     "name": "stderr",
     "output_type": "stream",
     "text": [
      "100%|██████████| 1256/1256 [00:02<00:00, 461.21it/s]\n"
     ]
    },
    {
     "name": "stdout",
     "output_type": "stream",
     "text": [
      "meanse:  940.2558159289086\n",
      "===== EPOCH ======:  477\n",
      "INFO:tensorflow:Restoring parameters from ./trained_model\n"
     ]
    },
    {
     "name": "stderr",
     "output_type": "stream",
     "text": [
      "100%|██████████| 1256/1256 [00:02<00:00, 460.81it/s]\n"
     ]
    },
    {
     "name": "stdout",
     "output_type": "stream",
     "text": [
      "meanse:  940.2510800445156\n",
      "===== EPOCH ======:  478\n",
      "INFO:tensorflow:Restoring parameters from ./trained_model\n"
     ]
    },
    {
     "name": "stderr",
     "output_type": "stream",
     "text": [
      "100%|██████████| 1256/1256 [00:02<00:00, 462.53it/s]\n"
     ]
    },
    {
     "name": "stdout",
     "output_type": "stream",
     "text": [
      "meanse:  940.2461584328087\n",
      "===== EPOCH ======:  479\n",
      "INFO:tensorflow:Restoring parameters from ./trained_model\n"
     ]
    },
    {
     "name": "stderr",
     "output_type": "stream",
     "text": [
      "100%|██████████| 1256/1256 [00:02<00:00, 468.50it/s]\n"
     ]
    },
    {
     "name": "stdout",
     "output_type": "stream",
     "text": [
      "meanse:  940.2412741951123\n",
      "===== EPOCH ======:  480\n",
      "INFO:tensorflow:Restoring parameters from ./trained_model\n"
     ]
    },
    {
     "name": "stderr",
     "output_type": "stream",
     "text": [
      "100%|██████████| 1256/1256 [00:02<00:00, 447.11it/s]\n"
     ]
    },
    {
     "name": "stdout",
     "output_type": "stream",
     "text": [
      "meanse:  940.2362294660253\n",
      "===== EPOCH ======:  481\n",
      "INFO:tensorflow:Restoring parameters from ./trained_model\n"
     ]
    },
    {
     "name": "stderr",
     "output_type": "stream",
     "text": [
      "100%|██████████| 1256/1256 [00:02<00:00, 451.70it/s]\n"
     ]
    },
    {
     "name": "stdout",
     "output_type": "stream",
     "text": [
      "meanse:  940.2314461416499\n",
      "===== EPOCH ======:  482\n",
      "INFO:tensorflow:Restoring parameters from ./trained_model\n"
     ]
    },
    {
     "name": "stderr",
     "output_type": "stream",
     "text": [
      "100%|██████████| 1256/1256 [00:02<00:00, 456.76it/s]\n"
     ]
    },
    {
     "name": "stdout",
     "output_type": "stream",
     "text": [
      "meanse:  940.2263215673956\n",
      "===== EPOCH ======:  483\n",
      "INFO:tensorflow:Restoring parameters from ./trained_model\n"
     ]
    },
    {
     "name": "stderr",
     "output_type": "stream",
     "text": [
      "100%|██████████| 1256/1256 [00:02<00:00, 461.46it/s]\n"
     ]
    },
    {
     "name": "stdout",
     "output_type": "stream",
     "text": [
      "meanse:  940.2215453029438\n",
      "===== EPOCH ======:  484\n",
      "INFO:tensorflow:Restoring parameters from ./trained_model\n"
     ]
    },
    {
     "name": "stderr",
     "output_type": "stream",
     "text": [
      "100%|██████████| 1256/1256 [00:02<00:00, 448.99it/s]\n"
     ]
    },
    {
     "name": "stdout",
     "output_type": "stream",
     "text": [
      "meanse:  940.2166501982197\n",
      "===== EPOCH ======:  485\n",
      "INFO:tensorflow:Restoring parameters from ./trained_model\n"
     ]
    },
    {
     "name": "stderr",
     "output_type": "stream",
     "text": [
      "100%|██████████| 1256/1256 [00:02<00:00, 456.98it/s]\n"
     ]
    },
    {
     "name": "stdout",
     "output_type": "stream",
     "text": [
      "meanse:  940.2119254200322\n",
      "===== EPOCH ======:  486\n",
      "INFO:tensorflow:Restoring parameters from ./trained_model\n"
     ]
    },
    {
     "name": "stderr",
     "output_type": "stream",
     "text": [
      "100%|██████████| 1256/1256 [00:02<00:00, 462.19it/s]\n"
     ]
    },
    {
     "name": "stdout",
     "output_type": "stream",
     "text": [
      "meanse:  940.2070035820554\n",
      "===== EPOCH ======:  487\n",
      "INFO:tensorflow:Restoring parameters from ./trained_model\n"
     ]
    },
    {
     "name": "stderr",
     "output_type": "stream",
     "text": [
      "100%|██████████| 1256/1256 [00:02<00:00, 455.83it/s]\n"
     ]
    },
    {
     "name": "stdout",
     "output_type": "stream",
     "text": [
      "meanse:  940.2023272157475\n",
      "===== EPOCH ======:  488\n",
      "INFO:tensorflow:Restoring parameters from ./trained_model\n"
     ]
    },
    {
     "name": "stderr",
     "output_type": "stream",
     "text": [
      "100%|██████████| 1256/1256 [00:02<00:00, 459.61it/s]\n"
     ]
    },
    {
     "name": "stdout",
     "output_type": "stream",
     "text": [
      "meanse:  940.1974197534998\n",
      "===== EPOCH ======:  489\n",
      "INFO:tensorflow:Restoring parameters from ./trained_model\n"
     ]
    },
    {
     "name": "stderr",
     "output_type": "stream",
     "text": [
      "100%|██████████| 1256/1256 [00:02<00:00, 456.12it/s]\n"
     ]
    },
    {
     "name": "stdout",
     "output_type": "stream",
     "text": [
      "meanse:  940.1924477268935\n",
      "===== EPOCH ======:  490\n",
      "INFO:tensorflow:Restoring parameters from ./trained_model\n"
     ]
    },
    {
     "name": "stderr",
     "output_type": "stream",
     "text": [
      "100%|██████████| 1256/1256 [00:02<00:00, 456.37it/s]\n"
     ]
    },
    {
     "name": "stdout",
     "output_type": "stream",
     "text": [
      "meanse:  940.1875134281293\n",
      "===== EPOCH ======:  491\n",
      "INFO:tensorflow:Restoring parameters from ./trained_model\n"
     ]
    },
    {
     "name": "stderr",
     "output_type": "stream",
     "text": [
      "100%|██████████| 1256/1256 [00:02<00:00, 460.48it/s]\n"
     ]
    },
    {
     "name": "stdout",
     "output_type": "stream",
     "text": [
      "meanse:  940.1827994873569\n",
      "===== EPOCH ======:  492\n",
      "INFO:tensorflow:Restoring parameters from ./trained_model\n"
     ]
    },
    {
     "name": "stderr",
     "output_type": "stream",
     "text": [
      "100%|██████████| 1256/1256 [00:02<00:00, 458.96it/s]\n"
     ]
    },
    {
     "name": "stdout",
     "output_type": "stream",
     "text": [
      "meanse:  940.1780178782287\n",
      "===== EPOCH ======:  493\n",
      "INFO:tensorflow:Restoring parameters from ./trained_model\n"
     ]
    },
    {
     "name": "stderr",
     "output_type": "stream",
     "text": [
      "100%|██████████| 1256/1256 [00:02<00:00, 464.64it/s]\n"
     ]
    },
    {
     "name": "stdout",
     "output_type": "stream",
     "text": [
      "meanse:  940.1730607003923\n",
      "===== EPOCH ======:  494\n",
      "INFO:tensorflow:Restoring parameters from ./trained_model\n"
     ]
    },
    {
     "name": "stderr",
     "output_type": "stream",
     "text": [
      "100%|██████████| 1256/1256 [00:02<00:00, 465.42it/s]\n"
     ]
    },
    {
     "name": "stdout",
     "output_type": "stream",
     "text": [
      "meanse:  940.1680710368855\n",
      "===== EPOCH ======:  495\n",
      "INFO:tensorflow:Restoring parameters from ./trained_model\n"
     ]
    },
    {
     "name": "stderr",
     "output_type": "stream",
     "text": [
      "100%|██████████| 1256/1256 [00:02<00:00, 462.81it/s]\n"
     ]
    },
    {
     "name": "stdout",
     "output_type": "stream",
     "text": [
      "meanse:  940.1633040510166\n",
      "===== EPOCH ======:  496\n",
      "INFO:tensorflow:Restoring parameters from ./trained_model\n"
     ]
    },
    {
     "name": "stderr",
     "output_type": "stream",
     "text": [
      "100%|██████████| 1256/1256 [00:02<00:00, 460.46it/s]\n"
     ]
    },
    {
     "name": "stdout",
     "output_type": "stream",
     "text": [
      "meanse:  940.1585150038361\n",
      "===== EPOCH ======:  497\n",
      "INFO:tensorflow:Restoring parameters from ./trained_model\n"
     ]
    },
    {
     "name": "stderr",
     "output_type": "stream",
     "text": [
      "100%|██████████| 1256/1256 [00:02<00:00, 465.44it/s]\n"
     ]
    },
    {
     "name": "stdout",
     "output_type": "stream",
     "text": [
      "meanse:  940.1537424196863\n",
      "===== EPOCH ======:  498\n",
      "INFO:tensorflow:Restoring parameters from ./trained_model\n"
     ]
    },
    {
     "name": "stderr",
     "output_type": "stream",
     "text": [
      "100%|██████████| 1256/1256 [00:02<00:00, 420.62it/s]\n"
     ]
    },
    {
     "name": "stdout",
     "output_type": "stream",
     "text": [
      "meanse:  940.1487446613372\n",
      "===== EPOCH ======:  499\n",
      "INFO:tensorflow:Restoring parameters from ./trained_model\n"
     ]
    },
    {
     "name": "stderr",
     "output_type": "stream",
     "text": [
      "100%|██████████| 1256/1256 [00:04<00:00, 310.08it/s]\n"
     ]
    },
    {
     "name": "stdout",
     "output_type": "stream",
     "text": [
      "meanse:  940.1436967303039\n",
      "===== EPOCH ======:  500\n",
      "INFO:tensorflow:Restoring parameters from ./trained_model\n"
     ]
    },
    {
     "name": "stderr",
     "output_type": "stream",
     "text": [
      "100%|██████████| 1256/1256 [00:03<00:00, 330.95it/s]\n"
     ]
    },
    {
     "name": "stdout",
     "output_type": "stream",
     "text": [
      "meanse:  940.1388518688785\n",
      "===== EPOCH ======:  501\n",
      "INFO:tensorflow:Restoring parameters from ./trained_model\n"
     ]
    },
    {
     "name": "stderr",
     "output_type": "stream",
     "text": [
      "100%|██████████| 1256/1256 [00:04<00:00, 289.48it/s]\n"
     ]
    },
    {
     "name": "stdout",
     "output_type": "stream",
     "text": [
      "meanse:  940.1338217007886\n",
      "===== EPOCH ======:  502\n",
      "INFO:tensorflow:Restoring parameters from ./trained_model\n"
     ]
    },
    {
     "name": "stderr",
     "output_type": "stream",
     "text": [
      "100%|██████████| 1256/1256 [00:03<00:00, 355.60it/s]\n"
     ]
    },
    {
     "name": "stdout",
     "output_type": "stream",
     "text": [
      "meanse:  940.1288329476763\n",
      "===== EPOCH ======:  503\n",
      "INFO:tensorflow:Restoring parameters from ./trained_model\n"
     ]
    },
    {
     "name": "stderr",
     "output_type": "stream",
     "text": [
      "100%|██████████| 1256/1256 [00:03<00:00, 399.05it/s]\n"
     ]
    },
    {
     "name": "stdout",
     "output_type": "stream",
     "text": [
      "meanse:  940.1238752003688\n",
      "===== EPOCH ======:  504\n",
      "INFO:tensorflow:Restoring parameters from ./trained_model\n"
     ]
    },
    {
     "name": "stderr",
     "output_type": "stream",
     "text": [
      "100%|██████████| 1256/1256 [00:03<00:00, 404.87it/s]\n"
     ]
    },
    {
     "name": "stdout",
     "output_type": "stream",
     "text": [
      "meanse:  940.1189116444557\n",
      "===== EPOCH ======:  505\n",
      "INFO:tensorflow:Restoring parameters from ./trained_model\n"
     ]
    },
    {
     "name": "stderr",
     "output_type": "stream",
     "text": [
      "100%|██████████| 1256/1256 [00:02<00:00, 448.95it/s]\n"
     ]
    },
    {
     "name": "stdout",
     "output_type": "stream",
     "text": [
      "meanse:  940.1141679879207\n",
      "===== EPOCH ======:  506\n",
      "INFO:tensorflow:Restoring parameters from ./trained_model\n"
     ]
    },
    {
     "name": "stderr",
     "output_type": "stream",
     "text": [
      "100%|██████████| 1256/1256 [00:02<00:00, 454.24it/s]\n"
     ]
    },
    {
     "name": "stdout",
     "output_type": "stream",
     "text": [
      "meanse:  940.1092582212133\n",
      "===== EPOCH ======:  507\n",
      "INFO:tensorflow:Restoring parameters from ./trained_model\n"
     ]
    },
    {
     "name": "stderr",
     "output_type": "stream",
     "text": [
      "100%|██████████| 1256/1256 [00:02<00:00, 458.30it/s]\n"
     ]
    },
    {
     "name": "stdout",
     "output_type": "stream",
     "text": [
      "meanse:  940.1042349057592\n",
      "===== EPOCH ======:  508\n",
      "INFO:tensorflow:Restoring parameters from ./trained_model\n"
     ]
    },
    {
     "name": "stderr",
     "output_type": "stream",
     "text": [
      "100%|██████████| 1256/1256 [00:02<00:00, 463.34it/s]\n"
     ]
    },
    {
     "name": "stdout",
     "output_type": "stream",
     "text": [
      "meanse:  940.0992668540614\n",
      "===== EPOCH ======:  509\n",
      "INFO:tensorflow:Restoring parameters from ./trained_model\n"
     ]
    },
    {
     "name": "stderr",
     "output_type": "stream",
     "text": [
      "100%|██████████| 1256/1256 [00:02<00:00, 460.64it/s]\n"
     ]
    },
    {
     "name": "stdout",
     "output_type": "stream",
     "text": [
      "meanse:  940.094304705881\n",
      "===== EPOCH ======:  510\n",
      "INFO:tensorflow:Restoring parameters from ./trained_model\n"
     ]
    },
    {
     "name": "stderr",
     "output_type": "stream",
     "text": [
      "100%|██████████| 1256/1256 [00:02<00:00, 460.14it/s]\n"
     ]
    },
    {
     "name": "stdout",
     "output_type": "stream",
     "text": [
      "meanse:  940.0892629167836\n",
      "===== EPOCH ======:  511\n",
      "INFO:tensorflow:Restoring parameters from ./trained_model\n"
     ]
    },
    {
     "name": "stderr",
     "output_type": "stream",
     "text": [
      "100%|██████████| 1256/1256 [00:02<00:00, 444.28it/s]\n"
     ]
    },
    {
     "name": "stdout",
     "output_type": "stream",
     "text": [
      "meanse:  940.0845388865015\n",
      "===== EPOCH ======:  512\n",
      "INFO:tensorflow:Restoring parameters from ./trained_model\n"
     ]
    },
    {
     "name": "stderr",
     "output_type": "stream",
     "text": [
      "100%|██████████| 1256/1256 [00:02<00:00, 428.67it/s]\n"
     ]
    },
    {
     "name": "stdout",
     "output_type": "stream",
     "text": [
      "meanse:  940.0795817466299\n",
      "===== EPOCH ======:  513\n",
      "INFO:tensorflow:Restoring parameters from ./trained_model\n"
     ]
    },
    {
     "name": "stderr",
     "output_type": "stream",
     "text": [
      "100%|██████████| 1256/1256 [00:02<00:00, 420.17it/s]\n"
     ]
    },
    {
     "name": "stdout",
     "output_type": "stream",
     "text": [
      "meanse:  940.0745625101077\n",
      "===== EPOCH ======:  514\n",
      "INFO:tensorflow:Restoring parameters from ./trained_model\n"
     ]
    },
    {
     "name": "stderr",
     "output_type": "stream",
     "text": [
      "100%|██████████| 1256/1256 [00:03<00:00, 416.80it/s]\n"
     ]
    },
    {
     "name": "stdout",
     "output_type": "stream",
     "text": [
      "meanse:  940.0696005487139\n",
      "===== EPOCH ======:  515\n",
      "INFO:tensorflow:Restoring parameters from ./trained_model\n"
     ]
    },
    {
     "name": "stderr",
     "output_type": "stream",
     "text": [
      "100%|██████████| 1256/1256 [00:02<00:00, 433.70it/s]\n"
     ]
    },
    {
     "name": "stdout",
     "output_type": "stream",
     "text": [
      "meanse:  940.0647348378114\n",
      "===== EPOCH ======:  516\n",
      "INFO:tensorflow:Restoring parameters from ./trained_model\n"
     ]
    },
    {
     "name": "stderr",
     "output_type": "stream",
     "text": [
      "100%|██████████| 1256/1256 [00:02<00:00, 421.48it/s]\n"
     ]
    },
    {
     "name": "stdout",
     "output_type": "stream",
     "text": [
      "meanse:  940.0598898746406\n",
      "===== EPOCH ======:  517\n",
      "INFO:tensorflow:Restoring parameters from ./trained_model\n"
     ]
    },
    {
     "name": "stderr",
     "output_type": "stream",
     "text": [
      "100%|██████████| 1256/1256 [00:03<00:00, 429.68it/s]\n"
     ]
    },
    {
     "name": "stdout",
     "output_type": "stream",
     "text": [
      "meanse:  940.0549938170014\n",
      "===== EPOCH ======:  518\n",
      "INFO:tensorflow:Restoring parameters from ./trained_model\n"
     ]
    },
    {
     "name": "stderr",
     "output_type": "stream",
     "text": [
      "100%|██████████| 1256/1256 [00:02<00:00, 447.63it/s]\n"
     ]
    },
    {
     "name": "stdout",
     "output_type": "stream",
     "text": [
      "meanse:  940.050264395726\n",
      "===== EPOCH ======:  519\n",
      "INFO:tensorflow:Restoring parameters from ./trained_model\n"
     ]
    },
    {
     "name": "stderr",
     "output_type": "stream",
     "text": [
      "100%|██████████| 1256/1256 [00:02<00:00, 446.45it/s]\n"
     ]
    },
    {
     "name": "stdout",
     "output_type": "stream",
     "text": [
      "meanse:  940.0453886104997\n",
      "===== EPOCH ======:  520\n",
      "INFO:tensorflow:Restoring parameters from ./trained_model\n"
     ]
    },
    {
     "name": "stderr",
     "output_type": "stream",
     "text": [
      "100%|██████████| 1256/1256 [00:03<00:00, 414.85it/s]\n"
     ]
    },
    {
     "name": "stdout",
     "output_type": "stream",
     "text": [
      "meanse:  940.0402690058302\n",
      "===== EPOCH ======:  521\n",
      "INFO:tensorflow:Restoring parameters from ./trained_model\n"
     ]
    },
    {
     "name": "stderr",
     "output_type": "stream",
     "text": [
      "100%|██████████| 1256/1256 [00:03<00:00, 397.97it/s]\n"
     ]
    },
    {
     "name": "stdout",
     "output_type": "stream",
     "text": [
      "meanse:  940.0353619391751\n",
      "===== EPOCH ======:  522\n",
      "INFO:tensorflow:Restoring parameters from ./trained_model\n"
     ]
    },
    {
     "name": "stderr",
     "output_type": "stream",
     "text": [
      "100%|██████████| 1256/1256 [00:03<00:00, 363.53it/s]\n"
     ]
    },
    {
     "name": "stdout",
     "output_type": "stream",
     "text": [
      "meanse:  940.0305469415749\n",
      "===== EPOCH ======:  523\n",
      "INFO:tensorflow:Restoring parameters from ./trained_model\n"
     ]
    },
    {
     "name": "stderr",
     "output_type": "stream",
     "text": [
      "100%|██████████| 1256/1256 [00:03<00:00, 356.21it/s]\n"
     ]
    },
    {
     "name": "stdout",
     "output_type": "stream",
     "text": [
      "meanse:  940.0257014757509\n",
      "===== EPOCH ======:  524\n",
      "INFO:tensorflow:Restoring parameters from ./trained_model\n"
     ]
    },
    {
     "name": "stderr",
     "output_type": "stream",
     "text": [
      "100%|██████████| 1256/1256 [00:03<00:00, 349.69it/s]\n"
     ]
    },
    {
     "name": "stdout",
     "output_type": "stream",
     "text": [
      "meanse:  940.0207854858629\n",
      "===== EPOCH ======:  525\n",
      "INFO:tensorflow:Restoring parameters from ./trained_model\n"
     ]
    },
    {
     "name": "stderr",
     "output_type": "stream",
     "text": [
      "100%|██████████| 1256/1256 [00:03<00:00, 396.67it/s]\n"
     ]
    },
    {
     "name": "stdout",
     "output_type": "stream",
     "text": [
      "meanse:  940.0160087271101\n",
      "===== EPOCH ======:  526\n",
      "INFO:tensorflow:Restoring parameters from ./trained_model\n"
     ]
    },
    {
     "name": "stderr",
     "output_type": "stream",
     "text": [
      "100%|██████████| 1256/1256 [00:02<00:00, 420.86it/s]\n"
     ]
    },
    {
     "name": "stdout",
     "output_type": "stream",
     "text": [
      "meanse:  940.0111880507438\n",
      "===== EPOCH ======:  527\n",
      "INFO:tensorflow:Restoring parameters from ./trained_model\n"
     ]
    },
    {
     "name": "stderr",
     "output_type": "stream",
     "text": [
      "100%|██████████| 1256/1256 [00:03<00:00, 390.00it/s]\n"
     ]
    },
    {
     "name": "stdout",
     "output_type": "stream",
     "text": [
      "meanse:  940.0063920393112\n",
      "===== EPOCH ======:  528\n",
      "INFO:tensorflow:Restoring parameters from ./trained_model\n"
     ]
    },
    {
     "name": "stderr",
     "output_type": "stream",
     "text": [
      "100%|██████████| 1256/1256 [00:02<00:00, 438.93it/s]\n"
     ]
    },
    {
     "name": "stdout",
     "output_type": "stream",
     "text": [
      "meanse:  940.0015966846685\n",
      "===== EPOCH ======:  529\n",
      "INFO:tensorflow:Restoring parameters from ./trained_model\n"
     ]
    },
    {
     "name": "stderr",
     "output_type": "stream",
     "text": [
      "100%|██████████| 1256/1256 [00:03<00:00, 418.53it/s]\n"
     ]
    },
    {
     "name": "stdout",
     "output_type": "stream",
     "text": [
      "meanse:  939.9971843874379\n",
      "===== EPOCH ======:  530\n",
      "INFO:tensorflow:Restoring parameters from ./trained_model\n"
     ]
    },
    {
     "name": "stderr",
     "output_type": "stream",
     "text": [
      "100%|██████████| 1256/1256 [00:02<00:00, 456.70it/s]\n"
     ]
    },
    {
     "name": "stdout",
     "output_type": "stream",
     "text": [
      "meanse:  939.9923014488949\n",
      "===== EPOCH ======:  531\n",
      "INFO:tensorflow:Restoring parameters from ./trained_model\n"
     ]
    },
    {
     "name": "stderr",
     "output_type": "stream",
     "text": [
      "100%|██████████| 1256/1256 [00:02<00:00, 454.04it/s]\n"
     ]
    },
    {
     "name": "stdout",
     "output_type": "stream",
     "text": [
      "meanse:  939.9876045649219\n",
      "===== EPOCH ======:  532\n",
      "INFO:tensorflow:Restoring parameters from ./trained_model\n"
     ]
    },
    {
     "name": "stderr",
     "output_type": "stream",
     "text": [
      "100%|██████████| 1256/1256 [00:02<00:00, 436.72it/s]\n"
     ]
    },
    {
     "name": "stdout",
     "output_type": "stream",
     "text": [
      "meanse:  939.9826343515117\n",
      "===== EPOCH ======:  533\n",
      "INFO:tensorflow:Restoring parameters from ./trained_model\n"
     ]
    },
    {
     "name": "stderr",
     "output_type": "stream",
     "text": [
      "100%|██████████| 1256/1256 [00:03<00:00, 373.52it/s]\n"
     ]
    },
    {
     "name": "stdout",
     "output_type": "stream",
     "text": [
      "meanse:  939.9778480863874\n",
      "===== EPOCH ======:  534\n",
      "INFO:tensorflow:Restoring parameters from ./trained_model\n"
     ]
    },
    {
     "name": "stderr",
     "output_type": "stream",
     "text": [
      "100%|██████████| 1256/1256 [00:02<00:00, 450.42it/s]\n"
     ]
    },
    {
     "name": "stdout",
     "output_type": "stream",
     "text": [
      "meanse:  939.9730808043936\n",
      "===== EPOCH ======:  535\n",
      "INFO:tensorflow:Restoring parameters from ./trained_model\n"
     ]
    },
    {
     "name": "stderr",
     "output_type": "stream",
     "text": [
      "100%|██████████| 1256/1256 [00:02<00:00, 450.25it/s]\n"
     ]
    },
    {
     "name": "stdout",
     "output_type": "stream",
     "text": [
      "meanse:  939.9682700763083\n",
      "===== EPOCH ======:  536\n",
      "INFO:tensorflow:Restoring parameters from ./trained_model\n"
     ]
    },
    {
     "name": "stderr",
     "output_type": "stream",
     "text": [
      "100%|██████████| 1256/1256 [00:02<00:00, 448.87it/s]\n"
     ]
    },
    {
     "name": "stdout",
     "output_type": "stream",
     "text": [
      "meanse:  939.9638106283868\n",
      "===== EPOCH ======:  537\n",
      "INFO:tensorflow:Restoring parameters from ./trained_model\n"
     ]
    },
    {
     "name": "stderr",
     "output_type": "stream",
     "text": [
      "100%|██████████| 1256/1256 [00:02<00:00, 461.28it/s]\n"
     ]
    },
    {
     "name": "stdout",
     "output_type": "stream",
     "text": [
      "meanse:  939.9589879140732\n",
      "===== EPOCH ======:  538\n",
      "INFO:tensorflow:Restoring parameters from ./trained_model\n"
     ]
    },
    {
     "name": "stderr",
     "output_type": "stream",
     "text": [
      "100%|██████████| 1256/1256 [00:02<00:00, 450.61it/s]\n"
     ]
    },
    {
     "name": "stdout",
     "output_type": "stream",
     "text": [
      "meanse:  939.9541418947232\n",
      "===== EPOCH ======:  539\n",
      "INFO:tensorflow:Restoring parameters from ./trained_model\n"
     ]
    },
    {
     "name": "stderr",
     "output_type": "stream",
     "text": [
      "100%|██████████| 1256/1256 [00:02<00:00, 445.27it/s]\n"
     ]
    },
    {
     "name": "stdout",
     "output_type": "stream",
     "text": [
      "meanse:  939.9493345568894\n",
      "===== EPOCH ======:  540\n",
      "INFO:tensorflow:Restoring parameters from ./trained_model\n"
     ]
    },
    {
     "name": "stderr",
     "output_type": "stream",
     "text": [
      "100%|██████████| 1256/1256 [00:02<00:00, 427.82it/s]\n"
     ]
    },
    {
     "name": "stdout",
     "output_type": "stream",
     "text": [
      "meanse:  939.9444932656683\n",
      "===== EPOCH ======:  541\n",
      "INFO:tensorflow:Restoring parameters from ./trained_model\n"
     ]
    },
    {
     "name": "stderr",
     "output_type": "stream",
     "text": [
      "100%|██████████| 1256/1256 [00:03<00:00, 384.72it/s]\n"
     ]
    },
    {
     "name": "stdout",
     "output_type": "stream",
     "text": [
      "meanse:  939.9397058038954\n",
      "===== EPOCH ======:  542\n",
      "INFO:tensorflow:Restoring parameters from ./trained_model\n"
     ]
    },
    {
     "name": "stderr",
     "output_type": "stream",
     "text": [
      "100%|██████████| 1256/1256 [00:02<00:00, 422.59it/s]\n"
     ]
    },
    {
     "name": "stdout",
     "output_type": "stream",
     "text": [
      "meanse:  939.934911140211\n",
      "===== EPOCH ======:  543\n",
      "INFO:tensorflow:Restoring parameters from ./trained_model\n"
     ]
    },
    {
     "name": "stderr",
     "output_type": "stream",
     "text": [
      "100%|██████████| 1256/1256 [00:03<00:00, 365.12it/s]\n"
     ]
    },
    {
     "name": "stdout",
     "output_type": "stream",
     "text": [
      "meanse:  939.9300451886122\n",
      "===== EPOCH ======:  544\n",
      "INFO:tensorflow:Restoring parameters from ./trained_model\n"
     ]
    },
    {
     "name": "stderr",
     "output_type": "stream",
     "text": [
      "100%|██████████| 1256/1256 [00:02<00:00, 454.11it/s]\n"
     ]
    },
    {
     "name": "stdout",
     "output_type": "stream",
     "text": [
      "meanse:  939.9254478269322\n",
      "===== EPOCH ======:  545\n",
      "INFO:tensorflow:Restoring parameters from ./trained_model\n"
     ]
    },
    {
     "name": "stderr",
     "output_type": "stream",
     "text": [
      "100%|██████████| 1256/1256 [00:03<00:00, 403.42it/s]\n"
     ]
    },
    {
     "name": "stdout",
     "output_type": "stream",
     "text": [
      "meanse:  939.9205600015677\n",
      "===== EPOCH ======:  546\n",
      "INFO:tensorflow:Restoring parameters from ./trained_model\n"
     ]
    },
    {
     "name": "stderr",
     "output_type": "stream",
     "text": [
      "100%|██████████| 1256/1256 [00:02<00:00, 447.44it/s]\n"
     ]
    },
    {
     "name": "stdout",
     "output_type": "stream",
     "text": [
      "meanse:  939.9157731214146\n",
      "===== EPOCH ======:  547\n",
      "INFO:tensorflow:Restoring parameters from ./trained_model\n"
     ]
    },
    {
     "name": "stderr",
     "output_type": "stream",
     "text": [
      "100%|██████████| 1256/1256 [00:02<00:00, 432.07it/s]\n"
     ]
    },
    {
     "name": "stdout",
     "output_type": "stream",
     "text": [
      "meanse:  939.9109148280636\n",
      "===== EPOCH ======:  548\n",
      "INFO:tensorflow:Restoring parameters from ./trained_model\n"
     ]
    },
    {
     "name": "stderr",
     "output_type": "stream",
     "text": [
      "100%|██████████| 1256/1256 [00:03<00:00, 414.39it/s]\n"
     ]
    },
    {
     "name": "stdout",
     "output_type": "stream",
     "text": [
      "meanse:  939.9060756484414\n",
      "===== EPOCH ======:  549\n",
      "INFO:tensorflow:Restoring parameters from ./trained_model\n"
     ]
    },
    {
     "name": "stderr",
     "output_type": "stream",
     "text": [
      "100%|██████████| 1256/1256 [00:02<00:00, 442.34it/s]\n"
     ]
    },
    {
     "name": "stdout",
     "output_type": "stream",
     "text": [
      "meanse:  939.9012074349033\n",
      "===== EPOCH ======:  550\n",
      "INFO:tensorflow:Restoring parameters from ./trained_model\n"
     ]
    },
    {
     "name": "stderr",
     "output_type": "stream",
     "text": [
      "100%|██████████| 1256/1256 [00:03<00:00, 388.36it/s]\n"
     ]
    },
    {
     "name": "stdout",
     "output_type": "stream",
     "text": [
      "meanse:  939.8962849181169\n",
      "===== EPOCH ======:  551\n",
      "INFO:tensorflow:Restoring parameters from ./trained_model\n"
     ]
    },
    {
     "name": "stderr",
     "output_type": "stream",
     "text": [
      "100%|██████████| 1256/1256 [00:05<00:00, 243.08it/s]\n"
     ]
    },
    {
     "name": "stdout",
     "output_type": "stream",
     "text": [
      "meanse:  939.8918612625948\n",
      "===== EPOCH ======:  552\n",
      "INFO:tensorflow:Restoring parameters from ./trained_model\n"
     ]
    },
    {
     "name": "stderr",
     "output_type": "stream",
     "text": [
      "100%|██████████| 1256/1256 [00:04<00:00, 285.31it/s]\n"
     ]
    },
    {
     "name": "stdout",
     "output_type": "stream",
     "text": [
      "meanse:  939.8871280790135\n",
      "===== EPOCH ======:  553\n",
      "INFO:tensorflow:Restoring parameters from ./trained_model\n"
     ]
    },
    {
     "name": "stderr",
     "output_type": "stream",
     "text": [
      "100%|██████████| 1256/1256 [00:04<00:00, 310.52it/s]\n"
     ]
    },
    {
     "name": "stdout",
     "output_type": "stream",
     "text": [
      "meanse:  939.8825695985441\n",
      "===== EPOCH ======:  554\n",
      "INFO:tensorflow:Restoring parameters from ./trained_model\n"
     ]
    },
    {
     "name": "stderr",
     "output_type": "stream",
     "text": [
      "100%|██████████| 1256/1256 [00:03<00:00, 326.78it/s]\n"
     ]
    },
    {
     "name": "stdout",
     "output_type": "stream",
     "text": [
      "meanse:  939.8777416352253\n",
      "===== EPOCH ======:  555\n",
      "INFO:tensorflow:Restoring parameters from ./trained_model\n"
     ]
    },
    {
     "name": "stderr",
     "output_type": "stream",
     "text": [
      "100%|██████████| 1256/1256 [00:03<00:00, 336.76it/s]\n"
     ]
    },
    {
     "name": "stdout",
     "output_type": "stream",
     "text": [
      "meanse:  939.872824194325\n",
      "===== EPOCH ======:  556\n",
      "INFO:tensorflow:Restoring parameters from ./trained_model\n"
     ]
    },
    {
     "name": "stderr",
     "output_type": "stream",
     "text": [
      "100%|██████████| 1256/1256 [00:02<00:00, 426.06it/s]\n"
     ]
    },
    {
     "name": "stdout",
     "output_type": "stream",
     "text": [
      "meanse:  939.8684531996964\n",
      "===== EPOCH ======:  557\n",
      "INFO:tensorflow:Restoring parameters from ./trained_model\n"
     ]
    },
    {
     "name": "stderr",
     "output_type": "stream",
     "text": [
      "100%|██████████| 1256/1256 [00:02<00:00, 450.32it/s]\n"
     ]
    },
    {
     "name": "stdout",
     "output_type": "stream",
     "text": [
      "meanse:  939.863652592252\n",
      "===== EPOCH ======:  558\n",
      "INFO:tensorflow:Restoring parameters from ./trained_model\n"
     ]
    },
    {
     "name": "stderr",
     "output_type": "stream",
     "text": [
      "100%|██████████| 1256/1256 [00:02<00:00, 462.19it/s]\n"
     ]
    },
    {
     "name": "stdout",
     "output_type": "stream",
     "text": [
      "meanse:  939.8588524578483\n",
      "===== EPOCH ======:  559\n",
      "INFO:tensorflow:Restoring parameters from ./trained_model\n"
     ]
    },
    {
     "name": "stderr",
     "output_type": "stream",
     "text": [
      "100%|██████████| 1256/1256 [00:02<00:00, 452.00it/s]\n"
     ]
    },
    {
     "name": "stdout",
     "output_type": "stream",
     "text": [
      "meanse:  939.8540920656958\n",
      "===== EPOCH ======:  560\n",
      "INFO:tensorflow:Restoring parameters from ./trained_model\n"
     ]
    },
    {
     "name": "stderr",
     "output_type": "stream",
     "text": [
      "100%|██████████| 1256/1256 [00:02<00:00, 452.13it/s]\n"
     ]
    },
    {
     "name": "stdout",
     "output_type": "stream",
     "text": [
      "meanse:  939.8493431237093\n",
      "===== EPOCH ======:  561\n",
      "INFO:tensorflow:Restoring parameters from ./trained_model\n"
     ]
    },
    {
     "name": "stderr",
     "output_type": "stream",
     "text": [
      "100%|██████████| 1256/1256 [00:02<00:00, 430.08it/s]\n"
     ]
    },
    {
     "name": "stdout",
     "output_type": "stream",
     "text": [
      "meanse:  939.8445892075824\n",
      "===== EPOCH ======:  562\n",
      "INFO:tensorflow:Restoring parameters from ./trained_model\n"
     ]
    },
    {
     "name": "stderr",
     "output_type": "stream",
     "text": [
      "100%|██████████| 1256/1256 [00:03<00:00, 415.39it/s]\n"
     ]
    },
    {
     "name": "stdout",
     "output_type": "stream",
     "text": [
      "meanse:  939.8396680901765\n",
      "===== EPOCH ======:  563\n",
      "INFO:tensorflow:Restoring parameters from ./trained_model\n"
     ]
    },
    {
     "name": "stderr",
     "output_type": "stream",
     "text": [
      "100%|██████████| 1256/1256 [00:02<00:00, 432.78it/s]\n"
     ]
    },
    {
     "name": "stdout",
     "output_type": "stream",
     "text": [
      "meanse:  939.8349896092324\n",
      "===== EPOCH ======:  564\n",
      "INFO:tensorflow:Restoring parameters from ./trained_model\n"
     ]
    },
    {
     "name": "stderr",
     "output_type": "stream",
     "text": [
      "100%|██████████| 1256/1256 [00:02<00:00, 433.01it/s]\n"
     ]
    },
    {
     "name": "stdout",
     "output_type": "stream",
     "text": [
      "meanse:  939.830264277519\n",
      "===== EPOCH ======:  565\n",
      "INFO:tensorflow:Restoring parameters from ./trained_model\n"
     ]
    },
    {
     "name": "stderr",
     "output_type": "stream",
     "text": [
      "100%|██████████| 1256/1256 [00:02<00:00, 428.34it/s]\n"
     ]
    },
    {
     "name": "stdout",
     "output_type": "stream",
     "text": [
      "meanse:  939.825230177041\n",
      "===== EPOCH ======:  566\n",
      "INFO:tensorflow:Restoring parameters from ./trained_model\n"
     ]
    },
    {
     "name": "stderr",
     "output_type": "stream",
     "text": [
      "100%|██████████| 1256/1256 [00:02<00:00, 433.34it/s]\n"
     ]
    },
    {
     "name": "stdout",
     "output_type": "stream",
     "text": [
      "meanse:  939.8207761618742\n",
      "===== EPOCH ======:  567\n",
      "INFO:tensorflow:Restoring parameters from ./trained_model\n"
     ]
    },
    {
     "name": "stderr",
     "output_type": "stream",
     "text": [
      "100%|██████████| 1256/1256 [00:03<00:00, 416.81it/s]\n"
     ]
    },
    {
     "name": "stdout",
     "output_type": "stream",
     "text": [
      "meanse:  939.816046347284\n",
      "===== EPOCH ======:  568\n",
      "INFO:tensorflow:Restoring parameters from ./trained_model\n"
     ]
    },
    {
     "name": "stderr",
     "output_type": "stream",
     "text": [
      "100%|██████████| 1256/1256 [00:02<00:00, 421.03it/s]\n"
     ]
    },
    {
     "name": "stdout",
     "output_type": "stream",
     "text": [
      "meanse:  939.8114470471243\n",
      "===== EPOCH ======:  569\n",
      "INFO:tensorflow:Restoring parameters from ./trained_model\n"
     ]
    },
    {
     "name": "stderr",
     "output_type": "stream",
     "text": [
      "100%|██████████| 1256/1256 [00:02<00:00, 449.35it/s]\n"
     ]
    },
    {
     "name": "stdout",
     "output_type": "stream",
     "text": [
      "meanse:  939.8067107162658\n",
      "===== EPOCH ======:  570\n",
      "INFO:tensorflow:Restoring parameters from ./trained_model\n"
     ]
    },
    {
     "name": "stderr",
     "output_type": "stream",
     "text": [
      "100%|██████████| 1256/1256 [00:02<00:00, 455.28it/s]\n"
     ]
    },
    {
     "name": "stdout",
     "output_type": "stream",
     "text": [
      "meanse:  939.8021841421249\n",
      "===== EPOCH ======:  571\n",
      "INFO:tensorflow:Restoring parameters from ./trained_model\n"
     ]
    },
    {
     "name": "stderr",
     "output_type": "stream",
     "text": [
      "100%|██████████| 1256/1256 [00:02<00:00, 460.44it/s]\n"
     ]
    },
    {
     "name": "stdout",
     "output_type": "stream",
     "text": [
      "meanse:  939.797606736991\n",
      "===== EPOCH ======:  572\n",
      "INFO:tensorflow:Restoring parameters from ./trained_model\n"
     ]
    },
    {
     "name": "stderr",
     "output_type": "stream",
     "text": [
      "100%|██████████| 1256/1256 [00:02<00:00, 455.90it/s]\n"
     ]
    },
    {
     "name": "stdout",
     "output_type": "stream",
     "text": [
      "meanse:  939.7928232341815\n",
      "===== EPOCH ======:  573\n",
      "INFO:tensorflow:Restoring parameters from ./trained_model\n"
     ]
    },
    {
     "name": "stderr",
     "output_type": "stream",
     "text": [
      "100%|██████████| 1256/1256 [00:02<00:00, 457.63it/s]\n"
     ]
    },
    {
     "name": "stdout",
     "output_type": "stream",
     "text": [
      "meanse:  939.7881854256248\n",
      "===== EPOCH ======:  574\n",
      "INFO:tensorflow:Restoring parameters from ./trained_model\n"
     ]
    },
    {
     "name": "stderr",
     "output_type": "stream",
     "text": [
      "100%|██████████| 1256/1256 [00:02<00:00, 461.66it/s]\n"
     ]
    },
    {
     "name": "stdout",
     "output_type": "stream",
     "text": [
      "meanse:  939.7833629907317\n",
      "===== EPOCH ======:  575\n",
      "INFO:tensorflow:Restoring parameters from ./trained_model\n"
     ]
    },
    {
     "name": "stderr",
     "output_type": "stream",
     "text": [
      "100%|██████████| 1256/1256 [00:02<00:00, 459.01it/s]\n"
     ]
    },
    {
     "name": "stdout",
     "output_type": "stream",
     "text": [
      "meanse:  939.778596010937\n",
      "===== EPOCH ======:  576\n",
      "INFO:tensorflow:Restoring parameters from ./trained_model\n"
     ]
    },
    {
     "name": "stderr",
     "output_type": "stream",
     "text": [
      "100%|██████████| 1256/1256 [00:03<00:00, 414.98it/s]\n"
     ]
    },
    {
     "name": "stdout",
     "output_type": "stream",
     "text": [
      "meanse:  939.773865550187\n",
      "===== EPOCH ======:  577\n",
      "INFO:tensorflow:Restoring parameters from ./trained_model\n"
     ]
    },
    {
     "name": "stderr",
     "output_type": "stream",
     "text": [
      "100%|██████████| 1256/1256 [00:02<00:00, 440.48it/s]\n"
     ]
    },
    {
     "name": "stdout",
     "output_type": "stream",
     "text": [
      "meanse:  939.7691587065435\n",
      "===== EPOCH ======:  578\n",
      "INFO:tensorflow:Restoring parameters from ./trained_model\n"
     ]
    },
    {
     "name": "stderr",
     "output_type": "stream",
     "text": [
      "100%|██████████| 1256/1256 [00:02<00:00, 426.50it/s]\n"
     ]
    },
    {
     "name": "stdout",
     "output_type": "stream",
     "text": [
      "meanse:  939.764222200509\n",
      "===== EPOCH ======:  579\n",
      "INFO:tensorflow:Restoring parameters from ./trained_model\n"
     ]
    },
    {
     "name": "stderr",
     "output_type": "stream",
     "text": [
      "100%|██████████| 1256/1256 [00:02<00:00, 447.93it/s]\n"
     ]
    },
    {
     "name": "stdout",
     "output_type": "stream",
     "text": [
      "meanse:  939.7595556951633\n",
      "===== EPOCH ======:  580\n",
      "INFO:tensorflow:Restoring parameters from ./trained_model\n"
     ]
    },
    {
     "name": "stderr",
     "output_type": "stream",
     "text": [
      "100%|██████████| 1256/1256 [00:02<00:00, 459.90it/s]\n"
     ]
    },
    {
     "name": "stdout",
     "output_type": "stream",
     "text": [
      "meanse:  939.7548411013973\n",
      "===== EPOCH ======:  581\n",
      "INFO:tensorflow:Restoring parameters from ./trained_model\n"
     ]
    },
    {
     "name": "stderr",
     "output_type": "stream",
     "text": [
      "100%|██████████| 1256/1256 [00:02<00:00, 447.99it/s]\n"
     ]
    },
    {
     "name": "stdout",
     "output_type": "stream",
     "text": [
      "meanse:  939.7501875541772\n",
      "===== EPOCH ======:  582\n",
      "INFO:tensorflow:Restoring parameters from ./trained_model\n"
     ]
    },
    {
     "name": "stderr",
     "output_type": "stream",
     "text": [
      "100%|██████████| 1256/1256 [00:02<00:00, 439.90it/s]\n"
     ]
    },
    {
     "name": "stdout",
     "output_type": "stream",
     "text": [
      "meanse:  939.7455255301894\n",
      "===== EPOCH ======:  583\n",
      "INFO:tensorflow:Restoring parameters from ./trained_model\n"
     ]
    },
    {
     "name": "stderr",
     "output_type": "stream",
     "text": [
      "100%|██████████| 1256/1256 [00:02<00:00, 442.39it/s]\n"
     ]
    },
    {
     "name": "stdout",
     "output_type": "stream",
     "text": [
      "meanse:  939.7408265444883\n",
      "===== EPOCH ======:  584\n",
      "INFO:tensorflow:Restoring parameters from ./trained_model\n"
     ]
    },
    {
     "name": "stderr",
     "output_type": "stream",
     "text": [
      "100%|██████████| 1256/1256 [00:02<00:00, 447.61it/s]\n"
     ]
    },
    {
     "name": "stdout",
     "output_type": "stream",
     "text": [
      "meanse:  939.736180890138\n",
      "===== EPOCH ======:  585\n",
      "INFO:tensorflow:Restoring parameters from ./trained_model\n"
     ]
    },
    {
     "name": "stderr",
     "output_type": "stream",
     "text": [
      "100%|██████████| 1256/1256 [00:02<00:00, 441.67it/s]\n"
     ]
    },
    {
     "name": "stdout",
     "output_type": "stream",
     "text": [
      "meanse:  939.7316215896303\n",
      "===== EPOCH ======:  586\n",
      "INFO:tensorflow:Restoring parameters from ./trained_model\n"
     ]
    },
    {
     "name": "stderr",
     "output_type": "stream",
     "text": [
      "100%|██████████| 1256/1256 [00:02<00:00, 462.62it/s]\n"
     ]
    },
    {
     "name": "stdout",
     "output_type": "stream",
     "text": [
      "meanse:  939.726884478976\n",
      "===== EPOCH ======:  587\n",
      "INFO:tensorflow:Restoring parameters from ./trained_model\n"
     ]
    },
    {
     "name": "stderr",
     "output_type": "stream",
     "text": [
      "100%|██████████| 1256/1256 [00:02<00:00, 454.93it/s]\n"
     ]
    },
    {
     "name": "stdout",
     "output_type": "stream",
     "text": [
      "meanse:  939.7225136794862\n",
      "===== EPOCH ======:  588\n",
      "INFO:tensorflow:Restoring parameters from ./trained_model\n"
     ]
    },
    {
     "name": "stderr",
     "output_type": "stream",
     "text": [
      "100%|██████████| 1256/1256 [00:02<00:00, 434.26it/s]\n"
     ]
    },
    {
     "name": "stdout",
     "output_type": "stream",
     "text": [
      "meanse:  939.7179136336989\n",
      "===== EPOCH ======:  589\n",
      "INFO:tensorflow:Restoring parameters from ./trained_model\n"
     ]
    },
    {
     "name": "stderr",
     "output_type": "stream",
     "text": [
      "100%|██████████| 1256/1256 [00:03<00:00, 407.73it/s]\n"
     ]
    },
    {
     "name": "stdout",
     "output_type": "stream",
     "text": [
      "meanse:  939.7131810643871\n",
      "===== EPOCH ======:  590\n",
      "INFO:tensorflow:Restoring parameters from ./trained_model\n"
     ]
    },
    {
     "name": "stderr",
     "output_type": "stream",
     "text": [
      "100%|██████████| 1256/1256 [00:02<00:00, 418.72it/s]\n"
     ]
    },
    {
     "name": "stdout",
     "output_type": "stream",
     "text": [
      "meanse:  939.7085814544349\n",
      "===== EPOCH ======:  591\n",
      "INFO:tensorflow:Restoring parameters from ./trained_model\n"
     ]
    },
    {
     "name": "stderr",
     "output_type": "stream",
     "text": [
      "100%|██████████| 1256/1256 [00:02<00:00, 452.11it/s]\n"
     ]
    },
    {
     "name": "stdout",
     "output_type": "stream",
     "text": [
      "meanse:  939.7038763799485\n",
      "===== EPOCH ======:  592\n",
      "INFO:tensorflow:Restoring parameters from ./trained_model\n"
     ]
    },
    {
     "name": "stderr",
     "output_type": "stream",
     "text": [
      "100%|██████████| 1256/1256 [00:02<00:00, 445.30it/s]\n"
     ]
    },
    {
     "name": "stdout",
     "output_type": "stream",
     "text": [
      "meanse:  939.6990547461115\n",
      "===== EPOCH ======:  593\n",
      "INFO:tensorflow:Restoring parameters from ./trained_model\n"
     ]
    },
    {
     "name": "stderr",
     "output_type": "stream",
     "text": [
      "100%|██████████| 1256/1256 [00:02<00:00, 453.06it/s]\n"
     ]
    },
    {
     "name": "stdout",
     "output_type": "stream",
     "text": [
      "meanse:  939.6943761049562\n",
      "===== EPOCH ======:  594\n",
      "INFO:tensorflow:Restoring parameters from ./trained_model\n"
     ]
    },
    {
     "name": "stderr",
     "output_type": "stream",
     "text": [
      "100%|██████████| 1256/1256 [00:02<00:00, 451.39it/s]\n"
     ]
    },
    {
     "name": "stdout",
     "output_type": "stream",
     "text": [
      "meanse:  939.6896500951925\n",
      "===== EPOCH ======:  595\n",
      "INFO:tensorflow:Restoring parameters from ./trained_model\n"
     ]
    },
    {
     "name": "stderr",
     "output_type": "stream",
     "text": [
      "100%|██████████| 1256/1256 [00:02<00:00, 449.32it/s]\n"
     ]
    },
    {
     "name": "stdout",
     "output_type": "stream",
     "text": [
      "meanse:  939.6851161968935\n",
      "===== EPOCH ======:  596\n",
      "INFO:tensorflow:Restoring parameters from ./trained_model\n"
     ]
    },
    {
     "name": "stderr",
     "output_type": "stream",
     "text": [
      "100%|██████████| 1256/1256 [00:02<00:00, 445.69it/s]\n"
     ]
    },
    {
     "name": "stdout",
     "output_type": "stream",
     "text": [
      "meanse:  939.6805192178981\n",
      "===== EPOCH ======:  597\n",
      "INFO:tensorflow:Restoring parameters from ./trained_model\n"
     ]
    },
    {
     "name": "stderr",
     "output_type": "stream",
     "text": [
      "100%|██████████| 1256/1256 [00:03<00:00, 417.26it/s]\n"
     ]
    },
    {
     "name": "stdout",
     "output_type": "stream",
     "text": [
      "meanse:  939.6760215402409\n",
      "===== EPOCH ======:  598\n",
      "INFO:tensorflow:Restoring parameters from ./trained_model\n"
     ]
    },
    {
     "name": "stderr",
     "output_type": "stream",
     "text": [
      "100%|██████████| 1256/1256 [00:02<00:00, 434.50it/s]\n"
     ]
    },
    {
     "name": "stdout",
     "output_type": "stream",
     "text": [
      "meanse:  939.6712006360862\n",
      "===== EPOCH ======:  599\n",
      "INFO:tensorflow:Restoring parameters from ./trained_model\n"
     ]
    },
    {
     "name": "stderr",
     "output_type": "stream",
     "text": [
      "100%|██████████| 1256/1256 [00:03<00:00, 337.01it/s]\n"
     ]
    },
    {
     "name": "stdout",
     "output_type": "stream",
     "text": [
      "meanse:  939.6664814690876\n",
      "===== EPOCH ======:  600\n",
      "INFO:tensorflow:Restoring parameters from ./trained_model\n"
     ]
    },
    {
     "name": "stderr",
     "output_type": "stream",
     "text": [
      " 14%|█▍        | 174/1256 [00:00<00:03, 306.18it/s]"
     ]
    }
   ],
   "source": [
    "import tensorflow as tf\n",
    "import pandas as pd\n",
    "import numpy as np\n",
    "import matplotlib.pyplot as plt\n",
    "from sklearn.utils import shuffle\n",
    "from sklearn import preprocessing\n",
    "from sklearn.feature_extraction.text import CountVectorizer\n",
    "import datetime\n",
    "from tqdm import tqdm\n",
    "import copy\n",
    "\n",
    "class MainRNN():\n",
    "    def __init__(self):\n",
    "        self.data_time_range=1\n",
    "        self.seq_size=self.data_time_range\n",
    "        self.hidden_layer=1\n",
    "        self.output_feature_size=1\n",
    "        self.epochs=2000\n",
    "        self.batch_size=2\n",
    "\n",
    "    def get_formated_data(self):\n",
    "                \n",
    "        count_vectorizer = CountVectorizer(decode_error='ignore',binary=False)\n",
    "        X_text = count_vectorizer.fit_transform(df_text['text_without_stopwords'])\n",
    "        X_text = X_text.toarray()\n",
    "        \n",
    "        \n",
    "        \n",
    "        print(df[:3])\n",
    "\n",
    "        X = []\n",
    "        Y = []\n",
    "        for index, row in tqdm(df.iterrows()):\n",
    "            row_data_array = row.values[1:-1]\n",
    "            row_day = row['date'].split('-')[2]\n",
    "            row_mon = row['date'].split('-')[1]\n",
    "            row_year = row['date'].split('-')[0]\n",
    "            text_index = df_text[(df_text['date'] == row_mon + row_day + row_year)].index.values.astype(int)\n",
    "            if len(text_index) > 0:\n",
    "                text_index = text_index[0]\n",
    "\n",
    "                if (text_index) >= 0: \n",
    "                    row_data_array = np.append(row_data_array, np.array(X_text[text_index], dtype=np.int))\n",
    "                else:\n",
    "                    _, shape_for_use = np.array(X_text).shape\n",
    "                    row_data_array = np.append(row_data_array, np.zeros(shape_for_use, dtype=np.int))\n",
    "            else: \n",
    "                _, shape_for_use = np.array(X_text).shape\n",
    "                row_data_array = np.append(row_data_array, np.zeros(shape_for_use, dtype=np.int))\n",
    "                \n",
    "            X.append([row_data_array])\n",
    "            Y.append([row['next_day_close']])\n",
    "        \n",
    "        print(X[1], Y[1])\n",
    "        print('before X.shape', len(X))\n",
    "        print('before Y.shape', len(Y))\n",
    "        \n",
    "        return np.array(X), np.array(Y)\n",
    "\n",
    "\n",
    "    def process_train(self, X, Y):\n",
    "\n",
    "        # get shape X (N, T, D)\n",
    "        X_sample_size, X_seq_size, X_features_size = X.shape\n",
    "        print('X_features_size', X_features_size)\n",
    "\n",
    "        # get shape Y (K)\n",
    "        Y_sample_size = Y.shape\n",
    "\n",
    "        # init weight and bias\n",
    "        weights = tf.Variable(tf.random_normal([self.hidden_layer, self.output_feature_size]))\n",
    "        biases = tf.Variable(tf.random_normal([self.output_feature_size]))\n",
    "\n",
    "        # placeholder for graph input\n",
    "        tfX = tf.placeholder(tf.float32, shape=[None, X_seq_size, X_features_size], name='inputX')\n",
    "        tfY = tf.placeholder(tf.float32, shape=[None, self.output_feature_size], name='inputY')\n",
    "\n",
    "        # transposeX\n",
    "        tfX = tf.transpose(tfX, [1, 0, 2])\n",
    "\n",
    "        # define lstm cell\n",
    "        lstmCell = tf.nn.rnn_cell.BasicLSTMCell(self.hidden_layer)\n",
    "\n",
    "        # create RNN unit\n",
    "        outputs, states = tf.nn.dynamic_rnn(cell=lstmCell, inputs=tfX, dtype=tf.float32)\n",
    "\n",
    "        # get rnn output\n",
    "        outputs = tf.stack(outputs)\n",
    "\n",
    "        # transpose output back\n",
    "        outputs = tf.transpose(outputs, [1, 0, 2])\n",
    "        # outputs = tf.reshape(outputs, [outputs.get_shape()[-1], self.hidden_layer])\n",
    "\n",
    "        # Hack to build the indexing and retrieve the right output.\n",
    "        # Start indices for each sample\n",
    "        index = tf.range(0, tf.shape(outputs)[0]) * X_seq_size + (X_seq_size - 1)\n",
    "        # Indexing\n",
    "        outputs = tf.gather(tf.reshape(outputs, [-1, self.hidden_layer]), index)\n",
    "\n",
    "        # prediction\n",
    "        prediction = tf.matmul(outputs, weights) + biases\n",
    "        label = tfY\n",
    "\n",
    "        # cost function\n",
    "        loss = tf.reduce_mean(tf.square(prediction - tfY))\n",
    "\n",
    "        # optimizer\n",
    "        optimizer = tf.train.RMSPropOptimizer(learning_rate=0.001).minimize(loss)\n",
    "\n",
    "        # cost[] and accuracies[]\n",
    "        epoch_pred=[]\n",
    "        epoch_lab=[]\n",
    "        iterl=[]\n",
    "        \n",
    "\n",
    "        # global init\n",
    "        init = tf.global_variables_initializer()\n",
    "\n",
    "        first=False\n",
    "\n",
    "        # start training\n",
    "        with tf.Session() as sess:\n",
    "            saver = tf.train.Saver()\n",
    "            sess.run(init)\n",
    "\n",
    "            for epoch in range(self.epochs):\n",
    "                costs=[]\n",
    "                print('===== EPOCH ======: ', epoch)\n",
    "                if not first:\n",
    "                    saver.restore(sess,\"./trained_model\")\n",
    "                    first=False\n",
    "\n",
    "#                 X, Y = shuffle(X, Y)\n",
    "            \n",
    "                c=0\n",
    "                for batch in tqdm(range(X_sample_size - self.batch_size)):\n",
    "                    batchX = X[batch:batch+self.batch_size]\n",
    "                    batchY = Y[batch:batch+self.batch_size]\n",
    "\n",
    "                    _, cost_out, prediction_out = sess.run([optimizer, loss, prediction], feed_dict={tfX: batchX.reshape(X_seq_size, self.batch_size, X_features_size), tfY: batchY.reshape(self.batch_size, self.output_feature_size)})\n",
    "                    costs.append(cost_out)\n",
    "                    if epoch == self.epochs-1:\n",
    "                        \n",
    "                        epoch_pred.append(prediction_out[1])\n",
    "                        epoch_lab.append(Y[batch+1])\n",
    "                        iterl.append(c)\n",
    "                        c+=1\n",
    "\n",
    "                meanse = sum(costs) / float(len(costs))\n",
    "                \n",
    "                print('meanse: ', meanse)\n",
    "                \n",
    "                saver.save(sess, \"./trained_model\")\n",
    "\n",
    "            np.random.seed(0)\n",
    "#             plt.plot(epochsl, epochs_costs, 'g^')\n",
    "            plt.plot(iterl, epoch_pred, 'r--', iterl, epoch_lab, 'b--')\n",
    "            plt.savefig('costs.png')\n",
    "\n",
    "\n",
    "    def run_prediction(self):\n",
    "        print('start time:', datetime.datetime.now())\n",
    "        X, Y = self.get_formated_data()\n",
    "        self.process_train(X, Y)\n",
    "        print('end time:', datetime.datetime.now())\n",
    "\n",
    "\n",
    "if __name__ == '__main__':\n",
    "    MainRNN().run_prediction()\n"
   ]
  },
  {
   "cell_type": "code",
   "execution_count": null,
   "metadata": {},
   "outputs": [],
   "source": []
  },
  {
   "cell_type": "code",
   "execution_count": null,
   "metadata": {},
   "outputs": [],
   "source": []
  }
 ],
 "metadata": {
  "kernelspec": {
   "display_name": "Python 3",
   "language": "python",
   "name": "python3"
  },
  "language_info": {
   "codemirror_mode": {
    "name": "ipython",
    "version": 3
   },
   "file_extension": ".py",
   "mimetype": "text/x-python",
   "name": "python",
   "nbconvert_exporter": "python",
   "pygments_lexer": "ipython3",
   "version": "3.5.2"
  }
 },
 "nbformat": 4,
 "nbformat_minor": 2
}
