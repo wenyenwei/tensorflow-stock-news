{
 "cells": [
  {
   "cell_type": "code",
   "execution_count": null,
   "metadata": {},
   "outputs": [],
   "source": []
  },
  {
   "cell_type": "code",
   "execution_count": 3,
   "metadata": {},
   "outputs": [
    {
     "name": "stdout",
     "output_type": "stream",
     "text": [
      "Riches in niches: U.S. cops, in-flight movies may be model for Panasonic survival\",\n",
      "Riches niches: U.S. cops, in-flight movies may model Panasonic survival\",\n"
     ]
    },
    {
     "name": "stderr",
     "output_type": "stream",
     "text": [
      "[nltk_data] Downloading package stopwords to\n",
      "[nltk_data]     /Users/wenyen/nltk_data...\n",
      "[nltk_data]   Package stopwords is already up-to-date!\n"
     ]
    }
   ],
   "source": [
    "import nltk\n",
    "from nltk.corpus import stopwords\n",
    "import pandas as pd\n",
    "\n",
    "\n",
    "nltk.download('stopwords')\n",
    "stop = stopwords.words('english')\n",
    "df_text = pd.read_csv('rnews_apple.txt', sep=': \\\"', header=None, names=['date', 'text'], dtype='str', engine='python')\n",
    "df_text['text_without_stopwords'] = df_text['text'].apply(lambda x: ' '.join([word for word in x.split() if word not in (stop)]))\n",
    "print(df_text['text'][:3])\n",
    "print(df_text['text_without_stopwords'][:3])\n",
    "\n",
    "\n",
    "# reviews_len = [len(row['text'].split(\" \")) for idx, row in df_text.iterrows()]\n",
    "# pd.Series(reviews_len).hist()\n",
    "# plt.savefig('hist.png')\n",
    "# pd.Series(reviews_len).describe()"
   ]
  },
  {
   "cell_type": "code",
   "execution_count": 4,
   "metadata": {},
   "outputs": [
    {
     "name": "stdout",
     "output_type": "stream",
     "text": [
      "df.shape (1259, 3)\n",
      "            date     open    close\n",
      "1259  2013-02-08  67.7142  67.8542\n",
      "1260  2013-02-11  68.0714  68.5614\n",
      "1261  2013-02-12  68.5014  66.8428\n",
      "df.shape (1259, 3)\n"
     ]
    }
   ],
   "source": [
    "import pandas as pd\n",
    "\n",
    "df = pd.read_csv('all_stocks_5yr.csv')\n",
    "df = df.loc[(df['Name'] == \"AAPL\")]\n",
    "df = df.drop('volume', 1)\n",
    "df = df.drop('high', 1)\n",
    "df = df.drop('low', 1)\n",
    "df = df.drop('Name', 1)\n",
    "print('df.shape',df.shape)\n",
    "print(df[:3])\n",
    "df = df.sort_values('date').reset_index(drop=True)\n",
    "df = df.dropna()\n",
    "\n",
    "# rmls = [x for x in range(500,600)] + [y for y in range(1100,1200)]\n",
    "# rmls = [x for x in range(500)] + [y for y in range(600,1100)] + [z for z in range(1200,1259)]\n",
    "\n",
    "# df = df.drop(df.index[rmls])\n",
    "print('df.shape',df.shape)"
   ]
  },
  {
   "cell_type": "code",
   "execution_count": 3,
   "metadata": {
    "scrolled": true
   },
   "outputs": [
    {
     "name": "stderr",
     "output_type": "stream",
     "text": [
      "56it [00:00, 548.30it/s]"
     ]
    },
    {
     "name": "stdout",
     "output_type": "stream",
     "text": [
      "start time: 2019-05-12 19:26:02.386359\n",
      "(1166, 2718)\n"
     ]
    },
    {
     "name": "stderr",
     "output_type": "stream",
     "text": [
      "1259it [00:02, 528.08it/s]\n",
      "/anaconda3/lib/python3.6/site-packages/tensorflow/python/ops/gradients_impl.py:108: UserWarning: Converting sparse IndexedSlices to a dense Tensor of unknown shape. This may consume a large amount of memory.\n",
      "  \"Converting sparse IndexedSlices to a dense Tensor of unknown shape. \"\n"
     ]
    },
    {
     "name": "stdout",
     "output_type": "stream",
     "text": [
      "[array([68.0714, 68.5614, 0, ..., 0, 0, 0], dtype=object)] [66.8428]\n",
      "X_features_size 2720\n"
     ]
    },
    {
     "name": "stderr",
     "output_type": "stream",
     "text": [
      "  5%|▍         | 59/1256 [00:00<00:02, 584.60it/s]"
     ]
    },
    {
     "name": "stdout",
     "output_type": "stream",
     "text": [
      "===== EPOCH ======:  0\n"
     ]
    },
    {
     "name": "stderr",
     "output_type": "stream",
     "text": [
      "100%|██████████| 1256/1256 [00:01<00:00, 782.32it/s]\n"
     ]
    },
    {
     "name": "stdout",
     "output_type": "stream",
     "text": [
      "meanse:  11987.908305562985\n",
      "end time: 2019-05-12 19:26:06.886085\n"
     ]
    },
    {
     "data": {
      "image/png": "[encoded data removed]",
      "text/plain": [
       "<Figure size 432x288 with 1 Axes>"
      ]
     },
     "metadata": {
      "needs_background": "light"
     },
     "output_type": "display_data"
    }
   ],
   "source": [
    "import tensorflow as tf\n",
    "import pandas as pd\n",
    "import numpy as np\n",
    "import matplotlib.pyplot as plt\n",
    "from sklearn.utils import shuffle\n",
    "from sklearn import preprocessing\n",
    "from sklearn.feature_extraction.text import CountVectorizer\n",
    "import datetime\n",
    "from tqdm import tqdm\n",
    "import copy\n",
    "import pickle\n",
    "\n",
    "class MainRNN():\n",
    "    def __init__(self):\n",
    "        self.data_time_range=10\n",
    "        self.seq_size=self.data_time_range\n",
    "        self.hidden_layer=32\n",
    "        self.output_feature_size=1\n",
    "        self.epochs=1\n",
    "        self.batch_size=64\n",
    "        \n",
    "    def x_y_to_seq(self, X):\n",
    "        newX = []\n",
    "        newY = []\n",
    "        for i in range(int(len(X) - self.seq_size)):\n",
    "            newX.append(X[i : (i + self.seq_size)])\n",
    "            newY.append([X[(i + self.seq_size)][1]])\n",
    "\n",
    "        return newX, newY\n",
    "\n",
    "    def get_formated_data(self):\n",
    "                \n",
    "        count_vectorizer = CountVectorizer(decode_error='ignore',binary=False)\n",
    "        X_text = count_vectorizer.fit_transform(df_text['text_without_stopwords'])\n",
    "        X_text = X_text.toarray()\n",
    "        \n",
    "        \n",
    "        \n",
    "        print(X_text.shape)\n",
    "\n",
    "        X = []\n",
    "        Y = []\n",
    "        for index, row in tqdm(df.iterrows()):\n",
    "            row_data_array = row.values[1:]\n",
    "            row_day = row['date'].split('-')[2]\n",
    "            row_mon = row['date'].split('-')[1]\n",
    "            row_year = row['date'].split('-')[0]\n",
    "            text_index = df_text[(df_text['date'] == row_mon + row_day + row_year)].index.values.astype(int)\n",
    "            if len(text_index) > 0:\n",
    "                text_index = text_index[0]\n",
    "\n",
    "                if (text_index) >= 0:\n",
    "                    row_data_array = np.append(row_data_array, np.array(X_text[text_index], dtype=np.int))\n",
    "                else:\n",
    "                    _, shape_for_use = np.array(X_text).shape\n",
    "                    row_data_array = np.append(row_data_array, np.zeros(shape_for_use, dtype=np.int))\n",
    "            else:\n",
    "                _, shape_for_use = np.array(X_text).shape\n",
    "                row_data_array = np.append(row_data_array, np.zeros(shape_for_use, dtype=np.int))\n",
    "                \n",
    "            X.append(row_data_array)\n",
    "        \n",
    "        X, Y = self.x_y_to_seq(X)\n",
    "        print(X[1], Y[1])\n",
    "        \n",
    "        return np.array(X), np.array(Y)\n",
    "\n",
    "\n",
    "    def process_train(self, X, Y):\n",
    "\n",
    "        # get shape X (N, T, D)\n",
    "        X_sample_size, X_seq_size, X_features_size = X.shape\n",
    "        print('X_features_size', X_features_size)\n",
    "\n",
    "        # get shape Y (K)\n",
    "        Y_sample_size = Y.shape\n",
    "\n",
    "        # init weight and bias\n",
    "        weights = tf.Variable(tf.random_normal([self.hidden_layer, self.output_feature_size]))\n",
    "        biases = tf.Variable(tf.random_normal([self.output_feature_size]))\n",
    "\n",
    "        # placeholder for graph input\n",
    "        tfX = tf.placeholder(tf.float32, shape=[None, X_seq_size, X_features_size], name='inputX')\n",
    "        tfY = tf.placeholder(tf.float32, shape=[None, self.output_feature_size], name='inputY')\n",
    "\n",
    "        # transposeX\n",
    "        tfX = tf.transpose(tfX, [1, 0, 2])\n",
    "\n",
    "        # define lstm cell\n",
    "        lstmCell = tf.nn.rnn_cell.BasicLSTMCell(self.hidden_layer)\n",
    "\n",
    "        # create RNN unit\n",
    "        outputs, states = tf.nn.dynamic_rnn(cell=lstmCell, inputs=tfX, dtype=tf.float32)\n",
    "\n",
    "        # get rnn output\n",
    "        outputs = tf.stack(outputs)\n",
    "\n",
    "        # transpose output back\n",
    "        outputs = tf.transpose(outputs, [1, 0, 2])\n",
    "        # outputs = tf.reshape(outputs, [outputs.get_shape()[-1], self.hidden_layer])\n",
    "\n",
    "        # Hack to build the indexing and retrieve the right output.\n",
    "        # Start indices for each sample\n",
    "        index = tf.range(0, tf.shape(outputs)[0]) * X_seq_size + (X_seq_size - 1)\n",
    "        # Indexing\n",
    "        outputs = tf.gather(tf.reshape(outputs, [-1, self.hidden_layer]), index)\n",
    "\n",
    "        # prediction\n",
    "        prediction = tf.matmul(outputs, weights) + biases\n",
    "        label = tfY\n",
    "\n",
    "        # cost function\n",
    "        loss = tf.reduce_mean(tf.square(prediction - tfY))\n",
    "\n",
    "        # optimizer\n",
    "        optimizer = tf.train.RMSPropOptimizer(learning_rate=0.001).minimize(loss)\n",
    "\n",
    "        # cost[] and accuracies[]\n",
    "        epoch_pred=[]\n",
    "        epoch_lab=[]\n",
    "        iterl=[]\n",
    "        \n",
    "\n",
    "        # global init\n",
    "        init = tf.global_variables_initializer()\n",
    "\n",
    "        first=False\n",
    "\n",
    "        # start training\n",
    "        with tf.Session() as sess:\n",
    "            saver = tf.train.Saver()\n",
    "            sess.run(init)\n",
    "\n",
    "            for epoch in range(self.epochs):\n",
    "                costs=[]\n",
    "                print('===== EPOCH ======: ', epoch)\n",
    "                if not first:\n",
    "                    saver.restore(sess,\"./trained_model\")\n",
    "                    first=False\n",
    "\n",
    "#                 X, Y = shuffle(X, Y)\n",
    "            \n",
    "                c=0\n",
    "                for batch in tqdm(range(X_sample_size - self.batch_size)):\n",
    "                    batchX = X[batch:batch+self.batch_size]\n",
    "                    batchY = Y[batch:batch+self.batch_size]\n",
    "\n",
    "                    _, cost_out, prediction_out = sess.run([optimizer, loss, prediction], feed_dict={tfX: batchX.reshape(X_seq_size, self.batch_size, X_features_size), tfY: batchY.reshape(self.batch_size, self.output_feature_size)})\n",
    "                    costs.append(cost_out)\n",
    "                    if epoch == self.epochs-1:\n",
    "                        \n",
    "                        epoch_pred.append(prediction_out[1])\n",
    "                        epoch_lab.append(Y[batch+1])\n",
    "                        iterl.append(c)\n",
    "                        c+=1\n",
    "\n",
    "                meanse = sum(costs) / float(len(costs))\n",
    "                \n",
    "                print('meanse: ', meanse)\n",
    "                \n",
    "                saver.save(sess, \"./trained_model\")\n",
    "\n",
    "            np.random.seed(0)\n",
    "#             plt.plot(epochsl, epochs_costs, 'g^')\n",
    "            plt.plot(iterl, epoch_pred, 'r--', iterl, epoch_lab, 'b--')\n",
    "            plt.savefig('costs.png')\n",
    "\n",
    "\n",
    "    def run_prediction(self):\n",
    "        print('start time:', datetime.datetime.now())\n",
    "        X, Y = self.get_formated_data()\n",
    "        self.process_train(X, Y)\n",
    "        print('end time:', datetime.datetime.now())\n",
    "\n",
    "\n",
    "if __name__ == '__main__':\n",
    "    MainRNN().run_prediction()\n"
   ]
  },
  {
   "cell_type": "code",
   "execution_count": null,
   "metadata": {},
   "outputs": [],
   "source": []
  },
  {
   "cell_type": "code",
   "execution_count": null,
   "metadata": {},
   "outputs": [],
   "source": []
  }
 ],
 "metadata": {
  "kernelspec": {
   "display_name": "Python 3",
   "language": "python",
   "name": "python3"
  },
  "language_info": {
   "codemirror_mode": {
    "name": "ipython",
    "version": 3
   },
   "file_extension": ".py",
   "mimetype": "text/x-python",
   "name": "python",
   "nbconvert_exporter": "python",
   "pygments_lexer": "ipython3",
   "version": "3.6.7"
  }
 },
 "nbformat": 4,
 "nbformat_minor": 2
}
